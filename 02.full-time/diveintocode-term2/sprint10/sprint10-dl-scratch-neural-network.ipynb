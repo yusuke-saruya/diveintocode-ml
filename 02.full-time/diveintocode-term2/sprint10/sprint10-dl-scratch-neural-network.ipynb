{
 "cells": [
  {
   "cell_type": "markdown",
   "metadata": {},
   "source": [
    "# Sprint10深層学習スクラッチニューラルネットワーク"
   ]
  },
  {
   "cell_type": "code",
   "execution_count": 1,
   "metadata": {},
   "outputs": [],
   "source": [
    "#ライブラリのインポート\n",
    "import numpy as np\n",
    "from sklearn.model_selection import train_test_split"
   ]
  },
  {
   "cell_type": "markdown",
   "metadata": {},
   "source": [
    "### データセットの用意\n",
    "MNISTデータセットを使用します。以下のコードを実行すればKerasによりデータセットをダウンロードし、展開まで行えます。\n",
    "\n",
    "**データセットをダウンロードするコード**"
   ]
  },
  {
   "cell_type": "code",
   "execution_count": 2,
   "metadata": {},
   "outputs": [
    {
     "name": "stderr",
     "output_type": "stream",
     "text": [
      "Using TensorFlow backend.\n"
     ]
    }
   ],
   "source": [
    "from keras.datasets import mnist\n",
    "(X_train, y_train), (X_test, y_test) = mnist.load_data()"
   ]
  },
  {
   "cell_type": "markdown",
   "metadata": {},
   "source": [
    "**MNISTとは？**\n",
    "\n",
    "画像分類のための定番データセットで、手書き数字認識を行います。このデータセットには学習用6万枚、テスト用1万枚の28×28ピクセルの白黒画像、およびそれらが0〜9のどの数字であるかが含まれています。\n",
    "\n",
    "**画像データとは？**\n",
    "\n",
    "デジタル画像は点の集合で、これをピクセルと呼びます。一般的に白黒画像であればピクセルには0〜255の値が含まれます。一方、カラー画像であればR（赤）、G（緑）、B（青）それぞれに対応する0〜255の値が含まれます。機械学習をする上では、この0〜255の値一つひとつが特徴量として扱われます。0〜255は符号なしの8ビット整数で表せる範囲になるため、NumPyであれば「uint8」型の変数として保持できます。\n",
    "\n",
    "### データセットの確認\n",
    "まず、どういったデータなのかを見てみます。\n",
    "\n",
    "**サンプルコード**"
   ]
  },
  {
   "cell_type": "code",
   "execution_count": 3,
   "metadata": {},
   "outputs": [
    {
     "name": "stdout",
     "output_type": "stream",
     "text": [
      "(60000, 28, 28)\n",
      "(10000, 28, 28)\n",
      "uint8\n",
      "[[  0   0   0   0   0   0   0   0   0   0   0   0   0   0   0   0   0   0\n",
      "    0   0   0   0   0   0   0   0   0   0]\n",
      " [  0   0   0   0   0   0   0   0   0   0   0   0   0   0   0   0   0   0\n",
      "    0   0   0   0   0   0   0   0   0   0]\n",
      " [  0   0   0   0   0   0   0   0   0   0   0   0   0   0   0   0   0   0\n",
      "    0   0   0   0   0   0   0   0   0   0]\n",
      " [  0   0   0   0   0   0   0   0   0   0   0   0   0   0   0   0   0   0\n",
      "    0   0   0   0   0   0   0   0   0   0]\n",
      " [  0   0   0   0   0   0   0   0   0   0   0   0   0   0   0   0   0   0\n",
      "    0   0   0   0   0   0   0   0   0   0]\n",
      " [  0   0   0   0   0   0   0   0   0   0   0   0   3  18  18  18 126 136\n",
      "  175  26 166 255 247 127   0   0   0   0]\n",
      " [  0   0   0   0   0   0   0   0  30  36  94 154 170 253 253 253 253 253\n",
      "  225 172 253 242 195  64   0   0   0   0]\n",
      " [  0   0   0   0   0   0   0  49 238 253 253 253 253 253 253 253 253 251\n",
      "   93  82  82  56  39   0   0   0   0   0]\n",
      " [  0   0   0   0   0   0   0  18 219 253 253 253 253 253 198 182 247 241\n",
      "    0   0   0   0   0   0   0   0   0   0]\n",
      " [  0   0   0   0   0   0   0   0  80 156 107 253 253 205  11   0  43 154\n",
      "    0   0   0   0   0   0   0   0   0   0]\n",
      " [  0   0   0   0   0   0   0   0   0  14   1 154 253  90   0   0   0   0\n",
      "    0   0   0   0   0   0   0   0   0   0]\n",
      " [  0   0   0   0   0   0   0   0   0   0   0 139 253 190   2   0   0   0\n",
      "    0   0   0   0   0   0   0   0   0   0]\n",
      " [  0   0   0   0   0   0   0   0   0   0   0  11 190 253  70   0   0   0\n",
      "    0   0   0   0   0   0   0   0   0   0]\n",
      " [  0   0   0   0   0   0   0   0   0   0   0   0  35 241 225 160 108   1\n",
      "    0   0   0   0   0   0   0   0   0   0]\n",
      " [  0   0   0   0   0   0   0   0   0   0   0   0   0  81 240 253 253 119\n",
      "   25   0   0   0   0   0   0   0   0   0]\n",
      " [  0   0   0   0   0   0   0   0   0   0   0   0   0   0  45 186 253 253\n",
      "  150  27   0   0   0   0   0   0   0   0]\n",
      " [  0   0   0   0   0   0   0   0   0   0   0   0   0   0   0  16  93 252\n",
      "  253 187   0   0   0   0   0   0   0   0]\n",
      " [  0   0   0   0   0   0   0   0   0   0   0   0   0   0   0   0   0 249\n",
      "  253 249  64   0   0   0   0   0   0   0]\n",
      " [  0   0   0   0   0   0   0   0   0   0   0   0   0   0  46 130 183 253\n",
      "  253 207   2   0   0   0   0   0   0   0]\n",
      " [  0   0   0   0   0   0   0   0   0   0   0   0  39 148 229 253 253 253\n",
      "  250 182   0   0   0   0   0   0   0   0]\n",
      " [  0   0   0   0   0   0   0   0   0   0  24 114 221 253 253 253 253 201\n",
      "   78   0   0   0   0   0   0   0   0   0]\n",
      " [  0   0   0   0   0   0   0   0  23  66 213 253 253 253 253 198  81   2\n",
      "    0   0   0   0   0   0   0   0   0   0]\n",
      " [  0   0   0   0   0   0  18 171 219 253 253 253 253 195  80   9   0   0\n",
      "    0   0   0   0   0   0   0   0   0   0]\n",
      " [  0   0   0   0  55 172 226 253 253 253 253 244 133  11   0   0   0   0\n",
      "    0   0   0   0   0   0   0   0   0   0]\n",
      " [  0   0   0   0 136 253 253 253 212 135 132  16   0   0   0   0   0   0\n",
      "    0   0   0   0   0   0   0   0   0   0]\n",
      " [  0   0   0   0   0   0   0   0   0   0   0   0   0   0   0   0   0   0\n",
      "    0   0   0   0   0   0   0   0   0   0]\n",
      " [  0   0   0   0   0   0   0   0   0   0   0   0   0   0   0   0   0   0\n",
      "    0   0   0   0   0   0   0   0   0   0]\n",
      " [  0   0   0   0   0   0   0   0   0   0   0   0   0   0   0   0   0   0\n",
      "    0   0   0   0   0   0   0   0   0   0]]\n"
     ]
    }
   ],
   "source": [
    "print(X_train.shape) # (60000, 28, 28)\n",
    "print(X_test.shape) # (10000, 28, 28)\n",
    "print(X_train[0].dtype) # uint8\n",
    "print(X_train[0])"
   ]
  },
  {
   "cell_type": "markdown",
   "metadata": {},
   "source": [
    "## 3.平滑化\n",
    "(1, 28, 28)の各画像を、(1, 784)に変換します。これまで学んできた機械学習手法や、今回扱う全結合層のみのニューラルネットワークではこの形で扱います。全てのピクセルが一列になっていることを、平滑化（flatten）してあるという風に表現します。\n",
    "\n",
    "**サンプルコード**"
   ]
  },
  {
   "cell_type": "code",
   "execution_count": 4,
   "metadata": {},
   "outputs": [],
   "source": [
    "X_train = X_train.reshape(-1, 784)\n",
    "X_test = X_test.reshape(-1, 784)"
   ]
  },
  {
   "cell_type": "markdown",
   "metadata": {},
   "source": [
    "**補足**\n",
    "\n",
    "ここまで機械学習を学んでくる中で、特徴量の数を「次元」と呼んできました。その視点ではMNISTは784次元のデータです。一方で、NumPyのshapeが(784,)の状態を1次元配列とも呼びます。画像としての縦横の情報を持つ（28, 28)の状態であれば、2次元配列です。この視点では2次元のデータです。さらに、もしもカラー画像であれば(28, 28, 3)ということになり、3次元配列です。先ほどの視点では3次元のデータになります。しかし、白黒でもカラーでも平面画像であり、立体データではないという視点で、2次元のデータです。画像データを扱う際にはこのように「次元」という言葉が複数の意味合いで使われることに注意してください。\n",
    "\n",
    "### 画像データの可視化\n",
    "画像データを可視化します。plt.imshowに渡します。\n",
    "\n",
    "**サンプルコード**"
   ]
  },
  {
   "cell_type": "code",
   "execution_count": 5,
   "metadata": {},
   "outputs": [
    {
     "data": {
      "image/png": "[encoded data removed]",
      "text/plain": [
       "<Figure size 432x288 with 1 Axes>"
      ]
     },
     "metadata": {
      "needs_background": "light"
     },
     "output_type": "display_data"
    }
   ],
   "source": [
    "import matplotlib.pyplot as plt\n",
    "%matplotlib inline\n",
    "index = 0\n",
    "image = X_train[index].reshape(28,28)\n",
    "# X_train[index]: (784,)\n",
    "# image: (28, 28)\n",
    "plt.imshow(image, 'gray')\n",
    "plt.title('label : {}'.format(y_train[index]))\n",
    "plt.show()"
   ]
  },
  {
   "cell_type": "markdown",
   "metadata": {},
   "source": [
    "[numpy.reshape — NumPy v1.15 Manual](https://docs.scipy.org/doc/numpy-1.15.1/reference/generated/numpy.reshape.html)\n",
    "\n",
    "[matplotlib.pyplot.imshow — Matplotlib 3.0.2 documentation](https://matplotlib.org/api/_as_gen/matplotlib.pyplot.imshow.html)\n",
    "\n",
    "**発展的話題**\n",
    "\n",
    "画像データは符号なし8ビット整数のuint8型で保持されることが一般的ですが、plt.imshowはより自由な配列を画像として表示することが可能です。例えば、以下のようにマイナスの値を持ったfloat64型の浮動小数点であってもエラーにはならないし、先ほどと全く同じ風に表示されます。"
   ]
  },
  {
   "cell_type": "code",
   "execution_count": 6,
   "metadata": {},
   "outputs": [
    {
     "data": {
      "image/png": "[encoded data removed]",
      "text/plain": [
       "<Figure size 432x288 with 1 Axes>"
      ]
     },
     "metadata": {
      "needs_background": "light"
     },
     "output_type": "display_data"
    },
    {
     "name": "stdout",
     "output_type": "stream",
     "text": [
      "[[-105.35 -105.35 -105.35 -105.35 -105.35 -105.35 -105.35 -105.35 -105.35\n",
      "  -105.35 -105.35 -105.35 -105.35 -105.35 -105.35 -105.35 -105.35 -105.35\n",
      "  -105.35 -105.35 -105.35 -105.35 -105.35 -105.35 -105.35 -105.35 -105.35\n",
      "  -105.35]\n",
      " [-105.35 -105.35 -105.35 -105.35 -105.35 -105.35 -105.35 -105.35 -105.35\n",
      "  -105.35 -105.35 -105.35 -105.35 -105.35 -105.35 -105.35 -105.35 -105.35\n",
      "  -105.35 -105.35 -105.35 -105.35 -105.35 -105.35 -105.35 -105.35 -105.35\n",
      "  -105.35]\n",
      " [-105.35 -105.35 -105.35 -105.35 -105.35 -105.35 -105.35 -105.35 -105.35\n",
      "  -105.35 -105.35 -105.35 -105.35 -105.35 -105.35 -105.35 -105.35 -105.35\n",
      "  -105.35 -105.35 -105.35 -105.35 -105.35 -105.35 -105.35 -105.35 -105.35\n",
      "  -105.35]\n",
      " [-105.35 -105.35 -105.35 -105.35 -105.35 -105.35 -105.35 -105.35 -105.35\n",
      "  -105.35 -105.35 -105.35 -105.35 -105.35 -105.35 -105.35 -105.35 -105.35\n",
      "  -105.35 -105.35 -105.35 -105.35 -105.35 -105.35 -105.35 -105.35 -105.35\n",
      "  -105.35]\n",
      " [-105.35 -105.35 -105.35 -105.35 -105.35 -105.35 -105.35 -105.35 -105.35\n",
      "  -105.35 -105.35 -105.35 -105.35 -105.35 -105.35 -105.35 -105.35 -105.35\n",
      "  -105.35 -105.35 -105.35 -105.35 -105.35 -105.35 -105.35 -105.35 -105.35\n",
      "  -105.35]\n",
      " [-105.35 -105.35 -105.35 -105.35 -105.35 -105.35 -105.35 -105.35 -105.35\n",
      "  -105.35 -105.35 -105.35 -102.35  -87.35  -87.35  -87.35   20.65   30.65\n",
      "    69.65  -79.35   60.65  149.65  141.65   21.65 -105.35 -105.35 -105.35\n",
      "  -105.35]\n",
      " [-105.35 -105.35 -105.35 -105.35 -105.35 -105.35 -105.35 -105.35  -75.35\n",
      "   -69.35  -11.35   48.65   64.65  147.65  147.65  147.65  147.65  147.65\n",
      "   119.65   66.65  147.65  136.65   89.65  -41.35 -105.35 -105.35 -105.35\n",
      "  -105.35]\n",
      " [-105.35 -105.35 -105.35 -105.35 -105.35 -105.35 -105.35  -56.35  132.65\n",
      "   147.65  147.65  147.65  147.65  147.65  147.65  147.65  147.65  145.65\n",
      "   -12.35  -23.35  -23.35  -49.35  -66.35 -105.35 -105.35 -105.35 -105.35\n",
      "  -105.35]\n",
      " [-105.35 -105.35 -105.35 -105.35 -105.35 -105.35 -105.35  -87.35  113.65\n",
      "   147.65  147.65  147.65  147.65  147.65   92.65   76.65  141.65  135.65\n",
      "  -105.35 -105.35 -105.35 -105.35 -105.35 -105.35 -105.35 -105.35 -105.35\n",
      "  -105.35]\n",
      " [-105.35 -105.35 -105.35 -105.35 -105.35 -105.35 -105.35 -105.35  -25.35\n",
      "    50.65    1.65  147.65  147.65   99.65  -94.35 -105.35  -62.35   48.65\n",
      "  -105.35 -105.35 -105.35 -105.35 -105.35 -105.35 -105.35 -105.35 -105.35\n",
      "  -105.35]\n",
      " [-105.35 -105.35 -105.35 -105.35 -105.35 -105.35 -105.35 -105.35 -105.35\n",
      "   -91.35 -104.35   48.65  147.65  -15.35 -105.35 -105.35 -105.35 -105.35\n",
      "  -105.35 -105.35 -105.35 -105.35 -105.35 -105.35 -105.35 -105.35 -105.35\n",
      "  -105.35]\n",
      " [-105.35 -105.35 -105.35 -105.35 -105.35 -105.35 -105.35 -105.35 -105.35\n",
      "  -105.35 -105.35   33.65  147.65   84.65 -103.35 -105.35 -105.35 -105.35\n",
      "  -105.35 -105.35 -105.35 -105.35 -105.35 -105.35 -105.35 -105.35 -105.35\n",
      "  -105.35]\n",
      " [-105.35 -105.35 -105.35 -105.35 -105.35 -105.35 -105.35 -105.35 -105.35\n",
      "  -105.35 -105.35  -94.35   84.65  147.65  -35.35 -105.35 -105.35 -105.35\n",
      "  -105.35 -105.35 -105.35 -105.35 -105.35 -105.35 -105.35 -105.35 -105.35\n",
      "  -105.35]\n",
      " [-105.35 -105.35 -105.35 -105.35 -105.35 -105.35 -105.35 -105.35 -105.35\n",
      "  -105.35 -105.35 -105.35  -70.35  135.65  119.65   54.65    2.65 -104.35\n",
      "  -105.35 -105.35 -105.35 -105.35 -105.35 -105.35 -105.35 -105.35 -105.35\n",
      "  -105.35]\n",
      " [-105.35 -105.35 -105.35 -105.35 -105.35 -105.35 -105.35 -105.35 -105.35\n",
      "  -105.35 -105.35 -105.35 -105.35  -24.35  134.65  147.65  147.65   13.65\n",
      "   -80.35 -105.35 -105.35 -105.35 -105.35 -105.35 -105.35 -105.35 -105.35\n",
      "  -105.35]\n",
      " [-105.35 -105.35 -105.35 -105.35 -105.35 -105.35 -105.35 -105.35 -105.35\n",
      "  -105.35 -105.35 -105.35 -105.35 -105.35  -60.35   80.65  147.65  147.65\n",
      "    44.65  -78.35 -105.35 -105.35 -105.35 -105.35 -105.35 -105.35 -105.35\n",
      "  -105.35]\n",
      " [-105.35 -105.35 -105.35 -105.35 -105.35 -105.35 -105.35 -105.35 -105.35\n",
      "  -105.35 -105.35 -105.35 -105.35 -105.35 -105.35  -89.35  -12.35  146.65\n",
      "   147.65   81.65 -105.35 -105.35 -105.35 -105.35 -105.35 -105.35 -105.35\n",
      "  -105.35]\n",
      " [-105.35 -105.35 -105.35 -105.35 -105.35 -105.35 -105.35 -105.35 -105.35\n",
      "  -105.35 -105.35 -105.35 -105.35 -105.35 -105.35 -105.35 -105.35  143.65\n",
      "   147.65  143.65  -41.35 -105.35 -105.35 -105.35 -105.35 -105.35 -105.35\n",
      "  -105.35]\n",
      " [-105.35 -105.35 -105.35 -105.35 -105.35 -105.35 -105.35 -105.35 -105.35\n",
      "  -105.35 -105.35 -105.35 -105.35 -105.35  -59.35   24.65   77.65  147.65\n",
      "   147.65  101.65 -103.35 -105.35 -105.35 -105.35 -105.35 -105.35 -105.35\n",
      "  -105.35]\n",
      " [-105.35 -105.35 -105.35 -105.35 -105.35 -105.35 -105.35 -105.35 -105.35\n",
      "  -105.35 -105.35 -105.35  -66.35   42.65  123.65  147.65  147.65  147.65\n",
      "   144.65   76.65 -105.35 -105.35 -105.35 -105.35 -105.35 -105.35 -105.35\n",
      "  -105.35]\n",
      " [-105.35 -105.35 -105.35 -105.35 -105.35 -105.35 -105.35 -105.35 -105.35\n",
      "  -105.35  -81.35    8.65  115.65  147.65  147.65  147.65  147.65   95.65\n",
      "   -27.35 -105.35 -105.35 -105.35 -105.35 -105.35 -105.35 -105.35 -105.35\n",
      "  -105.35]\n",
      " [-105.35 -105.35 -105.35 -105.35 -105.35 -105.35 -105.35 -105.35  -82.35\n",
      "   -39.35  107.65  147.65  147.65  147.65  147.65   92.65  -24.35 -103.35\n",
      "  -105.35 -105.35 -105.35 -105.35 -105.35 -105.35 -105.35 -105.35 -105.35\n",
      "  -105.35]\n",
      " [-105.35 -105.35 -105.35 -105.35 -105.35 -105.35  -87.35   65.65  113.65\n",
      "   147.65  147.65  147.65  147.65   89.65  -25.35  -96.35 -105.35 -105.35\n",
      "  -105.35 -105.35 -105.35 -105.35 -105.35 -105.35 -105.35 -105.35 -105.35\n",
      "  -105.35]\n",
      " [-105.35 -105.35 -105.35 -105.35  -50.35   66.65  120.65  147.65  147.65\n",
      "   147.65  147.65  138.65   27.65  -94.35 -105.35 -105.35 -105.35 -105.35\n",
      "  -105.35 -105.35 -105.35 -105.35 -105.35 -105.35 -105.35 -105.35 -105.35\n",
      "  -105.35]\n",
      " [-105.35 -105.35 -105.35 -105.35   30.65  147.65  147.65  147.65  106.65\n",
      "    29.65   26.65  -89.35 -105.35 -105.35 -105.35 -105.35 -105.35 -105.35\n",
      "  -105.35 -105.35 -105.35 -105.35 -105.35 -105.35 -105.35 -105.35 -105.35\n",
      "  -105.35]\n",
      " [-105.35 -105.35 -105.35 -105.35 -105.35 -105.35 -105.35 -105.35 -105.35\n",
      "  -105.35 -105.35 -105.35 -105.35 -105.35 -105.35 -105.35 -105.35 -105.35\n",
      "  -105.35 -105.35 -105.35 -105.35 -105.35 -105.35 -105.35 -105.35 -105.35\n",
      "  -105.35]\n",
      " [-105.35 -105.35 -105.35 -105.35 -105.35 -105.35 -105.35 -105.35 -105.35\n",
      "  -105.35 -105.35 -105.35 -105.35 -105.35 -105.35 -105.35 -105.35 -105.35\n",
      "  -105.35 -105.35 -105.35 -105.35 -105.35 -105.35 -105.35 -105.35 -105.35\n",
      "  -105.35]\n",
      " [-105.35 -105.35 -105.35 -105.35 -105.35 -105.35 -105.35 -105.35 -105.35\n",
      "  -105.35 -105.35 -105.35 -105.35 -105.35 -105.35 -105.35 -105.35 -105.35\n",
      "  -105.35 -105.35 -105.35 -105.35 -105.35 -105.35 -105.35 -105.35 -105.35\n",
      "  -105.35]]\n"
     ]
    }
   ],
   "source": [
    "ndex = 0\n",
    "image = X_train[index].reshape(28,28)\n",
    "image = image.astype(np.float) # float型に変換\n",
    "image -= 105.35 # 意図的に負の小数値を作り出してみる\n",
    "plt.imshow(image, 'gray')\n",
    "plt.title('label : {}'.format(y_train[index]))\n",
    "plt.show()\n",
    "print(image) # 値を確認"
   ]
  },
  {
   "cell_type": "markdown",
   "metadata": {},
   "source": [
    "これは、自動的に値を0〜255の整数に変換して処理するように作られているからです。uint8型であっても最小値が0、最大値が255でない場合には色合いがおかしくなります。それを防ぐためには次のように引数を入れてください。"
   ]
  },
  {
   "cell_type": "code",
   "execution_count": 7,
   "metadata": {},
   "outputs": [
    {
     "data": {
      "text/plain": [
       "<matplotlib.image.AxesImage at 0x1a3151dc18>"
      ]
     },
     "execution_count": 7,
     "metadata": {},
     "output_type": "execute_result"
    },
    {
     "data": {
      "image/png": "[encoded data removed]",
      "text/plain": [
       "<Figure size 432x288 with 1 Axes>"
      ]
     },
     "metadata": {
      "needs_background": "light"
     },
     "output_type": "display_data"
    }
   ],
   "source": [
    "plt.imshow(image, 'gray', vmin = 0, vmax = 255)"
   ]
  },
  {
   "cell_type": "markdown",
   "metadata": {},
   "source": [
    "画像関係のライブラリではこの自動的なスケーリングが思わぬ結果を生むことがあるので、新しいメソッドを使うときには確認しておきましょう。\n",
    "\n",
    "### 前処理\n",
    "画像は0から255のuint8型で表されますが、機械学習をする上では0から1のfloat型で扱うことになります。色は理想的には連続値であり、それを特徴量とするからです。以下のコードで変換可能です。\n",
    "\n",
    "**サンプルコード**"
   ]
  },
  {
   "cell_type": "code",
   "execution_count": 8,
   "metadata": {},
   "outputs": [
    {
     "name": "stdout",
     "output_type": "stream",
     "text": [
      "1.0\n",
      "0.0\n"
     ]
    }
   ],
   "source": [
    "#float型へ\n",
    "X_train = X_train.astype(np.float)\n",
    "X_test = X_test.astype(np.float)\n",
    "\n",
    "#正規化\n",
    "X_train /= 255\n",
    "X_test /= 255\n",
    "print(X_train.max()) # 1.0\n",
    "print(X_train.min()) # 0.0"
   ]
  },
  {
   "cell_type": "markdown",
   "metadata": {},
   "source": [
    "また、正解ラベルは0から9の整数ですが、ニューラルネットワークで多クラス分類を行う際にはone-hot表現に変換します。scikit-learnのOneHotEncoderを使用したコードが以下です。このone-hot表現による値はそのラベルである確率を示していることになるため、float型で扱います。\n",
    "\n",
    "**サンプルコード**"
   ]
  },
  {
   "cell_type": "code",
   "execution_count": 9,
   "metadata": {},
   "outputs": [
    {
     "name": "stdout",
     "output_type": "stream",
     "text": [
      "(60000,)\n",
      "(60000, 10)\n",
      "float64\n"
     ]
    }
   ],
   "source": [
    "#ワンホットエンコーディング\n",
    "from sklearn.preprocessing import OneHotEncoder\n",
    "enc = OneHotEncoder(handle_unknown='ignore', sparse=False)\n",
    "y_train_one_hot = enc.fit_transform(y_train[:, np.newaxis])\n",
    "y_test_one_hot = enc.transform(y_test[:, np.newaxis])\n",
    "print(y_train.shape) # (60000,)\n",
    "print(y_train_one_hot.shape) # (60000, 10)\n",
    "print(y_train_one_hot.dtype) # float64"
   ]
  },
  {
   "cell_type": "markdown",
   "metadata": {},
   "source": [
    "[sklearn.preprocessing.OneHotEncoder — scikit-learn 0.20.0 documentation](https://scikit-learn.org/stable/modules/generated/sklearn.preprocessing.OneHotEncoder.html)\n",
    "\n",
    "さらに、学習用データ6万枚の内2割を検証用データとして分割してください。学習用データが48000枚、検証用データが12000枚となります。\n",
    "\n",
    "**サンプルコード**"
   ]
  },
  {
   "cell_type": "code",
   "execution_count": 10,
   "metadata": {},
   "outputs": [
    {
     "name": "stdout",
     "output_type": "stream",
     "text": [
      "(48000, 784)\n",
      "(12000, 784)\n"
     ]
    }
   ],
   "source": [
    "#データ分割\n",
    "X_train, X_val, y_train, y_val = train_test_split(X_train, y_train, test_size=0.2)\n",
    "print(X_train.shape) # (48000, 784)\n",
    "print(X_val.shape) # (12000, 784)"
   ]
  },
  {
   "cell_type": "code",
   "execution_count": 11,
   "metadata": {},
   "outputs": [
    {
     "name": "stdout",
     "output_type": "stream",
     "text": [
      "(48000,)\n",
      "(48000, 10)\n",
      "float64\n"
     ]
    }
   ],
   "source": [
    "#ワンホットエンコーディング\n",
    "from sklearn.preprocessing import OneHotEncoder\n",
    "enc = OneHotEncoder(handle_unknown='ignore', sparse=False)\n",
    "y_train_one_hot = enc.fit_transform(y_train[:, np.newaxis])\n",
    "y_test_one_hot = enc.transform(y_test[:, np.newaxis])\n",
    "print(y_train.shape) # (60000,)\n",
    "print(y_train_one_hot.shape) # (60000, 10)\n",
    "print(y_train_one_hot.dtype) # float64"
   ]
  },
  {
   "cell_type": "markdown",
   "metadata": {},
   "source": [
    "## 【問題1】ニューラルネットワーク分類器のクラスを作成\n",
    "ニューラルネットワーク分類器のクラスScratchSimpleNeuralNetrowkClassifierを作成してください。\n",
    "\n",
    "### ＜単体テスト＞\n",
    "\n",
    "### フォワードプロパゲーション\n",
    "三層のニューラルネットワークのフォワードプロパゲーションを作成します。以下の説明ではノード数は1層目は400、2層目は200としますが、変更しても構いません。\n",
    "\n",
    "各層の数式を以下に示します。今回はそれぞれの記号が表す配列が、実装上どのようなndarrayのshapeになるかを併記してあります。\n",
    "\n"
   ]
  },
  {
   "cell_type": "markdown",
   "metadata": {},
   "source": [
    "### 活性化関数（フォワードプロバゲーション）\n",
    "活性化関数を作成し、フォワードプロパゲーションの中で使用します。切り替えられるように実装することを推奨しますが、片方でも構いません。\n",
    "\n",
    "「シグモイド関数」\n",
    "\n",
    "$$\n",
    "    f(Z) = sigmoid(A) = \\frac{1}{1+exp(-A)}\n",
    "$$\n",
    "\n",
    "指数関数 $exp(-A)$ の計算はnp.expを使用してください。\n",
    "\n",
    "numpy.exp — NumPy v1.15 Manual\n",
    "\n",
    "「ハイパボリックタンジェント関数」\n",
    "\n",
    "次の数式で表されますが、np.tanhひとつで実現できます。\n",
    "\n",
    "$$\n",
    "    f(Z) = tanh(A) = \\frac{exp(A) - exp(-A)}{exp(A) + exp(-A)}\n",
    "$$\n",
    "\n",
    "numpy.tanh — NumPy v1.15 Manual\n",
    "\n",
    "＊現在ではこれらの代わりにReLUと呼ばれる活性化関数が一般的です。次のSprintで扱います。"
   ]
  },
  {
   "cell_type": "code",
   "execution_count": 12,
   "metadata": {},
   "outputs": [],
   "source": [
    "#シグモイド関数\n",
    "def sigmoid(x):\n",
    "    return 1 / (1 + np.exp(-x))  "
   ]
  },
  {
   "cell_type": "code",
   "execution_count": 13,
   "metadata": {},
   "outputs": [],
   "source": [
    "# ハイパポリックタンジェント関数\n",
    "def tanh(x):\n",
    "    return np.tanh(x)"
   ]
  },
  {
   "cell_type": "markdown",
   "metadata": {},
   "source": [
    "### ソフトマックス関数\n",
    "ソフトマックス関数を作成し、フォワードプロパゲーションの中で使用します。これも活性化関数の一種ですが、多クラス分類の出力層で使われる特性上、区別して扱われることが多いです。\n",
    "\n",
    "次の数式です。\n",
    "\n",
    "$$\n",
    "    Z_{3\\_k} = \\frac{exp(A_{3\\_k})}{\\sum_{i=1}^{n}exp(A_{3\\_i})}\n",
    "$$\n",
    "\n",
    "$Z_{3k}$ : $k$番目のクラスの確率ベクトル (batch_size,)\n",
    "\n",
    "$A_{3k}$ : $k$番目のクラスにあたる前の層からのベクトル (batch_size,)\n",
    "\n",
    "$n$ : クラスの数、n_output。今回のMNISTでは10。\n",
    "\n",
    "分母は全てのクラスに相当する値を指数関数に通した上で足し合わせたものです。その中で、分子に $k$ 番目のクラスを持ってくることで、 $k$\n",
    " 番目のクラスである確率が求まります。\n",
    "\n",
    "これを10クラス分計算し、合わせたものが \n",
    "$Z_3$\n",
    " です。"
   ]
  },
  {
   "cell_type": "code",
   "execution_count": 14,
   "metadata": {},
   "outputs": [],
   "source": [
    " #ソフトマックス関数\n",
    "def softmax(x):\n",
    "    #オーバーフロー対策\n",
    "    max_x = np.max(x)\n",
    "    \n",
    "    #最大要素を引いてからexpをかけることでオーバーフローを回避\n",
    "    exp_x = np.exp(x - max_x)\n",
    "    \n",
    "     #話を計算\n",
    "    sum_exp_x = np.sum(exp_x, axis=1).reshape(-1, 1)\n",
    "    \n",
    "    return exp_x / sum_exp_x"
   ]
  },
  {
   "cell_type": "markdown",
   "metadata": {},
   "source": [
    "「1層目」\n",
    "$$\n",
    "    A_1 = X \\cdot W_1 + B_1\n",
    "$$\n",
    "\n",
    "$X$ : 特徴量ベクトル (batch_size, n_features)\n",
    "\n",
    "$W_1$ : 1層目の重み (n_features, n_nodes1)\n",
    "\n",
    "$B_1$ : 1層目のバイアス (n_nodes1,)\n",
    "\n",
    "$A_1$ : 出力 (batch_size, n_nodes1)"
   ]
  },
  {
   "cell_type": "code",
   "execution_count": 15,
   "metadata": {},
   "outputs": [],
   "source": [
    "# 1層目データセット用意\n",
    "X = np.array([[1, 2], [3, 4]])\n",
    "W1 = np.array([[0.02, 0.04], [0.05, 0.08]])\n",
    "B1 = 0.01"
   ]
  },
  {
   "cell_type": "code",
   "execution_count": 16,
   "metadata": {},
   "outputs": [
    {
     "name": "stdout",
     "output_type": "stream",
     "text": [
      "[[0.13 0.21]\n",
      " [0.27 0.45]]\n"
     ]
    }
   ],
   "source": [
    "#  １層目計算\n",
    "A1 = X @ W1 + B1\n",
    "print(A1)"
   ]
  },
  {
   "cell_type": "markdown",
   "metadata": {},
   "source": [
    "「1層目の活性化関数」\n",
    "\n",
    "$$\n",
    "    Z_1 = f(A_1)\n",
    "$$\n",
    "\n",
    "$f()$ : 活性化関数\n",
    "\n",
    "$Z_1$　出力 (batch_size, n_nodes1)"
   ]
  },
  {
   "cell_type": "code",
   "execution_count": 17,
   "metadata": {},
   "outputs": [
    {
     "name": "stdout",
     "output_type": "stream",
     "text": [
      "sigmoid\n",
      "[[0.53245431 0.55230791]\n",
      " [0.5670929  0.61063923]]\n",
      "\n",
      "tanh\n",
      "[[0.12927258 0.2069665 ]\n",
      " [0.26362484 0.42189901]]\n"
     ]
    }
   ],
   "source": [
    "#１層目の活性化関数(sigmoid)の計算\n",
    "Z1s = sigmoid(A1)\n",
    "print('sigmoid\\n{}'.format(Z1s))\n",
    "print()\n",
    "\n",
    "#１層目の活性化関数(tanh)の計算\n",
    "Z1h = tanh(A1)\n",
    "print('tanh\\n{}'.format(Z1h))\n"
   ]
  },
  {
   "cell_type": "markdown",
   "metadata": {},
   "source": [
    "「2層目」\n",
    "\n",
    "$$\n",
    "    A_2 = Z_1 \\cdot W_2 + B_2\n",
    "$$\n",
    "\n",
    "$W_2$ : 2層目の重み (n_nodes2, n_nodes2)\n",
    "\n",
    "$B_2$ : 2層目のバイアス (n_nodes2,)\n",
    "\n",
    "$A_2$ : 出力 (batch_size, n_nodes2)"
   ]
  },
  {
   "cell_type": "code",
   "execution_count": 18,
   "metadata": {},
   "outputs": [],
   "source": [
    "# 2層目データセット用意\n",
    "W2 = np.array([[0.1, 0.2], [0.2, 0.1]])\n",
    "B2 = 0.01"
   ]
  },
  {
   "cell_type": "code",
   "execution_count": 19,
   "metadata": {},
   "outputs": [
    {
     "name": "stdout",
     "output_type": "stream",
     "text": [
      "sigmoid\n",
      "[[0.17370701 0.17172165]\n",
      " [0.18883714 0.1844825 ]]\n",
      "\n",
      "tanh\n",
      "[[0.06432056 0.05655117]\n",
      " [0.12074228 0.10491487]]\n"
     ]
    }
   ],
   "source": [
    "#2層目の計算(sigmoid)\n",
    "A2s = Z1s @ W2 + B2\n",
    "print('sigmoid\\n{}'.format(A2s))\n",
    "print()\n",
    "\n",
    "#2層目の計算(tanh)\n",
    "A2h = Z1h @ W2 + B2\n",
    "print('tanh\\n{}'.format(A2h))\n"
   ]
  },
  {
   "cell_type": "markdown",
   "metadata": {},
   "source": [
    "「2層目の活性化関数」\n",
    "\n",
    "$$\n",
    "    Z_2 = f(A_2)\n",
    "$$\n",
    "\n",
    "$f()$ : 活性化関数\n",
    "\n",
    "$Z_2$　出力 (batch_size, n_nodes2)"
   ]
  },
  {
   "cell_type": "code",
   "execution_count": 20,
   "metadata": {},
   "outputs": [
    {
     "name": "stdout",
     "output_type": "stream",
     "text": [
      "sigmoid\n",
      "[[0.54331788 0.54282523]\n",
      " [0.54706949 0.54599026]]\n",
      "\n",
      "tanh\n",
      "[[0.064232   0.05649096]\n",
      " [0.12015893 0.10453162]]\n"
     ]
    }
   ],
   "source": [
    "#2層目の活性化関数(sigmoid)の計算\n",
    "Z2s = sigmoid(A2s)\n",
    "print('sigmoid\\n{}'.format(Z2s))\n",
    "print()\n",
    "\n",
    "#2層目の活性化関数(tanh)の計算\n",
    "Z2h = tanh(A2h)\n",
    "print('tanh\\n{}'.format(Z2h))\n"
   ]
  },
  {
   "cell_type": "markdown",
   "metadata": {},
   "source": [
    "「3層目(出力層)」\n",
    "\n",
    "$$\n",
    "    A_3 = Z_2 \\cdot W_3 + B_3\n",
    "$$\n",
    "\n",
    "$W_3$ : 2層目の重み (n_nodes2, n_output)\n",
    "\n",
    "$B_3$ : 2層目のバイアス (n_output,)\n",
    "\n",
    "$A_3$ : 出力 (batch_size, n_output)"
   ]
  },
  {
   "cell_type": "code",
   "execution_count": 21,
   "metadata": {},
   "outputs": [],
   "source": [
    "# 3層目データセット用意\n",
    "W3 = np.array([[0.3, 0.4], [0.1, 0.4]])\n",
    "B3 = 0.01"
   ]
  },
  {
   "cell_type": "code",
   "execution_count": 22,
   "metadata": {},
   "outputs": [
    {
     "name": "stdout",
     "output_type": "stream",
     "text": [
      "sigmoid\n",
      "[[0.22727789 0.44445724]\n",
      " [0.22871987 0.4472239 ]]\n",
      "\n",
      "tanh\n",
      "[[0.0349187  0.05828919]\n",
      " [0.05650084 0.09987622]]\n"
     ]
    }
   ],
   "source": [
    "#3層目の計算(sigmoid)\n",
    "A3s = Z2s @ W3 + B3\n",
    "print('sigmoid\\n{}'.format(A3s))\n",
    "print()\n",
    "\n",
    "#3層目の計算(tanh)\n",
    "A3h = Z2h @ W3 + B3\n",
    "print('tanh\\n{}'.format(A3h))"
   ]
  },
  {
   "cell_type": "markdown",
   "metadata": {},
   "source": [
    "「3層目の活性化関数」\n",
    "\n",
    "$$\n",
    "    Z_3 = softmax(A_3)\n",
    "$$\n",
    "\n",
    "$softmax()$ : ソフトマックス関数\n",
    "\n",
    "$Z_3$　出力 (batch_size, n_output)\n",
    "\n",
    "$Z_3$は各ラベル(0〜9)に対する確率の配列である。"
   ]
  },
  {
   "cell_type": "code",
   "execution_count": 23,
   "metadata": {},
   "outputs": [
    {
     "name": "stdout",
     "output_type": "stream",
     "text": [
      "sigmoid\n",
      "[[0.44591757 0.55408243]\n",
      " [0.4455903  0.5544097 ]]\n",
      "\n",
      "tanh\n",
      "[[0.49415764 0.50584236]\n",
      " [0.48915786 0.51084214]]\n"
     ]
    }
   ],
   "source": [
    "#3層目の活性化関数(sigmoid)の計算\n",
    "Z3s = softmax(A3s)\n",
    "print('sigmoid\\n{}'.format(Z3s))\n",
    "print()\n",
    "\n",
    "#2層目の活性化関数(tanh)の計算\n",
    "Z3h = softmax(A3h)\n",
    "print('tanh\\n{}'.format(Z3h))\n"
   ]
  },
  {
   "cell_type": "markdown",
   "metadata": {},
   "source": [
    "### バックプロパゲーション\n",
    "三層のニューラルネットワークのバックプロパゲーションを作成します。確率的勾配降下法を行う部分です。\n",
    "\n",
    "数式を以下に示します。\n",
    "\n",
    "まず、i層目の重みとバイアスの更新式です。 $W_i$ と $B_i$ に対し、更新後の $W′_i$と $B′_i$は次の数式で求められます。\n",
    "\n",
    "$$\n",
    "W_i^{\\prime} = W_i - \\alpha E(\\frac{\\partial L}{\\partial W_i}) \\\\\n",
    "B_i^{\\prime} = B_i - \\alpha E(\\frac{\\partial L}{\\partial B_i})\n",
    "$$\n"
   ]
  },
  {
   "cell_type": "markdown",
   "metadata": {},
   "source": [
    "「3層目」\n",
    "\n",
    "$$\n",
    "\\frac{\\partial L}{\\partial A_3} = Z_3 - Y\\\\\n",
    "\\frac{\\partial L}{\\partial B_3} = \\frac{\\partial L}{\\partial A_3}\\\\\n",
    "\\frac{\\partial L}{\\partial W_3} = Z_2^T \\cdot \\frac{\\partial L}{\\partial A_3}\\\\\n",
    "\\frac{\\partial L}{\\partial Z_2} = \\frac{\\partial L}{\\partial A_3} \\cdot W_3^T\n",
    "$$\n",
    "\n",
    "\n",
    "「2層目」\n",
    "\n",
    "$$\n",
    "\\frac{\\partial L}{\\partial A_2} = \\frac{\\partial L}{\\partial Z_2} × \\{1-tanh^2(A_2)\\}\\\\\n",
    "\\frac{\\partial L}{\\partial B_2} = \\frac{\\partial L}{\\partial A_2}\n",
    "\\\\\n",
    "\\frac{\\partial L}{\\partial W_2} = Z_1^T \\cdot \\frac{\\partial L}{\\partial A_2}\n",
    "\\\\\n",
    "\\frac{\\partial L}{\\partial Z_1} = \\frac{\\partial L}{\\partial A_2} \\cdot W_2^T\n",
    "$$\n",
    "\n",
    "\n",
    "「1層目」\n",
    "\n",
    "$$\n",
    "\\frac{\\partial L}{\\partial A_1} = \\frac{\\partial L}{\\partial Z_1} × \\{1-tanh^2(A_1)\\}\n",
    "\\\\\n",
    "\\frac{\\partial L}{\\partial B_1} = \\frac{\\partial L}{\\partial A_1}\n",
    "\\\\\n",
    "\\frac{\\partial L}{\\partial W_1} = X^T \\cdot \\frac{\\partial L}{\\partial A_1}\n",
    "$$"
   ]
  },
  {
   "cell_type": "markdown",
   "metadata": {},
   "source": [
    "### ハイパボリックタンジェント"
   ]
  },
  {
   "cell_type": "code",
   "execution_count": 24,
   "metadata": {},
   "outputs": [
    {
     "data": {
      "text/plain": [
       "array([[0.1, 0.6],\n",
       "       [0.7, 0.3]])"
      ]
     },
     "execution_count": 24,
     "metadata": {},
     "output_type": "execute_result"
    }
   ],
   "source": [
    "# loss データセット用意\n",
    "\n",
    "da3h = np.array([[0.1, 0.6], [0.7, 0.3]])\n",
    "da3h"
   ]
  },
  {
   "cell_type": "code",
   "execution_count": 25,
   "metadata": {},
   "outputs": [],
   "source": [
    "#３層目\n",
    "db3h = da3h\n",
    "\n",
    "dw3h = Z2h.T @ da3h\n",
    "\n",
    "dz2h = da3h @ W3.T\n",
    "\n",
    "#２層目\n",
    "da2h = dz2h * (1 - (tanh(A2h) ** 2))\n",
    "\n",
    "db2h = da2h\n",
    "\n",
    "dw2h = Z1h.T @ da2h\n",
    "\n",
    "dz1h = da2h @ W2.T\n",
    "\n",
    "#1層目\n",
    "da1h = dz1h * (1 - (tanh(A1) ** 2))\n",
    "\n",
    "db1h = da1h\n",
    "\n",
    "dw1h = X.T @ da1h"
   ]
  },
  {
   "cell_type": "code",
   "execution_count": 26,
   "metadata": {},
   "outputs": [
    {
     "data": {
      "text/plain": [
       "array([[0.07544679, 0.07532641],\n",
       "       [0.06523593, 0.06891615]])"
      ]
     },
     "execution_count": 26,
     "metadata": {},
     "output_type": "execute_result"
    }
   ],
   "source": [
    "da1h"
   ]
  },
  {
   "cell_type": "code",
   "execution_count": 27,
   "metadata": {},
   "outputs": [
    {
     "data": {
      "text/plain": [
       "array([[0.27115458, 0.28207486],\n",
       "       [0.4118373 , 0.42631742]])"
      ]
     },
     "execution_count": 27,
     "metadata": {},
     "output_type": "execute_result"
    }
   ],
   "source": [
    "dw1h"
   ]
  },
  {
   "cell_type": "markdown",
   "metadata": {},
   "source": [
    "### sigmoid"
   ]
  },
  {
   "cell_type": "code",
   "execution_count": 28,
   "metadata": {},
   "outputs": [
    {
     "data": {
      "text/plain": [
       "array([[0.1, 0.6],\n",
       "       [0.7, 0.3]])"
      ]
     },
     "execution_count": 28,
     "metadata": {},
     "output_type": "execute_result"
    }
   ],
   "source": [
    "# loss データセット用意\n",
    "\n",
    "da3s = np.array([[0.1, 0.6], [0.7, 0.3]])\n",
    "da3s"
   ]
  },
  {
   "cell_type": "code",
   "execution_count": 29,
   "metadata": {},
   "outputs": [],
   "source": [
    "# ３層目\n",
    "db3s = da3s\n",
    "\n",
    "dw3s = Z2s.T @ da3s\n",
    "\n",
    "dz2s = da3s @ W3.T\n",
    "\n",
    "\n",
    " #２層目\n",
    "da2s = dz2s * ((1 - sigmoid(A2s)) * sigmoid(A2s))\n",
    "\n",
    "db2s = da2s\n",
    "\n",
    "dw2s = Z1s.T @ da2s\n",
    "\n",
    "dz1s = da2s @ W2.T\n",
    "\n",
    "\n",
    "#1層目\n",
    "da1s = dz1s * ((1 - sigmoid(A1)) * sigmoid(A1))\n",
    "\n",
    "db1s = da1s\n",
    "\n",
    "dw1s = X.T @ da1s"
   ]
  },
  {
   "cell_type": "code",
   "execution_count": 30,
   "metadata": {},
   "outputs": [
    {
     "data": {
      "text/plain": [
       "array([[0.00475678, 0.00484707],\n",
       "       [0.00431992, 0.00500806]])"
      ]
     },
     "execution_count": 30,
     "metadata": {},
     "output_type": "execute_result"
    }
   ],
   "source": [
    "da1s"
   ]
  },
  {
   "cell_type": "code",
   "execution_count": 31,
   "metadata": {},
   "outputs": [
    {
     "data": {
      "text/plain": [
       "array([[0.01771654, 0.01987124],\n",
       "       [0.02679324, 0.02972637]])"
      ]
     },
     "execution_count": 31,
     "metadata": {},
     "output_type": "execute_result"
    }
   ],
   "source": [
    "dw1s"
   ]
  },
  {
   "cell_type": "markdown",
   "metadata": {},
   "source": [
    "### ミニバッチ処理\n",
    "これまでの機械学習スクラッチでは、全てのサンプルを一度に計算していました。しかし、ニューラルネットワークではデータを分割して入力する確率的勾配降下法が一般的です。分割した際のひとかたまりをミニバッチ、そのサンプル数をバッチサイズと呼びます。\n",
    "\n",
    "今回はバッチサイズを10とします。今回使う学習用データは48000枚ですから、4800回の更新を繰り返すことになります。ニューラルネットワークではこれを4800回イテレーション（iteration）すると呼びます。学習データを一度全て見ると1回のエポック（epoch）が終わったことになります。このエポックを複数回繰り返し、学習が完了します。\n",
    "\n",
    "これを実現するための簡素なイテレータを用意しました。for文で呼び出すと、ミニバッチを取得できます。\n",
    "\n",
    "**コード**"
   ]
  },
  {
   "cell_type": "code",
   "execution_count": 32,
   "metadata": {},
   "outputs": [],
   "source": [
    "class GetMiniBatch:\n",
    "    \"\"\"\n",
    "    ミニバッチを取得するイテレータ\n",
    "\n",
    "    Parameters\n",
    "    ----------\n",
    "    X : 次の形のndarray, shape (n_samples, n_features)\n",
    "      学習データ\n",
    "    y : 次の形のndarray, shape (n_samples, 1)\n",
    "      正解値\n",
    "    batch_size : int\n",
    "      バッチサイズ\n",
    "    seed : int\n",
    "      NumPyの乱数のシード\n",
    "    \"\"\"\n",
    "    def __init__(self, X, y, batch_size = 10, seed=0):\n",
    "        self.batch_size = batch_size\n",
    "        np.random.seed(seed)\n",
    "        shuffle_index = np.random.permutation(np.arange(X.shape[0]))\n",
    "        self.X = X[shuffle_index]\n",
    "        self.y = y[shuffle_index]\n",
    "        self._stop = np.ceil(X.shape[0]/self.batch_size).astype(np.int)\n",
    "\n",
    "    def __len__(self):\n",
    "        return self._stop\n",
    "\n",
    "    def __getitem__(self,item):\n",
    "        p0 = item*self.batch_size\n",
    "        p1 = item*self.batch_size + self.batch_size\n",
    "        return self.X[p0:p1], self.y[p0:p1]        \n",
    "\n",
    "    def __iter__(self):\n",
    "        self._counter = 0\n",
    "        return self\n",
    "\n",
    "    def __next__(self):\n",
    "        if self._counter >= self._stop:\n",
    "            raise StopIteration()\n",
    "        p0 = self._counter*self.batch_size\n",
    "        p1 = self._counter*self.batch_size + self.batch_size\n",
    "        self._counter += 1\n",
    "        return self.X[p0:p1], self.y[p0:p1]"
   ]
  },
  {
   "cell_type": "markdown",
   "metadata": {},
   "source": [
    "### クラスにまとめる"
   ]
  },
  {
   "cell_type": "code",
   "execution_count": 33,
   "metadata": {},
   "outputs": [],
   "source": [
    "#ライブラリインポート\n",
    "import numpy as np\n",
    "from sklearn.preprocessing import OneHotEncoder\n",
    "\n",
    "class ScratchSimpleNeuralNetrowkClassifier():\n",
    "    \"\"\"\n",
    "    シンプルな三層ニューラルネットワーク分類器\n",
    "\n",
    "    Parameters\n",
    "    ----------\n",
    "    verbose : bool\n",
    "        学習過程を出力する場合はTrue\n",
    "    n_hidden : int\n",
    "        隠れ層のノード数\n",
    "    l2 : float\n",
    "        正則化係数\n",
    "    epochs : int\n",
    "        エポック数（イテレーション数）\n",
    "    eta : float\n",
    "        学習率\n",
    "    minibatch_size : int\n",
    "        ミニバッチサイズ\n",
    "\n",
    "    Attributes\n",
    "    ----------\n",
    "    self.b_h : ndarray,shape(n_hidden, )\n",
    "        隠れ層のバイアス\n",
    "    self.w_h : ndarray,shape(n_features, n_hidden)\n",
    "        隠れ層の重み\n",
    "    self.b_out : ndarray,shape(n_output, )\n",
    "        出力層のバイアス\n",
    "    self.w_out : ndarray,shape(n_hidden, n_output)\n",
    "        出力層の重み\n",
    "    self.evals_ : dict\n",
    "        イテレーションごとのcostとaccuracy\n",
    "    \"\"\"\n",
    "\n",
    "    def __init__(self, verbose = True, n_hidden1=100, n_hidden2=30, epochs=100, eta=0.001, minibatch_size=10, seed=None):\n",
    "        self.verbose = verbose                                        #True(default):学習過程を表示、False:非表示\n",
    "        self.random=np.random.RandomState(seed)  #初期化する\n",
    "        self.n_hidden1 = n_hidden1                                   #1層目のノード数(default:100)\n",
    "        self.n_hidden2 = n_hidden2                                   #2層目のノード数(default:30)\n",
    "        self.epochs = epochs                                          #エポック数(default:100)\n",
    "        self.eta = eta                                                       #学習率(default:0.001)\n",
    "        self.minibatch_size = minibatch_size              #ミニバッチを行うサイズ(default:10)\n",
    "    \n",
    "    \n",
    "    def fit(self, X, y, X_val=None, y_val=None):\n",
    "        \"\"\"\n",
    "        ニューラルネットワーク分類器を学習する。\n",
    "\n",
    "        Parameters\n",
    "        ----------\n",
    "        X : 次の形のndarray, shape (n_samples, n_features)\n",
    "            学習用データの特徴量\n",
    "        y : 次の形のndarray, shape (n_samples, )\n",
    "            学習用データの正解値\n",
    "        X_val : 次の形のndarray, shape (n_samples, n_features)\n",
    "            検証用データの特徴量\n",
    "        y_val : 次の形のndarray, shape (n_samples, )\n",
    "            検証用データの正解値\n",
    "        \"\"\"\n",
    "        #クラスラベルの個数\n",
    "        n_output = np.unique(y).shape[0]\n",
    "        \n",
    "        #入力層の特徴量\n",
    "        n_features = X.shape[1]\n",
    "                \n",
    "        #1層目の重みを初期化\n",
    "        self.b_1 = np.zeros(self.n_hidden1)\n",
    "        self.w_1 = self.random.normal(loc=0.0, scale=0.1, size=(n_features, self.n_hidden1))\n",
    "\n",
    "        #2層目の重みを初期化\n",
    "        self.b_2 = np.zeros(self.n_hidden2)\n",
    "        self.w_2 = self.random.normal(loc=0.0, scale=0.1, size=(self.n_hidden1, self.n_hidden2))\n",
    "\n",
    "        #3層目(出力層)の重みを初期化\n",
    "        self.b_3 = np.zeros(n_output)\n",
    "        self.w_3 = self.random.normal(loc=0.0, scale=0.1, size=(self.n_hidden2, n_output))\n",
    "        \n",
    "        #学習過程データの格納用dictionary\n",
    "        self.evals_ = {'cost' : [], 'cost_val' : [], 'train_acc' : [], 'valid_acc' : []}\n",
    "        \n",
    "        #正解データをワンホットエンコーディング\n",
    "        y_enc = self._onehot(y)\n",
    "        \n",
    "        #エポック数だけトレーニングを繰り返す\n",
    "        for i in range(self.epochs):\n",
    "            \n",
    "            #minibatchデータを生成\n",
    "            get_mini_batch = GetMiniBatch(X, y_enc, batch_size=self.minibatch_size)\n",
    "            \n",
    "            #引数で設定したminibatch数の単位で学習を行う\n",
    "            for mini_X_train, mini_y_train in get_mini_batch:\n",
    "                                            \n",
    "                #フォワードプロパゲーション\n",
    "                #a:活性化関数に代入するもの、z:活性化関数の計算結果\n",
    "                z_1, a_1, z_2, a_2, z_3, a_3 = self._forward(mini_X_train)\n",
    "                \n",
    "                #バックプロパゲーション                \n",
    "                delta_w_1, delta_b_1, delta_w_2, delta_b_2, delta_w_3, delta_b_3 = self._back(\n",
    "                    mini_X_train, mini_y_train, z_1, a_1, z_2, a_2, z_3, a_3)\n",
    "                \n",
    "                #１層目の重みの更新\n",
    "                self.w_1 -= self.eta * delta_w_1\n",
    "                self.b_1 -= self.eta * delta_b_1\n",
    "                \n",
    "                #2層目の重みの更新\n",
    "                self.w_2 -= self.eta * delta_w_2\n",
    "                self.b_2 -= self.eta * delta_b_2\n",
    "\n",
    "                #3層目の重みの更新\n",
    "                self.w_3 -= self.eta * delta_w_3\n",
    "                self.b_3 -= self.eta * delta_b_3\n",
    "                \n",
    "                \n",
    "            ############\n",
    "            # 評価\n",
    "            ############\n",
    "            \n",
    "            #イテレーションごとに評価を行う\n",
    "            z_1, a_1, z_2, a_2, z_3, a_3 = self._forward(X)\n",
    "            \n",
    "            #交差エントロピー誤差を計算\n",
    "            cost = self._compute_cost(y=y_enc, y_pred=z_3)\n",
    "\n",
    "            #誤差を格納\n",
    "            self.evals_['cost'].append(cost)\n",
    "            \n",
    "            #推定を行い、accuracyを計算する\n",
    "            y_pred = self.predict(X)\n",
    "            train_acc = \\\n",
    "                ((np.sum(y == y_pred)).astype(np.float) / X.shape[0])\n",
    "            self.evals_['train_acc'].append(train_acc)\n",
    "            \n",
    "            #検証用データが引数にある場合、処理を行う\n",
    "            if X_val is not None:\n",
    "                \n",
    "                #y_valのワンホットエンコーディング\n",
    "                y_val_enc = self._onehot(y_val)\n",
    "                \n",
    "                #イテレーションごとに評価を行う\n",
    "                z_1_val, a_1_val, z_2_val, a_2_val, z_3_val, a_3_val = self._forward(X_val)\n",
    "                \n",
    "                #検証用データの交差エントロピー誤差を計算\n",
    "                cost_val = self._compute_cost(y=y_val_enc, y_pred=z_3_val)\n",
    "\n",
    "                #誤差を格納\n",
    "                self.evals_['cost_val'].append(cost_val)\n",
    "                \n",
    "                #推定を行い、accuracyを計算する\n",
    "                y_val_pred = self.predict(X_val)\n",
    "                valid_acc = \\\n",
    "                    ((np.sum(y_val == y_val_pred)).astype(np.float) / X_val.shape[0])\n",
    "                self.evals_['valid_acc'].append(valid_acc)\n",
    "            \n",
    "            \n",
    "\n",
    "            #verboseをTrueにした際は学習過程などを出力する\n",
    "            if self.verbose:\n",
    "                #一度だけ、'Cross Entropy Error'を出力\n",
    "                if i == 0:\n",
    "                    print('Cross Entropy Error')\n",
    "                    \n",
    "                #エポックごとのコスト関数を出力\n",
    "                print('epoch{} : {}'.format(i+1, np.mean(cost)))\n",
    "                \n",
    "                #検証用データがある場合、そのコスト関数も出力\n",
    "                if X_val is not None:\n",
    "                    print('epoch_val{} : {}'.format(i+1, np.mean(cost_val)))\n",
    "\n",
    "        return self\n",
    "\n",
    "\n",
    "    def predict(self, X):\n",
    "        \"\"\"\n",
    "        ニューラルネットワーク分類器を使い推定する。\n",
    "\n",
    "        Parameters\n",
    "        ----------\n",
    "        X : 次の形のndarray, shape (n_samples, n_features)\n",
    "            サンプル\n",
    "\n",
    "        Returns\n",
    "        -------\n",
    "        y_pred :  次の形のndarray, shape (n_samples, 1)\n",
    "            推定結果\n",
    "        \"\"\"\n",
    "        #フォワードプロパゲーション\n",
    "        z_1, a_1, z_2, a_2, z_3, a_3 = self._forward(X)\n",
    "        \n",
    "        #出力層の確率から、最大値をそのクラスとする\n",
    "        y_pred = np.argmax(z_3, axis=1)\n",
    "        \n",
    "        return y_pred\n",
    "    \n",
    "    def _onehot(self, y):\n",
    "        \"\"\"\n",
    "        多クラス分類を行う際のone-hot表現に変換\n",
    "\n",
    "        Parameters\n",
    "        ----------\n",
    "        y : 次の形のndarray, shape (n_samples, )\n",
    "            サンプル\n",
    "\n",
    "        Returns\n",
    "        -------\n",
    "        y_one_hot : 次の形のndarray, shape (n_samples, n_classes)\n",
    "            推定結果\n",
    "        \"\"\"\n",
    "        enc = OneHotEncoder(handle_unknown='ignore', sparse=False)\n",
    "        y_one_hot = enc.fit_transform(y[:, np.newaxis])\n",
    "        \n",
    "        return y_one_hot\n",
    "    \n",
    "    \n",
    "    def _sigmoid(self, z):\n",
    "        \"\"\"\n",
    "        活性化関数sigmoidを計算する\n",
    "\n",
    "        Parameters\n",
    "        ----------\n",
    "        z : 次の形のndarray, shape ((batch_size, n_nodes)\n",
    "            サンプル\n",
    "\n",
    "        Returns\n",
    "        -------\n",
    "\n",
    "        \"\"\"\n",
    "        \n",
    "        return 1 / (1 + np.exp(-z))\n",
    "    \n",
    "    def _softmax(self, x):\n",
    "        \"\"\"\n",
    "        ソフトマックスを計算する\n",
    "\n",
    "        Parameters\n",
    "        ----------\n",
    "        x : 次の形のndarray, shape (batch_size, n_output)\n",
    "            サンプル\n",
    "\n",
    "        Returns\n",
    "        -------\n",
    "         次の形のndarray, shape (batch_size, n_output)\n",
    "            ソフトマックス計算結果\n",
    "        \"\"\"\n",
    "        #オーバーフロー対策\n",
    "        max_x = np.max(x)\n",
    "\n",
    "        #最大要素を引いてからexpをかけることでオーバーフローを回避\n",
    "        exp_x = np.exp(x - max_x)\n",
    "\n",
    "         #和を計算\n",
    "        sum_exp_x = np.sum(exp_x, axis=1).reshape(-1, 1)\n",
    "\n",
    "        return exp_x / sum_exp_x\n",
    "\n",
    "    \n",
    "    def _forward(self, X):\n",
    "        \"\"\"\n",
    "        フォワードプロパゲーションの計算\n",
    "\n",
    "        Parameters\n",
    "        ----------\n",
    "        X : 次の形のndarray, shape (n_samples, n_features)\n",
    "            サンプル\n",
    "\n",
    "        Returns\n",
    "        -------\n",
    "         次の形のndarray, shape (batch_size, n_nodes)\n",
    "            sigmoid計算結果\n",
    "        \"\"\"\n",
    "        \n",
    "        #1層目\n",
    "        #[n_samples, n_features] dot [n_features, n_hidden1]\n",
    "        #→ [n_samples, n_hiddne1]\n",
    "        a_1 = (X @ self.w_1) + self.b_1\n",
    "        \n",
    "        #1層目の活性化関数\n",
    "        z_1 = self._sigmoid(a_1)\n",
    "\n",
    "        #2層目\n",
    "        #[n_samples, n_features] dot [n_features, n_hidden1]\n",
    "        #→ [n_samples, n_hiddne1]\n",
    "        a_2 = (z_1 @ self.w_2) + self.b_2\n",
    "        \n",
    "        #2層目の活性化関数\n",
    "        z_2 = self._sigmoid(a_2)\n",
    "\n",
    "        #3層目(出力層)\n",
    "        #[n_samples, n_hiddne] dot [n_hidden, n_classlabels]\n",
    "        #→ [n_samples, n_classlabls]\n",
    "        a_3 = (z_2 @ self.w_3) + self.b_3\n",
    "        \n",
    "        #3層目出力層の活性化関数\n",
    "        z_3 = self._softmax(a_3)\n",
    "        \n",
    "        return z_1, a_1, z_2, a_2, z_3, a_3\n",
    "    \n",
    "    def _back(self, X, y, z_1, a_1, z_2, a_2, z_3, a_3):\n",
    "        \"\"\"\n",
    "        バックプロパゲーションの計算\n",
    "\n",
    "        Parameters\n",
    "        ----------\n",
    "        X : 次の形のndarray, shape (n_samples, n_features)\n",
    "            サンプル\n",
    "\n",
    "        Returns\n",
    "        -------\n",
    "         次の形のndarray, shape (batch_size, n_nodes)\n",
    "            sigmoid計算結果\n",
    "        \"\"\"\n",
    "        #3層目\n",
    "        #[n_samples, n_output]\n",
    "        delta_a_3 = z_3 - y\n",
    "\n",
    "        #[n_hidden, n_samples] dot [n_samples, n_output]\n",
    "        #→ [n_hiddne, n_output]\n",
    "        delta_w_3 = z_2.T @ delta_a_3 / delta_a_3.shape[0]\n",
    "\n",
    "        #[n_output,]\n",
    "        delta_b_3 = np.mean(delta_a_3, axis=0)\n",
    "\n",
    "        #2層目\n",
    "        #[n_samples, n_classlabels] dot [n_classlabels, n_hidden]\n",
    "        #→ [n_samples, n_hidden]\n",
    "        delta_a_2 = ((delta_a_3 @ self.w_3.T) * ((1 - self._sigmoid(a_2)) * self._sigmoid(a_2)))\n",
    "\n",
    "        #[n_features, n_samples] dot [n_samples, n_hidden]\n",
    "        #→ [n_features, n_hidden]\n",
    "        delta_w_2 = z_1.T @ delta_a_2 / delta_a_2.shape[0]\n",
    "\n",
    "        #[n_hidden, ]\n",
    "        delta_b_2 = np.mean(delta_a_2, axis=0)\n",
    "\n",
    "        #1層目\n",
    "        #[n_samples, n_classlabels] dot [n_classlabels, n_hidden]\n",
    "        #→ [n_samples, n_hidden]\n",
    "        delta_a_1 = ((delta_a_2 @ self.w_2.T) * ((1 - self._sigmoid(a_1)) * self._sigmoid(a_1)))\n",
    "\n",
    "        #[n_features, n_samples] dot [n_samples, n_hidden]\n",
    "        #→ [n_features, n_hidden]\n",
    "        delta_w_1 = X.T @ delta_a_1 / delta_a_1.shape[0]\n",
    "\n",
    "        #[n_hidden, ]\n",
    "        delta_b_1 = np.mean(delta_a_1, axis=0)\n",
    "        \n",
    "        return delta_w_1, delta_b_1, delta_w_2, delta_b_2, delta_w_3, delta_b_3\n",
    "\n",
    "    \n",
    "    \n",
    "    #交差エントロピー誤差\n",
    "    def _compute_cost(self, y, y_pred):\n",
    "\n",
    "        return - np.sum(y * np.log(y_pred), axis=1)\n",
    "    \n",
    "    \n",
    "    \n",
    "class GetMiniBatch:\n",
    "    \"\"\"\n",
    "    ミニバッチを取得するイテレータ\n",
    "\n",
    "    Parameters\n",
    "    ----------\n",
    "    X : 次の形のndarray, shape (n_samples, n_features)\n",
    "      学習データ\n",
    "    y : 次の形のndarray, shape (n_samples, 1)\n",
    "      正解値\n",
    "    batch_size : int\n",
    "      バッチサイズ\n",
    "    seed : int\n",
    "      NumPyの乱数のシード\n",
    "    \"\"\"\n",
    "    def __init__(self, X, y, batch_size = 10, seed=0):\n",
    "        self.batch_size = batch_size\n",
    "        np.random.seed(seed)\n",
    "        shuffle_index = np.random.permutation(np.arange(X.shape[0]))\n",
    "        self.X = X[shuffle_index]\n",
    "        self.y = y[shuffle_index]\n",
    "        self._stop = np.ceil(X.shape[0]/self.batch_size).astype(np.int)\n",
    "\n",
    "    def __len__(self):\n",
    "        return self._stop\n",
    "\n",
    "    def __getitem__(self,item):\n",
    "        p0 = item*self.batch_size\n",
    "        p1 = item*self.batch_size + self.batch_size\n",
    "        return self.X[p0:p1], self.y[p0:p1]        \n",
    "\n",
    "    def __iter__(self):\n",
    "        self._counter = 0\n",
    "        return self\n",
    "\n",
    "    def __next__(self):\n",
    "        if self._counter >= self._stop:\n",
    "            raise StopIteration()\n",
    "        p0 = self._counter*self.batch_size\n",
    "        p1 = self._counter*self.batch_size + self.batch_size\n",
    "        self._counter += 1\n",
    "        return self.X[p0:p1], self.y[p0:p1]"
   ]
  },
  {
   "cell_type": "code",
   "execution_count": 34,
   "metadata": {},
   "outputs": [
    {
     "name": "stdout",
     "output_type": "stream",
     "text": [
      "Cross Entropy Error\n",
      "epoch1 : 2.0645413065874414\n",
      "epoch_val1 : 2.0624442392427205\n",
      "epoch2 : 1.7773828195013655\n",
      "epoch_val2 : 1.7734129630962252\n",
      "epoch3 : 1.4627212524847844\n",
      "epoch_val3 : 1.457313510006835\n",
      "epoch4 : 1.194461704360686\n",
      "epoch_val4 : 1.1884712655318226\n",
      "epoch5 : 1.000875005619082\n",
      "epoch_val5 : 0.9949853839090799\n",
      "epoch6 : 0.8659861791776716\n",
      "epoch_val6 : 0.8605404690076291\n",
      "epoch7 : 0.7693695566993244\n",
      "epoch_val7 : 0.764513985152056\n",
      "epoch8 : 0.6973592965521043\n",
      "epoch_val8 : 0.6931624047611146\n",
      "epoch9 : 0.6417798963191247\n",
      "epoch_val9 : 0.6382783983293722\n",
      "epoch10 : 0.5976747039935859\n",
      "epoch_val10 : 0.5948865236690437\n",
      "epoch11 : 0.5619003480768491\n",
      "epoch_val11 : 0.5598286719065195\n",
      "epoch12 : 0.5323683797436594\n",
      "epoch_val12 : 0.531004494589845\n",
      "epoch13 : 0.5076340468560256\n",
      "epoch_val13 : 0.5069604037012787\n",
      "epoch14 : 0.4866633073290027\n",
      "epoch_val14 : 0.48665653666305114\n",
      "epoch15 : 0.46869444640254143\n",
      "epoch_val15 : 0.46932792764660897\n",
      "epoch16 : 0.453152560718161\n",
      "epoch_val16 : 0.45439837673219413\n",
      "epoch17 : 0.43959492809347983\n",
      "epoch_val17 : 0.4414252231875054\n",
      "epoch18 : 0.4276750109464511\n",
      "epoch_val18 : 0.4300628576910113\n",
      "epoch19 : 0.4171179892732664\n",
      "epoch_val19 : 0.4200378881613603\n",
      "epoch20 : 0.40770360944054407\n",
      "epoch_val20 : 0.41113173236816086\n",
      "epoch21 : 0.3992538102821009\n",
      "epoch_val21 : 0.40316807562342094\n",
      "epoch22 : 0.39162357030754946\n",
      "epoch_val22 : 0.39600361410275314\n",
      "epoch23 : 0.38469399870863596\n",
      "epoch_val23 : 0.38952108685682\n",
      "epoch24 : 0.3783670369699849\n",
      "epoch_val24 : 0.38362394815401496\n",
      "epoch25 : 0.37256134617656644\n",
      "epoch_val25 : 0.3782322442074388\n",
      "epoch26 : 0.3672090848033751\n",
      "epoch_val26 : 0.3732793914261279\n",
      "epoch27 : 0.3622533654833942\n",
      "epoch_val27 : 0.3687096396353821\n",
      "epoch28 : 0.35764623540317453\n",
      "epoch_val28 : 0.36447606173780406\n",
      "epoch29 : 0.35334706402672783\n",
      "epoch_val29 : 0.3605389516249623\n",
      "epoch30 : 0.349321249843541\n",
      "epoch_val30 : 0.3568645409877303\n"
     ]
    },
    {
     "data": {
      "text/plain": [
       "<__main__.ScratchSimpleNeuralNetrowkClassifier at 0x1a1a6cef28>"
      ]
     },
     "execution_count": 34,
     "metadata": {},
     "output_type": "execute_result"
    }
   ],
   "source": [
    "snn = ScratchSimpleNeuralNetrowkClassifier(\n",
    "    verbose = True, \n",
    "    n_hidden1=400, \n",
    "    n_hidden2=200, \n",
    "    epochs=30, \n",
    "    eta=1e-3, \n",
    "    minibatch_size=10, \n",
    "    seed=None)\n",
    "\n",
    "snn.fit(X_train, y_train, X_val, y_val)"
   ]
  },
  {
   "cell_type": "markdown",
   "metadata": {},
   "source": [
    "## 【問題2】学習曲線のプロット\n",
    "学習曲線をプロットしてください。\n",
    "\n",
    "ニューラルネットワークは過学習が発生しやすいため、学習曲線の確認が重要です。trainデータとvalデータに対するエポックごとの損失（交差エントロピー誤差）を記録できるようにする必要があります。"
   ]
  },
  {
   "cell_type": "code",
   "execution_count": 35,
   "metadata": {},
   "outputs": [
    {
     "data": {
      "text/plain": [
       "<function matplotlib.pyplot.show(*args, **kw)>"
      ]
     },
     "execution_count": 35,
     "metadata": {},
     "output_type": "execute_result"
    },
    {
     "data": {
      "image/png": "[encoded data removed]",
      "text/plain": [
       "<Figure size 432x288 with 1 Axes>"
      ]
     },
     "metadata": {
      "needs_background": "light"
     },
     "output_type": "display_data"
    }
   ],
   "source": [
    "plt.plot(np.arange(1, len(np.mean(snn.evals_['cost'],axis=1)) + 1, 1), np.mean(snn.evals_['cost'],axis=1), label='train')\n",
    "plt.plot(np.arange(1, len(np.mean(snn.evals_['cost_val'],axis=1)) + 1, 1), np.mean(snn.evals_['cost_val'],axis=1), label='validation')\n",
    "\n",
    "plt.title('Cross Entropy Error')\n",
    "plt.xlabel('epoch')\n",
    "plt.ylabel('error')\n",
    "\n",
    "plt.legend()\n",
    "plt.show\n"
   ]
  },
  {
   "cell_type": "markdown",
   "metadata": {},
   "source": [
    "## 【問題3】指標値の算出\n",
    "分類に関する指標値で精度を確認してください。"
   ]
  },
  {
   "cell_type": "code",
   "execution_count": 36,
   "metadata": {},
   "outputs": [
    {
     "data": {
      "text/plain": [
       "<function matplotlib.pyplot.show(*args, **kw)>"
      ]
     },
     "execution_count": 36,
     "metadata": {},
     "output_type": "execute_result"
    },
    {
     "data": {
      "image/png": "[encoded data removed]",
      "text/plain": [
       "<Figure size 432x288 with 1 Axes>"
      ]
     },
     "metadata": {
      "needs_background": "light"
     },
     "output_type": "display_data"
    }
   ],
   "source": [
    "plt.plot(np.arange(1, len(snn.evals_['train_acc']) + 1, 1), snn.evals_['train_acc'], label='train')\n",
    "plt.plot(np.arange(1, len(snn.evals_['valid_acc']) + 1, 1), snn.evals_['valid_acc'], label='validation')\n",
    "\n",
    "plt.title('Accuracy')\n",
    "plt.xlabel('epoch')\n",
    "plt.ylabel('accuracy')\n",
    "\n",
    "plt.legend()\n",
    "plt.show\n"
   ]
  },
  {
   "cell_type": "code",
   "execution_count": 37,
   "metadata": {},
   "outputs": [],
   "source": [
    "y_pred = snn.predict(X_val)"
   ]
  },
  {
   "cell_type": "code",
   "execution_count": 38,
   "metadata": {},
   "outputs": [
    {
     "name": "stdout",
     "output_type": "stream",
     "text": [
      "              precision    recall  f1-score   support\n",
      "\n",
      "           0       0.94      0.97      0.95      1194\n",
      "           1       0.95      0.96      0.95      1337\n",
      "           2       0.90      0.86      0.88      1187\n",
      "           3       0.88      0.86      0.87      1223\n",
      "           4       0.89      0.92      0.91      1160\n",
      "           5       0.86      0.85      0.85      1098\n",
      "           6       0.92      0.94      0.93      1210\n",
      "           7       0.92      0.91      0.91      1259\n",
      "           8       0.84      0.86      0.85      1132\n",
      "           9       0.88      0.85      0.87      1200\n",
      "\n",
      "   micro avg       0.90      0.90      0.90     12000\n",
      "   macro avg       0.90      0.90      0.90     12000\n",
      "weighted avg       0.90      0.90      0.90     12000\n",
      "\n"
     ]
    }
   ],
   "source": [
    "from sklearn.metrics import classification_report\n",
    "print(classification_report(y_val, y_pred))"
   ]
  },
  {
   "cell_type": "markdown",
   "metadata": {},
   "source": [
    "### （オプション）誤分類の確認\n",
    "誤分類した画像はどのようなものだったかを見てみましょう。推定値を用意し、以下のコードを実行してください。"
   ]
  },
  {
   "cell_type": "code",
   "execution_count": 39,
   "metadata": {},
   "outputs": [
    {
     "data": {
      "image/png": "[encoded data removed]",
      "text/plain": [
       "<Figure size 432x432 with 36 Axes>"
      ]
     },
     "metadata": {},
     "output_type": "display_data"
    }
   ],
   "source": [
    "\"\"\"\n",
    "語分類結果を並べて表示する。画像の上の表示は「推定結果/正解」である。\n",
    "\n",
    "Parameters:\n",
    "----------\n",
    "y_pred : 推定値のndarray (n_samples,)\n",
    "y_val : 検証用データの正解ラベル(n_samples,)\n",
    "X_val : 検証用データの特徴量（n_samples, n_features)\n",
    "\"\"\"\n",
    "import numpy as np\n",
    "import matplotlib.pyplot as plt\n",
    "\n",
    "num = 36 # いくつ表示するか\n",
    "\n",
    "true_false = y_pred==y_val\n",
    "false_list = np.where(true_false==False)[0].astype(np.int)\n",
    "\n",
    "if false_list.shape[0] < num:\n",
    "    num = false_list.shape[0]\n",
    "fig = plt.figure(figsize=(6, 6))\n",
    "fig.subplots_adjust(left=0, right=0.8,  bottom=0, top=0.8, hspace=1, wspace=0.5)\n",
    "for i in range(num):\n",
    "    ax = fig.add_subplot(6, 6, i + 1, xticks=[], yticks=[])\n",
    "    ax.set_title(\"{} / {}\".format(y_pred[false_list[i]],y_val[false_list[i]]))\n",
    "    ax.imshow(X_val.reshape(-1,28,28)[false_list[i]], cmap='gray')"
   ]
  },
  {
   "cell_type": "markdown",
   "metadata": {},
   "source": [
    "### pyファイルで動作確認"
   ]
  },
  {
   "cell_type": "code",
   "execution_count": 40,
   "metadata": {},
   "outputs": [],
   "source": [
    "#pyファイル格納ディレクトリのパス設定\n",
    "import sys\n",
    "sys.path.append(\"/Users/yusuke-saruya/diveintocode-ml/full-time/diveintocode-term2/ml-scratch/utils/\")\n",
    "import neuralnetrowk"
   ]
  },
  {
   "cell_type": "code",
   "execution_count": 41,
   "metadata": {},
   "outputs": [
    {
     "name": "stdout",
     "output_type": "stream",
     "text": [
      "Cross Entropy Error\n",
      "epoch1 : 0.5839817105313603\n",
      "epoch_val1 : 0.5825176823896477\n",
      "epoch2 : 0.40976107631547165\n",
      "epoch_val2 : 0.4143160901572868\n",
      "epoch3 : 0.35364048082559074\n",
      "epoch_val3 : 0.3621696940401011\n",
      "epoch4 : 0.323622541440352\n",
      "epoch_val4 : 0.33495085959395077\n",
      "epoch5 : 0.3034469873522628\n",
      "epoch_val5 : 0.31695825254857485\n"
     ]
    },
    {
     "data": {
      "text/plain": [
       "<neuralnetrowk.ScratchSimpleNeuralNetrowkClassifier at 0x1091d7898>"
      ]
     },
     "execution_count": 41,
     "metadata": {},
     "output_type": "execute_result"
    }
   ],
   "source": [
    "snn2 = neuralnetrowk.ScratchSimpleNeuralNetrowkClassifier(\n",
    "    verbose = True, \n",
    "    n_hidden1=400, \n",
    "    n_hidden2=200, \n",
    "    epochs=5, \n",
    "    eta=1e-3, \n",
    "    minibatch_size=10, \n",
    "    seed=None)\n",
    "\n",
    "snn2.fit(X=X_train, y=y_train, X_val=X_val, y_val=y_val)"
   ]
  },
  {
   "cell_type": "code",
   "execution_count": null,
   "metadata": {},
   "outputs": [],
   "source": []
  }
 ],
 "metadata": {
  "kernelspec": {
   "display_name": "Python 3",
   "language": "python",
   "name": "python3"
  },
  "language_info": {
   "codemirror_mode": {
    "name": "ipython",
    "version": 3
   },
   "file_extension": ".py",
   "mimetype": "text/x-python",
   "name": "python",
   "nbconvert_exporter": "python",
   "pygments_lexer": "ipython3",
   "version": "3.7.1"
  }
 },
 "nbformat": 4,
 "nbformat_minor": 2
}
