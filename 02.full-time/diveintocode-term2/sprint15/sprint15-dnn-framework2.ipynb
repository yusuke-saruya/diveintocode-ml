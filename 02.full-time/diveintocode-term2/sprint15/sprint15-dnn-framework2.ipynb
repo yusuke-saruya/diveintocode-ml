{
 "cells": [
  {
   "cell_type": "markdown",
   "metadata": {},
   "source": [
    "# Sprint15課題 ディープラーニングフレームワーク2"
   ]
  },
  {
   "cell_type": "code",
   "execution_count": 207,
   "metadata": {
    "ExecuteTime": {
     "end_time": "2019-06-03T09:06:38.101831Z",
     "start_time": "2019-06-03T09:06:38.095523Z"
    }
   },
   "outputs": [],
   "source": [
    "#ライブラリ\n",
    "import pandas as pd\n",
    "import numpy as np\n",
    "from sklearn.model_selection import train_test_split\n",
    "import tensorflow as tf\n",
    "from tensorflow.python.keras import layers\n",
    "from tensorflow.python.keras import models\n",
    "from tensorflow.python.keras import optimizers\n",
    "from sklearn.preprocessing import OneHotEncoder\n",
    "from sklearn import preprocessing\n",
    "from sklearn.metrics import mean_squared_error\n",
    "from sklearn.metrics import r2_score\n"
   ]
  },
  {
   "cell_type": "markdown",
   "metadata": {},
   "source": [
    "## 【問題1】公式Exampleを分担して実行\n",
    "TensorFLowの公式Exampleを分担して実行してください。\n",
    "\n",
    "以下の中から1人ひとつ選び実行し、その結果を簡単に発表してください。\n",
    "\n",
    "**research**\n",
    "\n",
    "定番のモデルから最新のモデルまで多様なコードが公開されています。\n",
    "\n",
    "[models/research at master · tensorflow/models](https://github.com/tensorflow/models/tree/master/research)\n",
    "\n",
    "**tutorials**\n",
    "\n",
    "TensorFLowのチュートリアルとして用意された簡単なモデルが含まれています。\n",
    "\n",
    "[models/tutorials at master · tensorflow/models](https://github.com/tensorflow/models/tree/master/tutorials)\n",
    "\n",
    "### 選択モデル\n",
    "- Overfitting and underfitting  \n",
    "https://www.tensorflow.org/tutorials/keras/overfit_and_underfit\n"
   ]
  },
  {
   "cell_type": "code",
   "execution_count": 2,
   "metadata": {
    "ExecuteTime": {
     "end_time": "2019-06-03T07:21:18.267120Z",
     "start_time": "2019-06-03T07:21:17.665938Z"
    }
   },
   "outputs": [
    {
     "name": "stdout",
     "output_type": "stream",
     "text": [
      "1.13.1\n"
     ]
    }
   ],
   "source": [
    "from __future__ import absolute_import, division, print_function, unicode_literals\n",
    "\n",
    "import tensorflow as tf\n",
    "from tensorflow import keras\n",
    "\n",
    "import numpy as np\n",
    "import matplotlib.pyplot as plt\n",
    "\n",
    "print(tf.__version__)"
   ]
  },
  {
   "cell_type": "code",
   "execution_count": 3,
   "metadata": {
    "ExecuteTime": {
     "end_time": "2019-06-03T07:21:18.274345Z",
     "start_time": "2019-06-03T07:21:18.270304Z"
    }
   },
   "outputs": [
    {
     "name": "stdout",
     "output_type": "stream",
     "text": [
      "1.16.1\n"
     ]
    }
   ],
   "source": [
    "#numpy 1.16.1から1.16.3になる際にallow_pickle=Falseがデフォルトになったため\n",
    "#numpyのバージョンを1.16.3→1.16.1に落とす必要がある。\n",
    "\n",
    "#!pip install numpy==1.16.1\n",
    "print(np.__version__)"
   ]
  },
  {
   "cell_type": "markdown",
   "metadata": {},
   "source": [
    "### IMDBデータセットのダウンロード"
   ]
  },
  {
   "cell_type": "code",
   "execution_count": 4,
   "metadata": {
    "ExecuteTime": {
     "end_time": "2019-06-03T07:21:29.529661Z",
     "start_time": "2019-06-03T07:21:18.280546Z"
    }
   },
   "outputs": [],
   "source": [
    "NUM_WORDS = 10000\n",
    "\n",
    "(train_data, train_labels), (test_data, test_labels) = keras.datasets.imdb.load_data(num_words=NUM_WORDS)\n",
    "\n",
    "def multi_hot_sequences(sequences, dimension):\n",
    "    # 形状が (len(sequences), dimension)ですべて0の行列を作る\n",
    "    results = np.zeros((len(sequences), dimension))\n",
    "    for i, word_indices in enumerate(sequences):\n",
    "        results[i, word_indices] = 1.0  # 特定のインデックスに対してresults[i] を１に設定する\n",
    "    return results\n",
    "\n",
    "\n",
    "train_data = multi_hot_sequences(train_data, dimension=NUM_WORDS)\n",
    "test_data = multi_hot_sequences(test_data, dimension=NUM_WORDS)"
   ]
  },
  {
   "cell_type": "code",
   "execution_count": 5,
   "metadata": {
    "ExecuteTime": {
     "end_time": "2019-06-03T07:21:29.840319Z",
     "start_time": "2019-06-03T07:21:29.534281Z"
    }
   },
   "outputs": [
    {
     "data": {
      "text/plain": [
       "[<matplotlib.lines.Line2D at 0x1a335efa58>]"
      ]
     },
     "execution_count": 5,
     "metadata": {},
     "output_type": "execute_result"
    },
    {
     "data": {
      "image/png": "[encoded data removed]",
      "text/plain": [
       "<Figure size 432x288 with 1 Axes>"
      ]
     },
     "metadata": {
      "needs_background": "light"
     },
     "output_type": "display_data"
    }
   ],
   "source": [
    "plt.plot(train_data[0])"
   ]
  },
  {
   "cell_type": "markdown",
   "metadata": {},
   "source": [
    "### 過学習のデモンストレーション"
   ]
  },
  {
   "cell_type": "markdown",
   "metadata": {},
   "source": [
    "#### base modelを作る"
   ]
  },
  {
   "cell_type": "code",
   "execution_count": 6,
   "metadata": {
    "ExecuteTime": {
     "end_time": "2019-06-03T07:21:30.152508Z",
     "start_time": "2019-06-03T07:21:29.844102Z"
    }
   },
   "outputs": [
    {
     "name": "stdout",
     "output_type": "stream",
     "text": [
      "WARNING:tensorflow:From /Users/yusuke-saruya/.pyenv/versions/anaconda3-2018.12/lib/python3.7/site-packages/tensorflow/python/ops/resource_variable_ops.py:435: colocate_with (from tensorflow.python.framework.ops) is deprecated and will be removed in a future version.\n",
      "Instructions for updating:\n",
      "Colocations handled automatically by placer.\n",
      "_________________________________________________________________\n",
      "Layer (type)                 Output Shape              Param #   \n",
      "=================================================================\n",
      "dense (Dense)                (None, 16)                160016    \n",
      "_________________________________________________________________\n",
      "dense_1 (Dense)              (None, 16)                272       \n",
      "_________________________________________________________________\n",
      "dense_2 (Dense)              (None, 1)                 17        \n",
      "=================================================================\n",
      "Total params: 160,305\n",
      "Trainable params: 160,305\n",
      "Non-trainable params: 0\n",
      "_________________________________________________________________\n"
     ]
    }
   ],
   "source": [
    "baseline_model = keras.Sequential([\n",
    "    # `.summary` を見るために`input_shape`が必要\n",
    "    keras.layers.Dense(16, activation=tf.nn.relu, input_shape=(NUM_WORDS,)),\n",
    "    keras.layers.Dense(16, activation=tf.nn.relu),\n",
    "    keras.layers.Dense(1, activation=tf.nn.sigmoid)\n",
    "])\n",
    "\n",
    "baseline_model.compile(optimizer='adam',\n",
    "                       loss='binary_crossentropy',\n",
    "                       metrics=['accuracy', 'binary_crossentropy'])\n",
    "\n",
    "baseline_model.summary()"
   ]
  },
  {
   "cell_type": "code",
   "execution_count": 7,
   "metadata": {
    "ExecuteTime": {
     "end_time": "2019-06-03T07:23:47.819631Z",
     "start_time": "2019-06-03T07:21:30.155866Z"
    }
   },
   "outputs": [
    {
     "name": "stdout",
     "output_type": "stream",
     "text": [
      "Train on 25000 samples, validate on 25000 samples\n",
      "WARNING:tensorflow:From /Users/yusuke-saruya/.pyenv/versions/anaconda3-2018.12/lib/python3.7/site-packages/tensorflow/python/ops/math_ops.py:3066: to_int32 (from tensorflow.python.ops.math_ops) is deprecated and will be removed in a future version.\n",
      "Instructions for updating:\n",
      "Use tf.cast instead.\n",
      "Epoch 1/20\n",
      " - 9s - loss: 0.4859 - acc: 0.8062 - binary_crossentropy: 0.4859 - val_loss: 0.3388 - val_acc: 0.8751 - val_binary_crossentropy: 0.3388\n",
      "Epoch 2/20\n",
      " - 8s - loss: 0.2503 - acc: 0.9125 - binary_crossentropy: 0.2503 - val_loss: 0.2849 - val_acc: 0.8881 - val_binary_crossentropy: 0.2849\n",
      "Epoch 3/20\n",
      " - 6s - loss: 0.1814 - acc: 0.9357 - binary_crossentropy: 0.1814 - val_loss: 0.2934 - val_acc: 0.8832 - val_binary_crossentropy: 0.2934\n",
      "Epoch 4/20\n",
      " - 5s - loss: 0.1466 - acc: 0.9500 - binary_crossentropy: 0.1466 - val_loss: 0.3286 - val_acc: 0.8734 - val_binary_crossentropy: 0.3286\n",
      "Epoch 5/20\n",
      " - 5s - loss: 0.1208 - acc: 0.9597 - binary_crossentropy: 0.1208 - val_loss: 0.3423 - val_acc: 0.8739 - val_binary_crossentropy: 0.3423\n",
      "Epoch 6/20\n",
      " - 8s - loss: 0.0998 - acc: 0.9688 - binary_crossentropy: 0.0998 - val_loss: 0.3737 - val_acc: 0.8706 - val_binary_crossentropy: 0.3737\n",
      "Epoch 7/20\n",
      " - 8s - loss: 0.0833 - acc: 0.9746 - binary_crossentropy: 0.0833 - val_loss: 0.4134 - val_acc: 0.8661 - val_binary_crossentropy: 0.4134\n",
      "Epoch 8/20\n",
      " - 6s - loss: 0.0709 - acc: 0.9798 - binary_crossentropy: 0.0709 - val_loss: 0.4544 - val_acc: 0.8624 - val_binary_crossentropy: 0.4544\n",
      "Epoch 9/20\n",
      " - 8s - loss: 0.0570 - acc: 0.9851 - binary_crossentropy: 0.0570 - val_loss: 0.4982 - val_acc: 0.8606 - val_binary_crossentropy: 0.4982\n",
      "Epoch 10/20\n",
      " - 7s - loss: 0.0482 - acc: 0.9884 - binary_crossentropy: 0.0482 - val_loss: 0.5482 - val_acc: 0.8575 - val_binary_crossentropy: 0.5482\n",
      "Epoch 11/20\n",
      " - 6s - loss: 0.0382 - acc: 0.9924 - binary_crossentropy: 0.0382 - val_loss: 0.5995 - val_acc: 0.8553 - val_binary_crossentropy: 0.5995\n",
      "Epoch 12/20\n",
      " - 5s - loss: 0.0300 - acc: 0.9949 - binary_crossentropy: 0.0300 - val_loss: 0.6478 - val_acc: 0.8539 - val_binary_crossentropy: 0.6478\n",
      "Epoch 13/20\n",
      " - 5s - loss: 0.0240 - acc: 0.9964 - binary_crossentropy: 0.0240 - val_loss: 0.7074 - val_acc: 0.8524 - val_binary_crossentropy: 0.7074\n",
      "Epoch 14/20\n",
      " - 10s - loss: 0.0181 - acc: 0.9979 - binary_crossentropy: 0.0181 - val_loss: 0.7575 - val_acc: 0.8508 - val_binary_crossentropy: 0.7575\n",
      "Epoch 15/20\n",
      " - 5s - loss: 0.0138 - acc: 0.9988 - binary_crossentropy: 0.0138 - val_loss: 0.7865 - val_acc: 0.8493 - val_binary_crossentropy: 0.7865\n",
      "Epoch 16/20\n",
      " - 5s - loss: 0.0105 - acc: 0.9993 - binary_crossentropy: 0.0105 - val_loss: 0.8344 - val_acc: 0.8488 - val_binary_crossentropy: 0.8344\n",
      "Epoch 17/20\n",
      " - 7s - loss: 0.0082 - acc: 0.9995 - binary_crossentropy: 0.0082 - val_loss: 0.8674 - val_acc: 0.8488 - val_binary_crossentropy: 0.8674\n",
      "Epoch 18/20\n",
      " - 10s - loss: 0.0063 - acc: 0.9998 - binary_crossentropy: 0.0063 - val_loss: 0.9042 - val_acc: 0.8474 - val_binary_crossentropy: 0.9042\n",
      "Epoch 19/20\n",
      " - 7s - loss: 0.0049 - acc: 0.9999 - binary_crossentropy: 0.0049 - val_loss: 0.9381 - val_acc: 0.8482 - val_binary_crossentropy: 0.9381\n",
      "Epoch 20/20\n",
      " - 6s - loss: 0.0039 - acc: 1.0000 - binary_crossentropy: 0.0039 - val_loss: 0.9670 - val_acc: 0.8476 - val_binary_crossentropy: 0.9670\n"
     ]
    }
   ],
   "source": [
    "baseline_history = baseline_model.fit(train_data,\n",
    "                                      train_labels,\n",
    "                                      epochs=20,\n",
    "                                      batch_size=512,\n",
    "                                      validation_data=(test_data, test_labels),\n",
    "                                      verbose=2)"
   ]
  },
  {
   "cell_type": "markdown",
   "metadata": {},
   "source": [
    "#### smaller modelの構築"
   ]
  },
  {
   "cell_type": "code",
   "execution_count": 8,
   "metadata": {
    "ExecuteTime": {
     "end_time": "2019-06-03T07:23:49.019163Z",
     "start_time": "2019-06-03T07:23:47.893383Z"
    }
   },
   "outputs": [
    {
     "name": "stdout",
     "output_type": "stream",
     "text": [
      "_________________________________________________________________\n",
      "Layer (type)                 Output Shape              Param #   \n",
      "=================================================================\n",
      "dense_3 (Dense)              (None, 4)                 40004     \n",
      "_________________________________________________________________\n",
      "dense_4 (Dense)              (None, 4)                 20        \n",
      "_________________________________________________________________\n",
      "dense_5 (Dense)              (None, 1)                 5         \n",
      "=================================================================\n",
      "Total params: 40,029\n",
      "Trainable params: 40,029\n",
      "Non-trainable params: 0\n",
      "_________________________________________________________________\n"
     ]
    }
   ],
   "source": [
    "smaller_model = keras.Sequential([\n",
    "    keras.layers.Dense(4, activation=tf.nn.relu, input_shape=(NUM_WORDS,)),\n",
    "    keras.layers.Dense(4, activation=tf.nn.relu),\n",
    "    keras.layers.Dense(1, activation=tf.nn.sigmoid)\n",
    "])\n",
    "\n",
    "smaller_model.compile(optimizer='adam',\n",
    "                loss='binary_crossentropy',\n",
    "                metrics=['accuracy', 'binary_crossentropy'])\n",
    "\n",
    "smaller_model.summary()"
   ]
  },
  {
   "cell_type": "code",
   "execution_count": 9,
   "metadata": {
    "ExecuteTime": {
     "end_time": "2019-06-03T07:25:32.329596Z",
     "start_time": "2019-06-03T07:23:49.022031Z"
    }
   },
   "outputs": [
    {
     "name": "stdout",
     "output_type": "stream",
     "text": [
      "Train on 25000 samples, validate on 25000 samples\n",
      "Epoch 1/20\n",
      " - 6s - loss: 0.6063 - acc: 0.7471 - binary_crossentropy: 0.6063 - val_loss: 0.5000 - val_acc: 0.8500 - val_binary_crossentropy: 0.5000\n",
      "Epoch 2/20\n",
      " - 6s - loss: 0.3830 - acc: 0.8878 - binary_crossentropy: 0.3830 - val_loss: 0.3443 - val_acc: 0.8814 - val_binary_crossentropy: 0.3443\n",
      "Epoch 3/20\n",
      " - 4s - loss: 0.2635 - acc: 0.9179 - binary_crossentropy: 0.2635 - val_loss: 0.2988 - val_acc: 0.8883 - val_binary_crossentropy: 0.2988\n",
      "Epoch 4/20\n",
      " - 5s - loss: 0.2111 - acc: 0.9326 - binary_crossentropy: 0.2111 - val_loss: 0.2860 - val_acc: 0.8880 - val_binary_crossentropy: 0.2860\n",
      "Epoch 5/20\n",
      " - 5s - loss: 0.1802 - acc: 0.9420 - binary_crossentropy: 0.1802 - val_loss: 0.2849 - val_acc: 0.8870 - val_binary_crossentropy: 0.2849\n",
      "Epoch 6/20\n",
      " - 6s - loss: 0.1586 - acc: 0.9497 - binary_crossentropy: 0.1586 - val_loss: 0.2900 - val_acc: 0.8846 - val_binary_crossentropy: 0.2900\n",
      "Epoch 7/20\n",
      " - 5s - loss: 0.1405 - acc: 0.9572 - binary_crossentropy: 0.1405 - val_loss: 0.2974 - val_acc: 0.8831 - val_binary_crossentropy: 0.2974\n",
      "Epoch 8/20\n",
      " - 5s - loss: 0.1262 - acc: 0.9618 - binary_crossentropy: 0.1262 - val_loss: 0.3094 - val_acc: 0.8797 - val_binary_crossentropy: 0.3094\n",
      "Epoch 9/20\n",
      " - 5s - loss: 0.1139 - acc: 0.9674 - binary_crossentropy: 0.1139 - val_loss: 0.3277 - val_acc: 0.8755 - val_binary_crossentropy: 0.3277\n",
      "Epoch 10/20\n",
      " - 6s - loss: 0.1037 - acc: 0.9719 - binary_crossentropy: 0.1037 - val_loss: 0.3367 - val_acc: 0.8750 - val_binary_crossentropy: 0.3367\n",
      "Epoch 11/20\n",
      " - 7s - loss: 0.0941 - acc: 0.9748 - binary_crossentropy: 0.0941 - val_loss: 0.3536 - val_acc: 0.8715 - val_binary_crossentropy: 0.3536\n",
      "Epoch 12/20\n",
      " - 4s - loss: 0.0858 - acc: 0.9772 - binary_crossentropy: 0.0858 - val_loss: 0.3694 - val_acc: 0.8700 - val_binary_crossentropy: 0.3694\n",
      "Epoch 13/20\n",
      " - 5s - loss: 0.0781 - acc: 0.9810 - binary_crossentropy: 0.0781 - val_loss: 0.3874 - val_acc: 0.8680 - val_binary_crossentropy: 0.3874\n",
      "Epoch 14/20\n",
      " - 6s - loss: 0.0710 - acc: 0.9835 - binary_crossentropy: 0.0710 - val_loss: 0.4065 - val_acc: 0.8659 - val_binary_crossentropy: 0.4065\n",
      "Epoch 15/20\n",
      " - 5s - loss: 0.0649 - acc: 0.9862 - binary_crossentropy: 0.0649 - val_loss: 0.4256 - val_acc: 0.8634 - val_binary_crossentropy: 0.4256\n",
      "Epoch 16/20\n",
      " - 4s - loss: 0.0590 - acc: 0.9876 - binary_crossentropy: 0.0590 - val_loss: 0.4402 - val_acc: 0.8636 - val_binary_crossentropy: 0.4402\n",
      "Epoch 17/20\n",
      " - 5s - loss: 0.0527 - acc: 0.9900 - binary_crossentropy: 0.0527 - val_loss: 0.4618 - val_acc: 0.8608 - val_binary_crossentropy: 0.4618\n",
      "Epoch 18/20\n",
      " - 6s - loss: 0.0474 - acc: 0.9917 - binary_crossentropy: 0.0474 - val_loss: 0.4832 - val_acc: 0.8597 - val_binary_crossentropy: 0.4832\n",
      "Epoch 19/20\n",
      " - 5s - loss: 0.0427 - acc: 0.9930 - binary_crossentropy: 0.0427 - val_loss: 0.5000 - val_acc: 0.8587 - val_binary_crossentropy: 0.5000\n",
      "Epoch 20/20\n",
      " - 4s - loss: 0.0382 - acc: 0.9940 - binary_crossentropy: 0.0382 - val_loss: 0.5237 - val_acc: 0.8578 - val_binary_crossentropy: 0.5237\n"
     ]
    }
   ],
   "source": [
    "smaller_history = smaller_model.fit(train_data,\n",
    "                                    train_labels,\n",
    "                                    epochs=20,\n",
    "                                    batch_size=512,\n",
    "                                    validation_data=(test_data, test_labels),\n",
    "                                    verbose=2)"
   ]
  },
  {
   "cell_type": "markdown",
   "metadata": {},
   "source": [
    "#### bigger modelの構築"
   ]
  },
  {
   "cell_type": "code",
   "execution_count": 10,
   "metadata": {
    "ExecuteTime": {
     "end_time": "2019-06-03T07:25:35.652670Z",
     "start_time": "2019-06-03T07:25:32.386597Z"
    }
   },
   "outputs": [
    {
     "name": "stdout",
     "output_type": "stream",
     "text": [
      "_________________________________________________________________\n",
      "Layer (type)                 Output Shape              Param #   \n",
      "=================================================================\n",
      "dense_6 (Dense)              (None, 512)               5120512   \n",
      "_________________________________________________________________\n",
      "dense_7 (Dense)              (None, 512)               262656    \n",
      "_________________________________________________________________\n",
      "dense_8 (Dense)              (None, 1)                 513       \n",
      "=================================================================\n",
      "Total params: 5,383,681\n",
      "Trainable params: 5,383,681\n",
      "Non-trainable params: 0\n",
      "_________________________________________________________________\n"
     ]
    }
   ],
   "source": [
    "bigger_model = keras.models.Sequential([\n",
    "    keras.layers.Dense(512, activation=tf.nn.relu, input_shape=(NUM_WORDS,)),\n",
    "    keras.layers.Dense(512, activation=tf.nn.relu),\n",
    "    keras.layers.Dense(1, activation=tf.nn.sigmoid)\n",
    "])\n",
    "\n",
    "bigger_model.compile(optimizer='adam',\n",
    "                     loss='binary_crossentropy',\n",
    "                     metrics=['accuracy','binary_crossentropy'])\n",
    "\n",
    "bigger_model.summary()"
   ]
  },
  {
   "cell_type": "code",
   "execution_count": 11,
   "metadata": {
    "ExecuteTime": {
     "end_time": "2019-06-03T07:33:13.057667Z",
     "start_time": "2019-06-03T07:25:35.656187Z"
    }
   },
   "outputs": [
    {
     "name": "stdout",
     "output_type": "stream",
     "text": [
      "Train on 25000 samples, validate on 25000 samples\n",
      "Epoch 1/20\n",
      " - 22s - loss: 0.3425 - acc: 0.8545 - binary_crossentropy: 0.3425 - val_loss: 0.3046 - val_acc: 0.8752 - val_binary_crossentropy: 0.3046\n",
      "Epoch 2/20\n",
      " - 23s - loss: 0.1414 - acc: 0.9488 - binary_crossentropy: 0.1414 - val_loss: 0.3328 - val_acc: 0.8736 - val_binary_crossentropy: 0.3328\n",
      "Epoch 3/20\n",
      " - 23s - loss: 0.0444 - acc: 0.9868 - binary_crossentropy: 0.0444 - val_loss: 0.4505 - val_acc: 0.8684 - val_binary_crossentropy: 0.4505\n",
      "Epoch 4/20\n",
      " - 25s - loss: 0.0062 - acc: 0.9989 - binary_crossentropy: 0.0062 - val_loss: 0.6059 - val_acc: 0.8670 - val_binary_crossentropy: 0.6059\n",
      "Epoch 5/20\n",
      " - 22s - loss: 8.1541e-04 - acc: 1.0000 - binary_crossentropy: 8.1541e-04 - val_loss: 0.7000 - val_acc: 0.8666 - val_binary_crossentropy: 0.7000\n",
      "Epoch 6/20\n",
      " - 22s - loss: 6.5697e-04 - acc: 1.0000 - binary_crossentropy: 6.5697e-04 - val_loss: 0.7219 - val_acc: 0.8693 - val_binary_crossentropy: 0.7219\n",
      "Epoch 7/20\n",
      " - 22s - loss: 1.4529e-04 - acc: 1.0000 - binary_crossentropy: 1.4529e-04 - val_loss: 0.7500 - val_acc: 0.8696 - val_binary_crossentropy: 0.7500\n",
      "Epoch 8/20\n",
      " - 23s - loss: 9.5298e-05 - acc: 1.0000 - binary_crossentropy: 9.5298e-05 - val_loss: 0.7720 - val_acc: 0.8697 - val_binary_crossentropy: 0.7720\n",
      "Epoch 9/20\n",
      " - 22s - loss: 7.1567e-05 - acc: 1.0000 - binary_crossentropy: 7.1567e-05 - val_loss: 0.7883 - val_acc: 0.8694 - val_binary_crossentropy: 0.7883\n",
      "Epoch 10/20\n",
      " - 22s - loss: 5.6497e-05 - acc: 1.0000 - binary_crossentropy: 5.6497e-05 - val_loss: 0.8024 - val_acc: 0.8695 - val_binary_crossentropy: 0.8024\n",
      "Epoch 11/20\n",
      " - 25s - loss: 4.5735e-05 - acc: 1.0000 - binary_crossentropy: 4.5735e-05 - val_loss: 0.8147 - val_acc: 0.8697 - val_binary_crossentropy: 0.8147\n",
      "Epoch 12/20\n",
      " - 22s - loss: 3.7954e-05 - acc: 1.0000 - binary_crossentropy: 3.7954e-05 - val_loss: 0.8253 - val_acc: 0.8695 - val_binary_crossentropy: 0.8253\n",
      "Epoch 13/20\n",
      " - 25s - loss: 3.1878e-05 - acc: 1.0000 - binary_crossentropy: 3.1878e-05 - val_loss: 0.8348 - val_acc: 0.8697 - val_binary_crossentropy: 0.8348\n",
      "Epoch 14/20\n",
      " - 22s - loss: 2.7205e-05 - acc: 1.0000 - binary_crossentropy: 2.7205e-05 - val_loss: 0.8440 - val_acc: 0.8695 - val_binary_crossentropy: 0.8440\n",
      "Epoch 15/20\n",
      " - 22s - loss: 2.3433e-05 - acc: 1.0000 - binary_crossentropy: 2.3433e-05 - val_loss: 0.8518 - val_acc: 0.8700 - val_binary_crossentropy: 0.8518\n",
      "Epoch 16/20\n",
      " - 24s - loss: 2.0421e-05 - acc: 1.0000 - binary_crossentropy: 2.0421e-05 - val_loss: 0.8597 - val_acc: 0.8696 - val_binary_crossentropy: 0.8597\n",
      "Epoch 17/20\n",
      " - 24s - loss: 1.7881e-05 - acc: 1.0000 - binary_crossentropy: 1.7881e-05 - val_loss: 0.8668 - val_acc: 0.8698 - val_binary_crossentropy: 0.8668\n",
      "Epoch 18/20\n",
      " - 22s - loss: 1.5774e-05 - acc: 1.0000 - binary_crossentropy: 1.5774e-05 - val_loss: 0.8735 - val_acc: 0.8700 - val_binary_crossentropy: 0.8735\n",
      "Epoch 19/20\n",
      " - 21s - loss: 1.4005e-05 - acc: 1.0000 - binary_crossentropy: 1.4005e-05 - val_loss: 0.8796 - val_acc: 0.8701 - val_binary_crossentropy: 0.8796\n",
      "Epoch 20/20\n",
      " - 22s - loss: 1.2505e-05 - acc: 1.0000 - binary_crossentropy: 1.2505e-05 - val_loss: 0.8859 - val_acc: 0.8701 - val_binary_crossentropy: 0.8859\n"
     ]
    }
   ],
   "source": [
    "bigger_history = bigger_model.fit(train_data, train_labels,\n",
    "                                  epochs=20,\n",
    "                                  batch_size=512,\n",
    "                                  validation_data=(test_data, test_labels),\n",
    "                                  verbose=2)"
   ]
  },
  {
   "cell_type": "markdown",
   "metadata": {},
   "source": [
    "#### 訓練時と検証時の損失をグラフにする"
   ]
  },
  {
   "cell_type": "code",
   "execution_count": 12,
   "metadata": {
    "ExecuteTime": {
     "end_time": "2019-06-03T07:33:14.946083Z",
     "start_time": "2019-06-03T07:33:13.117490Z"
    }
   },
   "outputs": [
    {
     "data": {
      "image/png": "[encoded data removed]",
      "text/plain": [
       "<Figure size 1152x720 with 1 Axes>"
      ]
     },
     "metadata": {
      "needs_background": "light"
     },
     "output_type": "display_data"
    }
   ],
   "source": [
    "def plot_history(histories, key='binary_crossentropy'):\n",
    "    plt.figure(figsize=(16, 10))\n",
    "\n",
    "    for name, history in histories:\n",
    "        val = plt.plot(history.epoch, history.history['val_'+key],\n",
    "                       '--', label=name.title()+' Val')\n",
    "        plt.plot(history.epoch, history.history[key], color=val[0].get_color(),\n",
    "                 label=name.title()+' Train')\n",
    "\n",
    "    plt.xlabel('Epochs')\n",
    "    plt.ylabel(key.replace('_', ' ').title())\n",
    "    plt.legend()\n",
    "\n",
    "    plt.xlim([0, max(history.epoch)])\n",
    "\n",
    "\n",
    "plot_history([('baseline', baseline_history),\n",
    "              ('smaller', smaller_history),\n",
    "              ('bigger', bigger_history)])"
   ]
  },
  {
   "cell_type": "markdown",
   "metadata": {},
   "source": [
    "bigger modelでは、1エポックで過学習が始まり、その度合いも強いことが確認できる。ネットワークの容量が大きいほど、訓練用データをモデル化するスピードが速くなるが、過学習しやすくなる。"
   ]
  },
  {
   "cell_type": "markdown",
   "metadata": {},
   "source": [
    "### Strategies"
   ]
  },
  {
   "cell_type": "markdown",
   "metadata": {},
   "source": [
    "#### 重みの正則化(weight regulation)を加える\n",
    "\n",
    "過学習を緩和するための一般的な手法として、重みが小さい値を取ることで重み値の分布が整然(正則)となるように制約を与える。これを重みの正則化と呼ばれる。  \n",
    "重みの大きさに関連するコストには２つの種類がある。\n",
    "\n",
    "- L1正則化  \n",
    "重み係数の絶対値に比例するコストを加える\n",
    "\n",
    "- L2正則化  \n",
    "重み係数の二乗に比例するコストを加える\n",
    "\n",
    "tf.kerasでは、重みの正則化をするために、重み正則化のインスタンスをキーワード引数としてそうに加える。"
   ]
  },
  {
   "cell_type": "code",
   "execution_count": 13,
   "metadata": {
    "ExecuteTime": {
     "end_time": "2019-06-03T07:35:27.559063Z",
     "start_time": "2019-06-03T07:33:14.954617Z"
    }
   },
   "outputs": [
    {
     "name": "stdout",
     "output_type": "stream",
     "text": [
      "Train on 25000 samples, validate on 25000 samples\n",
      "Epoch 1/20\n",
      " - 9s - loss: 0.5074 - acc: 0.8153 - binary_crossentropy: 0.4661 - val_loss: 0.3675 - val_acc: 0.8776 - val_binary_crossentropy: 0.3229\n",
      "Epoch 2/20\n",
      " - 8s - loss: 0.2938 - acc: 0.9095 - binary_crossentropy: 0.2444 - val_loss: 0.3370 - val_acc: 0.8867 - val_binary_crossentropy: 0.2843\n",
      "Epoch 3/20\n",
      " - 7s - loss: 0.2458 - acc: 0.9324 - binary_crossentropy: 0.1905 - val_loss: 0.3444 - val_acc: 0.8852 - val_binary_crossentropy: 0.2873\n",
      "Epoch 4/20\n",
      " - 6s - loss: 0.2258 - acc: 0.9414 - binary_crossentropy: 0.1668 - val_loss: 0.3667 - val_acc: 0.8768 - val_binary_crossentropy: 0.3062\n",
      "Epoch 5/20\n",
      " - 5s - loss: 0.2111 - acc: 0.9493 - binary_crossentropy: 0.1495 - val_loss: 0.3780 - val_acc: 0.8759 - val_binary_crossentropy: 0.3154\n",
      "Epoch 6/20\n",
      " - 5s - loss: 0.2003 - acc: 0.9542 - binary_crossentropy: 0.1367 - val_loss: 0.3930 - val_acc: 0.8732 - val_binary_crossentropy: 0.3287\n",
      "Epoch 7/20\n",
      " - 6s - loss: 0.1942 - acc: 0.9562 - binary_crossentropy: 0.1292 - val_loss: 0.4154 - val_acc: 0.8699 - val_binary_crossentropy: 0.3497\n",
      "Epoch 8/20\n",
      " - 5s - loss: 0.1892 - acc: 0.9577 - binary_crossentropy: 0.1228 - val_loss: 0.4294 - val_acc: 0.8684 - val_binary_crossentropy: 0.3625\n",
      "Epoch 9/20\n",
      " - 6s - loss: 0.1849 - acc: 0.9585 - binary_crossentropy: 0.1172 - val_loss: 0.4460 - val_acc: 0.8634 - val_binary_crossentropy: 0.3777\n",
      "Epoch 10/20\n",
      " - 7s - loss: 0.1807 - acc: 0.9614 - binary_crossentropy: 0.1121 - val_loss: 0.4567 - val_acc: 0.8645 - val_binary_crossentropy: 0.3876\n",
      "Epoch 11/20\n",
      " - 5s - loss: 0.1761 - acc: 0.9639 - binary_crossentropy: 0.1067 - val_loss: 0.4688 - val_acc: 0.8630 - val_binary_crossentropy: 0.3990\n",
      "Epoch 12/20\n",
      " - 9s - loss: 0.1736 - acc: 0.9635 - binary_crossentropy: 0.1035 - val_loss: 0.4835 - val_acc: 0.8612 - val_binary_crossentropy: 0.4131\n",
      "Epoch 13/20\n",
      " - 8s - loss: 0.1701 - acc: 0.9663 - binary_crossentropy: 0.0993 - val_loss: 0.4942 - val_acc: 0.8618 - val_binary_crossentropy: 0.4233\n",
      "Epoch 14/20\n",
      " - 7s - loss: 0.1688 - acc: 0.9662 - binary_crossentropy: 0.0974 - val_loss: 0.5129 - val_acc: 0.8567 - val_binary_crossentropy: 0.4412\n",
      "Epoch 15/20\n",
      " - 5s - loss: 0.1696 - acc: 0.9652 - binary_crossentropy: 0.0977 - val_loss: 0.5266 - val_acc: 0.8588 - val_binary_crossentropy: 0.4541\n",
      "Epoch 16/20\n",
      " - 8s - loss: 0.1669 - acc: 0.9668 - binary_crossentropy: 0.0936 - val_loss: 0.5328 - val_acc: 0.8545 - val_binary_crossentropy: 0.4594\n",
      "Epoch 17/20\n",
      " - 5s - loss: 0.1640 - acc: 0.9677 - binary_crossentropy: 0.0909 - val_loss: 0.5350 - val_acc: 0.8571 - val_binary_crossentropy: 0.4618\n",
      "Epoch 18/20\n",
      " - 5s - loss: 0.1628 - acc: 0.9690 - binary_crossentropy: 0.0891 - val_loss: 0.5698 - val_acc: 0.8523 - val_binary_crossentropy: 0.4959\n",
      "Epoch 19/20\n",
      " - 5s - loss: 0.1611 - acc: 0.9680 - binary_crossentropy: 0.0872 - val_loss: 0.5538 - val_acc: 0.8543 - val_binary_crossentropy: 0.4796\n",
      "Epoch 20/20\n",
      " - 5s - loss: 0.1539 - acc: 0.9732 - binary_crossentropy: 0.0798 - val_loss: 0.5632 - val_acc: 0.8549 - val_binary_crossentropy: 0.4896\n"
     ]
    }
   ],
   "source": [
    "l2_model = keras.models.Sequential([\n",
    "    keras.layers.Dense(16, kernel_regularizer=keras.regularizers.l2(0.001),\n",
    "                       activation=tf.nn.relu, input_shape=(NUM_WORDS,)),\n",
    "    keras.layers.Dense(16, kernel_regularizer=keras.regularizers.l2(0.001),\n",
    "                       activation=tf.nn.relu),\n",
    "    keras.layers.Dense(1, activation=tf.nn.sigmoid)\n",
    "])\n",
    "\n",
    "l2_model.compile(optimizer='adam',\n",
    "                 loss='binary_crossentropy',\n",
    "                 metrics=['accuracy', 'binary_crossentropy'])\n",
    "\n",
    "l2_model_history = l2_model.fit(train_data, train_labels,\n",
    "                                epochs=20,\n",
    "                                batch_size=512,\n",
    "                                validation_data=(test_data, test_labels),\n",
    "                                verbose=2)"
   ]
  },
  {
   "cell_type": "code",
   "execution_count": 14,
   "metadata": {
    "ExecuteTime": {
     "end_time": "2019-06-03T07:35:28.481708Z",
     "start_time": "2019-06-03T07:35:27.632417Z"
    }
   },
   "outputs": [
    {
     "data": {
      "image/png": "[encoded data removed]",
      "text/plain": [
       "<Figure size 1152x720 with 1 Axes>"
      ]
     },
     "metadata": {
      "needs_background": "light"
     },
     "output_type": "display_data"
    }
   ],
   "source": [
    "plot_history([('baseline', baseline_history),\n",
    "              ('l2', l2_model_history)])"
   ]
  },
  {
   "cell_type": "markdown",
   "metadata": {},
   "source": [
    "l2(0.001)というのは、層の重み行列の係数全てのに対して「0.001 * 重み係数の値 ** 2」を損失合計に加えることを意味する。\n",
    "上記の通り、l2正則化ありのモデルは比較基準のモデルに比べて過学習しにくくになっている。"
   ]
  },
  {
   "cell_type": "markdown",
   "metadata": {},
   "source": [
    "#### ドロップアウトを追加する\n",
    "\n",
    "ドロップアウトは、ニューラルネットワークの正則化テクニックとして最もよく使われる手法。ドロップアウトは層に適用するもので、訓練時に層から出力された特徴量に対してランダムに「ドロップアウト（つまりゼロ化）」を行うものである。例えば、ある層が訓練時にある入力サンプルに対して、普通は[0.2, 0.5, 1.3, 0.8, 1.1] というベクトルを出力するとする。ここでドロップアウトを適用すると、このベクトルは例えば[0, 0.5, 1.3, 0, 1.1]のようにランダムに散らばったいくつかのゼロを含むようになる。「ドロップアウト率」はゼロ化される特徴の割合で、通常は0.2から0.5の間に設定する。テスト時は、どのユニットもドロップアウトされず、代わりに出力値がドロップアウト率と同じ比率でスケールダウンされる。これは、訓練時に比べてたくさんのユニットがアクティブであることに対してバランスをとるためである。\n",
    "\n",
    "tf.kerasでは、Dropout層を使ってドロップアウトをネットワークに導入可能。ドロップアウト層は、その直前の層の出力に対してドロップアウトを適用する。"
   ]
  },
  {
   "cell_type": "code",
   "execution_count": 15,
   "metadata": {
    "ExecuteTime": {
     "end_time": "2019-06-03T07:38:01.617611Z",
     "start_time": "2019-06-03T07:35:28.486210Z"
    }
   },
   "outputs": [
    {
     "name": "stdout",
     "output_type": "stream",
     "text": [
      "WARNING:tensorflow:From /Users/yusuke-saruya/.pyenv/versions/anaconda3-2018.12/lib/python3.7/site-packages/tensorflow/python/keras/layers/core.py:143: calling dropout (from tensorflow.python.ops.nn_ops) with keep_prob is deprecated and will be removed in a future version.\n",
      "Instructions for updating:\n",
      "Please use `rate` instead of `keep_prob`. Rate should be set to `rate = 1 - keep_prob`.\n",
      "Train on 25000 samples, validate on 25000 samples\n",
      "Epoch 1/20\n",
      " - 7s - loss: 0.6368 - acc: 0.6250 - binary_crossentropy: 0.6368 - val_loss: 0.4988 - val_acc: 0.8534 - val_binary_crossentropy: 0.4988\n",
      "Epoch 2/20\n",
      " - 6s - loss: 0.4872 - acc: 0.7690 - binary_crossentropy: 0.4872 - val_loss: 0.3657 - val_acc: 0.8813 - val_binary_crossentropy: 0.3657\n",
      "Epoch 3/20\n",
      " - 5s - loss: 0.3798 - acc: 0.8471 - binary_crossentropy: 0.3798 - val_loss: 0.3013 - val_acc: 0.8863 - val_binary_crossentropy: 0.3013\n",
      "Epoch 4/20\n",
      " - 6s - loss: 0.3098 - acc: 0.8934 - binary_crossentropy: 0.3098 - val_loss: 0.2734 - val_acc: 0.8911 - val_binary_crossentropy: 0.2734\n",
      "Epoch 5/20\n",
      " - 7s - loss: 0.2596 - acc: 0.9158 - binary_crossentropy: 0.2596 - val_loss: 0.2706 - val_acc: 0.8903 - val_binary_crossentropy: 0.2706\n",
      "Epoch 6/20\n",
      " - 7s - loss: 0.2184 - acc: 0.9281 - binary_crossentropy: 0.2184 - val_loss: 0.2785 - val_acc: 0.8884 - val_binary_crossentropy: 0.2785\n",
      "Epoch 7/20\n",
      " - 7s - loss: 0.1904 - acc: 0.9408 - binary_crossentropy: 0.1904 - val_loss: 0.2986 - val_acc: 0.8864 - val_binary_crossentropy: 0.2986\n",
      "Epoch 8/20\n",
      " - 6s - loss: 0.1706 - acc: 0.9467 - binary_crossentropy: 0.1706 - val_loss: 0.3062 - val_acc: 0.8838 - val_binary_crossentropy: 0.3062\n",
      "Epoch 9/20\n",
      " - 5s - loss: 0.1504 - acc: 0.9526 - binary_crossentropy: 0.1504 - val_loss: 0.3290 - val_acc: 0.8816 - val_binary_crossentropy: 0.3290\n",
      "Epoch 10/20\n",
      " - 6s - loss: 0.1355 - acc: 0.9578 - binary_crossentropy: 0.1355 - val_loss: 0.3529 - val_acc: 0.8810 - val_binary_crossentropy: 0.3529\n",
      "Epoch 11/20\n",
      " - 10s - loss: 0.1219 - acc: 0.9625 - binary_crossentropy: 0.1219 - val_loss: 0.3522 - val_acc: 0.8790 - val_binary_crossentropy: 0.3522\n",
      "Epoch 12/20\n",
      " - 11s - loss: 0.1128 - acc: 0.9658 - binary_crossentropy: 0.1128 - val_loss: 0.3926 - val_acc: 0.8773 - val_binary_crossentropy: 0.3926\n",
      "Epoch 13/20\n",
      " - 10s - loss: 0.1024 - acc: 0.9678 - binary_crossentropy: 0.1024 - val_loss: 0.4182 - val_acc: 0.8767 - val_binary_crossentropy: 0.4182\n",
      "Epoch 14/20\n",
      " - 9s - loss: 0.0962 - acc: 0.9707 - binary_crossentropy: 0.0962 - val_loss: 0.4168 - val_acc: 0.8764 - val_binary_crossentropy: 0.4168\n",
      "Epoch 15/20\n",
      " - 11s - loss: 0.0887 - acc: 0.9719 - binary_crossentropy: 0.0887 - val_loss: 0.4538 - val_acc: 0.8759 - val_binary_crossentropy: 0.4538\n",
      "Epoch 16/20\n",
      " - 9s - loss: 0.0821 - acc: 0.9736 - binary_crossentropy: 0.0821 - val_loss: 0.4751 - val_acc: 0.8765 - val_binary_crossentropy: 0.4751\n",
      "Epoch 17/20\n",
      " - 6s - loss: 0.0810 - acc: 0.9730 - binary_crossentropy: 0.0810 - val_loss: 0.4835 - val_acc: 0.8762 - val_binary_crossentropy: 0.4835\n",
      "Epoch 18/20\n",
      " - 6s - loss: 0.0736 - acc: 0.9762 - binary_crossentropy: 0.0736 - val_loss: 0.5197 - val_acc: 0.8763 - val_binary_crossentropy: 0.5197\n",
      "Epoch 19/20\n",
      " - 8s - loss: 0.0716 - acc: 0.9764 - binary_crossentropy: 0.0716 - val_loss: 0.5277 - val_acc: 0.8758 - val_binary_crossentropy: 0.5277\n",
      "Epoch 20/20\n",
      " - 7s - loss: 0.0698 - acc: 0.9767 - binary_crossentropy: 0.0698 - val_loss: 0.5410 - val_acc: 0.8750 - val_binary_crossentropy: 0.5410\n"
     ]
    }
   ],
   "source": [
    "dpt_model = keras.models.Sequential([\n",
    "    keras.layers.Dense(16, activation=tf.nn.relu, input_shape=(NUM_WORDS,)),\n",
    "    keras.layers.Dropout(rate=0.5),\n",
    "    keras.layers.Dense(16, activation=tf.nn.relu),\n",
    "    keras.layers.Dropout(rate=0.5),\n",
    "    keras.layers.Dense(1, activation=tf.nn.sigmoid)\n",
    "])\n",
    "\n",
    "dpt_model.compile(optimizer='adam',\n",
    "                  loss='binary_crossentropy',\n",
    "                  metrics=['accuracy','binary_crossentropy'])\n",
    "\n",
    "dpt_model_history = dpt_model.fit(train_data, train_labels,\n",
    "                                  epochs=20,\n",
    "                                  batch_size=512,\n",
    "                                  validation_data=(test_data, test_labels),\n",
    "                                  verbose=2)"
   ]
  },
  {
   "cell_type": "code",
   "execution_count": 16,
   "metadata": {
    "ExecuteTime": {
     "end_time": "2019-06-03T07:38:02.770501Z",
     "start_time": "2019-06-03T07:38:01.682974Z"
    }
   },
   "outputs": [
    {
     "data": {
      "image/png": "[encoded data removed]",
      "text/plain": [
       "<Figure size 1152x720 with 1 Axes>"
      ]
     },
     "metadata": {
      "needs_background": "light"
     },
     "output_type": "display_data"
    }
   ],
   "source": [
    "plot_history([('baseline', baseline_history),\n",
    "              ('dropout', dpt_model_history)])"
   ]
  },
  {
   "cell_type": "markdown",
   "metadata": {},
   "source": [
    "## 【問題2】Iris（2値分類）をKerasで学習\n",
    "Sprint14で作成したIrisデータセットに対する2値分類をKerasに書き換えてください。"
   ]
  },
  {
   "cell_type": "code",
   "execution_count": 17,
   "metadata": {
    "ExecuteTime": {
     "end_time": "2019-06-03T07:38:03.676161Z",
     "start_time": "2019-06-03T07:38:02.781086Z"
    }
   },
   "outputs": [],
   "source": [
    "# データセットの読み込み\n",
    "dataset_path = \"Iris.csv\"\n",
    "df = pd.read_csv(dataset_path)\n",
    "# データフレームから条件抽出\n",
    "df = df[(df[\"Species\"] == \"Iris-versicolor\") |\n",
    "        (df[\"Species\"] == \"Iris-virginica\")]\n",
    "y = df[\"Species\"]\n",
    "X = df.loc[:, [\"SepalLengthCm\", \"SepalWidthCm\",\n",
    "               \"PetalLengthCm\", \"PetalWidthCm\"]]\n",
    "y = np.array(y)\n",
    "X = np.array(X)\n",
    "# ラベルを数値に変換\n",
    "y[y == 'Iris-versicolor'] = 0\n",
    "y[y == 'Iris-virginica'] = 1\n",
    "y = y.astype(np.int)[:, np.newaxis]\n",
    "\n",
    "# trainとtestに分割\n",
    "X_train, X_test, y_train, y_test = train_test_split(\n",
    "    X, y, test_size=0.2, random_state=0)\n",
    "# さらにtrainとvalに分割\n",
    "X_train, X_val, y_train, y_val = train_test_split(\n",
    "    X_train, y_train, test_size=0.2, random_state=0)\n"
   ]
  },
  {
   "cell_type": "code",
   "execution_count": 18,
   "metadata": {
    "ExecuteTime": {
     "end_time": "2019-06-03T07:38:04.503000Z",
     "start_time": "2019-06-03T07:38:03.963713Z"
    }
   },
   "outputs": [],
   "source": [
    "#モデルの定義\n",
    "model2 = models.Sequential()\n",
    "model2.add(layers.Dense(50, activation='relu', input_shape=(4,)))\n",
    "model2.add(layers.Dense(100, activation='relu'))\n",
    "model2.add(layers.Dense(1, activation='sigmoid'))"
   ]
  },
  {
   "cell_type": "code",
   "execution_count": 19,
   "metadata": {
    "ExecuteTime": {
     "end_time": "2019-06-03T07:38:04.576536Z",
     "start_time": "2019-06-03T07:38:04.514072Z"
    }
   },
   "outputs": [
    {
     "name": "stdout",
     "output_type": "stream",
     "text": [
      "_________________________________________________________________\n",
      "Layer (type)                 Output Shape              Param #   \n",
      "=================================================================\n",
      "dense_15 (Dense)             (None, 50)                250       \n",
      "_________________________________________________________________\n",
      "dense_16 (Dense)             (None, 100)               5100      \n",
      "_________________________________________________________________\n",
      "dense_17 (Dense)             (None, 1)                 101       \n",
      "=================================================================\n",
      "Total params: 5,451\n",
      "Trainable params: 5,451\n",
      "Non-trainable params: 0\n",
      "_________________________________________________________________\n"
     ]
    }
   ],
   "source": [
    "model2.summary()"
   ]
  },
  {
   "cell_type": "code",
   "execution_count": 20,
   "metadata": {
    "ExecuteTime": {
     "end_time": "2019-06-03T07:38:07.613463Z",
     "start_time": "2019-06-03T07:38:04.588183Z"
    }
   },
   "outputs": [],
   "source": [
    "#モデルのコンパイル\n",
    "model2.compile(loss='binary_crossentropy',\n",
    "             optimizer='adam',\n",
    "             metrics=['accuracy'])"
   ]
  },
  {
   "cell_type": "code",
   "execution_count": 21,
   "metadata": {
    "ExecuteTime": {
     "end_time": "2019-06-03T07:38:10.935336Z",
     "start_time": "2019-06-03T07:38:07.618433Z"
    }
   },
   "outputs": [
    {
     "name": "stdout",
     "output_type": "stream",
     "text": [
      "Train on 64 samples, validate on 16 samples\n",
      "Epoch 1/10\n",
      "64/64 [==============================] - 1s 10ms/sample - loss: 0.7208 - acc: 0.5312 - val_loss: 0.6884 - val_acc: 0.3750\n",
      "Epoch 2/10\n",
      "64/64 [==============================] - 0s 497us/sample - loss: 0.6633 - acc: 0.5938 - val_loss: 0.6251 - val_acc: 0.8125\n",
      "Epoch 3/10\n",
      "64/64 [==============================] - 0s 488us/sample - loss: 0.6279 - acc: 0.7656 - val_loss: 0.6452 - val_acc: 0.4375\n",
      "Epoch 4/10\n",
      "64/64 [==============================] - 0s 476us/sample - loss: 0.5921 - acc: 0.5625 - val_loss: 0.6260 - val_acc: 0.4375\n",
      "Epoch 5/10\n",
      "64/64 [==============================] - 0s 409us/sample - loss: 0.5739 - acc: 0.8125 - val_loss: 0.5666 - val_acc: 0.9375\n",
      "Epoch 6/10\n",
      "64/64 [==============================] - 0s 376us/sample - loss: 0.5486 - acc: 0.9062 - val_loss: 0.5687 - val_acc: 0.7500\n",
      "Epoch 7/10\n",
      "64/64 [==============================] - 0s 342us/sample - loss: 0.5233 - acc: 0.8594 - val_loss: 0.5440 - val_acc: 0.8125\n",
      "Epoch 8/10\n",
      "64/64 [==============================] - 0s 371us/sample - loss: 0.5147 - acc: 0.9375 - val_loss: 0.5080 - val_acc: 1.0000\n",
      "Epoch 9/10\n",
      "64/64 [==============================] - 0s 378us/sample - loss: 0.4792 - acc: 0.9062 - val_loss: 0.5433 - val_acc: 0.7500\n",
      "Epoch 10/10\n",
      "64/64 [==============================] - 0s 373us/sample - loss: 0.4711 - acc: 0.8438 - val_loss: 0.4917 - val_acc: 0.8750\n"
     ]
    }
   ],
   "source": [
    "#モデルの学習\n",
    "history = model2.fit(\n",
    "    X_train, \n",
    "    y_train, \n",
    "    epochs=10, \n",
    "    batch_size=10, \n",
    "    validation_data=(X_val, y_val))"
   ]
  },
  {
   "cell_type": "code",
   "execution_count": 22,
   "metadata": {
    "ExecuteTime": {
     "end_time": "2019-06-03T07:38:11.290189Z",
     "start_time": "2019-06-03T07:38:10.938459Z"
    }
   },
   "outputs": [
    {
     "name": "stdout",
     "output_type": "stream",
     "text": [
      "y_pred_proba [0.71321386 0.41730833 0.65616643 0.38068193 0.68679905 0.4954\n",
      " 0.39014587 0.47202536 0.7391943  0.7052245  0.3782349  0.6153983\n",
      " 0.43298686 0.5489451  0.6172418  0.3768617  0.5201214  0.66141504\n",
      " 0.3816927  0.7747123  0.75302315 0.4628295  0.59717584 0.7320779\n",
      " 0.7851143  0.54376316 0.71068674 0.3625421  0.72125286 0.7382962\n",
      " 0.6874473  0.69511104 0.5049065  0.66428727 0.49333066 0.81665444\n",
      " 0.77670574 0.37144864 0.39581752 0.5518111  0.3039437  0.599324\n",
      " 0.6284075  0.30219078 0.3877772  0.4598455  0.80004835 0.9020587\n",
      " 0.34834236 0.39462158 0.37395927 0.7580732  0.6943424  0.8473884\n",
      " 0.75842696 0.6738312  0.41228253 0.731475   0.61532795 0.72030675\n",
      " 0.45617616 0.48444957 0.7500058  0.65858483]\n",
      "y_pred [1 0 1 0 1 0 0 0 1 1 0 1 0 1 1 0 1 1 0 1 1 0 1 1 1 1 1 0 1 1 1 1 1 1 0 1 1\n",
      " 0 0 1 0 1 1 0 0 0 1 1 0 0 0 1 1 1 1 1 0 1 1 1 0 0 1 1]\n"
     ]
    }
   ],
   "source": [
    "y_pred_proba = model2.predict(X_train)[:, 0]\n",
    "\n",
    "# 確率を0, 1に変換\n",
    "y_pred = np.where(y_pred_proba >0.5, 1, 0)\n",
    "\n",
    "print(\"y_pred_proba\", y_pred_proba)\n",
    "print(\"y_pred\", y_pred)"
   ]
  },
  {
   "cell_type": "code",
   "execution_count": 23,
   "metadata": {
    "ExecuteTime": {
     "end_time": "2019-06-03T07:38:11.322056Z",
     "start_time": "2019-06-03T07:38:11.297605Z"
    }
   },
   "outputs": [
    {
     "name": "stdout",
     "output_type": "stream",
     "text": [
      "Test loss: 0.4951624274253845\n",
      "Test accuracy: 0.8\n"
     ]
    }
   ],
   "source": [
    "#モデルの評価\n",
    "scores = model2.evaluate(X_test, y_test, verbose=0)\n",
    "print('Test loss:', scores[0])\n",
    "print('Test accuracy:', scores[1])"
   ]
  },
  {
   "cell_type": "markdown",
   "metadata": {},
   "source": [
    "## 【問題3】Iris（多値分類）をKerasで学習\n",
    "Sprint14で作成したIrisデータセットに対する3値分類をKerasに書き換えてください。\n",
    "\n"
   ]
  },
  {
   "cell_type": "code",
   "execution_count": 24,
   "metadata": {
    "ExecuteTime": {
     "end_time": "2019-06-03T07:38:11.344786Z",
     "start_time": "2019-06-03T07:38:11.325677Z"
    }
   },
   "outputs": [],
   "source": [
    "def onehot(y):\n",
    "    \"\"\"\n",
    "    多クラス分類を行う際のone-hot表現に変換\n",
    "\n",
    "    Parameters\n",
    "    ----------\n",
    "    y : 次の形のndarray, shape (n_samples, )\n",
    "        サンプル\n",
    "\n",
    "    Returns\n",
    "    -------\n",
    "    y_one_hot : 次の形のndarray, shape (n_samples, n_classes)\n",
    "        推定結果\n",
    "    \"\"\"\n",
    "    enc = OneHotEncoder(handle_unknown='ignore', sparse=False)\n",
    "    y_one_hot = enc.fit_transform(y[:, np.newaxis])\n",
    "\n",
    "    return y_one_hot"
   ]
  },
  {
   "cell_type": "code",
   "execution_count": 25,
   "metadata": {
    "ExecuteTime": {
     "end_time": "2019-06-03T07:38:11.387654Z",
     "start_time": "2019-06-03T07:38:11.349422Z"
    }
   },
   "outputs": [],
   "source": [
    "# データセットの読み込み\n",
    "dataset_path = \"Iris.csv\"\n",
    "df = pd.read_csv(dataset_path)\n",
    "# データフレームから条件抽出\n",
    "y = df[\"Species\"]\n",
    "X = df.loc[:, [\"SepalLengthCm\", \"SepalWidthCm\",\n",
    "               \"PetalLengthCm\", \"PetalWidthCm\"]]\n",
    "y = np.array(y)\n",
    "X = np.array(X)\n",
    "# ラベルを数値に変換\n",
    "y[y == 'Iris-versicolor'] = 0\n",
    "y[y == 'Iris-virginica'] = 1\n",
    "y[y == 'Iris-setosa'] = 2  # 追加\n",
    "y = y.astype(np.int)[:, np.newaxis]\n",
    "\n",
    "# 多クラス分類のため、ワンホットエンコーディングする\n",
    "y = onehot(y.reshape(-1))\n",
    "\n",
    "# trainとtestに分割\n",
    "X_train, X_test, y_train, y_test = train_test_split(\n",
    "    X, y, test_size=0.2, random_state=0)\n",
    "# さらにtrainとvalに分割\n",
    "X_train, X_val, y_train, y_val = train_test_split(\n",
    "    X_train, y_train, test_size=0.2, random_state=0)\n"
   ]
  },
  {
   "cell_type": "code",
   "execution_count": 26,
   "metadata": {
    "ExecuteTime": {
     "end_time": "2019-06-03T07:38:11.504891Z",
     "start_time": "2019-06-03T07:38:11.392212Z"
    }
   },
   "outputs": [],
   "source": [
    "#モデルの定義\n",
    "model3 = models.Sequential()\n",
    "model3.add(layers.Dense(50, activation='relu', input_shape=(4,)))\n",
    "model3.add(layers.Dense(100, activation='relu'))\n",
    "model3.add(layers.Dense(3, activation='softmax'))"
   ]
  },
  {
   "cell_type": "code",
   "execution_count": 27,
   "metadata": {
    "ExecuteTime": {
     "end_time": "2019-06-03T07:38:11.520456Z",
     "start_time": "2019-06-03T07:38:11.508012Z"
    }
   },
   "outputs": [
    {
     "name": "stdout",
     "output_type": "stream",
     "text": [
      "_________________________________________________________________\n",
      "Layer (type)                 Output Shape              Param #   \n",
      "=================================================================\n",
      "dense_18 (Dense)             (None, 50)                250       \n",
      "_________________________________________________________________\n",
      "dense_19 (Dense)             (None, 100)               5100      \n",
      "_________________________________________________________________\n",
      "dense_20 (Dense)             (None, 3)                 303       \n",
      "=================================================================\n",
      "Total params: 5,653\n",
      "Trainable params: 5,653\n",
      "Non-trainable params: 0\n",
      "_________________________________________________________________\n"
     ]
    }
   ],
   "source": [
    "model3.summary()"
   ]
  },
  {
   "cell_type": "code",
   "execution_count": 28,
   "metadata": {
    "ExecuteTime": {
     "end_time": "2019-06-03T07:38:11.684344Z",
     "start_time": "2019-06-03T07:38:11.523879Z"
    }
   },
   "outputs": [],
   "source": [
    "#モデルのコンパイル\n",
    "model3.compile(loss='categorical_crossentropy',\n",
    "             optimizer='adam',\n",
    "             metrics=['accuracy'])"
   ]
  },
  {
   "cell_type": "code",
   "execution_count": 29,
   "metadata": {
    "ExecuteTime": {
     "end_time": "2019-06-03T07:38:14.481491Z",
     "start_time": "2019-06-03T07:38:11.686811Z"
    }
   },
   "outputs": [
    {
     "name": "stdout",
     "output_type": "stream",
     "text": [
      "Train on 96 samples, validate on 24 samples\n",
      "Epoch 1/10\n",
      "96/96 [==============================] - 1s 6ms/sample - loss: 1.3432 - acc: 0.2708 - val_loss: 0.9726 - val_acc: 0.3750\n",
      "Epoch 2/10\n",
      "96/96 [==============================] - 0s 338us/sample - loss: 0.9383 - acc: 0.3646 - val_loss: 0.8497 - val_acc: 0.3750\n",
      "Epoch 3/10\n",
      "96/96 [==============================] - 0s 338us/sample - loss: 0.7707 - acc: 0.6250 - val_loss: 0.7107 - val_acc: 0.7083\n",
      "Epoch 4/10\n",
      "96/96 [==============================] - 0s 312us/sample - loss: 0.6958 - acc: 0.6979 - val_loss: 0.6352 - val_acc: 0.7083\n",
      "Epoch 5/10\n",
      "96/96 [==============================] - 0s 349us/sample - loss: 0.5865 - acc: 0.8229 - val_loss: 0.5745 - val_acc: 0.7917\n",
      "Epoch 6/10\n",
      "96/96 [==============================] - 0s 318us/sample - loss: 0.5325 - acc: 0.8646 - val_loss: 0.5248 - val_acc: 0.7083\n",
      "Epoch 7/10\n",
      "96/96 [==============================] - 0s 333us/sample - loss: 0.4856 - acc: 0.7812 - val_loss: 0.4858 - val_acc: 0.7917\n",
      "Epoch 8/10\n",
      "96/96 [==============================] - 0s 366us/sample - loss: 0.4461 - acc: 0.9375 - val_loss: 0.4547 - val_acc: 0.8333\n",
      "Epoch 9/10\n",
      "96/96 [==============================] - 0s 346us/sample - loss: 0.4141 - acc: 0.8854 - val_loss: 0.4280 - val_acc: 0.9167\n",
      "Epoch 10/10\n",
      "96/96 [==============================] - 0s 320us/sample - loss: 0.3805 - acc: 0.9479 - val_loss: 0.4069 - val_acc: 0.9167\n"
     ]
    }
   ],
   "source": [
    "#モデルの学習\n",
    "histroty = model3.fit(\n",
    "    X_train, \n",
    "    y_train, \n",
    "    epochs=10, \n",
    "    batch_size=10, \n",
    "    validation_data=(X_val, y_val))"
   ]
  },
  {
   "cell_type": "code",
   "execution_count": 31,
   "metadata": {
    "ExecuteTime": {
     "end_time": "2019-06-03T07:46:27.063932Z",
     "start_time": "2019-06-03T07:46:27.023058Z"
    }
   },
   "outputs": [
    {
     "name": "stdout",
     "output_type": "stream",
     "text": [
      "30/30 [==============================] - 0s 112us/sample - loss: 0.3802 - acc: 0.9333\n",
      "acc: 93.33%\n"
     ]
    }
   ],
   "source": [
    "#モデルの評価\n",
    "scores = model3.evaluate(X_test, y_test)\n",
    "print(\"%s: %.2f%%\" % (model3.metrics_names[1], scores[1] * 100))"
   ]
  },
  {
   "cell_type": "markdown",
   "metadata": {},
   "source": [
    "## 【問題4】House PricesをKerasで学習\n",
    "Sprint14で作成したHouse Pricesデータセットに対する回帰をKerasに書き換えてください。"
   ]
  },
  {
   "cell_type": "code",
   "execution_count": 150,
   "metadata": {
    "ExecuteTime": {
     "end_time": "2019-06-03T08:36:02.080957Z",
     "start_time": "2019-06-03T08:36:01.954981Z"
    }
   },
   "outputs": [
    {
     "data": {
      "text/html": [
       "<div>\n",
       "<style scoped>\n",
       "    .dataframe tbody tr th:only-of-type {\n",
       "        vertical-align: middle;\n",
       "    }\n",
       "\n",
       "    .dataframe tbody tr th {\n",
       "        vertical-align: top;\n",
       "    }\n",
       "\n",
       "    .dataframe thead th {\n",
       "        text-align: right;\n",
       "    }\n",
       "</style>\n",
       "<table border=\"1\" class=\"dataframe\">\n",
       "  <thead>\n",
       "    <tr style=\"text-align: right;\">\n",
       "      <th></th>\n",
       "      <th>Id</th>\n",
       "      <th>MSSubClass</th>\n",
       "      <th>MSZoning</th>\n",
       "      <th>LotFrontage</th>\n",
       "      <th>LotArea</th>\n",
       "      <th>Street</th>\n",
       "      <th>Alley</th>\n",
       "      <th>LotShape</th>\n",
       "      <th>LandContour</th>\n",
       "      <th>Utilities</th>\n",
       "      <th>...</th>\n",
       "      <th>PoolArea</th>\n",
       "      <th>PoolQC</th>\n",
       "      <th>Fence</th>\n",
       "      <th>MiscFeature</th>\n",
       "      <th>MiscVal</th>\n",
       "      <th>MoSold</th>\n",
       "      <th>YrSold</th>\n",
       "      <th>SaleType</th>\n",
       "      <th>SaleCondition</th>\n",
       "      <th>SalePrice</th>\n",
       "    </tr>\n",
       "  </thead>\n",
       "  <tbody>\n",
       "    <tr>\n",
       "      <th>0</th>\n",
       "      <td>1</td>\n",
       "      <td>60</td>\n",
       "      <td>RL</td>\n",
       "      <td>65.0</td>\n",
       "      <td>8450</td>\n",
       "      <td>Pave</td>\n",
       "      <td>NaN</td>\n",
       "      <td>Reg</td>\n",
       "      <td>Lvl</td>\n",
       "      <td>AllPub</td>\n",
       "      <td>...</td>\n",
       "      <td>0</td>\n",
       "      <td>NaN</td>\n",
       "      <td>NaN</td>\n",
       "      <td>NaN</td>\n",
       "      <td>0</td>\n",
       "      <td>2</td>\n",
       "      <td>2008</td>\n",
       "      <td>WD</td>\n",
       "      <td>Normal</td>\n",
       "      <td>208500</td>\n",
       "    </tr>\n",
       "    <tr>\n",
       "      <th>1</th>\n",
       "      <td>2</td>\n",
       "      <td>20</td>\n",
       "      <td>RL</td>\n",
       "      <td>80.0</td>\n",
       "      <td>9600</td>\n",
       "      <td>Pave</td>\n",
       "      <td>NaN</td>\n",
       "      <td>Reg</td>\n",
       "      <td>Lvl</td>\n",
       "      <td>AllPub</td>\n",
       "      <td>...</td>\n",
       "      <td>0</td>\n",
       "      <td>NaN</td>\n",
       "      <td>NaN</td>\n",
       "      <td>NaN</td>\n",
       "      <td>0</td>\n",
       "      <td>5</td>\n",
       "      <td>2007</td>\n",
       "      <td>WD</td>\n",
       "      <td>Normal</td>\n",
       "      <td>181500</td>\n",
       "    </tr>\n",
       "    <tr>\n",
       "      <th>2</th>\n",
       "      <td>3</td>\n",
       "      <td>60</td>\n",
       "      <td>RL</td>\n",
       "      <td>68.0</td>\n",
       "      <td>11250</td>\n",
       "      <td>Pave</td>\n",
       "      <td>NaN</td>\n",
       "      <td>IR1</td>\n",
       "      <td>Lvl</td>\n",
       "      <td>AllPub</td>\n",
       "      <td>...</td>\n",
       "      <td>0</td>\n",
       "      <td>NaN</td>\n",
       "      <td>NaN</td>\n",
       "      <td>NaN</td>\n",
       "      <td>0</td>\n",
       "      <td>9</td>\n",
       "      <td>2008</td>\n",
       "      <td>WD</td>\n",
       "      <td>Normal</td>\n",
       "      <td>223500</td>\n",
       "    </tr>\n",
       "    <tr>\n",
       "      <th>3</th>\n",
       "      <td>4</td>\n",
       "      <td>70</td>\n",
       "      <td>RL</td>\n",
       "      <td>60.0</td>\n",
       "      <td>9550</td>\n",
       "      <td>Pave</td>\n",
       "      <td>NaN</td>\n",
       "      <td>IR1</td>\n",
       "      <td>Lvl</td>\n",
       "      <td>AllPub</td>\n",
       "      <td>...</td>\n",
       "      <td>0</td>\n",
       "      <td>NaN</td>\n",
       "      <td>NaN</td>\n",
       "      <td>NaN</td>\n",
       "      <td>0</td>\n",
       "      <td>2</td>\n",
       "      <td>2006</td>\n",
       "      <td>WD</td>\n",
       "      <td>Abnorml</td>\n",
       "      <td>140000</td>\n",
       "    </tr>\n",
       "    <tr>\n",
       "      <th>4</th>\n",
       "      <td>5</td>\n",
       "      <td>60</td>\n",
       "      <td>RL</td>\n",
       "      <td>84.0</td>\n",
       "      <td>14260</td>\n",
       "      <td>Pave</td>\n",
       "      <td>NaN</td>\n",
       "      <td>IR1</td>\n",
       "      <td>Lvl</td>\n",
       "      <td>AllPub</td>\n",
       "      <td>...</td>\n",
       "      <td>0</td>\n",
       "      <td>NaN</td>\n",
       "      <td>NaN</td>\n",
       "      <td>NaN</td>\n",
       "      <td>0</td>\n",
       "      <td>12</td>\n",
       "      <td>2008</td>\n",
       "      <td>WD</td>\n",
       "      <td>Normal</td>\n",
       "      <td>250000</td>\n",
       "    </tr>\n",
       "  </tbody>\n",
       "</table>\n",
       "<p>5 rows × 81 columns</p>\n",
       "</div>"
      ],
      "text/plain": [
       "   Id  MSSubClass MSZoning  LotFrontage  LotArea Street Alley LotShape  \\\n",
       "0   1          60       RL         65.0     8450   Pave   NaN      Reg   \n",
       "1   2          20       RL         80.0     9600   Pave   NaN      Reg   \n",
       "2   3          60       RL         68.0    11250   Pave   NaN      IR1   \n",
       "3   4          70       RL         60.0     9550   Pave   NaN      IR1   \n",
       "4   5          60       RL         84.0    14260   Pave   NaN      IR1   \n",
       "\n",
       "  LandContour Utilities    ...     PoolArea PoolQC Fence MiscFeature MiscVal  \\\n",
       "0         Lvl    AllPub    ...            0    NaN   NaN         NaN       0   \n",
       "1         Lvl    AllPub    ...            0    NaN   NaN         NaN       0   \n",
       "2         Lvl    AllPub    ...            0    NaN   NaN         NaN       0   \n",
       "3         Lvl    AllPub    ...            0    NaN   NaN         NaN       0   \n",
       "4         Lvl    AllPub    ...            0    NaN   NaN         NaN       0   \n",
       "\n",
       "  MoSold YrSold  SaleType  SaleCondition  SalePrice  \n",
       "0      2   2008        WD         Normal     208500  \n",
       "1      5   2007        WD         Normal     181500  \n",
       "2      9   2008        WD         Normal     223500  \n",
       "3      2   2006        WD        Abnorml     140000  \n",
       "4     12   2008        WD         Normal     250000  \n",
       "\n",
       "[5 rows x 81 columns]"
      ]
     },
     "execution_count": 150,
     "metadata": {},
     "output_type": "execute_result"
    }
   ],
   "source": [
    "df = pd.read_csv('train.csv')\n",
    "df.head()"
   ]
  },
  {
   "cell_type": "code",
   "execution_count": 161,
   "metadata": {
    "ExecuteTime": {
     "end_time": "2019-06-03T08:43:01.045579Z",
     "start_time": "2019-06-03T08:43:01.035694Z"
    }
   },
   "outputs": [],
   "source": [
    "# 目的変数、説明変数の抽出\n",
    "X = df.loc[:, ['GrLivArea', 'YearBuilt']].values\n",
    "y = df.loc[:, 'SalePrice'].values\n",
    "\n",
    "#対数変換\n",
    "X = np.log(X)\n",
    "y = np.log(y)\n",
    "\n",
    "# trainとtestに分割\n",
    "X_train, X_test, y_train, y_test = train_test_split(\n",
    "    X, y, test_size=0.2, random_state=0)\n",
    "# さらにtrainとvalに分割\n",
    "X_train, X_val, y_train, y_val = train_test_split(\n",
    "    X_train, y_train, test_size=0.2, random_state=0)"
   ]
  },
  {
   "cell_type": "code",
   "execution_count": 162,
   "metadata": {
    "ExecuteTime": {
     "end_time": "2019-06-03T08:43:01.742437Z",
     "start_time": "2019-06-03T08:43:01.609277Z"
    }
   },
   "outputs": [],
   "source": [
    "#モデルの定義\n",
    "model4 = models.Sequential()\n",
    "model4.add(layers.Dense(50, activation='relu', input_shape=(2,)))\n",
    "model4.add(layers.Dense(100, activation='relu'))\n",
    "model4.add(layers.Dense(1))"
   ]
  },
  {
   "cell_type": "code",
   "execution_count": 163,
   "metadata": {
    "ExecuteTime": {
     "end_time": "2019-06-03T08:43:02.689505Z",
     "start_time": "2019-06-03T08:43:02.679916Z"
    }
   },
   "outputs": [
    {
     "name": "stdout",
     "output_type": "stream",
     "text": [
      "_________________________________________________________________\n",
      "Layer (type)                 Output Shape              Param #   \n",
      "=================================================================\n",
      "dense_27 (Dense)             (None, 50)                150       \n",
      "_________________________________________________________________\n",
      "dense_28 (Dense)             (None, 100)               5100      \n",
      "_________________________________________________________________\n",
      "dense_29 (Dense)             (None, 1)                 101       \n",
      "=================================================================\n",
      "Total params: 5,351\n",
      "Trainable params: 5,351\n",
      "Non-trainable params: 0\n",
      "_________________________________________________________________\n"
     ]
    }
   ],
   "source": [
    "model4.summary()"
   ]
  },
  {
   "cell_type": "code",
   "execution_count": 164,
   "metadata": {
    "ExecuteTime": {
     "end_time": "2019-06-03T08:43:07.183191Z",
     "start_time": "2019-06-03T08:43:07.002290Z"
    }
   },
   "outputs": [],
   "source": [
    "#モデルのコンパイル\n",
    "model4.compile(loss='mse',\n",
    "             optimizer='rmsprop',\n",
    "             metrics=['mae'])"
   ]
  },
  {
   "cell_type": "code",
   "execution_count": 165,
   "metadata": {
    "ExecuteTime": {
     "end_time": "2019-06-03T08:43:11.716388Z",
     "start_time": "2019-06-03T08:43:07.777256Z"
    }
   },
   "outputs": [
    {
     "name": "stdout",
     "output_type": "stream",
     "text": [
      "Train on 934 samples, validate on 234 samples\n",
      "Epoch 1/10\n",
      "934/934 [==============================] - 1s 648us/sample - loss: 11.9143 - mean_absolute_error: 1.8022 - val_loss: 0.0795 - val_mean_absolute_error: 0.2233\n",
      "Epoch 2/10\n",
      "934/934 [==============================] - 0s 234us/sample - loss: 0.1364 - mean_absolute_error: 0.2950 - val_loss: 0.1538 - val_mean_absolute_error: 0.3034\n",
      "Epoch 3/10\n",
      "934/934 [==============================] - 0s 235us/sample - loss: 0.1314 - mean_absolute_error: 0.2898 - val_loss: 0.0740 - val_mean_absolute_error: 0.2124\n",
      "Epoch 4/10\n",
      "934/934 [==============================] - 0s 224us/sample - loss: 0.1419 - mean_absolute_error: 0.2962 - val_loss: 0.0723 - val_mean_absolute_error: 0.2105\n",
      "Epoch 5/10\n",
      "934/934 [==============================] - 0s 236us/sample - loss: 0.1342 - mean_absolute_error: 0.2944 - val_loss: 0.0776 - val_mean_absolute_error: 0.2067\n",
      "Epoch 6/10\n",
      "934/934 [==============================] - 0s 224us/sample - loss: 0.1230 - mean_absolute_error: 0.2767 - val_loss: 0.0742 - val_mean_absolute_error: 0.2187\n",
      "Epoch 7/10\n",
      "934/934 [==============================] - 0s 211us/sample - loss: 0.1243 - mean_absolute_error: 0.2736 - val_loss: 0.0751 - val_mean_absolute_error: 0.2043\n",
      "Epoch 8/10\n",
      "934/934 [==============================] - 0s 244us/sample - loss: 0.1186 - mean_absolute_error: 0.2701 - val_loss: 0.1326 - val_mean_absolute_error: 0.2770\n",
      "Epoch 9/10\n",
      "934/934 [==============================] - 0s 240us/sample - loss: 0.1209 - mean_absolute_error: 0.2803 - val_loss: 0.0758 - val_mean_absolute_error: 0.2048\n",
      "Epoch 10/10\n",
      "934/934 [==============================] - 0s 301us/sample - loss: 0.1235 - mean_absolute_error: 0.2747 - val_loss: 0.0908 - val_mean_absolute_error: 0.2513\n"
     ]
    },
    {
     "data": {
      "text/plain": [
       "<tensorflow.python.keras.callbacks.History at 0x1a302242e8>"
      ]
     },
     "execution_count": 165,
     "metadata": {},
     "output_type": "execute_result"
    }
   ],
   "source": [
    "#モデルの学習\n",
    "model4.fit(\n",
    "    X_train, \n",
    "    y_train, \n",
    "    epochs=10, \n",
    "    batch_size=10, \n",
    "    validation_data=(X_val, y_val))"
   ]
  },
  {
   "cell_type": "markdown",
   "metadata": {},
   "source": [
    "## 【問題5】MNISTをKerasで学習\n",
    "Sprint14で作成したMNISTデータセットによる画像の多値分類をKerasに書き換えてください。"
   ]
  },
  {
   "cell_type": "code",
   "execution_count": 38,
   "metadata": {
    "ExecuteTime": {
     "end_time": "2019-06-03T07:46:43.800924Z",
     "start_time": "2019-06-03T07:46:42.772021Z"
    }
   },
   "outputs": [
    {
     "name": "stderr",
     "output_type": "stream",
     "text": [
      "Using TensorFlow backend.\n"
     ]
    }
   ],
   "source": [
    "# mnistデータを読み込み\n",
    "from keras.datasets import mnist\n",
    "(X_train, y_train), (X_test, y_test) = mnist.load_data()"
   ]
  },
  {
   "cell_type": "code",
   "execution_count": 39,
   "metadata": {
    "ExecuteTime": {
     "end_time": "2019-06-03T07:46:43.807764Z",
     "start_time": "2019-06-03T07:46:43.803493Z"
    }
   },
   "outputs": [],
   "source": [
    "# (n_samples, n_channels, height, width)のNCHW\n",
    "X_train = X_train.reshape(60000, 1, 28, 28)\n",
    "X_test = X_test.reshape(10000, 1, 28, 28)"
   ]
  },
  {
   "cell_type": "code",
   "execution_count": 40,
   "metadata": {
    "ExecuteTime": {
     "end_time": "2019-06-03T07:46:44.758473Z",
     "start_time": "2019-06-03T07:46:43.812289Z"
    }
   },
   "outputs": [
    {
     "name": "stdout",
     "output_type": "stream",
     "text": [
      "1.0\n",
      "0.0\n"
     ]
    }
   ],
   "source": [
    "# float型へ\n",
    "X_train = X_train.astype(np.float)\n",
    "X_test = X_test.astype(np.float)\n",
    "\n",
    "# 正規化\n",
    "X_train /= 255\n",
    "X_test /= 255\n",
    "print(X_train.max())  # 1.0\n",
    "print(X_train.min())  # 0.0\n",
    "\n",
    "# 平滑化\n",
    "X_train = X_train.reshape(-1, 1*28*28)\n",
    "X_test = X_test.reshape(-1, 1*28*28)"
   ]
  },
  {
   "cell_type": "code",
   "execution_count": 41,
   "metadata": {
    "ExecuteTime": {
     "end_time": "2019-06-03T07:46:46.387402Z",
     "start_time": "2019-06-03T07:46:45.183718Z"
    }
   },
   "outputs": [
    {
     "name": "stdout",
     "output_type": "stream",
     "text": [
      "(48000, 784)\n",
      "(12000, 784)\n"
     ]
    }
   ],
   "source": [
    "# データ分割\n",
    "X_train, X_val, y_train, y_val = train_test_split(\n",
    "    X_train, y_train, test_size=0.2)\n",
    "print(X_train.shape)\n",
    "print(X_val.shape)\n",
    "\n",
    "\n",
    "# ワンホット\n",
    "y_train = onehot(y_train.reshape(-1))\n",
    "y_val = onehot(y_val.reshape(-1))\n",
    "y_test = onehot(y_test.reshape(-1))"
   ]
  },
  {
   "cell_type": "code",
   "execution_count": 42,
   "metadata": {
    "ExecuteTime": {
     "end_time": "2019-06-03T07:46:46.524993Z",
     "start_time": "2019-06-03T07:46:46.394516Z"
    }
   },
   "outputs": [],
   "source": [
    "#モデルの定義\n",
    "model5 = models.Sequential()\n",
    "model5.add(layers.Dense(50, activation='relu', input_shape=(X_train.shape[1],)))\n",
    "model5.add(layers.Dense(100, activation='relu'))\n",
    "model5.add(layers.Dense(10, activation='softmax'))"
   ]
  },
  {
   "cell_type": "code",
   "execution_count": 43,
   "metadata": {
    "ExecuteTime": {
     "end_time": "2019-06-03T07:46:47.559564Z",
     "start_time": "2019-06-03T07:46:47.548200Z"
    }
   },
   "outputs": [
    {
     "name": "stdout",
     "output_type": "stream",
     "text": [
      "_________________________________________________________________\n",
      "Layer (type)                 Output Shape              Param #   \n",
      "=================================================================\n",
      "dense_24 (Dense)             (None, 50)                39250     \n",
      "_________________________________________________________________\n",
      "dense_25 (Dense)             (None, 100)               5100      \n",
      "_________________________________________________________________\n",
      "dense_26 (Dense)             (None, 10)                1010      \n",
      "=================================================================\n",
      "Total params: 45,360\n",
      "Trainable params: 45,360\n",
      "Non-trainable params: 0\n",
      "_________________________________________________________________\n"
     ]
    }
   ],
   "source": [
    "model5.summary()"
   ]
  },
  {
   "cell_type": "code",
   "execution_count": 44,
   "metadata": {
    "ExecuteTime": {
     "end_time": "2019-06-03T07:46:48.287600Z",
     "start_time": "2019-06-03T07:46:48.103238Z"
    }
   },
   "outputs": [],
   "source": [
    "#モデルのコンパイル\n",
    "model5.compile(loss='categorical_crossentropy',\n",
    "             optimizer='adam',\n",
    "             metrics=['accuracy'])"
   ]
  },
  {
   "cell_type": "code",
   "execution_count": 45,
   "metadata": {
    "ExecuteTime": {
     "end_time": "2019-06-03T07:49:24.028320Z",
     "start_time": "2019-06-03T07:46:50.047969Z"
    }
   },
   "outputs": [
    {
     "name": "stdout",
     "output_type": "stream",
     "text": [
      "Train on 48000 samples, validate on 12000 samples\n",
      "Epoch 1/10\n",
      "48000/48000 [==============================] - 17s 350us/sample - loss: 0.2659 - acc: 0.9210 - val_loss: 0.1609 - val_acc: 0.9512\n",
      "Epoch 2/10\n",
      "48000/48000 [==============================] - 17s 344us/sample - loss: 0.1279 - acc: 0.9610 - val_loss: 0.1472 - val_acc: 0.9584\n",
      "Epoch 3/10\n",
      "48000/48000 [==============================] - 16s 326us/sample - loss: 0.0962 - acc: 0.9705 - val_loss: 0.1371 - val_acc: 0.9598\n",
      "Epoch 4/10\n",
      "48000/48000 [==============================] - 14s 297us/sample - loss: 0.0762 - acc: 0.9758 - val_loss: 0.1227 - val_acc: 0.9661\n",
      "Epoch 5/10\n",
      "48000/48000 [==============================] - 14s 296us/sample - loss: 0.0638 - acc: 0.9797 - val_loss: 0.1152 - val_acc: 0.9695\n",
      "Epoch 6/10\n",
      "48000/48000 [==============================] - 14s 294us/sample - loss: 0.0529 - acc: 0.9826 - val_loss: 0.1162 - val_acc: 0.9697\n",
      "Epoch 7/10\n",
      "48000/48000 [==============================] - 14s 299us/sample - loss: 0.0475 - acc: 0.9846 - val_loss: 0.1258 - val_acc: 0.9685\n",
      "Epoch 8/10\n",
      "48000/48000 [==============================] - 17s 350us/sample - loss: 0.0430 - acc: 0.9860 - val_loss: 0.1217 - val_acc: 0.9695\n",
      "Epoch 9/10\n",
      "48000/48000 [==============================] - 16s 326us/sample - loss: 0.0353 - acc: 0.9882 - val_loss: 0.1391 - val_acc: 0.9687\n",
      "Epoch 10/10\n",
      "48000/48000 [==============================] - 14s 295us/sample - loss: 0.0332 - acc: 0.9888 - val_loss: 0.1228 - val_acc: 0.9732\n"
     ]
    },
    {
     "data": {
      "text/plain": [
       "<tensorflow.python.keras.callbacks.History at 0x1a2ae5c9e8>"
      ]
     },
     "execution_count": 45,
     "metadata": {},
     "output_type": "execute_result"
    }
   ],
   "source": [
    "#モデルの学習\n",
    "model5.fit(\n",
    "    X_train, \n",
    "    y_train, \n",
    "    epochs=10, \n",
    "    batch_size=10, \n",
    "    validation_data=(X_val, y_val))"
   ]
  },
  {
   "cell_type": "code",
   "execution_count": 46,
   "metadata": {
    "ExecuteTime": {
     "end_time": "2019-06-03T07:49:24.495671Z",
     "start_time": "2019-06-03T07:49:24.032092Z"
    }
   },
   "outputs": [
    {
     "name": "stdout",
     "output_type": "stream",
     "text": [
      "10000/10000 [==============================] - 0s 45us/sample - loss: 0.1162 - acc: 0.9726\n",
      "acc: 97.26%\n"
     ]
    }
   ],
   "source": [
    "#モデルの評価\n",
    "scores = model5.evaluate(X_test, y_test)\n",
    "print(\"%s: %.2f%%\" % (model5.metrics_names[1], scores[1] * 100))"
   ]
  },
  {
   "cell_type": "markdown",
   "metadata": {},
   "source": [
    "## 【問題6】（アドバンス課題）PyTorchへの書き換え\n",
    "4種類の問題をPyTorchに書き換えてください。"
   ]
  },
  {
   "cell_type": "code",
   "execution_count": 47,
   "metadata": {
    "ExecuteTime": {
     "end_time": "2019-06-03T07:49:26.195501Z",
     "start_time": "2019-06-03T07:49:24.498655Z"
    }
   },
   "outputs": [
    {
     "name": "stdout",
     "output_type": "stream",
     "text": [
      "1.1.0\n"
     ]
    }
   ],
   "source": [
    "# PyTorchのインポート\n",
    "import torch\n",
    "import torch.nn as nn\n",
    "import torch.nn.functional as F\n",
    "import torch.optim as optim\n",
    "from torch.autograd import Variable\n",
    "print(torch.__version__)"
   ]
  },
  {
   "cell_type": "markdown",
   "metadata": {},
   "source": [
    "### 1. Iris（2値分類）"
   ]
  },
  {
   "cell_type": "code",
   "execution_count": 140,
   "metadata": {
    "ExecuteTime": {
     "end_time": "2019-06-03T08:29:48.761094Z",
     "start_time": "2019-06-03T08:29:48.739753Z"
    }
   },
   "outputs": [],
   "source": [
    "# データセットの読み込み\n",
    "dataset_path = \"Iris.csv\"\n",
    "df = pd.read_csv(dataset_path)\n",
    "# データフレームから条件抽出\n",
    "df = df[(df[\"Species\"] == \"Iris-versicolor\") |\n",
    "        (df[\"Species\"] == \"Iris-virginica\")]\n",
    "y = df[\"Species\"]\n",
    "X = df.loc[:, [\"SepalLengthCm\", \"SepalWidthCm\",\n",
    "               \"PetalLengthCm\", \"PetalWidthCm\"]]\n",
    "y = np.array(y)\n",
    "X = np.array(X)\n",
    "# ラベルを数値に変換\n",
    "y[y == 'Iris-versicolor'] = 0\n",
    "y[y == 'Iris-virginica'] = 1\n",
    "y = y.astype(np.int)[:, np.newaxis]\n",
    "\n",
    "# trainとtestに分割\n",
    "X_train, X_test, y_train, y_test = train_test_split(\n",
    "    X, y, test_size=0.2, random_state=0)\n",
    "# さらにtrainとvalに分割\n",
    "X_train, X_val, y_train, y_val = train_test_split(\n",
    "    X_train, y_train, test_size=0.2, random_state=0)\n"
   ]
  },
  {
   "cell_type": "code",
   "execution_count": 141,
   "metadata": {
    "ExecuteTime": {
     "end_time": "2019-06-03T08:29:48.843028Z",
     "start_time": "2019-06-03T08:29:48.838581Z"
    }
   },
   "outputs": [],
   "source": [
    "#データをtensorに変換\n",
    "#Variableで包んであげると、 どのような計算を辿ってその値になったのかを、\n",
    "#変数自体が覚えておいてくれる。この後、backwardで微分する。\n",
    "x = Variable(torch.from_numpy(X_train).float(), requires_grad=True)\n",
    "y = Variable(torch.from_numpy(y_train).float())"
   ]
  },
  {
   "cell_type": "code",
   "execution_count": 142,
   "metadata": {
    "ExecuteTime": {
     "end_time": "2019-06-03T08:29:48.978983Z",
     "start_time": "2019-06-03T08:29:48.970987Z"
    }
   },
   "outputs": [],
   "source": [
    "class Net(nn.Module):\n",
    "    \n",
    "    def __init__(self):\n",
    "        #スーパークラスのインスタンスメソッドを呼び出す\n",
    "        super(Net, self).__init__()\n",
    "        #レイヤーの生成\n",
    "        self.fc1 = nn.Linear(4,10)\n",
    "        self.fc2 = nn.Linear(10, 8)\n",
    "        self.fc3 = nn.Linear(8, 1)\n",
    "        \n",
    "    def forward(self, x):\n",
    "        #活性化関数\n",
    "        x = F.relu(self.fc1(x))\n",
    "        x = F.relu(self.fc2(x))\n",
    "        x = self.fc3(x)\n",
    "        return x"
   ]
  },
  {
   "cell_type": "code",
   "execution_count": 143,
   "metadata": {
    "ExecuteTime": {
     "end_time": "2019-06-03T08:29:49.858863Z",
     "start_time": "2019-06-03T08:29:49.113008Z"
    }
   },
   "outputs": [
    {
     "name": "stdout",
     "output_type": "stream",
     "text": [
      "accuracy: 0.900\n"
     ]
    }
   ],
   "source": [
    "#インスタンス生成\n",
    "net = Net()\n",
    "\n",
    "#最適化手法\n",
    "optimizer = optim.SGD(net.parameters(), lr=0.01)\n",
    "\n",
    "#損失関数\n",
    "criterion = nn.MSELoss()\n",
    "\n",
    "#損失記録用\n",
    "loss_list = np.array([])\n",
    "\n",
    "for i in range(1000):\n",
    "    #勾配の初期化\n",
    "    optimizer.zero_grad()\n",
    "    \n",
    "    #順伝播\n",
    "    output = net(x)\n",
    "    \n",
    "    #損失計算\n",
    "    loss = criterion(output, y)\n",
    "    \n",
    "    #損失の記録\n",
    "    loss_list = np.append(loss_list, float(loss))\n",
    "    \n",
    "    #勾配の計算\n",
    "    loss.backward()\n",
    "    \n",
    "    #パラメータの更新\n",
    "    optimizer.step()\n",
    "\n",
    "#テストデータから予測確率を算出\n",
    "outputs = net(Variable(torch.from_numpy(X_test).float()))\n",
    "\n",
    "#予測確率から予測値をだす\n",
    "predicted = torch.where(outputs>=0.5, torch.ones(1), torch.zeros(1))\n",
    "\n",
    "#numpy形式に戻す\n",
    "y_predicted = predicted.numpy()\n",
    "\n",
    "#精度の算出\n",
    "accuracy = np.sum(y_predicted == y_test) / len(y_predicted)\n",
    "print('accuracy: {:.3f}'.format(accuracy))"
   ]
  },
  {
   "cell_type": "code",
   "execution_count": 144,
   "metadata": {
    "ExecuteTime": {
     "end_time": "2019-06-03T08:29:50.111546Z",
     "start_time": "2019-06-03T08:29:49.863079Z"
    }
   },
   "outputs": [
    {
     "data": {
      "text/plain": [
       "<function matplotlib.pyplot.show(*args, **kw)>"
      ]
     },
     "execution_count": 144,
     "metadata": {},
     "output_type": "execute_result"
    },
    {
     "data": {
      "image/png": "[encoded data removed]",
      "text/plain": [
       "<Figure size 432x288 with 1 Axes>"
      ]
     },
     "metadata": {
      "needs_background": "light"
     },
     "output_type": "display_data"
    }
   ],
   "source": [
    "#lossの推移をグラフ\n",
    "plt.plot(loss_list)\n",
    "\n",
    "plt.title('loss_plot')\n",
    "plt.xlabel('iteration')\n",
    "plt.ylabel('loss')\n",
    "\n",
    "plt.show"
   ]
  },
  {
   "cell_type": "markdown",
   "metadata": {},
   "source": [
    "### 2. Iris（多値分類）"
   ]
  },
  {
   "cell_type": "code",
   "execution_count": 145,
   "metadata": {
    "ExecuteTime": {
     "end_time": "2019-06-03T08:29:50.137212Z",
     "start_time": "2019-06-03T08:29:50.115402Z"
    }
   },
   "outputs": [],
   "source": [
    "# データセットの読み込み\n",
    "dataset_path = \"Iris.csv\"\n",
    "df = pd.read_csv(dataset_path)\n",
    "# データフレームから条件抽出\n",
    "y = df[\"Species\"]\n",
    "X = df.loc[:, [\"SepalLengthCm\", \"SepalWidthCm\",\n",
    "               \"PetalLengthCm\", \"PetalWidthCm\"]]\n",
    "y = np.array(y)\n",
    "X = np.array(X)\n",
    "# ラベルを数値に変換\n",
    "y[y == 'Iris-versicolor'] = 0\n",
    "y[y == 'Iris-virginica'] = 1\n",
    "y[y == 'Iris-setosa'] = 2  # 追加\n",
    "y = y.astype(np.int)[:, np.newaxis]\n",
    "\n",
    "# 多クラス分類のため、ワンホットエンコーディングする\n",
    "y = onehot(y.reshape(-1))\n",
    "\n",
    "# trainとtestに分割\n",
    "X_train, X_test, y_train, y_test = train_test_split(\n",
    "    X, y, test_size=0.2, random_state=0)\n",
    "# さらにtrainとvalに分割\n",
    "X_train, X_val, y_train, y_val = train_test_split(\n",
    "    X_train, y_train, test_size=0.2, random_state=0)"
   ]
  },
  {
   "cell_type": "code",
   "execution_count": 146,
   "metadata": {
    "ExecuteTime": {
     "end_time": "2019-06-03T08:29:50.149383Z",
     "start_time": "2019-06-03T08:29:50.142922Z"
    }
   },
   "outputs": [],
   "source": [
    "x = Variable(torch.from_numpy(X_train).float(), requires_grad=True)\n",
    "y = Variable(torch.from_numpy(y_train).float())"
   ]
  },
  {
   "cell_type": "code",
   "execution_count": 147,
   "metadata": {
    "ExecuteTime": {
     "end_time": "2019-06-03T08:29:50.166575Z",
     "start_time": "2019-06-03T08:29:50.153788Z"
    }
   },
   "outputs": [],
   "source": [
    "class Net(nn.Module):\n",
    "    \n",
    "    def __init__(self):\n",
    "        super(Net, self).__init__()\n",
    "        self.fc1 = nn.Linear(4,10)\n",
    "        self.fc2 = nn.Linear(10, 8)\n",
    "        self.fc3 = nn.Linear(8, 3)\n",
    "        \n",
    "    def forward(self, x):\n",
    "        x = F.relu(self.fc1(x))\n",
    "        x = F.relu(self.fc2(x))\n",
    "        x = self.fc3(x)\n",
    "        return x"
   ]
  },
  {
   "cell_type": "code",
   "execution_count": 148,
   "metadata": {
    "ExecuteTime": {
     "end_time": "2019-06-03T08:29:51.016765Z",
     "start_time": "2019-06-03T08:29:50.169957Z"
    }
   },
   "outputs": [
    {
     "name": "stdout",
     "output_type": "stream",
     "text": [
      "accuracy: 1.000\n"
     ]
    }
   ],
   "source": [
    "net = Net()\n",
    "optimizer = optim.SGD(net.parameters(), lr=0.1)\n",
    "criterion = nn.MSELoss()\n",
    "\n",
    "loss_list = np.array([])\n",
    "for i in range(1000):\n",
    "    #勾配の初期化\n",
    "    optimizer.zero_grad()\n",
    "    \n",
    "    #順伝播\n",
    "    output = net(x)\n",
    "    \n",
    "    #損失計算\n",
    "    loss = criterion(output, y)\n",
    "    \n",
    "    #損失の記録\n",
    "    loss_list = np.append(loss_list, float(loss))\n",
    "    \n",
    "    #勾配の計算\n",
    "    loss.backward()\n",
    "    \n",
    "    #パラメータの更新\n",
    "    optimizer.step()\n",
    "    \n",
    "outputs = net(Variable(torch.from_numpy(X_test).float()))\n",
    "_, predicted = torch.max(outputs.data, 1)\n",
    "y_predicted = predicted.numpy()\n",
    "y_true = np.argmax(y_test, axis=1)\n",
    "accuracy = np.sum(y_predicted == y_true) / len(y_predicted)\n",
    "print('accuracy: {:.3f}'.format(accuracy))"
   ]
  },
  {
   "cell_type": "code",
   "execution_count": 149,
   "metadata": {
    "ExecuteTime": {
     "end_time": "2019-06-03T08:29:51.963238Z",
     "start_time": "2019-06-03T08:29:51.020188Z"
    }
   },
   "outputs": [
    {
     "data": {
      "text/plain": [
       "<function matplotlib.pyplot.show(*args, **kw)>"
      ]
     },
     "execution_count": 149,
     "metadata": {},
     "output_type": "execute_result"
    },
    {
     "data": {
      "image/png": "[encoded data removed]",
      "text/plain": [
       "<Figure size 432x288 with 1 Axes>"
      ]
     },
     "metadata": {
      "needs_background": "light"
     },
     "output_type": "display_data"
    }
   ],
   "source": [
    "#lossの推移をグラフ\n",
    "plt.plot(loss_list)\n",
    "\n",
    "plt.title('loss_plot')\n",
    "plt.xlabel('iteration')\n",
    "plt.ylabel('loss')\n",
    "\n",
    "plt.show"
   ]
  },
  {
   "cell_type": "markdown",
   "metadata": {},
   "source": [
    "### 3. House Prices"
   ]
  },
  {
   "cell_type": "code",
   "execution_count": 219,
   "metadata": {
    "ExecuteTime": {
     "end_time": "2019-06-03T09:12:53.131696Z",
     "start_time": "2019-06-03T09:12:53.109312Z"
    }
   },
   "outputs": [],
   "source": [
    "# 目的変数、説明変数の抽出\n",
    "X = df.loc[:, ['GrLivArea', 'YearBuilt']].values\n",
    "y = df.loc[:, 'SalePrice'].values\n",
    "\n",
    "#対数変換\n",
    "X = np.log(X)\n",
    "y = np.log(y.reshape(-1, 1))\n",
    "\n",
    "# trainとtestに分割\n",
    "X_train, X_test, y_train, y_test = train_test_split(\n",
    "    X, y, test_size=0.2, random_state=0)\n",
    "# さらにtrainとvalに分割\n",
    "X_train, X_val, y_train, y_val = train_test_split(\n",
    "    X_train, y_train, test_size=0.2, random_state=0)"
   ]
  },
  {
   "cell_type": "code",
   "execution_count": 220,
   "metadata": {
    "ExecuteTime": {
     "end_time": "2019-06-03T09:12:53.900832Z",
     "start_time": "2019-06-03T09:12:53.895658Z"
    }
   },
   "outputs": [],
   "source": [
    "x = Variable(torch.from_numpy(X_train).float(), requires_grad=True)\n",
    "y = Variable(torch.from_numpy(y_train).float())"
   ]
  },
  {
   "cell_type": "code",
   "execution_count": 221,
   "metadata": {
    "ExecuteTime": {
     "end_time": "2019-06-03T09:12:54.776446Z",
     "start_time": "2019-06-03T09:12:54.769727Z"
    }
   },
   "outputs": [],
   "source": [
    "class Net(nn.Module):\n",
    "    \n",
    "    def __init__(self):\n",
    "        super(Net, self).__init__()\n",
    "        self.fc1 = nn.Linear(2,10)\n",
    "        self.fc2 = nn.Linear(10, 8)\n",
    "        self.fc3 = nn.Linear(8, 1)\n",
    "        \n",
    "    def forward(self, x):\n",
    "        x = F.relu(self.fc1(x))\n",
    "        x = F.relu(self.fc2(x))\n",
    "        x = self.fc3(x)\n",
    "        return x"
   ]
  },
  {
   "cell_type": "code",
   "execution_count": 224,
   "metadata": {
    "ExecuteTime": {
     "end_time": "2019-06-03T09:14:45.671428Z",
     "start_time": "2019-06-03T09:14:45.483205Z"
    }
   },
   "outputs": [
    {
     "name": "stdout",
     "output_type": "stream",
     "text": [
      "RMSE: 0.268\n",
      "R2: 0.525\n"
     ]
    }
   ],
   "source": [
    "net = Net()\n",
    "optimizer = optim.Adam(net.parameters(), lr=0.1)\n",
    "criterion = nn.MSELoss()\n",
    "\n",
    "loss_list = np.array([])\n",
    "for i in range(100):\n",
    "    #勾配の初期化\n",
    "    optimizer.zero_grad()\n",
    "    \n",
    "    #順伝播\n",
    "    output = net(x)\n",
    "    \n",
    "    #損失計算\n",
    "    loss = criterion(output, y)\n",
    "    \n",
    "    #損失の記録\n",
    "    loss_list = np.append(loss_list, float(loss))\n",
    "    \n",
    "    #勾配の計算\n",
    "    loss.backward()\n",
    "    \n",
    "    #パラメータの更新\n",
    "    optimizer.step()\n",
    "    \n",
    "#テストデータから予測確率を算出\n",
    "outputs = net(Variable(torch.from_numpy(X_test).float()))\n",
    "\n",
    "#numpyに変換\n",
    "y_pred = outputs.data.numpy()\n",
    "\n",
    "#精度の算出\n",
    "rmse = np.sqrt(mean_squared_error(y_test, y_pred))\n",
    "r2 = r2_score(y_test, y_pred)  \n",
    "print('RMSE: {:.3f}'.format(rmse))\n",
    "print('R2: {:.3f}'.format(r2))"
   ]
  },
  {
   "cell_type": "code",
   "execution_count": 225,
   "metadata": {
    "ExecuteTime": {
     "end_time": "2019-06-03T09:15:05.031039Z",
     "start_time": "2019-06-03T09:15:04.782198Z"
    }
   },
   "outputs": [
    {
     "data": {
      "text/plain": [
       "<function matplotlib.pyplot.show(*args, **kw)>"
      ]
     },
     "execution_count": 225,
     "metadata": {},
     "output_type": "execute_result"
    },
    {
     "data": {
      "image/png": "[encoded data removed]",
      "text/plain": [
       "<Figure size 432x288 with 1 Axes>"
      ]
     },
     "metadata": {
      "needs_background": "light"
     },
     "output_type": "display_data"
    }
   ],
   "source": [
    "#lossの推移をグラフ\n",
    "plt.plot(loss_list)\n",
    "\n",
    "plt.title('loss_plot')\n",
    "plt.xlabel('iteration')\n",
    "plt.ylabel('loss')\n",
    "\n",
    "plt.show"
   ]
  },
  {
   "cell_type": "markdown",
   "metadata": {},
   "source": [
    "### 4. MNISTデータ"
   ]
  },
  {
   "cell_type": "code",
   "execution_count": 226,
   "metadata": {
    "ExecuteTime": {
     "end_time": "2019-06-03T09:26:54.545729Z",
     "start_time": "2019-06-03T09:26:54.023238Z"
    }
   },
   "outputs": [],
   "source": [
    "import torchvision.transforms as transforms\n",
    "from torch.utils.data import DataLoader\n",
    "from torchvision.datasets import MNIST"
   ]
  },
  {
   "cell_type": "code",
   "execution_count": 227,
   "metadata": {
    "ExecuteTime": {
     "end_time": "2019-06-03T09:27:48.160644Z",
     "start_time": "2019-06-03T09:27:09.854750Z"
    }
   },
   "outputs": [
    {
     "name": "stderr",
     "output_type": "stream",
     "text": [
      "\r",
      "0it [00:00, ?it/s]"
     ]
    },
    {
     "name": "stdout",
     "output_type": "stream",
     "text": [
      "Downloading http://yann.lecun.com/exdb/mnist/train-images-idx3-ubyte.gz to /Users/yusuke-saruya/tmp/mnist/MNIST/raw/train-images-idx3-ubyte.gz\n"
     ]
    },
    {
     "name": "stderr",
     "output_type": "stream",
     "text": [
      " 99%|█████████▉| 9854976/9912422 [00:30<00:00, 439457.14it/s]"
     ]
    },
    {
     "name": "stdout",
     "output_type": "stream",
     "text": [
      "Extracting /Users/yusuke-saruya/tmp/mnist/MNIST/raw/train-images-idx3-ubyte.gz\n"
     ]
    },
    {
     "name": "stderr",
     "output_type": "stream",
     "text": [
      "\n",
      "0it [00:00, ?it/s]\u001b[A"
     ]
    },
    {
     "name": "stdout",
     "output_type": "stream",
     "text": [
      "Downloading http://yann.lecun.com/exdb/mnist/train-labels-idx1-ubyte.gz to /Users/yusuke-saruya/tmp/mnist/MNIST/raw/train-labels-idx1-ubyte.gz\n"
     ]
    },
    {
     "name": "stderr",
     "output_type": "stream",
     "text": [
      "\n",
      "  0%|          | 0/28881 [00:00<?, ?it/s]\u001b[A\n",
      " 57%|█████▋    | 16384/28881 [00:00<00:00, 96264.37it/s]\u001b[A\n",
      "32768it [00:00, 62609.62it/s]                           \u001b[A\n",
      "0it [00:00, ?it/s]\u001b[A"
     ]
    },
    {
     "name": "stdout",
     "output_type": "stream",
     "text": [
      "Extracting /Users/yusuke-saruya/tmp/mnist/MNIST/raw/train-labels-idx1-ubyte.gz\n",
      "Downloading http://yann.lecun.com/exdb/mnist/t10k-images-idx3-ubyte.gz to /Users/yusuke-saruya/tmp/mnist/MNIST/raw/t10k-images-idx3-ubyte.gz\n"
     ]
    },
    {
     "name": "stderr",
     "output_type": "stream",
     "text": [
      "\n",
      "  0%|          | 0/1648877 [00:00<?, ?it/s]\u001b[A\n",
      "  1%|          | 16384/1648877 [00:00<00:18, 86189.37it/s]\u001b[A\n",
      "  2%|▏         | 40960/1648877 [00:00<00:16, 98295.71it/s]\u001b[A\n",
      "  6%|▌         | 98304/1648877 [00:00<00:12, 124951.43it/s]\u001b[A\n",
      " 10%|█         | 172032/1648877 [00:01<00:09, 159071.34it/s]\u001b[A\n",
      " 12%|█▏        | 204800/1648877 [00:01<00:09, 153379.28it/s]\u001b[A\n",
      " 14%|█▍        | 229376/1648877 [00:01<00:08, 170406.91it/s]\u001b[A\n",
      " 15%|█▌        | 253952/1648877 [00:01<00:08, 163345.30it/s]\u001b[A\n",
      " 20%|█▉        | 327680/1648877 [00:01<00:06, 201185.87it/s]\u001b[A\n",
      " 23%|██▎       | 376832/1648877 [00:01<00:05, 222164.96it/s]\u001b[A\n",
      " 27%|██▋       | 442368/1648877 [00:02<00:04, 254734.81it/s]\u001b[A\n",
      " 30%|███       | 499712/1648877 [00:02<00:04, 275500.63it/s]\u001b[A\n",
      " 33%|███▎      | 548864/1648877 [00:02<00:04, 254769.33it/s]\u001b[A\n",
      " 38%|███▊      | 622592/1648877 [00:02<00:03, 311856.38it/s]\u001b[A\n",
      " 40%|████      | 663552/1648877 [00:02<00:03, 290641.22it/s]\u001b[A\n",
      " 43%|████▎     | 712704/1648877 [00:02<00:03, 288229.21it/s]\u001b[A\n",
      " 46%|████▌     | 761856/1648877 [00:03<00:03, 289515.73it/s]\u001b[A\n",
      " 49%|████▉     | 811008/1648877 [00:03<00:02, 290556.01it/s]\u001b[A\n",
      " 52%|█████▏    | 860160/1648877 [00:03<00:02, 292088.98it/s]\u001b[A\n",
      " 55%|█████▌    | 909312/1648877 [00:03<00:02, 294660.74it/s]\u001b[A\n",
      " 59%|█████▊    | 966656/1648877 [00:03<00:02, 304354.49it/s]\u001b[A\n",
      " 62%|██████▏   | 1015808/1648877 [00:03<00:02, 302631.47it/s]\u001b[A\n",
      " 65%|██████▌   | 1073152/1648877 [00:04<00:01, 312555.98it/s]\u001b[A\n",
      " 69%|██████▊   | 1130496/1648877 [00:04<00:01, 319924.18it/s]\u001b[A\n",
      " 72%|███████▏  | 1179648/1648877 [00:04<00:01, 312611.52it/s]\u001b[A\n",
      " 75%|███████▌  | 1236992/1648877 [00:04<00:01, 321038.60it/s]\u001b[A\n",
      " 78%|███████▊  | 1294336/1648877 [00:04<00:01, 326657.27it/s]\u001b[A\n",
      " 81%|████████▏ | 1343488/1648877 [00:04<00:00, 315595.31it/s]\u001b[A\n",
      " 85%|████████▍ | 1400832/1648877 [00:05<00:00, 323200.43it/s]\u001b[A\n",
      " 88%|████████▊ | 1458176/1648877 [00:05<00:00, 328764.17it/s]\u001b[A\n",
      " 91%|█████████▏| 1507328/1648877 [00:05<00:00, 317124.42it/s]\u001b[A\n",
      " 95%|█████████▍| 1564672/1648877 [00:05<00:00, 323427.74it/s]\u001b[A\n",
      " 98%|█████████▊| 1622016/1648877 [00:05<00:00, 329319.79it/s]\u001b[A\n",
      "1654784it [00:05, 283880.69it/s]                             \u001b[A\n",
      "0it [00:00, ?it/s]\u001b[A"
     ]
    },
    {
     "name": "stdout",
     "output_type": "stream",
     "text": [
      "Extracting /Users/yusuke-saruya/tmp/mnist/MNIST/raw/t10k-images-idx3-ubyte.gz\n",
      "Downloading http://yann.lecun.com/exdb/mnist/t10k-labels-idx1-ubyte.gz to /Users/yusuke-saruya/tmp/mnist/MNIST/raw/t10k-labels-idx1-ubyte.gz\n"
     ]
    },
    {
     "name": "stderr",
     "output_type": "stream",
     "text": [
      "\n",
      "  0%|          | 0/4542 [00:00<?, ?it/s]\u001b[A\n",
      "8192it [00:00, 22947.87it/s]            \u001b[A"
     ]
    },
    {
     "name": "stdout",
     "output_type": "stream",
     "text": [
      "Extracting /Users/yusuke-saruya/tmp/mnist/MNIST/raw/t10k-labels-idx1-ubyte.gz\n",
      "Processing...\n",
      "Done!\n"
     ]
    }
   ],
   "source": [
    "mnist_data = MNIST('~/tmp/mnist', train=True, download=True, transform=transforms.ToTensor())\n",
    "data_loader = DataLoader(mnist_data,batch_size=4,shuffle=False)\n",
    "\n"
   ]
  },
  {
   "cell_type": "code",
   "execution_count": 257,
   "metadata": {
    "ExecuteTime": {
     "end_time": "2019-06-03T11:10:03.362489Z",
     "start_time": "2019-06-03T11:10:03.355853Z"
    }
   },
   "outputs": [],
   "source": [
    "data_iterator = iter(data_loader)\n",
    "images, labels = data_iterator.next()"
   ]
  },
  {
   "cell_type": "code",
   "execution_count": 259,
   "metadata": {
    "ExecuteTime": {
     "end_time": "2019-06-03T11:10:13.397991Z",
     "start_time": "2019-06-03T11:10:13.174273Z"
    }
   },
   "outputs": [
    {
     "data": {
      "image/png": "[encoded data removed]",
      "text/plain": [
       "<Figure size 432x288 with 1 Axes>"
      ]
     },
     "metadata": {
      "needs_background": "light"
     },
     "output_type": "display_data"
    },
    {
     "name": "stdout",
     "output_type": "stream",
     "text": [
      "ラベル: tensor(4)\n"
     ]
    }
   ],
   "source": [
    "data = images[2].numpy()\n",
    "plt.imshow(data.reshape(28, 28), cmap='inferno', interpolation='bicubic')\n",
    "plt.show()\n",
    "print('ラベル:', labels[2])"
   ]
  },
  {
   "cell_type": "code",
   "execution_count": 230,
   "metadata": {
    "ExecuteTime": {
     "end_time": "2019-06-03T09:28:59.768812Z",
     "start_time": "2019-06-03T09:28:59.671361Z"
    }
   },
   "outputs": [],
   "source": [
    "# 学習データ\n",
    "train_data_with_label = MNIST('~/tmp/mnist', train=True, download=True, transform=transforms.ToTensor())\n",
    "train_data_loader = DataLoader(train_data_with_label,batch_size=4,shuffle=True)\n",
    "# 検証データ\n",
    "test_data_with_label = MNIST('~/tmp/mnist', train=False, download=True, transform=transforms.ToTensor())\n",
    "test_data_loader = DataLoader(test_data_with_label,batch_size=4,shuffle=False)"
   ]
  },
  {
   "cell_type": "code",
   "execution_count": 231,
   "metadata": {
    "ExecuteTime": {
     "end_time": "2019-06-03T09:30:31.246976Z",
     "start_time": "2019-06-03T09:30:31.239173Z"
    }
   },
   "outputs": [],
   "source": [
    "class MLP(nn.Module):\n",
    "    def __init__(self):\n",
    "        super().__init__()\n",
    "        #入力層から中間層（隠れ層）\n",
    "        self.l1 = nn.Linear(28 * 28, 50)\n",
    "        # 中間層（隠れ層）から出力層\n",
    "        self.l2 = nn.Linear(50, 10)\n",
    "\n",
    "    def forward(self, x):\n",
    "        x = x.view(-1, 28 * 28)\n",
    "        x = self.l1(x)\n",
    "        x = self.l2(x)\n",
    "        return x"
   ]
  },
  {
   "cell_type": "code",
   "execution_count": 243,
   "metadata": {
    "ExecuteTime": {
     "end_time": "2019-06-03T10:58:40.361928Z",
     "start_time": "2019-06-03T10:58:40.355649Z"
    }
   },
   "outputs": [],
   "source": [
    "model = MLP()\n",
    "\n",
    "import torch.optim as optimizer\n",
    "\n",
    "# ソフトマックスロスエントロピー\n",
    "criterion = nn.CrossEntropyLoss()\n",
    "# SGD\n",
    "optimizer = optimizer.SGD(model.parameters(), lr=0.1)"
   ]
  },
  {
   "cell_type": "code",
   "execution_count": 244,
   "metadata": {
    "ExecuteTime": {
     "end_time": "2019-06-03T11:00:14.458127Z",
     "start_time": "2019-06-03T10:58:40.910322Z"
    }
   },
   "outputs": [
    {
     "name": "stdout",
     "output_type": "stream",
     "text": [
      "学習進捗：[1, 2000]　学習損失（loss）: 0.703\n",
      "学習進捗：[1, 4000]　学習損失（loss）: 0.690\n",
      "学習進捗：[1, 6000]　学習損失（loss）: 0.664\n",
      "学習進捗：[1, 8000]　学習損失（loss）: 0.725\n",
      "学習進捗：[1, 10000]　学習損失（loss）: 0.673\n",
      "学習進捗：[1, 12000]　学習損失（loss）: 0.722\n",
      "学習進捗：[1, 14000]　学習損失（loss）: 0.691\n",
      "学習進捗：[2, 2000]　学習損失（loss）: 0.731\n",
      "学習進捗：[2, 4000]　学習損失（loss）: 0.721\n",
      "学習進捗：[2, 6000]　学習損失（loss）: 0.718\n",
      "学習進捗：[2, 8000]　学習損失（loss）: 0.766\n",
      "学習進捗：[2, 10000]　学習損失（loss）: 0.721\n",
      "学習進捗：[2, 12000]　学習損失（loss）: 0.720\n",
      "学習進捗：[2, 14000]　学習損失（loss）: 0.733\n",
      "学習進捗：[3, 2000]　学習損失（loss）: 0.723\n",
      "学習進捗：[3, 4000]　学習損失（loss）: 0.845\n",
      "学習進捗：[3, 6000]　学習損失（loss）: 0.833\n",
      "学習進捗：[3, 8000]　学習損失（loss）: 0.760\n",
      "学習進捗：[3, 10000]　学習損失（loss）: 0.766\n",
      "学習進捗：[3, 12000]　学習損失（loss）: 0.826\n",
      "学習進捗：[3, 14000]　学習損失（loss）: 0.793\n",
      "学習進捗：[4, 2000]　学習損失（loss）: 0.774\n",
      "学習進捗：[4, 4000]　学習損失（loss）: 0.809\n",
      "学習進捗：[4, 6000]　学習損失（loss）: 0.798\n",
      "学習進捗：[4, 8000]　学習損失（loss）: 0.867\n",
      "学習進捗：[4, 10000]　学習損失（loss）: 0.839\n",
      "学習進捗：[4, 12000]　学習損失（loss）: 0.821\n",
      "学習進捗：[4, 14000]　学習損失（loss）: 0.791\n",
      "学習終了\n"
     ]
    }
   ],
   "source": [
    "# 最大学習回数\n",
    "MAX_EPOCH=4\n",
    "\n",
    "for epoch in range(MAX_EPOCH):\n",
    "    running_loss = 0.0\n",
    "    for i, data in enumerate(train_data_loader):\n",
    "    \n",
    "        # dataから学習対象データと教師ラベルデータを取り出す\n",
    "        train_data, teacher_labels = data\n",
    "\n",
    "        # 入力をtorch.autograd.Variableに変換\n",
    "        train_data, teacher_labels = Variable(train_data), Variable(teacher_labels)\n",
    "\n",
    "        # 計算された勾配情報を削除\n",
    "        optimizer.zero_grad()\n",
    "\n",
    "        # モデルでの予測を計算\n",
    "        outputs = model(train_data)\n",
    "\n",
    "        # lossとwによる微分計算\n",
    "        loss = criterion(outputs, teacher_labels)\n",
    "        loss.backward()\n",
    "\n",
    "        # 勾配を更新\n",
    "        optimizer.step()\n",
    "\n",
    "        # 損失の累計\n",
    "        running_loss += loss.data\n",
    "\n",
    "        # 2000ミニバッチずつ、進捗を表示\n",
    "        if i % 2000 == 1999:\n",
    "            print('学習進捗：[%d, %d]　学習損失（loss）: %.3f' % (epoch + 1, i + 1, running_loss / 2000))\n",
    "            running_loss = 0.0\n",
    "        \n",
    "print('学習終了')"
   ]
  },
  {
   "cell_type": "code",
   "execution_count": 238,
   "metadata": {
    "ExecuteTime": {
     "end_time": "2019-06-03T09:49:37.683564Z",
     "start_time": "2019-06-03T09:49:34.489821Z"
    }
   },
   "outputs": [
    {
     "name": "stdout",
     "output_type": "stream",
     "text": [
      "正解率：9204 / 10000 = 0.920400\n"
     ]
    }
   ],
   "source": [
    "count_when_correct = 0\n",
    "total = 0\n",
    "#\n",
    "for data in test_data_loader:\n",
    "  #\n",
    "  test_data, teacher_labels = data\n",
    "  #\n",
    "  results = model(Variable(test_data))\n",
    "  #\n",
    "  _, predicted = torch.max(results.data, 1)\n",
    "  #\n",
    "  total += teacher_labels.size(0)\n",
    "  count_when_correct += (predicted == teacher_labels).sum()\n",
    "    \n",
    "print('正解率：%d / %d = %f'% (count_when_correct, total, int(count_when_correct)/int(total)))"
   ]
  },
  {
   "cell_type": "code",
   "execution_count": 241,
   "metadata": {
    "ExecuteTime": {
     "end_time": "2019-06-03T10:26:57.531188Z",
     "start_time": "2019-06-03T10:26:57.183779Z"
    }
   },
   "outputs": [
    {
     "name": "stdout",
     "output_type": "stream",
     "text": [
      "ラベル： tensor(6)\n"
     ]
    },
    {
     "data": {
      "image/png": "[encoded data removed]",
      "text/plain": [
       "<Figure size 432x288 with 1 Axes>"
      ]
     },
     "metadata": {
      "needs_background": "light"
     },
     "output_type": "display_data"
    }
   ],
   "source": [
    "test_iterator = iter(test_data_loader)\n",
    "# ここで回数を増減して、違うテストデータを取り出せます\n",
    "test_data, labels = test_iterator.next()\n",
    "test_data, labels = test_iterator.next()\n",
    "test_data, labels = test_iterator.next()\n",
    "#\n",
    "results = model(Variable(test_data))\n",
    "_, predicted_label = torch.max(results.data, 1)\n",
    "\n",
    "plt.imshow(test_data [0].numpy().reshape(28, 28), cmap='inferno', interpolation='bicubic')\n",
    "print('ラベル：', predicted_label[0])\n",
    "\n"
   ]
  },
  {
   "cell_type": "markdown",
   "metadata": {},
   "source": [
    "## 【問題7】（アドバンス課題）フレームワークの比較\n",
    "それぞれのフレームワークにはどのような違いがあるかをまとめてください。\n",
    "\n",
    "興味がある場合はTensorFlow、Keras、PyTorch以外にも触れてみましょう。\n",
    "\n",
    "**視点例**\n",
    "\n",
    "- 計算速度\n",
    "- コードの行数・可読性\n",
    "- 用意されている機能"
   ]
  },
  {
   "cell_type": "markdown",
   "metadata": {},
   "source": [
    "- TensorFlow\n",
    "    - 基本的な計算処理の記述が可能なため、細かい調整もできる\n",
    "    - 利用者数が多く、コミュニティが大きい\n",
    "    - 計算グラフ構築後の変更が不可能\n",
    "    - 実装は難しい\n",
    "    \n",
    "    \n",
    "- Keras\n",
    "    - コーディング・実装が容易\n",
    "    - 処理の中身がブラックボックス\n",
    "    \n",
    "    \n",
    "- Chainer\n",
    "    - 柔軟な計算グラフの構築が可能\n",
    "    - 端的にコーディングが可能(Caffe上のコード2,058行がChainerでは167行)\n",
    "    - 国内では利用されている場面もあるが、国外ではあまり見かけられない\n",
    "    - 計算速度が遅くなりがち\n",
    "    \n",
    "    \n",
    "- PyTorch\n",
    "    - コミュニティ拡大中\n",
    "    - Chainerのメリットのほとんどを有する\n",
    "    - 研究用途であると宣言されている\n",
    "    - Python系では最速\n",
    "    \n",
    "    \n",
    "- Caffe\n",
    "    - 計算速度は非常に速い\n",
    "    - 実装には習熟が必要となる\n",
    "\n",
    "\n"
   ]
  },
  {
   "cell_type": "code",
   "execution_count": null,
   "metadata": {},
   "outputs": [],
   "source": []
  }
 ],
 "metadata": {
  "kernelspec": {
   "display_name": "Python 3",
   "language": "python",
   "name": "python3"
  },
  "language_info": {
   "codemirror_mode": {
    "name": "ipython",
    "version": 3
   },
   "file_extension": ".py",
   "mimetype": "text/x-python",
   "name": "python",
   "nbconvert_exporter": "python",
   "pygments_lexer": "ipython3",
   "version": "3.7.1"
  },
  "latex_envs": {
   "LaTeX_envs_menu_present": true,
   "autoclose": false,
   "autocomplete": true,
   "bibliofile": "biblio.bib",
   "cite_by": "apalike",
   "current_citInitial": 1,
   "eqLabelWithNumbers": true,
   "eqNumInitial": 1,
   "hotkeys": {
    "equation": "Ctrl-E",
    "itemize": "Ctrl-I"
   },
   "labels_anchors": false,
   "latex_user_defs": false,
   "report_style_numbering": false,
   "user_envs_cfg": false
  },
  "nbTranslate": {
   "displayLangs": [
    "*"
   ],
   "hotkey": "alt-t",
   "langInMainMenu": true,
   "sourceLang": "en",
   "targetLang": "fr",
   "useGoogleTranslate": true
  }
 },
 "nbformat": 4,
 "nbformat_minor": 2
}
