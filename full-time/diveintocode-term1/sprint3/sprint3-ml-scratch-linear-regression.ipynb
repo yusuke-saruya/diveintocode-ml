{
 "cells": [
  {
   "cell_type": "markdown",
   "metadata": {},
   "source": [
    "# Sprint3課題 機械学習スクラッチ線形回帰"
   ]
  },
  {
   "cell_type": "markdown",
   "metadata": {},
   "source": [
    "## 【問題1】線形回帰のクラスを作成する\n",
    "線形回帰のクラスを作成し、Sprint2で作成した回帰のパイプラインに組み込んでください。\n",
    "\n",
    "以下が雛形です。ここにメソッドを加えていってください。メソッドやパラメータなどはscikit-learnを参考にしてください。\n",
    "\n",
    "[sklearn.linear_model.LinearRegression — scikit-learn 0.20.0 documentation](https://scikit-learn.org/stable/modules/generated/sklearn.linear_model.LinearRegression.html)\n",
    "\n",
    "検証段階ではJupyter Notebook上で書いていき、最終的にはpyファイルにモジュールとしてまとめてください。"
   ]
  },
  {
   "cell_type": "markdown",
   "metadata": {},
   "source": [
    "### データ準備"
   ]
  },
  {
   "cell_type": "code",
   "execution_count": 1,
   "metadata": {},
   "outputs": [],
   "source": [
    "# モジュールをインポート\n",
    "import numpy as np\n",
    "import pandas as pd\n",
    "import matplotlib.pyplot as plt\n",
    "import seaborn as sns\n",
    "%matplotlib inline\n",
    "\n",
    "# train.csvの読み込み\n",
    "df_train = pd.read_csv(\"train.csv\")"
   ]
  },
  {
   "cell_type": "code",
   "execution_count": 2,
   "metadata": {},
   "outputs": [],
   "source": [
    "#GrLivAreaとYearBuiltを抜き出す\n",
    "X = df_train.loc[:, ['GrLivArea', 'YearBuilt']].values\n",
    "\n",
    "#目的変数SalePriceを抜き出す\n",
    "y = df_train.loc[:, ['SalePrice']].values"
   ]
  },
  {
   "cell_type": "code",
   "execution_count": 3,
   "metadata": {},
   "outputs": [],
   "source": [
    "from sklearn.model_selection import train_test_split\n",
    "\n",
    "X_train, X_validation, y_train, y_validation = train_test_split(\n",
    "    X, y, test_size=0.25, random_state=42)"
   ]
  },
  {
   "cell_type": "code",
   "execution_count": 4,
   "metadata": {},
   "outputs": [],
   "source": [
    "#標準化にする関数\n",
    "def standardize(data):\n",
    "    mean = data.mean(axis=0)\n",
    "    std = data.std(axis=0)\n",
    "    return (data - mean) / std"
   ]
  },
  {
   "cell_type": "code",
   "execution_count": 5,
   "metadata": {},
   "outputs": [],
   "source": [
    "# 標準化\n",
    "X_std = standardize(X_train)\n",
    "X_validation_std = standardize(X_validation)\n",
    "#１列目を標準化\n",
    "x1 = X_std[:,0]\n",
    "\n",
    "#2列目を標準化\n",
    "x2 = X_std[:,1]\n",
    "\n",
    "#形を揃える\n",
    "y = y_train.reshape(-1)\n",
    "y_validation = y_validation.reshape(-1)\n",
    "\n",
    "#データ数を確認\n",
    "m = len(X)\n",
    "\n",
    "#イテレーション数\n",
    "num_itr = 5\n",
    "\n",
    "#学習率\n",
    "lr = 0.5"
   ]
  },
  {
   "cell_type": "markdown",
   "metadata": {},
   "source": [
    "### 特徴量が二つの場合の検証"
   ]
  },
  {
   "cell_type": "code",
   "execution_count": 6,
   "metadata": {},
   "outputs": [
    {
     "name": "stdout",
     "output_type": "stream",
     "text": [
      "1回目\n",
      "損失関数 : 3.1246951786704276e+16\n",
      "theta0 : 0.72140169990072\n",
      "theta1 : 0.46324218533968076\n",
      "theta2 : 0.4618815760825007\n",
      "\n",
      "2回目\n",
      "損失関数 : 1.302846482683154e+16\n",
      "theta0 : 68142.55841030902\n",
      "theta1 : 20248.76124787874\n",
      "theta2 : 15168.24256664072\n",
      "\n",
      "3回目\n",
      "損失関数 : 6063863039363567.0\n",
      "theta0 : 110731.20654068972\n",
      "theta1 : 31950.578695079934\n",
      "theta2 : 23375.40145844958\n",
      "\n",
      "4回目\n",
      "損失関数 : 3390744782885396.5\n",
      "theta0 : 137349.11162217765\n",
      "theta1 : 38748.35473591769\n",
      "theta2 : 27769.35961066623\n",
      "\n",
      "5回目\n",
      "損失関数 : 2361261091971284.0\n",
      "theta0 : 153985.30229810762\n",
      "theta1 : 42720.783115243896\n",
      "theta2 : 30088.310160881272\n",
      "\n"
     ]
    }
   ],
   "source": [
    "#パラメータの初期化\n",
    "theta0 = np.random.rand()\n",
    "theta1 = np.random.rand()\n",
    "theta2 = np.random.rand()\n",
    "\n",
    "for i in range(num_itr):\n",
    "    #仮定関数\n",
    "    hypothsis = theta0 + theta1 * x1 + theta2 * x2\n",
    "\n",
    "    # 損失関数\n",
    "    cost_function = np.sum(((hypothsis - y) ** 2 )) / 2 * m\n",
    "    \n",
    "    #損失関数出力\n",
    "    print('{}回目'.format(i+1))\n",
    "    print('損失関数 : {}'.format(cost_function))\n",
    "    print('theta0 : {}\\ntheta1 : {}\\ntheta2 : {}\\n'.format(theta0, theta1, theta2))\n",
    "    \n",
    "    #最急降下法によりパラメータ更新\n",
    "    theta0 = theta0 - (np.sum(hypothsis - y) * lr / m) \n",
    "    theta1 = theta1 - (np.sum((hypothsis - y) * x1) * lr / m) \n",
    "    theta2 = theta2 - (np.sum((hypothsis - y) * x2) * lr / m) \n"
   ]
  },
  {
   "cell_type": "markdown",
   "metadata": {},
   "source": [
    "### 特徴量がn個の場合の検証"
   ]
  },
  {
   "cell_type": "code",
   "execution_count": 7,
   "metadata": {},
   "outputs": [
    {
     "name": "stdout",
     "output_type": "stream",
     "text": [
      "1回目\n",
      "損失関数 : 3.1247080769422176e+16\n",
      "\n",
      "2回目\n",
      "損失関数 : 1.30285163505225e+16\n",
      "\n",
      "3回目\n",
      "損失関数 : 6063883634465960.0\n",
      "\n",
      "4回目\n",
      "損失関数 : 3390753027269508.5\n",
      "\n",
      "5回目\n",
      "損失関数 : 2361264399735458.0\n",
      "\n"
     ]
    }
   ],
   "source": [
    "#x0（全て1）を０列目に挿入する\n",
    "X_std_0 = np.insert(X_std, 0, 1, axis=1)\n",
    "\n",
    "#n(特徴量の数+1)を算出\n",
    "n = X_std_0.shape[1]\n",
    "\n",
    "# パラメータの初期化\n",
    "theta = np.random.rand(1, n)\n",
    "\n",
    "for i in range(num_itr):\n",
    "\n",
    "    #仮定関数を求める\n",
    "    hypothesis = np.dot(X_std_0, theta.T).reshape(-1)\n",
    "\n",
    "    # 損失関数\n",
    "    cost_function = np.sum(((hypothesis - y) ** 2 )) / 2 * m\n",
    "    \n",
    "    print('{}回目'.format(i+1))\n",
    "    print('損失関数 : {}\\n'.format(cost_function))\n",
    "    \n",
    "    #最急降下法によりパラメータ更新\n",
    "    theta = theta - (np.dot((hypothesis - y), X_std_0) * lr / m)"
   ]
  },
  {
   "cell_type": "markdown",
   "metadata": {},
   "source": [
    "### 関数としてまとめる"
   ]
  },
  {
   "cell_type": "code",
   "execution_count": 31,
   "metadata": {},
   "outputs": [],
   "source": [
    "class ScratchLinearRegression():\n",
    "    \"\"\"\n",
    "    線形回帰のスクラッチ実装\n",
    "\n",
    "    Parameters\n",
    "    ----------\n",
    "    num_iter : int\n",
    "      イテレーション数\n",
    "    lr : float\n",
    "      学習率\n",
    "    no_bias : bool\n",
    "      バイアス項を入れない場合はTrue\n",
    "    verbose : bool\n",
    "      学習過程を出力する場合はTrue\n",
    "\n",
    "    Attributes\n",
    "    ----------\n",
    "    self.coef_ : 次の形のndarray, shape (n_features,)\n",
    "      パラメータ\n",
    "    self.loss : 次の形のndarray, shape (self.iter,)\n",
    "      学習用データに対する損失の記録\n",
    "    self.val_loss : 次の形のndarray, shape (self.iter,)\n",
    "      検証用データに対する損失の記録\n",
    "\n",
    "    \"\"\"\n",
    "\n",
    "    def __init__(self, num_iter, lr, bias, verbose):\n",
    "        # ハイパーパラメータを属性として記録\n",
    "        self.iter = num_iter\n",
    "        self.lr = lr\n",
    "        self.bias = bias\n",
    "        self.verbose = verbose\n",
    "        # 損失を記録する配列を用意\n",
    "        self.loss = np.zeros(self.iter)\n",
    "        self.val_loss = np.zeros(self.iter)\n",
    "    \n",
    "    \n",
    "        \n",
    "    def _linear_hypothesis(self, X):\n",
    "        \"\"\"\n",
    "        線形の仮定関数を計算する\n",
    "\n",
    "        Parameters\n",
    "        ----------\n",
    "        X : 次の形のndarray, shape (n_samples, n_features)\n",
    "          学習データ\n",
    "\n",
    "        Returns\n",
    "        -------\n",
    "          次の形のndarray, shape (n_samples, 1)\n",
    "          線形の仮定関数による推定結果\n",
    "\n",
    "        \"\"\"\n",
    "        #仮定関数を求める\n",
    "        hypothesis = np.dot(X, self.coef_.T).reshape(-1)\n",
    "\n",
    "        return hypothesis\n",
    "    \n",
    "    \n",
    "    \n",
    "    def MSE(self, y_pred, y):\n",
    "        \"\"\"\n",
    "        平均二乗誤差の計算\n",
    "\n",
    "        Parameters\n",
    "        ----------\n",
    "        y_pred : 次の形のndarray, shape (n_samples,)\n",
    "          推定した値\n",
    "        y : 次の形のndarray, shape (n_samples,)\n",
    "          正解値\n",
    "\n",
    "        Returns\n",
    "        ----------\n",
    "        mse : numpy.float\n",
    "          平均二乗誤差\n",
    "        \"\"\"    \n",
    "        mse = np.sum((y_pred - y) ** 2 ) / 2 * len(y)\n",
    "\n",
    "        return mse\n",
    "    \n",
    "    \n",
    "    \n",
    "    def _gradient_descent(self, X, error):\n",
    "        \"\"\"\n",
    "        最急降下法にてパラメータを更新する\n",
    "\n",
    "        Parameters\n",
    "        ----------\n",
    "        X : 次の形のndarray, shape (n_samples, n_features)\n",
    "          学習データ\n",
    "        error : 次の形のndarray, shape (n_samples,)\n",
    "          仮定関数から目的関数を差し引いたもの\n",
    "\n",
    "        Returns\n",
    "        ----------\n",
    "        self.coef_ : 次の形のndarray, shape (n_features,)\n",
    "          更新後のパラメータ\n",
    "        \"\"\"\n",
    "\n",
    "        #最急降下法によりパラメータ更新\n",
    "        self.coef_ = self.coef_ - (np.dot(error, X) * self.lr / len(X))\n",
    "\n",
    "        return self.coef_\n",
    "\n",
    "\n",
    "    \n",
    "    def fit(self, X, y, X_val=None, y_val=None):\n",
    "        \"\"\"\n",
    "        線形回帰を学習する。検証用データが入力された場合はそれに対する損失と精度もイテレーションごとに計算する。\n",
    "\n",
    "        Parameters\n",
    "        ----------\n",
    "        X : 次の形のndarray, shape (n_samples, n_features)\n",
    "            学習用データの特徴量\n",
    "        y : 次の形のndarray, shape (n_samples, )\n",
    "            学習用データの正解値\n",
    "        X_val : 次の形のndarray, shape (n_samples, n_features)\n",
    "            検証用データの特徴量\n",
    "        y_val : 次の形のndarray, shape (n_samples, )\n",
    "            検証用データの正解値\n",
    "            \n",
    "        Returns\n",
    "        -------\n",
    "        self : returns an instance of self.            \n",
    "            \n",
    "        \"\"\"\n",
    "        #バイアス項を含める場合は、\n",
    "        if self.bias is False:\n",
    "            #x0（全て1）を０列目に挿入する\n",
    "            X_0 = np.insert(X, 0, 1, axis=1)\n",
    "        #バイアス項を入れない場合はそのまま\n",
    "        else:\n",
    "            X_0 = X\n",
    "\n",
    "        #n(特徴量の数+1)を算出\n",
    "        n = X_0.shape[1]\n",
    "\n",
    "        # パラメータの初期化\n",
    "        self.coef_ = np.random.rand(1, n)\n",
    "        \n",
    "        m = len(X_0)\n",
    "        \n",
    "        #イテレーションの数だけパラメータを更新する\n",
    "        for i in range(self.iter):\n",
    "\n",
    "            #仮定関数を求める\n",
    "            hypothesis = self._linear_hypothesis(X_0)\n",
    "            \n",
    "            error = hypothesis - y\n",
    "\n",
    "            # 損失関数\n",
    "            cost_function = self.MSE(hypothesis, y)\n",
    "            \n",
    "            #損失関数を記録する\n",
    "            self.loss[i] = cost_function\n",
    "            \n",
    "            #最後の一回はパラメータ更新なし\n",
    "            if i <= self.iter - 1:\n",
    "                #最急降下法によりパラメータ更新\n",
    "                self.coef_ = self._gradient_descent(X_0, error)\n",
    "\n",
    "        if self.verbose:\n",
    "            #verboseをTrueにした際は学習過程を出力\n",
    "                map_result = map(str, self.loss)\n",
    "                result = ',\\n'.join(map_result)                \n",
    "                print('学習データ　MSE : \\n{}'.format(result))\n",
    "                \n",
    "        if X_val is not None:\n",
    "            #バイアス項を含める場合は、\n",
    "            if self.bias is False:\n",
    "                #x0（全て1）を０列目に挿入する\n",
    "                X_val_0 = np.insert(X_val, 0, 1, axis=1)\n",
    "            #バイアス項を入れない場合はそのまま\n",
    "            else:\n",
    "                X_val_0 = X_val\n",
    "\n",
    "            #n(特徴量の数+1)を算出\n",
    "            n = X_val_0.shape[1]\n",
    "\n",
    "            # パラメータの初期化\n",
    "            self.coef_ = np.random.rand(1, n)\n",
    "\n",
    "            m = len(X_val_0)\n",
    "\n",
    "            #イテレーションの数だけパラメータを更新する\n",
    "            for i in range(self.iter):\n",
    "\n",
    "                #仮定関数を求める\n",
    "                hypothesis_val = self._linear_hypothesis(X_val_0)\n",
    "\n",
    "                error_val = hypothesis_val - y_val\n",
    "\n",
    "                # 損失関数\n",
    "                cost_function_val = self.MSE(hypothesis_val, y_val)\n",
    "\n",
    "                #損失関数を記録する\n",
    "                self.val_loss[i] = cost_function_val\n",
    "\n",
    "                #最後の一回はパラメータ更新なし\n",
    "                if i <= self.iter - 1:\n",
    "                    #最急降下法によりパラメータ更新\n",
    "                    self.coef_ = self._gradient_descent(X_val_0, error_val)\n",
    "\n",
    "            if self.verbose:\n",
    "                #verboseをTrueにした際は学習過程を出力\n",
    "                map_result = map(str, self.val_loss)\n",
    "                result = ',\\n'.join(map_result)                \n",
    "                print('検証データ　MSE : \\n{}'.format(result))\n",
    "        \n",
    "    \n",
    "\n",
    "    def predict(self, X):\n",
    "        \"\"\"\n",
    "        線形回帰を使い推定する。\n",
    "\n",
    "        Parameters\n",
    "        ----------\n",
    "        X : 次の形のndarray, shape (n_samples, n_features)\n",
    "            サンプル\n",
    "\n",
    "        Returns\n",
    "        -------\n",
    "            次の形のndarray, shape (n_samples, 1)\n",
    "            線形回帰による推定結果\n",
    "        \"\"\"\n",
    "        #バイアス項を含める場合は、\n",
    "        if self.bias is False:\n",
    "            #x0（全て1）を０列目に挿入する\n",
    "            X_0 = np.insert(X, 0, 1, axis=1)\n",
    "        #バイアス項を入れない場合はそのまま\n",
    "        else:\n",
    "            X_0 = X\n",
    "\n",
    "        return np.dot(X_0, self.coef_.T)"
   ]
  },
  {
   "cell_type": "code",
   "execution_count": 32,
   "metadata": {},
   "outputs": [],
   "source": [
    "slr = ScratchLinearRegression(num_iter=10, lr=0.5, bias=False, verbose=True)"
   ]
  },
  {
   "cell_type": "code",
   "execution_count": 33,
   "metadata": {},
   "outputs": [
    {
     "name": "stdout",
     "output_type": "stream",
     "text": [
      "学習データ　MSE : \n",
      "2.343526807308248e+16,\n",
      "6651926848240840.0,\n",
      "2597499291031397.0,\n",
      "1607723315799573.5,\n",
      "1364181163810634.5,\n",
      "1303894436936824.2,\n",
      "1288900217067273.5,\n",
      "1285156128783718.0,\n",
      "1284217829639453.0,\n",
      "1283981820628382.2\n",
      "検証データ　MSE : \n",
      "2590174296394319.5,\n",
      "724984003328786.1,\n",
      "291009411381889.44,\n",
      "185949505181115.2,\n",
      "159894855257608.44,\n",
      "153319192573869.94,\n",
      "151630585448618.3,\n",
      "151187221078997.12,\n",
      "151067097690987.1,\n",
      "151033090367629.25\n"
     ]
    }
   ],
   "source": [
    "slr.fit(X=X_std, y=y, X_val=X_validation_std, y_val=y_validation)"
   ]
  },
  {
   "cell_type": "code",
   "execution_count": 146,
   "metadata": {},
   "outputs": [
    {
     "data": {
      "text/plain": [
       "array([[127611.33806146],\n",
       "       [321781.6957144 ],\n",
       "       [ 87791.44500564],\n",
       "       [174492.62750392],\n",
       "       [229215.25213399],\n",
       "       [ 90429.70607777],\n",
       "       [197091.54713144],\n",
       "       [183273.03326767],\n",
       "       [ 88451.30232292],\n",
       "       [153892.80497396]])"
      ]
     },
     "execution_count": 146,
     "metadata": {},
     "output_type": "execute_result"
    }
   ],
   "source": [
    "slr.predict(X_validation_std)[:10]"
   ]
  },
  {
   "cell_type": "markdown",
   "metadata": {},
   "source": [
    "### pyファイル(regression_pipeline.py)へモジュール化・検証"
   ]
  },
  {
   "cell_type": "code",
   "execution_count": 12,
   "metadata": {},
   "outputs": [],
   "source": [
    "# モジュール配置されているパスを取得\n",
    "import sys\n",
    "sys.path.append(\"/Users/yusuke-saruya/diveintocode-ml/full-time/diveintocode-term1/ml-scratch/utils/\")\n",
    "import regression_pipeline"
   ]
  },
  {
   "cell_type": "code",
   "execution_count": 142,
   "metadata": {},
   "outputs": [],
   "source": [
    "slr2 = regression_pipeline.ScratchLinearRegression(num_iter=1000, lr=0.01, bias=False, verbose=False)"
   ]
  },
  {
   "cell_type": "code",
   "execution_count": 143,
   "metadata": {},
   "outputs": [],
   "source": [
    "slr2.fit(X=X_std, y=y, X_val=X_validation_std, y_val=y_validation)"
   ]
  },
  {
   "cell_type": "code",
   "execution_count": 145,
   "metadata": {},
   "outputs": [
    {
     "data": {
      "text/plain": [
       "array([[127697.2430062 ],\n",
       "       [322198.36270032],\n",
       "       [ 88073.0864728 ],\n",
       "       [174867.20857734],\n",
       "       [229227.24155161],\n",
       "       [ 90319.46793052],\n",
       "       [197607.83753775],\n",
       "       [183399.39827969],\n",
       "       [ 88352.6686301 ],\n",
       "       [154131.91995169]])"
      ]
     },
     "execution_count": 145,
     "metadata": {},
     "output_type": "execute_result"
    }
   ],
   "source": [
    "slr2.predict(X_validation_std)[:10]"
   ]
  },
  {
   "cell_type": "markdown",
   "metadata": {},
   "source": [
    "## 【問題2】学習曲線のプロット\n",
    "まず、学習曲線を表示する関数を作成してください。\n",
    "\n",
    "線形回帰クラスの雛形ではself.loss, self.val_lossに損失を記録しておくようになっているため、入力にはこれを利用してください。"
   ]
  },
  {
   "cell_type": "code",
   "execution_count": 16,
   "metadata": {},
   "outputs": [
    {
     "data": {
      "text/plain": [
       "<function matplotlib.pyplot.show(*args, **kw)>"
      ]
     },
     "execution_count": 16,
     "metadata": {},
     "output_type": "execute_result"
    },
    {
     "data": {
      "image/png": "[encoded data removed]",
      "text/plain": [
       "<Figure size 432x288 with 1 Axes>"
      ]
     },
     "metadata": {
      "needs_background": "light"
     },
     "output_type": "display_data"
    }
   ],
   "source": [
    "plt.scatter(np.array(range(slr2.iter)), slr2.loss, label=\"loss\")\n",
    "plt.scatter(np.array(range(slr2.iter)), slr2.val_loss, label=\"val_loss\")\n",
    "\n",
    "plt.title(\"bias\")\n",
    "plt.xlabel(\"iter\")\n",
    "plt.ylabel(\"loss\")\n",
    "plt.legend()\n",
    "\n",
    "plt.show"
   ]
  },
  {
   "cell_type": "markdown",
   "metadata": {},
   "source": [
    "## 【問題3】（アドバンス課題）バイアス項の除去\n",
    "バイアス項$θ_0$を抜くと学習がどう変化するか検証してください。また、線形回帰モデルにおけるバイアス項の役割の考察・調査を行ってください。\n",
    "\n"
   ]
  },
  {
   "cell_type": "code",
   "execution_count": 147,
   "metadata": {},
   "outputs": [],
   "source": [
    "slr2_nobias = regression_pipeline.ScratchLinearRegression(num_iter=1000, lr=0.01, bias=True, verbose=False)\n",
    "slr2_nobias.fit(X=X_std, y=y, X_val=X_validation_std, y_val=y_validation)"
   ]
  },
  {
   "cell_type": "code",
   "execution_count": 148,
   "metadata": {},
   "outputs": [
    {
     "data": {
      "text/plain": [
       "<function matplotlib.pyplot.show(*args, **kw)>"
      ]
     },
     "execution_count": 148,
     "metadata": {},
     "output_type": "execute_result"
    },
    {
     "data": {
      "image/png": "[encoded data removed]",
      "text/plain": [
       "<Figure size 432x288 with 1 Axes>"
      ]
     },
     "metadata": {
      "needs_background": "light"
     },
     "output_type": "display_data"
    }
   ],
   "source": [
    "plt.scatter(np.array(range(slr2.iter)), slr2.loss, label=\"loss\")\n",
    "plt.scatter(np.array(range(slr2.iter)), slr2.val_loss, label=\"val_loss\")\n",
    "plt.scatter(np.array(range(slr2_nobias.iter)), slr2_nobias.loss, label=\"nobias_loss\")\n",
    "plt.scatter(np.array(range(slr2_nobias.iter)), slr2_nobias.val_loss, label=\"nobias_val_loss\")\n",
    "\n",
    "\n",
    "\n",
    "plt.title(\"compared with bias\")\n",
    "plt.xlabel(\"iter\")\n",
    "plt.ylabel(\"loss\")\n",
    "plt.legend()\n",
    "\n",
    "plt.show"
   ]
  },
  {
   "cell_type": "markdown",
   "metadata": {},
   "source": [
    "### 考察・調査\n",
    "- 上図にて、バイアス項を利用しない場合、バイアス項を利用する場合より損失関数が大きい値の状態で収束してしまう\n",
    "- バイアス項を加えるとは、重みを一つ追加するのと同じ。バイアス項を加えることで、重み付き入力を偏らせることが出来る。\n",
    "- バイアス項がないということは、平面上の一次関数では切片がないということ。原点を通る回帰グラフでしか予測することができないため、予測を行なった際の損失が増大してしまう。"
   ]
  },
  {
   "cell_type": "markdown",
   "metadata": {},
   "source": [
    "## 【問題4】（アドバンス課題）特徴量の多次元化\n",
    "特徴量の二乗や三乗を入力に利用すると学習結果がどう変化するか検証してください。"
   ]
  },
  {
   "cell_type": "code",
   "execution_count": 149,
   "metadata": {},
   "outputs": [],
   "source": [
    "#元の特徴量にて学習結果を確認\n",
    "slr2_1 = regression_pipeline.ScratchLinearRegression(num_iter=1000, lr=10e-9, bias=True, verbose=False)\n",
    "slr2_1.fit(X=X_train, y=y_train.reshape(-1))"
   ]
  },
  {
   "cell_type": "code",
   "execution_count": 151,
   "metadata": {},
   "outputs": [],
   "source": [
    "#特徴量に二乗を行い、学習結果を確認\n",
    "slr2_2 = regression_pipeline.ScratchLinearRegression(num_iter=1000, lr=10e-16, bias=True, verbose=False)\n",
    "slr2_2.fit(X=X_train**2, y=y_train.reshape(-1))"
   ]
  },
  {
   "cell_type": "code",
   "execution_count": 153,
   "metadata": {},
   "outputs": [],
   "source": [
    "#特徴量に三乗を行い、学習結果を確認\n",
    "slr2_3 = regression_pipeline.ScratchLinearRegression(num_iter=1000, lr=10e-23, bias=True, verbose=False)\n",
    "slr2_3.fit(X=X_train**3, y=y_train.reshape(-1))"
   ]
  },
  {
   "cell_type": "code",
   "execution_count": 154,
   "metadata": {},
   "outputs": [
    {
     "data": {
      "text/plain": [
       "<matplotlib.legend.Legend at 0x1a234d5978>"
      ]
     },
     "execution_count": 154,
     "metadata": {},
     "output_type": "execute_result"
    },
    {
     "data": {
      "image/png": "[encoded data removed]",
      "text/plain": [
       "<Figure size 1080x360 with 3 Axes>"
      ]
     },
     "metadata": {
      "needs_background": "light"
     },
     "output_type": "display_data"
    }
   ],
   "source": [
    "plt.figure(figsize=(15, 5)) # figureの縦横の大きさ\n",
    "\n",
    "plt.subplot(1,3,1)\n",
    "plt.plot(slr2_1.loss, label=\"loss\")\n",
    "plt.title(\"original\")\n",
    "plt.xlabel(\"iter\")\n",
    "plt.ylabel(\"loss\")\n",
    "plt.legend()\n",
    "\n",
    " \n",
    "plt.subplot(1,3,2)\n",
    "plt.plot(slr2_2.loss, label=\"loss\")\n",
    "plt.title(\"square\")\n",
    "plt.xlabel(\"iter\")\n",
    "plt.ylabel(\"loss\")\n",
    "plt.legend()\n",
    "\n",
    "\n",
    "plt.subplot(1,3,3)\n",
    "plt.plot(slr2_3.loss, label=\"loss\")\n",
    "plt.title(\"cubu\")\n",
    "plt.xlabel(\"iter\")\n",
    "plt.ylabel(\"loss\")\n",
    "plt.legend()"
   ]
  },
  {
   "cell_type": "markdown",
   "metadata": {},
   "source": [
    "### まとめ\n",
    "- 二乗、三乗を行うごとに学習率を小さくする必要ある（学習率が大きいと、損失がそのまま増大し続けて発散してしまう）\n",
    "- 収束が行われ、最終的に算出された損失は二乗、三乗を行うごとに増大していく。"
   ]
  },
  {
   "cell_type": "markdown",
   "metadata": {},
   "source": [
    "## 【問題5】（アドバンス課題）更新式の導出\n",
    "最急降下法の更新式は以下でした。この式が導出される過程を説明してください。\n",
    "$$\n",
    "    \\theta_j := \\theta_j - \\alpha \\frac{1}{m}\\sum_{i=1}^{m}[(h_{\\theta}(x^{(i)}) - y^{(i)})x_j^{(i)}]\n",
    "$$\n",
    "\n",
    "以下の式から説明をはじめることができます。\n",
    "\n",
    "$$\n",
    "    \\theta_j := \\theta_j - \\alpha \\frac{\\partial}{\\partial\\theta_j}J(\\theta)\n",
    "$$\n"
   ]
  },
  {
   "cell_type": "markdown",
   "metadata": {},
   "source": [
    "### 導出過程\n",
    "\n",
    "仮定関数：$h\\theta(x) = \\theta_0 x_0 + \\theta_1 x_1 + \\cdots +\\theta_j x_j + \\cdots +\\theta_n x_n$  \n",
    "目的関数：$J(\\theta) = \\frac{1}{2m} \\sum_{i=1}^{m}(h_\\theta(x^{i}) - y^{(i)})^2$\n",
    "\n",
    "\n",
    "$$\n",
    "        \\theta_j := \\theta_j - \\alpha \\frac{\\partial}{\\partial\\theta_j}J(\\theta)\n",
    "$$\n",
    "より、更新式の偏微分を行う。ここで、\n",
    "\n",
    "$$\n",
    "    u = J(\\theta) \\\\\n",
    "    v = h_{\\theta}(x)\n",
    "$$\n",
    "とすると、\n",
    "\n",
    "$$\n",
    "    \\frac{\\partial u}{\\partial \\theta_j} = \\frac{\\partial u}{\\partial v} \\cdot \\frac{\\partial v}{\\partial \\theta_j}\n",
    "$$\n",
    "\n",
    "にて、合成関数の微分を行う。\n",
    "\n",
    "①$\\frac{\\partial u}{\\partial v}$\n",
    "\n",
    "$$\n",
    "\\begin{eqnarray}\n",
    "    \\frac{\\partial u}{\\partial v} &=& \\frac{\\partial}{\\partial v} J(\\theta) \\\\\n",
    "        &=& \\frac{\\partial}{\\partial v}(\\frac{1}{2m}\\sum_{i=1}^{m}(v - y^{(i)}))^2 \\\\\n",
    "        &=& \\frac{1}{2m}\\sum_{i=1}^{m} \\frac{\\partial}{\\partial v}(v^2 -2vy^{(i)} + y^{(i)2}) \\\\\n",
    "        &=& \\frac{1}{2m}\\sum_{i=1}^{m} (2v - 2y^{(i)}) \\\\\n",
    "        &=& \\frac{1}{m}\\sum_{i=1}^{m} (v - y^{(i)})\n",
    "\\end{eqnarray}\n",
    "$$\n",
    "\n",
    "②$\\frac{\\partial v}{\\partial \\theta_j}$\n",
    "\n",
    "$$\n",
    "\\begin{eqnarray}\n",
    "    \\frac{\\partial v}{\\partial \\theta_j} &=& \\frac{\\partial}{\\partial \\theta_j} h_{\\theta}(x) \\\\\n",
    "        &=& \\frac{\\partial}{\\partial \\theta_j}(\\theta_0 x_0 + \\theta_1 x_1 + \\cdots +\\theta_j x_j + \\cdots +\\theta_n x_n) \\\\\n",
    "        &=& x_j\n",
    "\\end{eqnarray}\n",
    "$$\n",
    "\n",
    "①、②より、\n",
    "\n",
    "$$\n",
    "\\begin{eqnarray}\n",
    "    \\frac{\\partial u}{\\partial \\theta_j} = \\frac{\\partial u}{\\partial v} \\cdot \\frac{\\partial v}{\\partial \\theta_j}\\\\\n",
    "        &=& \\frac{1}{m}\\sum_{i=1}^{m} (v - y^{(i)}) \\cdot x_j^{(i)} \\\\\n",
    "        &=& \\frac{1}{m}\\sum_{i=1}^{m} [(v - y^{(i)}) x_j^{(i)}]\n",
    "\\end{eqnarray}\n",
    "$$\n",
    "\n",
    "よって、\n",
    "\n",
    "$$\n",
    "\\begin{eqnarray}\n",
    "    \\theta_j &:=& \\theta_j - \\alpha \\frac{\\partial}{\\partial\\theta_j}J(\\theta) \\\\\n",
    "    \\theta_j &:=& \\theta_j - \\alpha \\frac{1}{m}\\sum_{i=1}^{m}[(h_{\\theta}(x^{(i)}) - y^{(i)})x_j^{(i)}]\n",
    "\\end{eqnarray}\n",
    "$$"
   ]
  },
  {
   "cell_type": "markdown",
   "metadata": {},
   "source": [
    "## 【問題6】（アドバンス課題）局所最適解の問題\n",
    "最急降下法には一般的に局所最適解の問題があります。しかし、線形回帰では学習を続ければ必ず最適解を求めることができます。それはなぜか数式やグラフを用いて説明してください。"
   ]
  },
  {
   "cell_type": "markdown",
   "metadata": {},
   "source": [
    "### 回答\n",
    "今回の線形回帰では、最小化を行う目的関数（損失関数）（$J(\\theta) = \\frac{1}{2m} \\sum_{i=1}^{m}(h_\\theta(x^{i}) - y^{(i)})^2$）が二次関数であり、この目的関数における極小値（下に凸の二次関数であれば、底の部分）を捉えることにより、最適解を求めることができる。  \n",
    "※数学的解釈はできませんでした。"
   ]
  },
  {
   "cell_type": "markdown",
   "metadata": {},
   "source": [
    "## 【問題7】スクラッチで学べることは何か\n",
    "最終発表時に以下の内容についてディスカッションを行います。自分なりの意見を用意しておいてください。\n",
    "\n",
    "- ライブラリを使うのではなくスクラッチでアルゴリズムを実装したことで学べたことは何か\n",
    "\n",
    "**注意点**\n",
    "\n",
    "感想ではなく、他人を納得させられるような内容にしてください。"
   ]
  },
  {
   "cell_type": "markdown",
   "metadata": {},
   "source": [
    "### 回答\n",
    "- ライブラリの理解  \n",
    "ライブラリで用いられている各種パラメータが、どの関数に対してどれほど影響を受けることになるのか実装を行う中で確かめることができる\n",
    "\n",
    "- オブジェクト指向プログラミングの訓練  \n",
    "ライブラリとしてどのように動くのかの\"答え\"が用意されているため、動きを確認して正しく実装ができているか、オブジェクト指向の視点からも実装訓練を行うことができる"
   ]
  },
  {
   "cell_type": "code",
   "execution_count": null,
   "metadata": {},
   "outputs": [],
   "source": []
  }
 ],
 "metadata": {
  "kernelspec": {
   "display_name": "Python 3",
   "language": "python",
   "name": "python3"
  },
  "language_info": {
   "codemirror_mode": {
    "name": "ipython",
    "version": 3
   },
   "file_extension": ".py",
   "mimetype": "text/x-python",
   "name": "python",
   "nbconvert_exporter": "python",
   "pygments_lexer": "ipython3",
   "version": "3.7.1"
  }
 },
 "nbformat": 4,
 "nbformat_minor": 2
}
