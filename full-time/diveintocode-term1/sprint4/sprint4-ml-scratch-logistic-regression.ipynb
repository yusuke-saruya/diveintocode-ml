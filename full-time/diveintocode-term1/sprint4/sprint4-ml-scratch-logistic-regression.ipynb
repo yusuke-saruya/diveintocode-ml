{
 "cells": [
  {
   "cell_type": "markdown",
   "metadata": {},
   "source": [
    "# Sprint4課題 機械学習スクラッチロジスティック回帰"
   ]
  },
  {
   "cell_type": "markdown",
   "metadata": {},
   "source": [
    " ## 【問題1】ロジスティック回帰のクラスを作成する\n",
    "ロジスティック回帰のクラスを作成し、Sprint2で作成した分類のパイプラインに組み込んでください。\n",
    "\n",
    "クラスの基本構造はSprint3の線形回帰を参考にし、名前はScratchLogisticRegressionとしてください。\n",
    "\n",
    "メソッドやパラメータなどはscikit-learnを参考にしてください。推定関係ではラベルを出力するpredictメソッドと、確率を出力するpredict_probaメソッドの2種類を作成します。\n",
    "\n",
    "[sklearn.linear_model.LinearRegression — scikit-learn 0.20.0 documentation](https://scikit-learn.org/stable/modules/generated/sklearn.linear_model.LinearRegression.html)\n",
    "\n",
    "検証段階ではJupyter Notebook上で書いていき、最終的にはpyファイルにモジュールとしてまとめてください。\n",
    "\n",
    "### シグモイド関数\n",
    "**コーディング**\n",
    "\n",
    "シグモイド関数を実装しましょう。\n",
    "\n",
    "$$\n",
    "    g(z) = \\frac{1}{1+e^{-z}}\n",
    "$$\n",
    "\n",
    "正しく動作しているかを確認するために、この関数に-10から10の値を入力したときの出力をプロットしておいてください。\n",
    "\n"
   ]
  },
  {
   "cell_type": "code",
   "execution_count": 36,
   "metadata": {},
   "outputs": [],
   "source": [
    "from sklearn.datasets import load_iris\n",
    "import pandas as pd\n",
    "from pandas import DataFrame\n",
    "import numpy as np\n",
    "import matplotlib.pyplot as plt\n",
    "import seaborn as sns\n",
    "import pickle\n",
    "\n",
    "import sys\n",
    "sys.path.append(\"/Users/yusuke-saruya/diveintocode-ml/full-time/diveintocode-term1/ml-scratch/utils/\")\n",
    "import ScratchLogisticRegression"
   ]
  },
  {
   "cell_type": "code",
   "execution_count": 37,
   "metadata": {},
   "outputs": [
    {
     "data": {
      "text/html": [
       "<div>\n",
       "<style scoped>\n",
       "    .dataframe tbody tr th:only-of-type {\n",
       "        vertical-align: middle;\n",
       "    }\n",
       "\n",
       "    .dataframe tbody tr th {\n",
       "        vertical-align: top;\n",
       "    }\n",
       "\n",
       "    .dataframe thead th {\n",
       "        text-align: right;\n",
       "    }\n",
       "</style>\n",
       "<table border=\"1\" class=\"dataframe\">\n",
       "  <thead>\n",
       "    <tr style=\"text-align: right;\">\n",
       "      <th></th>\n",
       "      <th>sepal length (cm)</th>\n",
       "      <th>sepal width (cm)</th>\n",
       "      <th>Species</th>\n",
       "    </tr>\n",
       "  </thead>\n",
       "  <tbody>\n",
       "    <tr>\n",
       "      <th>0</th>\n",
       "      <td>5.1</td>\n",
       "      <td>3.5</td>\n",
       "      <td>0</td>\n",
       "    </tr>\n",
       "    <tr>\n",
       "      <th>1</th>\n",
       "      <td>4.9</td>\n",
       "      <td>3.0</td>\n",
       "      <td>0</td>\n",
       "    </tr>\n",
       "    <tr>\n",
       "      <th>2</th>\n",
       "      <td>4.7</td>\n",
       "      <td>3.2</td>\n",
       "      <td>0</td>\n",
       "    </tr>\n",
       "    <tr>\n",
       "      <th>3</th>\n",
       "      <td>4.6</td>\n",
       "      <td>3.1</td>\n",
       "      <td>0</td>\n",
       "    </tr>\n",
       "    <tr>\n",
       "      <th>4</th>\n",
       "      <td>5.0</td>\n",
       "      <td>3.6</td>\n",
       "      <td>0</td>\n",
       "    </tr>\n",
       "  </tbody>\n",
       "</table>\n",
       "</div>"
      ],
      "text/plain": [
       "   sepal length (cm)  sepal width (cm)  Species\n",
       "0                5.1               3.5        0\n",
       "1                4.9               3.0        0\n",
       "2                4.7               3.2        0\n",
       "3                4.6               3.1        0\n",
       "4                5.0               3.6        0"
      ]
     },
     "execution_count": 37,
     "metadata": {},
     "output_type": "execute_result"
    }
   ],
   "source": [
    "#irisデータセットの読み込み\n",
    "iris = load_iris()\n",
    "\n",
    "# 説明変数をPandasのDataFrame型変数Xに格納\n",
    "X = DataFrame(iris.data, columns = iris.feature_names)\n",
    "\n",
    "# 目的変数をPandasのDataFrame型変数yに格納し、カラム名を\"Species\"に変更\n",
    "y = DataFrame(iris.target, columns = [\"Species\"])\n",
    "\n",
    "#X,yを結合させたDataFrame型変数dfを作成\n",
    "df = pd.concat([X, y], sort=False, axis=1)\n",
    "\n",
    "\"\"\"\n",
    "<Species>\n",
    "0:setosa\n",
    "1:versicolor\n",
    "2:virginica') \n",
    "\"\"\"\n",
    "\n",
    "#setosaとvirgicolorのデータセット\n",
    "df_extraction = df.query('Species in [\"0\", \"1\"]')\n",
    "\n",
    "#sepal_lengthとpetal_length、Speciesのデータセット\n",
    "df_extraction = df_extraction.loc[:,['sepal length (cm)', 'sepal width (cm)', 'Species']]\n",
    "\n",
    "df_extraction.head()"
   ]
  },
  {
   "cell_type": "code",
   "execution_count": 38,
   "metadata": {},
   "outputs": [],
   "source": [
    "from sklearn.model_selection import train_test_split\n",
    "\n",
    "#作成したデータより分割前データを作成する\n",
    "#ndarrayへ変換を行う\n",
    "X = df_extraction.loc[:,['sepal length (cm)', 'sepal width (cm)']].values\n",
    "y = df_extraction.loc[:,['Species']].values\n",
    "\n",
    "#学習用データ75%、検証データに25%分割する\n",
    "X_train, X_validation, y_train, y_validation = train_test_split(\n",
    "    X, y, test_size=0.25, random_state=30)"
   ]
  },
  {
   "cell_type": "code",
   "execution_count": 39,
   "metadata": {},
   "outputs": [],
   "source": [
    "#シグモイド関数\n",
    "def sigmoid(z):\n",
    "    return 1 / (1 + np.exp(-z))"
   ]
  },
  {
   "cell_type": "code",
   "execution_count": 40,
   "metadata": {},
   "outputs": [
    {
     "data": {
      "image/png": "[encoded data removed]",
      "text/plain": [
       "<Figure size 432x288 with 1 Axes>"
      ]
     },
     "metadata": {
      "needs_background": "light"
     },
     "output_type": "display_data"
    }
   ],
   "source": [
    "# -10から10の値を生成する\n",
    "z1 = np.arange(-10,10,0.1)\n",
    "\n",
    "#シグモイド関数に入力する\n",
    "sigmoid_z1 = sigmoid(z1)\n",
    "\n",
    "#プロット図を表示する\n",
    "plt.plot(z1, sigmoid(z1))\n",
    "plt.title('sigmoid')\n",
    "plt.xlabel('z')\n",
    "plt.ylabel('g(z)')\n",
    "plt.grid()"
   ]
  },
  {
   "cell_type": "markdown",
   "metadata": {},
   "source": [
    "### 目的関数\n",
    "以下の数式で表されるロジスティック回帰の目的関数\n",
    "J\n",
    "を実装してください。この数式には正則化項が含まれています。\n",
    "\n",
    "$$\n",
    "    h_\\theta(x) = g(\\theta^T x) \\\\\n",
    "    g(z) = \\frac{1}{1+e^{-z}} \\\\\n",
    "    J(\\theta) = \\frac{1}{m}\\sum_{i=1}^{m}[-y^{(i)}\\log(h_\\theta(x^{(i)})) - (1-y^{(i)})\\log(1 - h_\\theta(x^{(i)}))] + \\frac{\\lambda}{2m}\\sum_{j=1}^{n}\\theta_j^2\n",
    "$$\n",
    "\n",
    "$m$: 入力されるデータの数\n",
    "\n",
    "$h_\\theta()$ : 仮定関数\n",
    "\n",
    "$x$ : 特徴量ベクトル\n",
    "\n",
    "$\\theta$ : パラメータベクトル\n",
    "\n",
    "$g()$ : シグモイド関数\n",
    "\n",
    "$x(i)$ : i番目のサンプルの特徴量ベクトル\n",
    "\n",
    "$y(i)$: i番目のサンプルの正解ラベル\n",
    "\n",
    "$\\theta$: j番目のパラメータ（重み）\n",
    "\n",
    "$n$: 特徴量の数\n",
    "\n",
    "$\\lambda$: 正則化パラメータ\n",
    "\n",
    "\n",
    "\n"
   ]
  },
  {
   "cell_type": "code",
   "execution_count": 41,
   "metadata": {},
   "outputs": [],
   "source": [
    "#標準化にする関数\n",
    "def standardize(data):\n",
    "    mean = data.mean(axis=0)\n",
    "    std = data.std(axis=0)\n",
    "    return (data - mean) / std"
   ]
  },
  {
   "cell_type": "code",
   "execution_count": 42,
   "metadata": {},
   "outputs": [],
   "source": [
    "#thetaを初期化する\n",
    "theta = np.random.rand(1,3)\n",
    "\n",
    "#標準化する\n",
    "X_train_one = standardize(X_train)\n",
    "\n",
    "#０列目に1をインサート(x0=1)する\n",
    "X_train_one = np.insert(X_train_one, 0 ,1, axis=1)"
   ]
  },
  {
   "cell_type": "code",
   "execution_count": 43,
   "metadata": {},
   "outputs": [],
   "source": [
    "# 仮定関数\n",
    "def hypothesis(theta, x):\n",
    "    return sigmoid(np.dot(x, theta.T))"
   ]
  },
  {
   "cell_type": "code",
   "execution_count": 44,
   "metadata": {},
   "outputs": [
    {
     "data": {
      "image/png": "[encoded data removed]",
      "text/plain": [
       "<Figure size 432x288 with 1 Axes>"
      ]
     },
     "metadata": {
      "needs_background": "light"
     },
     "output_type": "display_data"
    }
   ],
   "source": [
    "#散布図で確認\n",
    "plt.scatter(np.dot(X_train_one, theta.T) ,hypothesis(theta, X_train_one))\n",
    "plt.grid()"
   ]
  },
  {
   "cell_type": "code",
   "execution_count": 45,
   "metadata": {},
   "outputs": [],
   "source": [
    "def objective(h, y, C=10):\n",
    "    return (\n",
    "        ((np.dot(-y.T, np.log(h)) - np.dot((1 - y).T, np.log(1- h))) / len(y_train))\n",
    "            + (np.sum(theta ** 2) *  C / (2 * len(y_train)))\n",
    "    )"
   ]
  },
  {
   "cell_type": "code",
   "execution_count": 46,
   "metadata": {},
   "outputs": [
    {
     "data": {
      "text/plain": [
       "array([[0.75315924]])"
      ]
     },
     "execution_count": 46,
     "metadata": {},
     "output_type": "execute_result"
    }
   ],
   "source": [
    "objective(hypothesis(theta, X_train_one), y_train, C=20)"
   ]
  },
  {
   "cell_type": "markdown",
   "metadata": {},
   "source": [
    "### 最急降下法\n",
    "最急降下法により学習させてください。バイアス項およびj番目のパラメータの更新には以下の式を使います。\n",
    "\n",
    "$$\n",
    "    \\frac{\\partial J(\\theta)}{\\partial \\theta_0} = \\frac{1}{m}\\sum_{i=1}^{m}(h_\\theta(x^{(i)}) - y^{(i)})x_j^{(i)},\\,　j=0　\\\\\n",
    "    \\frac{\\partial J(\\theta)}{\\partial \\theta_j} = (\\frac{1}{m}\\sum_{i=1}^{m}(h_\\theta(x^{(i)}) - y^{(i)})x_j^{(i)}) + \\frac{\\lambda}{m} \\theta_j ,\\,　j\\geq1\n",
    "$$"
   ]
  },
  {
   "cell_type": "code",
   "execution_count": 47,
   "metadata": {},
   "outputs": [
    {
     "data": {
      "text/plain": [
       "array([0.08370712])"
      ]
     },
     "execution_count": 47,
     "metadata": {},
     "output_type": "execute_result"
    }
   ],
   "source": [
    "# j=0の時の更新式の確認\n",
    "update_0 = ((np.dot(X_train_one.T, (hypothesis(theta, X_train_one) - y_train))) / len(y_train))[0]\n",
    "update_0"
   ]
  },
  {
   "cell_type": "code",
   "execution_count": 48,
   "metadata": {},
   "outputs": [
    {
     "data": {
      "text/plain": [
       "array([-0.16806059,  0.45394133])"
      ]
     },
     "execution_count": 48,
     "metadata": {},
     "output_type": "execute_result"
    }
   ],
   "source": [
    "#j>=1の時の更新式の確認\n",
    "C=10\n",
    "update_j = (((np.dot(X_train_one.T, (hypothesis(theta, X_train_one) - y_train))) / len(y_train)) + (((C / len(y_train)) * theta).T))[1:].reshape(-1)\n",
    "update_j"
   ]
  },
  {
   "cell_type": "code",
   "execution_count": 49,
   "metadata": {},
   "outputs": [
    {
     "data": {
      "text/plain": [
       "array([ 0.08370712, -0.16806059,  0.45394133])"
      ]
     },
     "execution_count": 49,
     "metadata": {},
     "output_type": "execute_result"
    }
   ],
   "source": [
    "#連結の確認\n",
    "np.concatenate([update_0, update_j])    "
   ]
  },
  {
   "cell_type": "code",
   "execution_count": 50,
   "metadata": {},
   "outputs": [],
   "source": [
    "def gradient_descent(X, y, theta):\n",
    "    \"\"\"\n",
    "    最急降下法にてパラメータを更新する\n",
    "\n",
    "    Parameters\n",
    "    ----------\n",
    "    X : 次の形のndarray, shape (n_samples, n_features)\n",
    "      学習データ\n",
    "\n",
    "    Returns\n",
    "    ----------\n",
    "    self.coef_ : 次の形のndarray, shape (n_features,)\n",
    "      更新後のパラメータ\n",
    "    \"\"\"\n",
    "\n",
    "    update_0 = ((np.dot(X.T, (hypothesis(theta, X) - y))) / len(y))[0]\n",
    "\n",
    "    update_j = (((np.dot(X.T, (hypothesis(theta, X) - y))) / len(y)) + (((C / len(y)) * theta).T))[1:].reshape(-1)\n",
    "\n",
    "    update = np.concatenate([update_0, update_j])\n",
    "\n",
    "    theta = theta - update\n",
    "\n",
    "    return theta\n"
   ]
  },
  {
   "cell_type": "code",
   "execution_count": 51,
   "metadata": {},
   "outputs": [
    {
     "name": "stdout",
     "output_type": "stream",
     "text": [
      "[[ 0.24665974  0.57086312 -0.28312526]]\n",
      "[[ 0.17371726  0.71220006 -0.4953841 ]]\n",
      "[[ 0.12217542  0.80114227 -0.62869379]]\n",
      "[[ 0.08410479  0.85941379 -0.71602402]]\n",
      "[[ 0.05494382  0.89853151 -0.77495432]]\n",
      "[[ 0.032022    0.9251705  -0.81552398]]\n",
      "[[ 0.01367629  0.94345714 -0.84384228]]\n",
      "[[-0.00119376  0.95605647 -0.86380619]]\n",
      "[[-0.01335489  0.96474131 -0.87798601]]\n",
      "[[-0.0233643   0.97071463 -0.88811745]]\n",
      "[[-0.0316407   0.97480365 -0.89539249]]\n",
      "[[-0.03850704  0.97758213 -0.90063971]]\n",
      "[[-0.04421752  0.97945019 -0.90444017]]\n",
      "[[-0.04897529  0.98068767 -0.90720412]]\n",
      "[[-0.05294465  0.98149049 -0.90922269]]\n",
      "[[-0.05625957  0.98199576 -0.91070337]]\n",
      "[[-0.05903008  0.98229922 -0.91179454]]\n",
      "[[-0.06134693  0.98246755 -0.91260264]]\n",
      "[[-0.06328529  0.98254695 -0.91320426]]\n",
      "[[-0.06490755  0.98256923 -0.91365467]]\n"
     ]
    }
   ],
   "source": [
    "#パラメータが更新されているか確認する\n",
    "theta = np.random.rand(1,3)\n",
    "for i in range(20):\n",
    "    theta = gradient_descent(X_train_one, y_train, theta)\n",
    "    print(theta)"
   ]
  },
  {
   "cell_type": "markdown",
   "metadata": {},
   "source": [
    "### クラスにまとめる"
   ]
  },
  {
   "cell_type": "code",
   "execution_count": 52,
   "metadata": {},
   "outputs": [],
   "source": [
    "from sklearn.datasets import load_iris\n",
    "import pandas as pd\n",
    "from pandas import DataFrame\n",
    "import numpy as np\n",
    "import matplotlib.pyplot as plt\n",
    "from matplotlib.colors import ListedColormap\n",
    "import matplotlib.patches as mpatches\n",
    "from scipy import integrate\n",
    "import pickle\n",
    "\n",
    "class ScratchLogisticRegression():\n",
    "    \"\"\"\n",
    "    ロジスティック回帰のスクラッチ実装\n",
    "\n",
    "    Parameters\n",
    "    ----------\n",
    "    num_iter : int\n",
    "      イテレーション数\n",
    "    lr : float\n",
    "      学習率\n",
    "    no_bias : bool\n",
    "      バイアス項を入れない場合はTrue\n",
    "    verbose : bool\n",
    "      学習過程を出力する場合はTrue\n",
    "    C : int\n",
    "        正則化パラメータ(デフォルト値10)\n",
    "\n",
    "    Attributes\n",
    "    ----------\n",
    "    self.coef_ : 次の形のndarray, shape (n_features,)\n",
    "      パラメータ\n",
    "    self.loss : 次の形のndarray, shape (self.iter,)\n",
    "      学習用データに対する損失の記録\n",
    "    self.val_loss : 次の形のndarray, shape (self.iter,)\n",
    "      検証用データに対する損失の記録\n",
    "\n",
    "    \"\"\"\n",
    "\n",
    "    def __init__(self, num_iter, lr, no_bias, verbose, C=10):\n",
    "        # ハイパーパラメータを属性として記録\n",
    "        self.iter = num_iter                            #イテレーション数\n",
    "        self.lr = lr                                             #学習率\n",
    "        self.no_bias = no_bias                      #True:バイアス項なし、　False:バイアス項あり\n",
    "        self.verbose = verbose                     #True:表示、False:非表示\n",
    "        self.C = C                                            #正則化パラメータ（デフォルト値10）\n",
    "        # 損失を記録する配列を用意\n",
    "        self.loss = np.zeros(self.iter)\n",
    "        self.val_loss = np.zeros(self.iter)\n",
    "        \n",
    "        \n",
    "    \n",
    "    def fit(self, X, y, X_val=None, y_val=None):\n",
    "        \"\"\"\n",
    "        線形回帰を学習する。検証用データが入力された場合はそれに対する損失と精度もイテレーションごとに計算する。\n",
    "\n",
    "        Parameters\n",
    "        ----------\n",
    "        X : 次の形のndarray, shape (n_samples, n_features)\n",
    "            学習用データの特徴量\n",
    "        y : 次の形のndarray, shape (n_samples, )\n",
    "            学習用データの正解値\n",
    "        X_val : 次の形のndarray, shape (n_samples, n_features)\n",
    "            検証用データの特徴量\n",
    "        y_val : 次の形のndarray, shape (n_samples, )\n",
    "            検証用データの正解値\n",
    "            \n",
    "        Returns\n",
    "        -------\n",
    "        self : returns an instance of self.            \n",
    "            \n",
    "        \"\"\"\n",
    "        #pandasをnp.arrayに変換\n",
    "        X = np.array(X)\n",
    "        y = np.array(y)\n",
    "        \n",
    "        #学習データが一次元の場合、次元変換する\n",
    "        if X.ndim == 1:\n",
    "            X = X.reshape(len(X), 1)\n",
    "        \n",
    "        #バイアス項を含める場合は、\n",
    "        if self.no_bias is False:\n",
    "            #x0（全て1）を０列目に挿入する\n",
    "            X_0 = np.insert(X, 0, 1, axis=1)\n",
    "        #バイアス項を入れない場合、0を挿入する\n",
    "        else:\n",
    "            X_0 = np.insert(X, 0, 0, axis=1)\n",
    "\n",
    "        #n(特徴量の数+1)を算出\n",
    "        n = X_0.shape[1]\n",
    "\n",
    "        # パラメータの初期化\n",
    "        self.coef_ = np.random.rand(1, n)\n",
    "                \n",
    "        #イテレーションの数だけパラメータを更新する\n",
    "        for i in range(self.iter):\n",
    "\n",
    "            #仮定関数を求める\n",
    "            hypothesis = self._linear_hypothesis(X_0)\n",
    "            \n",
    "            error = hypothesis - y\n",
    "\n",
    "            # 損失関数\n",
    "            cost_function = self.objective(hypothesis, y)\n",
    "            \n",
    "            #損失関数を記録する\n",
    "            self.loss[i] = cost_function\n",
    "            \n",
    "            #最後の一回はパラメータ更新なし\n",
    "            if i <= self.iter - 2:\n",
    "                #最急降下法によりパラメータ更新\n",
    "                self.coef_ = self._gradient_descent(X_0, error)\n",
    "                \n",
    "                #　一時的に学習したパラメータを退避（検証データで学習された際に元に戻す）\n",
    "                tmp_coef_ = self.coef_\n",
    "\n",
    "        if self.verbose:\n",
    "            #verboseをTrueにした際は学習過程を出力\n",
    "                map_result = map(str, self.loss)\n",
    "                result = ',\\n'.join(map_result)                \n",
    "                print('学習データ　目的関数 : \\n{}'.format(result))\n",
    "                \n",
    "        if X_val is not None:\n",
    "            #pandasをnp.arrayに変換\n",
    "            X_val = np.array(X_val)\n",
    "            y_val = np.array(y_val)\n",
    "            \n",
    "            #学習データが一次元の場合、次元変換する\n",
    "            if X_val.ndim == 1:\n",
    "                X_val = X_val.reshape(len(X_val), 1)\n",
    "\n",
    "            #バイアス項を含める場合は、\n",
    "            if self.no_bias is False:\n",
    "                #x0（全て1）を０列目に挿入する\n",
    "                X_val_0 = np.insert(X_val, 0, 1, axis=1)\n",
    "            #バイアス項を入れない場合、0を挿入する\n",
    "            else:\n",
    "                X_val_0 = np.insert(X_val, 0, 0, axis=1)\n",
    "\n",
    "            #n(特徴量の数+1)を算出\n",
    "            n = X_val_0.shape[1]\n",
    "\n",
    "            # パラメータの初期化\n",
    "            self.coef_ = np.random.rand(1, n)\n",
    "\n",
    "            m = len(X_val_0)\n",
    "\n",
    "            #イテレーションの数だけパラメータを更新する\n",
    "            for i in range(self.iter):\n",
    "\n",
    "                #仮定関数を求める\n",
    "                hypothesis_val = self._linear_hypothesis(X_val_0)\n",
    "\n",
    "                error_val = hypothesis_val - y_val\n",
    "\n",
    "                # 損失関数\n",
    "                cost_function_val = self.objective(hypothesis_val, y_val)\n",
    "\n",
    "                #損失関数を記録する\n",
    "                self.val_loss[i] = cost_function_val\n",
    "\n",
    "                #最後の一回はパラメータ更新なし\n",
    "                if i <= self.iter - 2:\n",
    "                    #最急降下法によりパラメータ更新\n",
    "                    self.coef_ = self._gradient_descent(X_val_0, error_val)\n",
    "\n",
    "            if self.verbose:\n",
    "                #verboseをTrueにした際は学習過程を出力\n",
    "                map_result = map(str, self.val_loss)\n",
    "                result = ',\\n'.join(map_result)                \n",
    "                print('検証データ　目的関数 : \\n{}'.format(result))\n",
    "        \n",
    "        self.coef_ = tmp_coef_\n",
    "    \n",
    "\n",
    "    def predict(self, X):\n",
    "        \"\"\"\n",
    "        ロジスティック回帰を使い分類する。\n",
    "\n",
    "        Parameters\n",
    "        ----------\n",
    "        X : 次の形のndarray, shape (n_samples, n_features)\n",
    "            サンプル\n",
    "\n",
    "        Returns\n",
    "        -------\n",
    "            次の形のndarray, shape (n_samples, 1)\n",
    "            ロジスティック回帰による分類結果\n",
    "            (予測確率が0.5以上であれば、1を返す)\n",
    "        \"\"\"\n",
    "        #学習データが一次元の場合、次元変換する\n",
    "        if X.ndim == 1:\n",
    "            X = X.reshape(len(X), 1)\n",
    "        \n",
    "        #バイアス項を含める場合は、\n",
    "        if self.no_bias is False:\n",
    "            #x0（全て1）を０列目に挿入する\n",
    "            X_0 = np.insert(X, 0, 1, axis=1)\n",
    "        #バイアス項を入れない場合、0を挿入する\n",
    "        else:\n",
    "            X_0 = np.insert(X, 0, 0, axis=1)\n",
    "\n",
    "        return (self._linear_hypothesis(X_0)>=0.5).astype(np.int)\n",
    "    \n",
    "    def predict_proba(self, X):\n",
    "        \"\"\"\n",
    "        ロジスティック回帰を使い分類する。\n",
    "\n",
    "        Parameters\n",
    "        ----------\n",
    "        X : 次の形のndarray, shape (n_samples, n_features)\n",
    "            サンプル\n",
    "\n",
    "        Returns\n",
    "        -------\n",
    "            次の形のndarray, shape [n_samples, n_classes]\n",
    "            ロジスティック回帰による分類結果\n",
    "        \"\"\"\n",
    "        #学習データが一次元の場合、次元変換する\n",
    "        if X.ndim == 1:\n",
    "            X = X.reshape(len(X), 1)\n",
    "        \n",
    "        #バイアス項を含める場合は、\n",
    "        if self.no_bias is False:\n",
    "            #x0（全て1）を０列目に挿入する\n",
    "            X_0 = np.insert(X, 0, 1, axis=1)\n",
    "        #バイアス項を入れない場合、0を挿入する\n",
    "        else:\n",
    "            X_0 =np.insert(X, 0, 0, axis=1)\n",
    "        \n",
    "        classes0 = 1- self._linear_hypothesis(X_0)\n",
    "        classes1 = self._linear_hypothesis(X_0)\n",
    "        \n",
    "        return np.concatenate([classes0, classes1], 1)\n",
    "    \n",
    "    \n",
    "    #シグモイド関数\n",
    "    def _sigmoid(self, z):\n",
    "        \"\"\"\n",
    "        ロジスティック回帰のシグモイド関数を計算する\n",
    "\n",
    "        Parameters\n",
    "        ----------\n",
    "        z : 次の形のndarray, shape (n_samples, 1)\n",
    "          学習データ\n",
    "\n",
    "        Returns\n",
    "        -------\n",
    "        sigmoid : 次の形のndarray, shape (n_samples, 1)\n",
    "          入力値からシグモイド関数の結果を返す\n",
    "\n",
    "        \"\"\"        \n",
    "        return 1 / (1 + np.exp(-z))        \n",
    "        \n",
    "        \n",
    "        \n",
    "    def _linear_hypothesis(self, X):\n",
    "        \"\"\"\n",
    "        ロジスティック回帰の仮定関数を計算する\n",
    "\n",
    "        Parameters\n",
    "        ----------\n",
    "        X : 次の形のndarray, shape (n_samples, n_features)\n",
    "          学習データ\n",
    "\n",
    "        Returns\n",
    "        -------\n",
    "          次の形のndarray, shape (n_samples, 1)\n",
    "          仮定関数による推定結果\n",
    "\n",
    "        \"\"\"\n",
    "        #仮定関数を求める\n",
    "        return self._sigmoid(np.dot(X, self.coef_.T))\n",
    "    \n",
    "\n",
    "    def objective(self, y_pred, y):\n",
    "    \n",
    "        \"\"\"\n",
    "        目的関数の計算\n",
    "\n",
    "        Parameters\n",
    "        ----------\n",
    "        y : 次の形のndarray, shape (n_samples,)\n",
    "          正解値\n",
    "\n",
    "        Returns\n",
    "        ----------\n",
    "        objective : numpy.float\n",
    "          目的関数の結果\n",
    "        \"\"\"    \n",
    "        return (\n",
    "            ((np.dot(-y.T, np.log(y_pred)) - np.dot((1 - y).T, np.log(1- y_pred))) / len(y))\n",
    "                + (np.sum(theta ** 2) *  self.C / (2 * len(y)))\n",
    "        )\n",
    "    \n",
    "    def _gradient_descent(self, X, error):\n",
    "        \"\"\"\n",
    "        最急降下法にてパラメータを更新する\n",
    "\n",
    "        Parameters\n",
    "        ----------\n",
    "        X : 次の形のndarray, shape (n_samples, n_features)\n",
    "          学習データ\n",
    "        error : 次の形のndarray, shape (n_samples,)\n",
    "          仮定関数から目的関数を差し引いたもの\n",
    "\n",
    "        Returns\n",
    "        ----------\n",
    "        self.coef_ : 次の形のndarray, shape (n_features,)\n",
    "          更新後のパラメータ\n",
    "        \"\"\"\n",
    "\n",
    "        update_0 = ((np.dot(X.T, error)) / len(y))[0]\n",
    "\n",
    "        update_j = (((np.dot(X.T, error)) / len(y)) + (((self.C / len(y)) * self.coef_).T))[1:].reshape(-1)\n",
    "\n",
    "        update = np.concatenate([update_0, update_j])\n",
    "\n",
    "        self.coef_ = self.coef_ - self.lr * update\n",
    "\n",
    "        return self.coef_\n",
    "    \n",
    "    #学習曲線を表示する\n",
    "    def plot_learning_curve(self):\n",
    "        \"\"\"\n",
    "        学習曲線を表示する\n",
    "\n",
    "        Parameters\n",
    "        ----------\n",
    "\n",
    "        Returns\n",
    "        ----------\n",
    "        学習時における損失の推移をプロットする\n",
    "        fit時に検証データが入力されている場合、val_lossもプロットする\n",
    "        \"\"\"\n",
    "        #trainデータの学習曲線を表示する\n",
    "        plt.plot(self.loss, label='train_loss')\n",
    "        \n",
    "        #valデータが入力されている場合、表示する\n",
    "        if np.all(self.val_loss!=0):\n",
    "            plt.plot(self.val_loss, label='val_loss')\n",
    "\n",
    "        plt.title('Learning curve')\n",
    "        plt.xlabel('iter')\n",
    "        plt.ylabel('loss')\n",
    "        plt.legend()\n",
    "\n",
    "        plt.show()\n",
    "\n",
    "        \n",
    "    #混同行列を計算する    \n",
    "    def confusion_matrix(self, y_true, y_pred):\n",
    "        \"\"\"\n",
    "        予測値より混同行列を計算する\n",
    "\n",
    "        Parameters\n",
    "        ----------\n",
    "        y_true : 次の形のndarray, shape (n_samples,)\n",
    "          正解値\n",
    "        y_pred : 次の形のndarray, shape (n_samples,)\n",
    "          予測値\n",
    "\n",
    "        Returns\n",
    "        ----------\n",
    "        confusion_matrix : 次の形のndarray, shape (n_classes,n_classes)\n",
    "          正解値と予測値における混同行列\n",
    "        \"\"\"\n",
    "        #正解値と予測値を結合する\n",
    "        y_true_and_pred = np.concatenate([y_true, y_pred], 1)\n",
    "\n",
    "        # 目的変数でのユニークな要素をリスト化\n",
    "        class_list = np.unique(y_true_and_pred)\n",
    "\n",
    "        #クラスの数を数える\n",
    "        n_classes = len(class_list)\n",
    "\n",
    "        #クラスの数だけ空のの混同行列を作成\n",
    "        c_matrix = np.zeros([n_classes,n_classes])\n",
    "\n",
    "        #正解値と予測値の結果に応じて、混同行列を更新する\n",
    "        for row, class1 in enumerate(class_list):\n",
    "            for column, class2 in enumerate(class_list):\n",
    "                for i in range(len(y_true)):\n",
    "                    if (y_true[i] == class_list[class1]) and (y_pred[i] == class_list[class2]):\n",
    "                        c_matrix[row][column] += 1\n",
    "                \n",
    "        return c_matrix\n",
    "\n",
    "    \n",
    "    def accuracy_score(self, y_true, y_pred):\n",
    "        \"\"\"\n",
    "        予測値より正解率(accuracy)を計算する\n",
    "\n",
    "        Parameters\n",
    "        ----------\n",
    "        y_true : 次の形のndarray, shape (n_samples,)\n",
    "          正解値\n",
    "        y_pred : 次の形のndarray, shape (n_samples,)\n",
    "          予測値\n",
    "\n",
    "        Returns\n",
    "        ----------\n",
    "        accuracy_score : float\n",
    "          正解値と予測値における正解率(Accuracy)\n",
    "        \"\"\"\n",
    "        \n",
    "        #混同行列を算出\n",
    "        conf_mat = self.confusion_matrix(y_true, y_pred)\n",
    "        \n",
    "        #混同行列の合計を算出\n",
    "        sumconf = np.sum(conf_mat)\n",
    "        \n",
    "        #TP+TNを計算する\n",
    "        tp_tn = 0\n",
    "        for i in range(len(conf_mat)):\n",
    "            tp_tn += conf_mat[i][i]\n",
    "\n",
    "        #accuracy_scoreを算出\n",
    "        return tp_tn / sumconf\n",
    "\n",
    "    def precision_score(self, y_true, y_pred):\n",
    "        \"\"\"\n",
    "        予測値より精度(precision)を計算する\n",
    "        ※二値分類のみ対応\n",
    "\n",
    "        Parameters\n",
    "        ----------\n",
    "        y_true : 次の形のndarray, shape (n_samples,)\n",
    "          正解値\n",
    "        y_pred : 次の形のndarray, shape (n_samples,)\n",
    "          予測値\n",
    "\n",
    "        Returns\n",
    "        ----------\n",
    "        precision_score : float\n",
    "          正解値と予測値における精度(Precision)\n",
    "        \"\"\"\n",
    "        \n",
    "        #混同行列を算出\n",
    "        conf_mat = self.confusion_matrix(y_true, y_pred)\n",
    "        \n",
    "        #TP+FPを計算\n",
    "        tp_fp = 0\n",
    "        for i in range(len(conf_mat)):\n",
    "            tp_fp += conf_mat[i][0]\n",
    "            \n",
    "        #TPをセット\n",
    "        tp = conf_mat[0][0]\n",
    "        \n",
    "        #precisionを算出\n",
    "        return tp / tp_fp\n",
    "    \n",
    "\n",
    "    def recall_score(self, y_true, y_pred):\n",
    "        \"\"\"\n",
    "        予測値より検出率(recall)を計算する\n",
    "        ※二値分類のみ対応\n",
    "\n",
    "        Parameters\n",
    "        ----------\n",
    "        y_true : 次の形のndarray, shape (n_samples,)\n",
    "          正解値\n",
    "        y_pred : 次の形のndarray, shape (n_samples,)\n",
    "          予測値\n",
    "\n",
    "        Returns\n",
    "        ----------\n",
    "        recall_score : float\n",
    "          正解値と予測値における検出率(Recall)\n",
    "        \"\"\"\n",
    "        \n",
    "        #混同行列を算出\n",
    "        conf_mat = self.confusion_matrix(y_true, y_pred)\n",
    "        \n",
    "        #TP+FNを計算\n",
    "        tp_fn = 0\n",
    "        for i in range(len(conf_mat)):\n",
    "            tp_fn += conf_mat[0][i]\n",
    "            \n",
    "        #TPをセット\n",
    "        tp = conf_mat[0][0]\n",
    "        \n",
    "        #recallを算出\n",
    "        return tp / tp_fn\n",
    "\n",
    "\n",
    "\n",
    "    def f1_score(self, y_true, y_pred):\n",
    "        \"\"\"\n",
    "        予測値よりF値を計算する\n",
    "        ※二値分類のみ対応\n",
    "        F1 = 2 * (precision * recall) / (precision + recall)\n",
    "\n",
    "        Parameters\n",
    "        ----------\n",
    "        y_true : 次の形のndarray, shape (n_samples,)\n",
    "          正解値\n",
    "        y_pred : 次の形のndarray, shape (n_samples,)\n",
    "          予測値\n",
    "\n",
    "        Returns\n",
    "        ----------\n",
    "        recall_score : float\n",
    "          正解値と予測値における検出率(Recall)\n",
    "        \"\"\"\n",
    "        #精度を計算        \n",
    "        precision = self.precision_score(y_true, y_pred)\n",
    "        \n",
    "        #検出率を計算\n",
    "        recall = self.recall_score(y_true, y_pred)\n",
    "               \n",
    "        #F値を計算する\n",
    "        return 2 * (precision * recall) / (precision + recall)\n",
    "    \n",
    "\n",
    "    def decision_region(self, X_train, y_train, step=0.01, title='decision region', xlabel='xlabel', ylabel='ylabel', target_names=['versicolor', 'virginica']):\n",
    "        \"\"\"\n",
    "        2値分類を2次元の特徴量で学習したモデルの決定領域を描く。\n",
    "        背景の色が学習したモデルによる推定値から描画される。\n",
    "        散布図の点は学習用データである。\n",
    "\n",
    "        Parameters\n",
    "        ----------------\n",
    "        X_train : ndarray, shape(n_samples, 2)\n",
    "            学習用データの特徴量\n",
    "        y_train : ndarray, shape(n_samples,)\n",
    "            学習用データの正解値\n",
    "        step : float, (default : 0.1)\n",
    "            推定値を計算する間隔を設定する\n",
    "        title : str\n",
    "            グラフのタイトルの文章を与える\n",
    "        xlabel, ylabel : str\n",
    "            軸ラベルの文章を与える\n",
    "        target_names= : list of str\n",
    "            凡例の一覧を与える\n",
    "        \"\"\"\n",
    "        # setting\n",
    "        scatter_color = ['red', 'blue']\n",
    "        contourf_color = ['pink', 'skyblue']\n",
    "        n_class = 2\n",
    "\n",
    "        # pred\n",
    "        mesh_f0, mesh_f1  = np.meshgrid(np.arange(np.min(X_train[:,0])-0.5, np.max(X_train[:,0])+0.5, step), np.arange(np.min(X_train[:,1])-0.5, np.max(X_train[:,1])+0.5, step))\n",
    "        mesh = np.c_[np.ravel(mesh_f0),np.ravel(mesh_f1)]\n",
    "        pred = self.predict(mesh).reshape(mesh_f0.shape)\n",
    "\n",
    "        # plot\n",
    "        plt.title(title)\n",
    "        plt.xlabel(xlabel)\n",
    "        plt.ylabel(ylabel)\n",
    "        plt.contourf(mesh_f0, mesh_f1, pred, n_class-1, cmap=ListedColormap(contourf_color))\n",
    "        plt.contour(mesh_f0, mesh_f1, pred, n_class-1, colors='y', linewidths=3, alpha=0.5)\n",
    "        for i, target in enumerate(set(y_train)):\n",
    "            plt.scatter(X_train[y_train==target][:, 0], X_train[y_train==target][:, 1], s=80, color=scatter_color[i], label=target_names[i], marker='o')\n",
    "        patches = [mpatches.Patch(color=scatter_color[i], label=target_names[i]) for i in range(n_class)]\n",
    "        plt.legend(handles=patches)\n",
    "        plt.legend()\n",
    "        plt.show()\n",
    "\n"
   ]
  },
  {
   "cell_type": "code",
   "execution_count": 57,
   "metadata": {},
   "outputs": [],
   "source": [
    "#作成したクラスにてインスタンス生成\n",
    "slr = ScratchLogisticRegression(num_iter=100, lr=0.1, no_bias=False, verbose=True, C=10)"
   ]
  },
  {
   "cell_type": "code",
   "execution_count": 58,
   "metadata": {},
   "outputs": [],
   "source": [
    "#標準化する\n",
    "X_train_std = standardize(X_train)\n",
    "X_validation_std = standardize(X_validation)"
   ]
  },
  {
   "cell_type": "code",
   "execution_count": 59,
   "metadata": {},
   "outputs": [
    {
     "name": "stdout",
     "output_type": "stream",
     "text": [
      "学習データ　目的関数 : \n",
      "0.8882132280972452,\n",
      "0.8677190380116608,\n",
      "0.8480797882746716,\n",
      "0.8292675933259874,\n",
      "0.8112546187875486,\n",
      "0.7940131444956134,\n",
      "0.7775156268990249,\n",
      "0.7617347604805663,\n",
      "0.7466435377844965,\n",
      "0.7322153075738705,\n",
      "0.718423830602782,\n",
      "0.7052433324750174,\n",
      "0.6926485530729214,\n",
      "0.680614792077424,\n",
      "0.6691179501590914,\n",
      "0.6581345654964853,\n",
      "0.6476418453668968,\n",
      "0.6376176926503523,\n",
      "0.6280407271854707,\n",
      "0.6188903020106167,\n",
      "0.6101465146119301,\n",
      "0.6017902133781852,\n",
      "0.5938029995289422,\n",
      "0.5861672248359063,\n",
      "0.5788659854974257,\n",
      "0.5718831125529513,\n",
      "0.5652031592389077,\n",
      "0.5588113856910398,\n",
      "0.5526937413924007,\n",
      "0.5468368457523801,\n",
      "0.5412279671821736,\n",
      "0.5358550010074461,\n",
      "0.5307064465311194,\n",
      "0.5257713835294853,\n",
      "0.5210394484343431,\n",
      "0.5165008104234706,\n",
      "0.5121461476122138,\n",
      "0.5079666235108552,\n",
      "0.5039538638860938,\n",
      "0.500099934140708,\n",
      "0.49639731730341063,\n",
      "0.4928388927011047,\n",
      "0.48941791536818313,\n",
      "0.48612799623212044,\n",
      "0.4829630831012515,\n",
      "0.4799174424691938,\n",
      "0.4769856421406812,\n",
      "0.47416253467547737,\n",
      "0.471443241640359,\n",
      "0.4688231386537422,\n",
      "0.466297841203217,\n",
      "0.4638631912129081,\n",
      "0.46151524433506685,\n",
      "0.45925025793848895,\n",
      "0.4570646797651513,\n",
      "0.45495513722575576,\n",
      "0.45291842730458454,\n",
      "0.4509515070441293,\n",
      "0.44905148458029154,\n",
      "0.4472156106995077,\n",
      "0.4454412708898835,\n",
      "0.443725977859281,\n",
      "0.44206736449426143,\n",
      "0.44046317723481454,\n",
      "0.4389112698408738,\n",
      "0.4374095975277155,\n",
      "0.4359562114484384,\n",
      "0.4345492535028243,\n",
      "0.43318695145295855,\n",
      "0.4318676143270506,\n",
      "0.4305896280939249,\n",
      "0.4293514515916461,\n",
      "0.4281516126946998,\n",
      "0.4269887047050696,\n",
      "0.42586138295342274,\n",
      "0.42476836159745507,\n",
      "0.42370841060523307,\n",
      "0.42268035291212497,\n",
      "0.4216830617406183,\n",
      "0.4207154580729929,\n",
      "0.419776508267448,\n",
      "0.4188652218088773,\n",
      "0.4179806491860405,\n",
      "0.41712187988740873,\n",
      "0.41628804050844903,\n",
      "0.41547829296357647,\n",
      "0.41469183279643385,\n",
      "0.4139278875825637,\n",
      "0.41318571541891536,\n",
      "0.4124646034949862,\n",
      "0.41176386674072435,\n",
      "0.4110828465466336,\n",
      "0.4104209095518075,\n",
      "0.40977744649589354,\n",
      "0.4091518711312389,\n",
      "0.4085436191917063,\n",
      "0.4079521474148695,\n",
      "0.40737693261450614,\n",
      "0.4068174708004936,\n",
      "0.406273276343399\n",
      "検証データ　目的関数 : \n",
      "1.2638755805416406,\n",
      "1.2516128942849674,\n",
      "1.2396413760856726,\n",
      "1.2279554745915793,\n",
      "1.2165496360729153,\n",
      "1.2054183108504235,\n",
      "1.1945559596095894,\n",
      "1.1839570595697635,\n",
      "1.1736161104796545,\n",
      "1.1635276404135415,\n",
      "1.1536862113454995,\n",
      "1.1440864244819264,\n",
      "1.1347229253356594,\n",
      "1.1255904085279134,\n",
      "1.1166836223071548,\n",
      "1.107997372776787,\n",
      "1.0995265278261492,\n",
      "1.0912660207618143,\n",
      "1.0832108536384548,\n",
      "1.0753561002906706,\n",
      "1.0676969090690835,\n",
      "1.0602285052857303,\n",
      "1.052946193375299,\n",
      "1.045845358780089,\n",
      "1.038921469567706,\n",
      "1.0321700777914564,\n",
      "1.0255868206041794,\n",
      "1.0191674211368806,\n",
      "1.0129076891539783,\n",
      "1.0068035214973048,\n",
      "1.0008509023311973,\n",
      "0.995045903201087,\n",
      "0.9893846829179758,\n",
      "0.9838634872810696,\n",
      "0.9784786486506505,\n",
      "0.9732265853829931,\n",
      "0.968103801138831,\n",
      "0.9631068840764929,\n",
      "0.9582325059404317,\n",
      "0.9534774210554311,\n",
      "0.9488384652363138,\n",
      "0.9443125546225006,\n",
      "0.9398966844462824,\n",
      "0.9355879277431762,\n",
      "0.9313834340122502,\n",
      "0.9272804278338029,\n",
      "0.9232762074513179,\n",
      "0.9193681433241319,\n",
      "0.9155536766568031,\n",
      "0.9118303179107199,\n",
      "0.9081956453030677,\n",
      "0.9046473032978539,\n",
      "0.9011830010933062,\n",
      "0.897800511109581,\n",
      "0.8944976674803662,\n",
      "0.8912723645516241,\n",
      "0.8881225553904102,\n",
      "0.8850462503063969,\n",
      "0.8820415153884571,\n",
      "0.8791064710584033,\n",
      "0.8762392906437266,\n",
      "0.8734381989709614,\n",
      "0.8707014709810856,\n",
      "0.8680274303681719,\n",
      "0.865414448242328,\n",
      "0.8628609418177955,\n",
      "0.860365373126925,\n",
      "0.8579262477606042,\n",
      "0.855542113635593,\n",
      "0.8532115597890948,\n",
      "0.8509332152007929,\n",
      "0.8487057476424857,\n",
      "0.8465278625553627,\n",
      "0.8443983019548884,\n",
      "0.8423158433631914,\n",
      "0.840279298768791,\n",
      "0.838287513613441,\n",
      "0.836339365805814,\n",
      "0.8344337647617182,\n",
      "0.8325696504704858,\n",
      "0.8307459925871522,\n",
      "0.8289617895500054,\n",
      "0.8272160677230704,\n",
      "0.8255078805630641,\n",
      "0.8238363078103469,\n",
      "0.8222004547033763,\n",
      "0.8205994512161616,\n",
      "0.819032451318209,\n",
      "0.817498632256438,\n",
      "0.8159971938585507,\n",
      "0.814527357857329,\n",
      "0.813088367235336,\n",
      "0.8116794855895015,\n",
      "0.8102999965150699,\n",
      "0.8089492030083945,\n",
      "0.8076264268880687,\n",
      "0.8063310082338878,\n",
      "0.8050623048431417,\n",
      "0.8038196917037491,\n",
      "0.802602560483748\n"
     ]
    }
   ],
   "source": [
    "#trainデータにて学習を行う（学習履歴を表示する）\n",
    "slr.fit(X_train_std, y_train, X_validation_std, y_validation)"
   ]
  },
  {
   "cell_type": "code",
   "execution_count": 60,
   "metadata": {},
   "outputs": [
    {
     "data": {
      "text/plain": [
       "array([[0],\n",
       "       [1],\n",
       "       [0],\n",
       "       [1],\n",
       "       [0],\n",
       "       [1],\n",
       "       [0],\n",
       "       [1],\n",
       "       [1],\n",
       "       [1],\n",
       "       [1],\n",
       "       [0],\n",
       "       [0],\n",
       "       [1],\n",
       "       [0],\n",
       "       [1],\n",
       "       [1],\n",
       "       [1],\n",
       "       [0],\n",
       "       [0],\n",
       "       [1],\n",
       "       [0],\n",
       "       [1],\n",
       "       [1],\n",
       "       [0]])"
      ]
     },
     "execution_count": 60,
     "metadata": {},
     "output_type": "execute_result"
    }
   ],
   "source": [
    "#検証用データにて予測する\n",
    "y_val_pred = slr.predict(X_validation_std)\n",
    "y_val_pred"
   ]
  },
  {
   "cell_type": "code",
   "execution_count": 61,
   "metadata": {},
   "outputs": [
    {
     "data": {
      "text/plain": [
       "array([[0.6927587 , 0.3072413 ],\n",
       "       [0.28983728, 0.71016272],\n",
       "       [0.72782405, 0.27217595],\n",
       "       [0.13581473, 0.86418527],\n",
       "       [0.79141805, 0.20858195],\n",
       "       [0.18233429, 0.81766571],\n",
       "       [0.85521815, 0.14478185],\n",
       "       [0.45322519, 0.54677481],\n",
       "       [0.24566439, 0.75433561],\n",
       "       [0.28038561, 0.71961439],\n",
       "       [0.26717114, 0.73282886],\n",
       "       [0.81947813, 0.18052187],\n",
       "       [0.80494394, 0.19505606],\n",
       "       [0.14850104, 0.85149896],\n",
       "       [0.86662695, 0.13337305],\n",
       "       [0.26717114, 0.73282886],\n",
       "       [0.07781217, 0.92218783],\n",
       "       [0.23355521, 0.76644479],\n",
       "       [0.81648585, 0.18351415],\n",
       "       [0.79429511, 0.20570489],\n",
       "       [0.3560234 , 0.6439766 ],\n",
       "       [0.850498  , 0.149502  ],\n",
       "       [0.27634842, 0.72365158],\n",
       "       [0.11143245, 0.88856755],\n",
       "       [0.69089124, 0.30910876]])"
      ]
     },
     "execution_count": 61,
     "metadata": {},
     "output_type": "execute_result"
    }
   ],
   "source": [
    "#検証用データにて種類ごとに予測した確率をだす\n",
    "y_val_proba = slr.predict_proba(X_validation_std)\n",
    "y_val_proba"
   ]
  },
  {
   "cell_type": "markdown",
   "metadata": {},
   "source": [
    "## 【問題2】学習曲線のプロット\n",
    "学習曲線をプロットしてください。"
   ]
  },
  {
   "cell_type": "code",
   "execution_count": 62,
   "metadata": {},
   "outputs": [
    {
     "data": {
      "image/png": "[encoded data removed]",
      "text/plain": [
       "<Figure size 432x288 with 1 Axes>"
      ]
     },
     "metadata": {
      "needs_background": "light"
     },
     "output_type": "display_data"
    }
   ],
   "source": [
    "#学習曲線をプロットする\n",
    "slr.plot_learning_curve()"
   ]
  },
  {
   "cell_type": "markdown",
   "metadata": {},
   "source": [
    "## 【問題3】指標値の算出\n",
    "分類に関する指標値で精度を確認してください。"
   ]
  },
  {
   "cell_type": "code",
   "execution_count": 63,
   "metadata": {},
   "outputs": [
    {
     "data": {
      "text/plain": [
       "array([[11.,  0.],\n",
       "       [ 0., 14.]])"
      ]
     },
     "execution_count": 63,
     "metadata": {},
     "output_type": "execute_result"
    }
   ],
   "source": [
    "#混同行列を表示\n",
    "conf_mat = slr.confusion_matrix(y_validation, y_val_pred)\n",
    "conf_mat"
   ]
  },
  {
   "cell_type": "code",
   "execution_count": 64,
   "metadata": {},
   "outputs": [
    {
     "name": "stdout",
     "output_type": "stream",
     "text": [
      "Accuracy : 1.0\n"
     ]
    }
   ],
   "source": [
    "#正解率（Accuracy）を算出\n",
    "print('Accuracy : {}'.format(slr.accuracy_score(y_validation, y_val_pred)))"
   ]
  },
  {
   "cell_type": "code",
   "execution_count": 65,
   "metadata": {},
   "outputs": [
    {
     "name": "stdout",
     "output_type": "stream",
     "text": [
      "Precision : 1.0\n"
     ]
    }
   ],
   "source": [
    "#精度（Precision）を算出\n",
    "print('Precision : {}'.format(slr.precision_score(y_validation, y_val_pred)))"
   ]
  },
  {
   "cell_type": "code",
   "execution_count": 66,
   "metadata": {},
   "outputs": [
    {
     "name": "stdout",
     "output_type": "stream",
     "text": [
      "Recall : 1.0\n"
     ]
    }
   ],
   "source": [
    "#検出率（Recall）を算出\n",
    "print('Recall : {}'.format(slr.recall_score(y_validation, y_val_pred)))"
   ]
  },
  {
   "cell_type": "code",
   "execution_count": 67,
   "metadata": {},
   "outputs": [
    {
     "name": "stdout",
     "output_type": "stream",
     "text": [
      "F1: 1.0\n"
     ]
    }
   ],
   "source": [
    "#F値を算出\n",
    "print('F1: {}'.format(slr.f1_score(y_validation, y_val_pred)))"
   ]
  },
  {
   "cell_type": "markdown",
   "metadata": {},
   "source": [
    "## 【問題4】決定領域の可視化\n",
    "2値分類のデータセットに対して決定領域を可視化してください。"
   ]
  },
  {
   "cell_type": "code",
   "execution_count": 68,
   "metadata": {},
   "outputs": [
    {
     "data": {
      "image/png": "[encoded data removed]",
      "text/plain": [
       "<Figure size 432x288 with 1 Axes>"
      ]
     },
     "metadata": {
      "needs_background": "light"
     },
     "output_type": "display_data"
    }
   ],
   "source": [
    "'''\n",
    "決定領域をプロットする\n",
    "'''\n",
    "slr.decision_region(\n",
    "    X_train=X_train_std, #標準化データを利用する\n",
    "    y_train=y_train.reshape(-1),   #set型に対応するために一次元配列にする\n",
    "    title='decision region of ScratchLogisticRegression', \n",
    "    xlabel='sepal length', \n",
    "    ylabel='sepal width', \n",
    "    target_names=['setosa', 'versicolor']\n",
    ")\n"
   ]
  },
  {
   "cell_type": "markdown",
   "metadata": {},
   "source": [
    "## 【問題5】（アドバンス課題）重みの保存\n",
    "検証が容易になるように、学習した重みを保存および読み込みができるようにしましょう。pickleモジュールやnumpy.savezを利用します。\n",
    "\n",
    "[pickle — Python オブジェクトの直列化 — Python 3.7.1 ドキュメント](https://docs.python.org/ja/3/library/pickle.html)\n",
    "\n",
    "[numpy.savez — NumPy v1.15 Manual](https://docs.scipy.org/doc/numpy-1.15.0/reference/generated/numpy.savez.html#numpy.savez)"
   ]
  },
  {
   "cell_type": "markdown",
   "metadata": {},
   "source": [
    "### pyファイル化を行う(classify_pipeline.py)"
   ]
  },
  {
   "cell_type": "code",
   "execution_count": 99,
   "metadata": {},
   "outputs": [],
   "source": [
    "#pyファイル格納ディレクトリのパス設定\n",
    "import sys\n",
    "sys.path.append(\"/Users/yusuke-saruya/diveintocode-ml/full-time/diveintocode-term1/ml-scratch/utils/\")\n",
    "import classify_pipeline"
   ]
  },
  {
   "cell_type": "code",
   "execution_count": 100,
   "metadata": {},
   "outputs": [],
   "source": [
    "#pyファイルよりインスタンス生成\n",
    "slr2 = classify_pipeline.ScratchLogisticRegression(num_iter=500, lr=0.1, no_bias=False, verbose=False, C=10)"
   ]
  },
  {
   "cell_type": "code",
   "execution_count": 101,
   "metadata": {},
   "outputs": [],
   "source": [
    "#学習を行う\n",
    "slr2.fit(X=X_train_std, y=y_train, X_val=X_validation_std, y_val=y_validation)"
   ]
  },
  {
   "cell_type": "code",
   "execution_count": 102,
   "metadata": {},
   "outputs": [
    {
     "data": {
      "text/plain": [
       "array([[-0.07307737,  0.98201793, -0.91514617]])"
      ]
     },
     "execution_count": 102,
     "metadata": {},
     "output_type": "execute_result"
    }
   ],
   "source": [
    "#パラメータ確認\n",
    "slr2.coef_"
   ]
  },
  {
   "cell_type": "markdown",
   "metadata": {},
   "source": [
    "### pickleモジュール"
   ]
  },
  {
   "cell_type": "code",
   "execution_count": 103,
   "metadata": {},
   "outputs": [],
   "source": [
    "#pickleモジュールを用いてモデルを保存する\n",
    "with open('slr.pickle', 'wb') as f:\n",
    "    pickle.dump(slr2, f)"
   ]
  },
  {
   "cell_type": "code",
   "execution_count": 104,
   "metadata": {},
   "outputs": [],
   "source": [
    "#pickleモジュールを用いてモデルを読み込む\n",
    "with open('slr.pickle', 'rb') as f:\n",
    "    slr2_pickle = pickle.load(f)"
   ]
  },
  {
   "cell_type": "code",
   "execution_count": 105,
   "metadata": {},
   "outputs": [
    {
     "data": {
      "text/plain": [
       "array([[-0.07307737,  0.98201793, -0.91514617]])"
      ]
     },
     "execution_count": 105,
     "metadata": {},
     "output_type": "execute_result"
    }
   ],
   "source": [
    "#パラメータの確認\n",
    "slr2_pickle.coef_"
   ]
  },
  {
   "cell_type": "markdown",
   "metadata": {},
   "source": [
    "### numpy.savez"
   ]
  },
  {
   "cell_type": "code",
   "execution_count": 106,
   "metadata": {},
   "outputs": [
    {
     "data": {
      "text/plain": [
       "array([[ 0.5664404 ,  0.29768089, -0.00880927]])"
      ]
     },
     "execution_count": 106,
     "metadata": {},
     "output_type": "execute_result"
    }
   ],
   "source": [
    "#pyファイルよりインスタンス生成\n",
    "slr3 = classify_pipeline.ScratchLogisticRegression(num_iter=10, lr=0.1, no_bias=False, verbose=False, C=10)\n",
    "\n",
    "#学習を行う\n",
    "slr3.fit(X=X_train_std, y=y_train, X_val=X_validation_std, y_val=y_validation)\n",
    "\n",
    "#パラメータ確認\n",
    "slr3.coef_"
   ]
  },
  {
   "cell_type": "code",
   "execution_count": 107,
   "metadata": {},
   "outputs": [],
   "source": [
    "#２種類のパラメータを保存する\n",
    "np.savez('slr.npz', x=slr2.coef_, y=slr3.coef_)"
   ]
  },
  {
   "cell_type": "code",
   "execution_count": 108,
   "metadata": {},
   "outputs": [],
   "source": [
    "#ロードする\n",
    "slr_load = np.load('slr.npz')"
   ]
  },
  {
   "cell_type": "code",
   "execution_count": 109,
   "metadata": {},
   "outputs": [
    {
     "name": "stdout",
     "output_type": "stream",
     "text": [
      "[[-0.07307737  0.98201793 -0.91514617]]\n"
     ]
    }
   ],
   "source": [
    "#1種類めのパラメータ表示\n",
    "print(slr_load['x'])"
   ]
  },
  {
   "cell_type": "code",
   "execution_count": 110,
   "metadata": {},
   "outputs": [
    {
     "name": "stdout",
     "output_type": "stream",
     "text": [
      "[[ 0.5664404   0.29768089 -0.00880927]]\n"
     ]
    }
   ],
   "source": [
    "#2種類めのパラメータ表示\n",
    "print(slr_load['y'])"
   ]
  },
  {
   "cell_type": "markdown",
   "metadata": {},
   "source": [
    "## 【問題6】分類と回帰\n",
    "最終発表時に以下の内容についてディスカッションを行います。自分なりの意見を用意しておいてください。\n",
    "\n",
    "- 分類問題と回帰問題は本質的に何が異なっているか\n",
    "\n",
    "**注意点**\n",
    "\n",
    "答えがある問いではありません。いろいろな視点から見て理解を深めていきましょう。"
   ]
  },
  {
   "cell_type": "markdown",
   "metadata": {},
   "source": [
    "|<index>|分類問題|回帰問題|\n",
    "|:-:|:-:|:-:|\n",
    "|予測の対象 |データが属するクラス|連続値などの値 |\n",
    "|求める線の種類<br>(直線の場合) |重みベクトルを法線<br>ベクトルとする直線|一次関数 |\n"
   ]
  },
  {
   "cell_type": "code",
   "execution_count": null,
   "metadata": {},
   "outputs": [],
   "source": []
  }
 ],
 "metadata": {
  "kernelspec": {
   "display_name": "Python 3",
   "language": "python",
   "name": "python3"
  },
  "language_info": {
   "codemirror_mode": {
    "name": "ipython",
    "version": 3
   },
   "file_extension": ".py",
   "mimetype": "text/x-python",
   "name": "python",
   "nbconvert_exporter": "python",
   "pygments_lexer": "ipython3",
   "version": "3.7.1"
  }
 },
 "nbformat": 4,
 "nbformat_minor": 2
}
