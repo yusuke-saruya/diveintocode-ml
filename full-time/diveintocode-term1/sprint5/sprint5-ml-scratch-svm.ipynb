{
 "cells": [
  {
   "cell_type": "markdown",
   "metadata": {},
   "source": [
    "# Sprint5課題 機械学習スクラッチSVM"
   ]
  },
  {
   "cell_type": "markdown",
   "metadata": {},
   "source": [
    "## 【問題1】SVM分類器のクラスを作成する\n",
    "SVM分類器のクラスを作成し、Sprint0で作成した分類のパイプラインに組み込んでください。\n",
    "\n",
    "クラスの基本構造はSprint3の線形回帰を参考にし、名前はScratchSVMClassifierとしてください。\n",
    "\n",
    "メソッドやパラメータなどはscikit-learnを参考にしてください。\n",
    "\n",
    "[sklearn.svm.SVC — scikit-learn 0.20.2 documentation](https://scikit-learn.org/stable/modules/generated/sklearn.svm.SVC.html)\n",
    "\n",
    "検証段階ではJupyter Notebook上で書いていき、最終的にはpyファイルにモジュールとしてまとめてください。\n",
    "\n",
    "**scikit-learnにおけるパラメータについて**\n",
    "\n",
    "scikit-learnの実装はソフトマージンSVMになっています。ハードマージンSVMを再現するには、パラメータCをC=1e10のように非常に大きな値を設定します。（無限大に向けてCを大きくするほどハードマージンSVMに近づきます）\n",
    "\n",
    "また、線形カーネルをscikit-learnで使う場合はkernel=\"linear\"と指定します。デフォルトではkernel=\"rbf\"になっており、多項式カーネルと呼ばれるものになっています。\n",
    "\n",
    "### ラグランジュの未定乗数法による最急降下\n",
    "SVMの最適化問題は、ラグランジュの未定乗数法により解くことができます。サンプル数分のラグランジュ乗数 $\\lambda$ を用意して、以下の式により更新していきます。\n",
    "\n",
    "$$\n",
    "    \\lambda_i^{new} = \\lambda_i + \\alpha(1 - \\sum_{j=1}^{n} \\lambda_j y_i y_j k(x_i, x_j))\n",
    "$$\n",
    "\n",
    "\n",
    "ここで $k(x_i, x_j)$ はカーネル関数です。線形カーネルの場合は次のようになります。他のカーネル関数にも対応できるように、この部分はメソッド化しておきましょう。\n",
    "\n",
    "$$\n",
    "    k(x_i, x_j) = x_i^Tx_j\n",
    "$$\n",
    "\n",
    "条件として、更新毎に $\\lambda_i \\geqq0$を満たす必要があります。満たさない場合は $\\lambda_i= 0$とします。\n",
    "\n",
    "$i,j$: サンプルのインデックス\n",
    "\n",
    "$\\lambda_i^{new}$ : 更新後の$i$番目のサンプルのラグランジュ乗数\n",
    "\n",
    "$\\lambda_i$  : 更新前の$i$番目のサンプルのラグランジュ乗数\n",
    "\n",
    "$\\alpha$ : 学習率\n",
    "\n",
    "$\\lambda_j$ : $j$番目のサンプルのラグランジュ乗数\n",
    "\n",
    "$y_i$ : $i$番目のサンプルのラベル\n",
    "\n",
    "$y_j$ : $j$番目のサンプルのラベル\n",
    "\n",
    "$x_i$ : $i$番目のサンプルの特徴量ベクトル\n",
    "\n",
    "$x_j$ : $j$番目のサンプルの特徴量ベクトル\n",
    "\n",
    "あるサンプルに対しての全てのサンプルとの関係を計算していくことになります。\n",
    "\n",
    "\n",
    "### サポートベクターの決定\n",
    "計算したラグランジュ乗数 $\\lambda$ が設定した閾値より大きいサンプルをサポートベクターとして扱います。推定時にサポートベクターが必要になります。\n",
    "\n",
    "閾値はハイパーパラメータですが、1e-5程度からはじめると良いでしょう。\n",
    "\n",
    "\n",
    "\n",
    "### 推定\n",
    "推定時には、推定したいデータの特徴量とサポートベクターの特徴量をカーネル関数によって計算します。求めた $y(x)$ の符号が分類結果です。\n",
    "\n",
    "\n",
    "$$\n",
    "    y(x) = \\sum_{n=1}^{N}\\lambda_n y_n k(x, s_n)\n",
    "$$\n",
    "\n",
    "\n",
    "$x$ : 推定したいデータの特徴量ベクトル\n",
    "\n",
    "$N$ : サポートベクターの数\n",
    "\n",
    "$n$ : サポートベクターのインデックス\n",
    "\n",
    "$\\lambda_n$ : $n$番目のサポートベクターのラグランジュ乗数\n",
    "\n",
    "$y_n$ : $n$番目のサポートベクターのラベル\n",
    "\n",
    "$k()$ : カーネル関数\n",
    "\n",
    "$s_n$ : $n$番目のサポートベクターの特徴量\n",
    "\n",
    "\n",
    "### これまでのまとめ\n",
    "SVMによるマージン最大化問題が以下の式の双対表現に帰着できることは、上記の説明と講義で理解されたかと思います。\n",
    "\n",
    "$\n",
    "    argmin_{w,b} \\frac{1}{2} \\|x\\| ^2\n",
    "$\n",
    "\n",
    "\n",
    "この制約付き最小化問題を解くために、ラグランジュ乗数$\\lambda$を導入し、$w$と$b$の制約条件を用いて、$\\theta$と$\\theta_0$を消去すれば\n",
    "\n",
    "$L(\\lambda) = \\sum_{i=1}^{n}\\lambda_i - \\frac{1}{2}\\sum_{i=1}^{n}\\sum_{j=1}^{n}\\lambda_i \\lambda_j y_i y_j x_i^T x_j$\n",
    "\n",
    "\n",
    "という関数が得られ、この関数を$\\lambda$に対して最大化すれば良いのでした。この$\\lambda$の最適解を求める方法はみなさんがこれまでに学習してきた勾配降下法を用いれば良いわけです。$\\lambda$がわかれば$\\theta$と$\\theta_0$が求まるので、分類境界線が求まります。"
   ]
  },
  {
   "cell_type": "markdown",
   "metadata": {},
   "source": [
    "### データの準備"
   ]
  },
  {
   "cell_type": "code",
   "execution_count": 1,
   "metadata": {},
   "outputs": [],
   "source": [
    "#ライブラリのインポート\n",
    "from sklearn.datasets import load_iris\n",
    "from sklearn.model_selection import train_test_split\n",
    "import pandas as pd\n",
    "from pandas import DataFrame\n",
    "import numpy as np\n",
    "%matplotlib inline\n",
    "import matplotlib.pyplot as plt\n",
    "from matplotlib.colors import ListedColormap\n",
    "import matplotlib.patches as mpatches\n",
    "from sklearn import metrics\n",
    "\n"
   ]
  },
  {
   "cell_type": "code",
   "execution_count": 2,
   "metadata": {},
   "outputs": [],
   "source": [
    "\"\"\"\n",
    "データの準備\n",
    "\"\"\"\n",
    "\n",
    "#irisデータセットの読み込み\n",
    "iris = load_iris()\n",
    "\n",
    "# 説明変数をPandasのDataFrame型変数Xに格納\n",
    "X = DataFrame(iris.data, columns = iris.feature_names)\n",
    "\n",
    "# 目的変数をPandasのDataFrame型変数yに格納し、カラム名を\"Species\"に変更\n",
    "y = DataFrame(iris.target, columns = [\"Species\"])\n",
    "\n",
    "#X,yを結合させたDataFrame型変数dfを作成\n",
    "df = pd.concat([X, y], sort=False, axis=1)\n",
    "\n",
    "\"\"\"\n",
    "<Species>\n",
    "0:setosa\n",
    "1:versicolor\n",
    "2:virginica') \n",
    "\"\"\"\n",
    "\n",
    "#setosaとvirgicolorのデータセット\n",
    "df_extraction = df.query('Species in [\"0\", \"1\"]')\n",
    "\n",
    "#sepal_lengthとpetal_length、Speciesのデータセット\n",
    "df_extraction = df_extraction.loc[:,['sepal length (cm)', 'sepal width (cm)', 'Species']]\n",
    "\n",
    "df_extraction.head()\n",
    "\n",
    "\n",
    "#作成したデータより分割前データを作成する\n",
    "#ndarrayへ変換を行う\n",
    "X = df_extraction.loc[:,['sepal length (cm)', 'sepal width (cm)']].values\n",
    "y = df_extraction.loc[:,['Species']].values\n",
    "\n",
    "#学習用データ75%、検証データに25%分割する\n",
    "X_train, X_validation, y_train, y_validation = train_test_split(\n",
    "    X, y, test_size=0.25, random_state=30)"
   ]
  },
  {
   "cell_type": "code",
   "execution_count": 3,
   "metadata": {},
   "outputs": [],
   "source": [
    "#標準化にする関数\n",
    "def standardize(data):\n",
    "    mean = data.mean(axis=0)\n",
    "    std = data.std(axis=0)\n",
    "    return (data - mean) / std"
   ]
  },
  {
   "cell_type": "code",
   "execution_count": 4,
   "metadata": {},
   "outputs": [],
   "source": [
    "#標準化する\n",
    "X_train_std = standardize(X_train)\n",
    "\n",
    "#目的変数の0を-1に置換\n",
    "y_train_replace  = np.where(y_train==0, -1, y_train)"
   ]
  },
  {
   "cell_type": "markdown",
   "metadata": {},
   "source": [
    "### カーネル関数"
   ]
  },
  {
   "cell_type": "code",
   "execution_count": 5,
   "metadata": {},
   "outputs": [],
   "source": [
    "#線形カーネル関数の計算\n",
    "kernel = np.dot(X_train_std, X_train_std.T)"
   ]
  },
  {
   "cell_type": "markdown",
   "metadata": {},
   "source": [
    "### ラグランジュの未定乗数法による最急降下"
   ]
  },
  {
   "cell_type": "code",
   "execution_count": 6,
   "metadata": {},
   "outputs": [
    {
     "data": {
      "text/plain": [
       "array([[0.        ],\n",
       "       [0.        ],\n",
       "       [0.        ],\n",
       "       [0.        ],\n",
       "       [0.        ],\n",
       "       [0.        ],\n",
       "       [0.        ],\n",
       "       [0.        ],\n",
       "       [0.        ],\n",
       "       [0.        ],\n",
       "       [0.        ],\n",
       "       [0.        ],\n",
       "       [0.        ],\n",
       "       [4.19607803],\n",
       "       [0.        ],\n",
       "       [0.        ],\n",
       "       [0.        ],\n",
       "       [0.        ],\n",
       "       [0.        ],\n",
       "       [0.        ],\n",
       "       [0.        ],\n",
       "       [0.        ],\n",
       "       [0.        ],\n",
       "       [0.        ],\n",
       "       [0.        ],\n",
       "       [0.        ],\n",
       "       [0.        ],\n",
       "       [0.37182916],\n",
       "       [0.        ],\n",
       "       [0.        ],\n",
       "       [0.        ],\n",
       "       [0.        ],\n",
       "       [0.        ],\n",
       "       [4.31764956],\n",
       "       [0.        ],\n",
       "       [0.        ],\n",
       "       [0.        ],\n",
       "       [0.        ],\n",
       "       [0.        ],\n",
       "       [0.        ],\n",
       "       [0.        ],\n",
       "       [0.        ],\n",
       "       [0.        ],\n",
       "       [0.        ],\n",
       "       [0.        ],\n",
       "       [0.        ],\n",
       "       [0.        ],\n",
       "       [0.        ],\n",
       "       [7.61586869],\n",
       "       [0.        ],\n",
       "       [0.        ],\n",
       "       [0.        ],\n",
       "       [0.        ],\n",
       "       [0.        ],\n",
       "       [0.        ],\n",
       "       [0.        ],\n",
       "       [0.        ],\n",
       "       [0.        ],\n",
       "       [0.        ],\n",
       "       [0.        ],\n",
       "       [0.        ],\n",
       "       [0.        ],\n",
       "       [0.        ],\n",
       "       [6.1621841 ],\n",
       "       [0.        ],\n",
       "       [0.        ],\n",
       "       [0.        ],\n",
       "       [0.        ],\n",
       "       [0.        ],\n",
       "       [0.        ],\n",
       "       [0.        ],\n",
       "       [0.        ],\n",
       "       [0.        ],\n",
       "       [0.        ],\n",
       "       [0.        ]])"
      ]
     },
     "execution_count": 6,
     "metadata": {},
     "output_type": "execute_result"
    }
   ],
   "source": [
    "#学習率の設定\n",
    "lr = 0.1\n",
    "\n",
    "#ラグランジュ乗数を初期化する\n",
    "#学習データの行数（サンプル）と同じ行数を生成する\n",
    "lam = np.ones((X_train_std.shape[0],1))\n",
    "\n",
    "for count in range(100):\n",
    "    for i in range(X_train_std.shape[0]):\n",
    "        tmp_lam = 0\n",
    "        for j in range(X_train_std.shape[0]):\n",
    "            tmp_lam += lam[j] * y_train_replace[i] * y_train_replace[j] * kernel[i, j]\n",
    "\n",
    "        lam[i] += lr *(1 - tmp_lam)\n",
    "\n",
    "        if lam[i] < 0:\n",
    "            lam[i] = 0\n",
    "            \n",
    "lam"
   ]
  },
  {
   "cell_type": "markdown",
   "metadata": {},
   "source": [
    "### サポートベクターの決定"
   ]
  },
  {
   "cell_type": "code",
   "execution_count": 7,
   "metadata": {},
   "outputs": [
    {
     "data": {
      "text/plain": [
       "array([13, 27, 33, 48, 63])"
      ]
     },
     "execution_count": 7,
     "metadata": {},
     "output_type": "execute_result"
    }
   ],
   "source": [
    "#閾値の設定\n",
    "threshold=1e-5\n",
    "\n",
    "# しきい値以上の値となったラグランジュ乗数をサポートベクトルとして取り出す\n",
    "sv = np.where(lam>threshold)[0]\n",
    "\n",
    "# サポートベクトルの数\n",
    "nsupport = len(sv)\n",
    "\n",
    "sv"
   ]
  },
  {
   "cell_type": "code",
   "execution_count": 8,
   "metadata": {},
   "outputs": [],
   "source": [
    "#サポートベクターのみの配列を作成\n",
    "X_sv = X_train_std[sv,:]\n",
    "lam_sv = lam[sv]\n",
    "y_sv = y_train_replace[sv]"
   ]
  },
  {
   "cell_type": "code",
   "execution_count": 9,
   "metadata": {},
   "outputs": [
    {
     "data": {
      "text/plain": [
       "array([ 3.09452421, -2.26848445])"
      ]
     },
     "execution_count": 9,
     "metadata": {},
     "output_type": "execute_result"
    }
   ],
   "source": [
    "#thetaを更新する\n",
    "theta = 0\n",
    "for i in range(nsupport):\n",
    "    theta += lam_sv[i] * y_sv[i] * X_sv[i]\n",
    "\n",
    "theta"
   ]
  },
  {
   "cell_type": "code",
   "execution_count": 10,
   "metadata": {},
   "outputs": [],
   "source": [
    "#切片theta0を更新する\n",
    "theta0 = np.sum(y_sv - (np.dot(X_sv,theta.reshape(2,1)))) / nsupport"
   ]
  },
  {
   "cell_type": "code",
   "execution_count": 11,
   "metadata": {},
   "outputs": [],
   "source": [
    "#予測用関数\n",
    "def predict(X, a=0, b=1):\n",
    "    \n",
    "    predict_proba = np.dot(X, theta.reshape(2,1)) + theta0\n",
    "\n",
    "    return np.where(predict_proba < 0, a, b)"
   ]
  },
  {
   "cell_type": "code",
   "execution_count": 12,
   "metadata": {},
   "outputs": [
    {
     "data": {
      "text/plain": [
       "array([[0],\n",
       "       [1],\n",
       "       [0],\n",
       "       [1],\n",
       "       [0],\n",
       "       [1],\n",
       "       [0],\n",
       "       [1],\n",
       "       [1],\n",
       "       [1],\n",
       "       [1],\n",
       "       [0],\n",
       "       [0],\n",
       "       [1],\n",
       "       [0],\n",
       "       [1],\n",
       "       [1],\n",
       "       [1],\n",
       "       [0],\n",
       "       [0],\n",
       "       [1],\n",
       "       [0],\n",
       "       [1],\n",
       "       [1],\n",
       "       [0]])"
      ]
     },
     "execution_count": 12,
     "metadata": {},
     "output_type": "execute_result"
    }
   ],
   "source": [
    "#予測してみる\n",
    "y_val_pred = predict(standardize(X_validation))\n",
    "y_val_pred"
   ]
  },
  {
   "cell_type": "markdown",
   "metadata": {},
   "source": [
    "### クラスにまとめる"
   ]
  },
  {
   "cell_type": "code",
   "execution_count": 13,
   "metadata": {},
   "outputs": [],
   "source": [
    "#ライブラリのインポート\n",
    "import pandas as pd\n",
    "from pandas import DataFrame\n",
    "import numpy as np\n",
    "import matplotlib.pyplot as plt\n",
    "%matplotlib inline\n",
    "from matplotlib.colors import ListedColormap\n",
    "import matplotlib.patches as mpatches\n",
    "\n",
    "\n",
    "class ScratchSVMClassifier():\n",
    "    \"\"\"\n",
    "    SVM分類のスクラッチ実装\n",
    "\n",
    "    Parameters\n",
    "    ----------\n",
    "    kernel : str\n",
    "        カーネルを選択する（linear,,,）(デフォルト'linear')\n",
    "    num_iter : int\n",
    "      イテレーション数(学習回数)(デフォルト10)\n",
    "    lr : float\n",
    "      学習率（デフォルト0.1）\n",
    "    C : float\n",
    "        正則化パラメータ(デフォルト値10)\n",
    "    threshold : flaot\n",
    "        サポートベクターを決定する閾値（デフォルト値1e-5）\n",
    "\n",
    "    Attributes\n",
    "    ----------\n",
    "    self.coef_ : 次の形のndarray, shape (n_features,)\n",
    "      パラメータ\n",
    "    self.intercept_ 次の形のndarray, shape (1,)\n",
    "     切片\n",
    "    self.X_sv : 次の形のndarry, shape(n_samples(サポートベクトルの数), n_classes)\n",
    "        サポートベクトル\n",
    "    \"\"\"\n",
    "\n",
    "    def __init__(self, kernel='linear', num_iter=10, lr=0.1, C=10, threshold=1e-5, gamma=1, coef0=0, d=2):\n",
    "        # ハイパーパラメータを属性として記録\n",
    "        self.kernel = kernel                             #カーネル関数を選択（linear:線形カーネル）\n",
    "        self.iter = num_iter                            #イテレーション数\n",
    "        self.lr = lr                                             #学習率\n",
    "        self.C = C                                            #正則化パラメータ（デフォルト値10）\n",
    "        self.threshold = threshold                #サポートベクターを決定する閾値(デフォルト値1e-5)\n",
    "        self.gamma = gamma                       #多項式カーネル関数の係数(デフォルト値1)\n",
    "        self.coef0 = coef0                            #多項式カーネルの切片(デフォルト値0)\n",
    "        self.d = d                                            #多項式カーネルの累乗数(デフォルト値1)\n",
    "                \n",
    "    def fit(self, X, y):\n",
    "        \"\"\"\n",
    "        SVM分類を学習する。\n",
    "        \n",
    "        Parameters\n",
    "        ----------\n",
    "        X : 次の形のndarray, shape (n_samples, n_features)\n",
    "            学習用データの特徴量\n",
    "        y : 次の形のndarray, shape (n_samples, )\n",
    "            学習用データの正解値(二値)\n",
    "            \n",
    "        Returns\n",
    "        -------\n",
    "        self : returns an instance of self.            \n",
    "            \n",
    "        \"\"\"\n",
    "        #pandasをnp.arrayに変換\n",
    "        X = np.array(X)\n",
    "        y = np.array(y)\n",
    "        \n",
    "        #predict用にy(目的変数)のクラスを取得\n",
    "        self.y_classes = np.unique(y)\n",
    "        \n",
    "        #正解値が-1と1のクラスになっていない場合、変換する\n",
    "        if self.y_classes[0] != -1 or self.y_classes[1] != 1:\n",
    "            #目的変数の0番目を-1,1番目を1に置換\n",
    "            y  = np.where(y==self.y_classes[0], -1, 1)\n",
    "        \n",
    "        #学習データが一次元の場合、次元変換する\n",
    "        if X.ndim == 1:\n",
    "            X = X.reshape(len(X), 1)\n",
    "                    \n",
    "        #選択したカーネルを関数に渡す        \n",
    "        if self.kernel == 'linear':\n",
    "            #線形カーネル関数\n",
    "            self.kernel_object = self._linear_kernel(X, X)\n",
    "        elif self.kernel == 'poly':\n",
    "            self.kernel_object = self._poly_kernel(X, X)\n",
    "        \n",
    "        #最急降下法にてパラメータを更新する\n",
    "        lam = self._gradient_descent(X, y)\n",
    "                            \n",
    "        # しきい値以上の値となったラグランジュ乗数をサポートベクトルとして取り出す\n",
    "        sv = np.where(lam > self.threshold)[0]\n",
    "\n",
    "        # サポートベクトルの数\n",
    "        nsupport = len(sv)\n",
    "\n",
    "        #サポートベクトルの配列を作成\n",
    "        X_sv = X[sv,:]\n",
    "        lam_sv = lam[sv]\n",
    "        y_sv = y[sv]\n",
    "        \n",
    "        #グラフ表示用にサポートベクトルをattribute化\n",
    "        self.X_sv = X_sv.copy()\n",
    "        self.lam_sv = lam_sv.copy()\n",
    "        self.y_sv = y_sv.copy()\n",
    "        \n",
    "        \"\"\"退避\n",
    "        #パラメータを初期化\n",
    "        self.coef_ = 0\n",
    "        \n",
    "        #thetaパラメータを更新\n",
    "        for i in range(nsupport):\n",
    "            self.coef_ += lam_sv[i] * y_sv[i] * X_sv[i]\n",
    "        \n",
    "        #切片theta0を更新\n",
    "        self.intercept_ = np.sum(y_sv - (np.dot(X_sv, self.coef_.reshape(X.shape[1],1)))) / nsupport\n",
    "        \"\"\"\n",
    "    \n",
    "\n",
    "    def predict(self, X):\n",
    "        \"\"\"\n",
    "        SVMを使い分類予測する。\n",
    "\n",
    "        Parameters\n",
    "        ----------\n",
    "        X : 次の形のndarray, shape (n_samples, n_features)\n",
    "            サンプル\n",
    "        y : 次の形のndarray, shape (n_samples, )\n",
    "            正解値\n",
    "\n",
    "        Returns\n",
    "        -------\n",
    "            次の形のndarray, shape (n_samples, 1)\n",
    "            svmによる分類結果\n",
    "            (予測確率が0より小さい場合-1、そうでない場合1)\n",
    "        \"\"\"\n",
    "        #選択したカーネルを関数に渡す        \n",
    "        if self.kernel == 'linear':\n",
    "            #線形カーネル関数\n",
    "            estimate_kernel = self._linear_kernel(X, self.X_sv)\n",
    "        elif self.kernel == 'poly':\n",
    "            estimate_kernel = self._poly_kernel(X, self.X_sv)\n",
    "\n",
    "        #推定を行う\n",
    "        estimate = np.zeros((X.shape[0],))\n",
    "        for i in range(len(self.lam_sv)):\n",
    "            estimate += self.lam_sv[i] * self.y_sv[i] * estimate_kernel[:, i]\n",
    "\n",
    "\n",
    "        #決定関数より分類結果を返す\n",
    "        return np.where(estimate.reshape(X.shape[0],) < 0, self.y_classes[0], self.y_classes[1])\n",
    "\n",
    "        \n",
    "\n",
    "        \n",
    "    def _linear_kernel(self, Xi, Xj):\n",
    "        \"\"\"\n",
    "        線形カーネル関数を計算する\n",
    "\n",
    "        Parameters\n",
    "        ----------\n",
    "        X : 次の形のndarray, shape (n_samples, n_features)\n",
    "          学習データ\n",
    "\n",
    "        Returns\n",
    "        -------\n",
    "          次の形のndarray, shape (n_samples, 1)\n",
    "          仮定関数による推定結果\n",
    "\n",
    "        \"\"\"\n",
    "        #線形カーネル関数を求める\n",
    "        return np.dot(Xi, Xj.T)\n",
    "\n",
    "    def _poly_kernel(self, Xi, Xj):\n",
    "        \"\"\"\n",
    "        多項式カーネル関数を計算する\n",
    "\n",
    "        Parameters\n",
    "        ----------\n",
    "        X : 次の形のndarray, shape (n_samples, n_features)\n",
    "          学習データ\n",
    "\n",
    "        Returns\n",
    "        -------\n",
    "          次の形のndarray, shape (n_samples, 1)\n",
    "          仮定関数による推定結果\n",
    "\n",
    "        \"\"\"\n",
    "        #多項式カーネル関数を求める\n",
    "        return self.gamma * ((np.dot(Xi, Xj.T) + self.coef0) ** self.d)\n",
    "\n",
    "  \n",
    "    def _gradient_descent(self, X, y):\n",
    "        \"\"\"\n",
    "        最急降下法にてパラメータを更新する\n",
    "\n",
    "        Parameters\n",
    "        ----------\n",
    "        X : 次の形のndarray, shape (n_samples, n_features)\n",
    "          学習データ\n",
    "        y : 次の形のndarray, shape (n_samples, )\n",
    "            正解値\n",
    "\n",
    "        Returns\n",
    "        ----------\n",
    "        self.coef_ : 次の形のndarray, shape (n_features,)\n",
    "          更新後のパラメータ\n",
    "        \"\"\"\n",
    "        #サンプル数を一時変数に格納（処理が早くなる）\n",
    "        n_samples = X.shape[0]\n",
    "        \n",
    "        #ラグランジュ乗数を初期化する\n",
    "        lam = np.ones((n_samples,1))\n",
    "\n",
    "        #イテレーション数だけ学習を繰り返す\n",
    "        for count in range(self.iter):\n",
    "            #パラメータの更新式のsigma以降の計算を行う\n",
    "            for i in range(n_samples):\n",
    "                tmp_lam = 0\n",
    "                for j in range(n_samples):\n",
    "                    tmp_lam += lam[j] * y[i] * y[j] * self.kernel_object[i, j]\n",
    "\n",
    "                # サンプルごとのラムダを更新する\n",
    "                lam[i] += self.lr *(1 - tmp_lam)\n",
    "\n",
    "                # ラムダが0より小さい場合、0に更新する\n",
    "                if lam[i] < 0:\n",
    "                    lam[i] = 0\n",
    "\n",
    "        #学習後のラグランジュ乗数を返す\n",
    "        return lam\n",
    "    \n",
    "        \n",
    "    \n",
    "    def decision_region(self, X_train, y_train, step=0.01, title='decision region', xlabel='xlabel', ylabel='ylabel', target_names=['target1', 'target2']):\n",
    "        \"\"\"\n",
    "        2値分類を2次元の特徴量で学習したモデルの決定領域を描く。\n",
    "        背景の色が学習したモデルによる推定値から描画される。\n",
    "        散布図の点は学習用データである。\n",
    "\n",
    "        Parameters\n",
    "        ----------------\n",
    "        X_train : ndarray, shape(n_samples, 2)\n",
    "            学習用データの特徴量\n",
    "        y_train : ndarray, shape(n_samples,)\n",
    "            学習用データの正解値\n",
    "        step : float, (default : 0.1)\n",
    "            推定値を計算する間隔を設定する\n",
    "        title : str\n",
    "            グラフのタイトルの文章を与える\n",
    "        xlabel, ylabel : str\n",
    "            軸ラベルの文章を与える\n",
    "        target_names= : list of str\n",
    "            凡例の一覧を与える\n",
    "        \"\"\"\n",
    "        # setting\n",
    "        scatter_color = ['red', 'blue']\n",
    "        contourf_color = ['pink', 'skyblue']\n",
    "        n_class = 2\n",
    "\n",
    "        # pred\n",
    "        mesh_f0, mesh_f1  = np.meshgrid(np.arange(np.min(X_train[:,0])-0.5, np.max(X_train[:,0])+0.5, step), np.arange(np.min(X_train[:,1])-0.5, np.max(X_train[:,1])+0.5, step))\n",
    "        mesh = np.c_[np.ravel(mesh_f0),np.ravel(mesh_f1)]\n",
    "        pred = self.predict(mesh).reshape(mesh_f0.shape)\n",
    "        \n",
    "        # plot\n",
    "        plt.title(title)\n",
    "        plt.xlabel(xlabel)\n",
    "        plt.ylabel(ylabel)\n",
    "        plt.contourf(mesh_f0, mesh_f1, pred, n_class-1, cmap=ListedColormap(contourf_color))\n",
    "        plt.contour(mesh_f0, mesh_f1, pred, n_class-1, colors='y', linewidths=3, alpha=0.5)\n",
    "        for i, target in enumerate(set(y_train)):\n",
    "            plt.scatter(X_train[y_train==target][:, 0], X_train[y_train==target][:, 1], s=80, color=scatter_color[i], label=target_names[i], marker='o')\n",
    "        patches = [mpatches.Patch(color=scatter_color[i], label=target_names[i]) for i in range(n_class)]\n",
    "        \n",
    "        \n",
    "        plt.legend(handles=patches)\n",
    "        plt.legend()\n",
    "        \n",
    "        #サポートベクターをプロットする\n",
    "        plt.scatter(self.X_sv[:, 0], self.X_sv[:, 1], color='y')\n",
    "\n",
    "        plt.show()\n",
    "\n"
   ]
  },
  {
   "cell_type": "code",
   "execution_count": 14,
   "metadata": {},
   "outputs": [],
   "source": [
    "#インスタンス生成する\n",
    "#データ量が多めのため、イテレーション数は抑えめで\n",
    "ssvmc = ScratchSVMClassifier(num_iter=10, lr=0.1, C=10)"
   ]
  },
  {
   "cell_type": "code",
   "execution_count": 15,
   "metadata": {},
   "outputs": [],
   "source": [
    "#シンプルデータセットのインポート\n",
    "\n",
    "np.random.seed(seed=0)\n",
    "n_samples = 500\n",
    "f0 = [-1, 2]\n",
    "f1 = [2, -1]\n",
    "cov = [[1.0,0.8], [0.8, 1.0]]\n",
    "\n",
    "f0 = np.random.multivariate_normal(f0, cov, int(n_samples/2))\n",
    "f1 = np.random.multivariate_normal(f1, cov, int(n_samples/2))\n",
    "\n",
    "X = np.concatenate((f0, f1))\n",
    "y = np.concatenate((np.ones((int(n_samples/2))), np.ones((int(n_samples/2))) *(-1))).astype(np.int)\n",
    "\n",
    "random_index = np.random.permutation(np.arange(n_samples))\n",
    "X = X[random_index]\n",
    "y = y[random_index].reshape(500,1)"
   ]
  },
  {
   "cell_type": "code",
   "execution_count": 16,
   "metadata": {},
   "outputs": [],
   "source": [
    "#シンプルデータセットにて学習を行う\n",
    "ssvmc.fit(X, y)"
   ]
  },
  {
   "cell_type": "markdown",
   "metadata": {},
   "source": [
    "※【問題2】は最下部にて記載\n",
    "## 【問題3】指標値の算出\n",
    "分類に関する指標値で精度を確認してください。"
   ]
  },
  {
   "cell_type": "code",
   "execution_count": 17,
   "metadata": {},
   "outputs": [
    {
     "name": "stdout",
     "output_type": "stream",
     "text": [
      "accuracy : 1.0\n",
      "precision : 1.0\n",
      "recall : 1.0\n",
      "f1 : 1.0\n"
     ]
    }
   ],
   "source": [
    "#予測を行う\n",
    "y_pred = ssvmc.predict(X)\n",
    "\n",
    "#accuracyを計算\n",
    "print('accuracy : {}'.format(metrics.accuracy_score(y, y_pred)))\n",
    "\n",
    "#precisionを計算\n",
    "print('precision : {}'.format(metrics.precision_score(y, y_pred)))\n",
    "\n",
    "#recallを計算\n",
    "print('recall : {}'.format(metrics.recall_score(y, y_pred)))\n",
    "\n",
    "#f1を計算\n",
    "print('f1 : {}'.format(metrics.f1_score(y, y_pred)))"
   ]
  },
  {
   "cell_type": "code",
   "execution_count": 18,
   "metadata": {},
   "outputs": [
    {
     "data": {
      "image/png": "[encoded data removed]",
      "text/plain": [
       "<Figure size 432x288 with 1 Axes>"
      ]
     },
     "metadata": {
      "needs_background": "light"
     },
     "output_type": "display_data"
    }
   ],
   "source": [
    "##roc曲線、aucの計算\n",
    "\n",
    "# FPR, TPR(, しきい値) を算出\n",
    "fpr, tpr, thresholds = metrics.roc_curve(y, y_pred)\n",
    "\n",
    "# ついでにAUCも\n",
    "auc = metrics.auc(fpr, tpr)\n",
    "\n",
    "# ROC曲線をプロット\n",
    "plt.plot(fpr, tpr, label='ROC curve (area = %.2f)'%auc)\n",
    "plt.legend()\n",
    "plt.title('ROC curve')\n",
    "plt.xlabel('False Positive Rate')\n",
    "plt.ylabel('True Positive Rate')\n",
    "plt.grid(True)"
   ]
  },
  {
   "cell_type": "markdown",
   "metadata": {},
   "source": [
    "## 【問題4】決定領域の可視化\n",
    "2値分類のデータセットに対して決定領域を可視化してください。\n",
    "\n",
    "これまで使用してきた関数に、サポートベクターを色を変えて表示する機能を加えてください。\n",
    "\n",
    "特にSprint0で作成したシンプルデータセット1に対して以下のように分類ができるかを検証してください。"
   ]
  },
  {
   "cell_type": "code",
   "execution_count": 19,
   "metadata": {},
   "outputs": [
    {
     "data": {
      "image/png": "[encoded data removed]",
      "text/plain": [
       "<Figure size 432x288 with 1 Axes>"
      ]
     },
     "metadata": {
      "needs_background": "light"
     },
     "output_type": "display_data"
    }
   ],
   "source": [
    "'''\n",
    "決定領域をプロットする\n",
    "'''\n",
    "ssvmc.decision_region(\n",
    "    X_train=X, \n",
    "    y_train=y.reshape(-1),   #set型に対応するために一次元配列にする\n",
    "    title='decision region of ScratchSVMClassifier', \n",
    "    xlabel='f0', \n",
    "    ylabel='f1', \n",
    "    target_names=['0', '1']\n",
    ")\n"
   ]
  },
  {
   "cell_type": "markdown",
   "metadata": {},
   "source": [
    "## 【問題5】時間の計測\n",
    "SVMの学習には時間がかかるため、効率的な実装が望まれます。事前学習期間に行なったように、時間を計測して改善していきましょう。特に $\\lambda\\$の更新部分は繰り返し処理が多いため、効率的なコードを目指してください。"
   ]
  },
  {
   "cell_type": "markdown",
   "metadata": {},
   "source": [
    "### サンプルの行数を一時変数に格納する"
   ]
  },
  {
   "cell_type": "code",
   "execution_count": 21,
   "metadata": {},
   "outputs": [
    {
     "name": "stdout",
     "output_type": "stream",
     "text": [
      "before_time : 151.74268531799316s\n",
      "after_time : 137.96314597129822s\n"
     ]
    }
   ],
   "source": [
    "'''\n",
    "修正前の時間測定\n",
    "'''\n",
    "import time\n",
    "t0 = time.time()\n",
    "\n",
    "lam = np.ones((X.shape[0],1))\n",
    "\n",
    "for i in range(X.shape[0]):\n",
    "    tmp_lam = 0\n",
    "    for j in range(X.shape[0]):\n",
    "        tmp_lam += lam[j] * y[i] * y[j] * ssvmc._linear_kernel(X, X)[i, j]\n",
    "\n",
    "    # サンプルごとのラムダを更新する\n",
    "    lam[i] += ssvmc.lr *(1 - tmp_lam)\n",
    "\n",
    "    # ラムダが0より小さい場合、0に更新する\n",
    "    if lam[i] < 0:\n",
    "        lam[i] = 0\n",
    "        \n",
    "t1 = time.time()\n",
    "\n",
    "print('before_time : {}s'.format(t1-t0))\n",
    "\n",
    "\n",
    "'''\n",
    "修正後の時間測定\n",
    "'''\n",
    "t0 = time.time()\n",
    "\n",
    "n_samples = X.shape[0]\n",
    "\n",
    "lam = np.ones((n_samples,1))\n",
    "\n",
    "for i in range(n_samples):\n",
    "    tmp_lam = 0\n",
    "    for j in range(n_samples):\n",
    "        tmp_lam += lam[j] * y[i] * y[j] * ssvmc._linear_kernel(X, X)[i, j]\n",
    "\n",
    "    # サンプルごとのラムダを更新する\n",
    "    lam[i] += ssvmc.lr *(1 - tmp_lam)\n",
    "\n",
    "    # ラムダが0より小さい場合、0に更新する\n",
    "    if lam[i] < 0:\n",
    "        lam[i] = 0\n",
    "        \n",
    "t1 = time.time()\n",
    "\n",
    "print('after_time : {}s'.format(t1-t0))\n"
   ]
  },
  {
   "cell_type": "markdown",
   "metadata": {},
   "source": [
    "### 結果\n",
    "一時変数を利用することにより、処理時間を短くすることができた"
   ]
  },
  {
   "cell_type": "markdown",
   "metadata": {},
   "source": [
    "## 【問題6】ロジスティック回帰とSVM\n",
    "最終発表時に以下の内容についてディスカッションを行います。自分なりの意見を用意しておいてください。\n",
    "\n",
    "- ロジスティック回帰とSVMは本質的に何が異なっているか  \n",
    "\n",
    "\n",
    "**注意点**  \n",
    "答えがある問いではありません。いろいろな視点から見て理解を深めていきましょう。"
   ]
  },
  {
   "cell_type": "markdown",
   "metadata": {},
   "source": [
    "- ロジスティック回帰  \n",
    "   - シグモイド関数を利用して目的関数を最小化する\n",
    "   - 全ての学習データを利用して学習を行う\n",
    "   - 処理時間が早い\n",
    "\n",
    "- SVM\n",
    "    - 内積を利用して目的関数を最小化する\n",
    "    - サポートベクターとなるデータのみを利用して学習を行う（外れ値に強い）\n",
    "    - 処理時間が遅い"
   ]
  },
  {
   "cell_type": "markdown",
   "metadata": {},
   "source": [
    "## 【問題2】（アドバンス課題）多項式カーネル関数の作成\n",
    "問題1では線形カーネルを使用しましたが、多項式カーネルにも切り替えられるようにしましょう。\n",
    "\n",
    "「線形カーネルの式」\n",
    "$$\n",
    "    k(x_i, x_j) = x_{i}^{T} x_j\n",
    "$$\n",
    "\n",
    "「多項式カーネルの式」\n",
    "$$\n",
    "    k(x_i, x_j) = \\gamma(x_{i}^{T} x_j + \\theta_0)^{d}\n",
    "$$\n",
    "\n",
    "$\\gamma, \\theta_0, d$はハイパーパラメータです。  \n",
    "\n",
    "線形カーネルは $\\gamma = 1, \\theta_0 = 0 , d = 1$の場合の多項式カーネルと等しいと言えます。\n"
   ]
  },
  {
   "cell_type": "markdown",
   "metadata": {},
   "source": [
    "### irisデータセットにて動作確認"
   ]
  },
  {
   "cell_type": "code",
   "execution_count": 22,
   "metadata": {},
   "outputs": [],
   "source": [
    "#irisデータセットにて、多項式カーネルを用いてSVM回帰を行う\n",
    "#パラメータ設定がむずい\n",
    "ssvmc2 = ScratchSVMClassifier(kernel='poly', num_iter=300, lr=1e-4, C=1, d=3, gamma=10, coef0=10)\n",
    "ssvmc2.fit(X_train_std, y_train)"
   ]
  },
  {
   "cell_type": "code",
   "execution_count": 23,
   "metadata": {},
   "outputs": [
    {
     "data": {
      "image/png": "[encoded data removed]",
      "text/plain": [
       "<Figure size 432x288 with 1 Axes>"
      ]
     },
     "metadata": {
      "needs_background": "light"
     },
     "output_type": "display_data"
    }
   ],
   "source": [
    "'''\n",
    "決定領域をプロットする\n",
    "'''\n",
    "ssvmc2.decision_region(\n",
    "    X_train=X_train_std, \n",
    "    y_train=y_train.reshape(-1),   #set型に対応するために一次元配列にする\n",
    "    title='decision region of ScratchSVMClassifier', \n",
    "    xlabel='f0', \n",
    "    ylabel='f1', \n",
    "    target_names=['0', '1']\n",
    ")\n"
   ]
  },
  {
   "cell_type": "markdown",
   "metadata": {},
   "source": [
    "### シンプルデータセットにて動作確認"
   ]
  },
  {
   "cell_type": "code",
   "execution_count": 29,
   "metadata": {},
   "outputs": [],
   "source": [
    "#シンプルデータセットにて、多項式カーネルを用いてSVM回帰を行う\n",
    "ssvmc3 = ScratchSVMClassifier(kernel='poly', num_iter=20, lr=1e-3, C=1, d=2, gamma=10, coef0=10)\n",
    "ssvmc3.fit(X, y)"
   ]
  },
  {
   "cell_type": "code",
   "execution_count": 30,
   "metadata": {},
   "outputs": [
    {
     "data": {
      "image/png": "[encoded data removed]",
      "text/plain": [
       "<Figure size 432x288 with 1 Axes>"
      ]
     },
     "metadata": {
      "needs_background": "light"
     },
     "output_type": "display_data"
    }
   ],
   "source": [
    "'''\n",
    "決定領域をプロットする\n",
    "'''\n",
    "ssvmc3.decision_region(\n",
    "    X_train=X, \n",
    "    y_train=y.reshape(-1),   #set型に対応するために一次元配列にする\n",
    "    title='decision region of ScratchSVMClassifier', \n",
    "    xlabel='f0', \n",
    "    ylabel='f1', \n",
    "    target_names=['0', '1']\n",
    ")\n"
   ]
  },
  {
   "cell_type": "markdown",
   "metadata": {},
   "source": [
    "### pyファイルで確認(classify_pipeline.py)"
   ]
  },
  {
   "cell_type": "code",
   "execution_count": 26,
   "metadata": {},
   "outputs": [],
   "source": [
    "#pyファイル格納ディレクトリのパス設定\n",
    "import sys\n",
    "sys.path.append(\"/Users/yusuke-saruya/diveintocode-ml/full-time/diveintocode-term1/ml-scratch/utils/\")\n",
    "import classify_pipeline"
   ]
  },
  {
   "cell_type": "code",
   "execution_count": 27,
   "metadata": {},
   "outputs": [],
   "source": [
    "#irisデータセットにて、多項式カーネルを用いてSVM回帰を行う\n",
    "ssvmc4 = classify_pipeline.ScratchSVMClassifier(kernel='poly', num_iter=300, lr=1e-4, C=1, d=3, gamma=10, coef0=10)\n",
    "ssvmc4.fit(X_train_std, y_train)"
   ]
  },
  {
   "cell_type": "code",
   "execution_count": 28,
   "metadata": {},
   "outputs": [
    {
     "data": {
      "image/png": "[encoded data removed]",
      "text/plain": [
       "<Figure size 432x288 with 1 Axes>"
      ]
     },
     "metadata": {
      "needs_background": "light"
     },
     "output_type": "display_data"
    }
   ],
   "source": [
    "'''\n",
    "決定領域をプロットする\n",
    "'''\n",
    "ssvmc4.decision_region(\n",
    "    X_train=X_train_std, \n",
    "    y_train=y_train.reshape(-1),   #set型に対応するために一次元配列にする\n",
    "    title='decision region of ScratchSVMClassifier', \n",
    "    xlabel='f0', \n",
    "    ylabel='f1', \n",
    "    target_names=['0', '1']\n",
    ")\n"
   ]
  },
  {
   "cell_type": "code",
   "execution_count": null,
   "metadata": {},
   "outputs": [],
   "source": []
  }
 ],
 "metadata": {
  "kernelspec": {
   "display_name": "Python 3",
   "language": "python",
   "name": "python3"
  },
  "language_info": {
   "codemirror_mode": {
    "name": "ipython",
    "version": 3
   },
   "file_extension": ".py",
   "mimetype": "text/x-python",
   "name": "python",
   "nbconvert_exporter": "python",
   "pygments_lexer": "ipython3",
   "version": "3.7.1"
  }
 },
 "nbformat": 4,
 "nbformat_minor": 2
}
