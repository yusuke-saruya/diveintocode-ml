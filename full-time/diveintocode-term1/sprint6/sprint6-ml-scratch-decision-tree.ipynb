{
 "cells": [
  {
   "cell_type": "markdown",
   "metadata": {},
   "source": [
    "# Sprint6課題 機械学習スクラッチ決定木"
   ]
  },
  {
   "cell_type": "markdown",
   "metadata": {},
   "source": [
    "## 【問題1】ジニ不純度を求める関数\n",
    "まずは空間を分割するための指標値、ジニ不純度を計算する関数を作成してください。ノード$t$に対するジニ不純度$I(t)$は以下の数式で求まります。\n",
    "$$\n",
    "I(t) = 1-\\sum_{i=1}^{K}P^2(C_i|t) = 1-\\sum_{i=1}^{K}(\\frac{N_{t,i}}{N_{t,all}})^{2}\n",
    "$$\n",
    "\n",
    "\n",
    "$t$ : ノードのインデックス\n",
    "\n",
    "$i$ : クラスのインデックス\n",
    "\n",
    "$K$ : クラスの数\n",
    "\n",
    "$C_i$ : $i$番目のクラス\n",
    "\n",
    "$P(C_i|t)$ :　$t$番目のノードにおける$C_i$の割合\n",
    "\n",
    "$N_{t,i}$ : $t$番目のノードのi番目のクラスに属するサンプル数\n",
    "\n",
    "$N_{t,all}$ : $t$番目のノードのサンプルの総数\n",
    "\n",
    "まずは簡単な例を作り、手計算と関数の結果を比較してください。\n",
    "\n",
    "**例**\n",
    "\n",
    "- クラス1:サンプル数15, クラス2:サンプル数15 → ジニ不純度0.500\n",
    "- クラス1:サンプル数15, クラス2:サンプル数15, クラス3:サンプル数15 → ジニ不純度0.667\n",
    "- クラス1:サンプル数18, クラス2:サンプル数12 → ジニ不純度0.480\n",
    "- クラス1:サンプル数30, クラス2:サンプル数0 → ジニ不純度0.000  \n",
    "\n",
    "\n",
    "この他にもいくつか試してください。\n",
    "\n"
   ]
  },
  {
   "cell_type": "markdown",
   "metadata": {},
   "source": [
    "## 【問題2】情報利得を求める関数\n",
    "次に、情報利得を計算する関数を作成してください。先ほど作成したジニ不純度$I(t)$を計算する関数を呼び出して使います。情報利得$IG$は以下の数式で求まります。\n",
    "\n",
    "$$\n",
    "    IG(p) = I(p)-\\frac{N_{left,all}}{N_{p,all}}I(left)-\\frac{N_{right,all}}{N_{p,all}}I(right)\n",
    "$$\n",
    "\n",
    "$p$ : 親ノードを示すインデックス\n",
    "\n",
    "$left$ : 左側のノードを示すインデックス\n",
    "\n",
    "$right$ : 右側のノードを示すインデックス\n",
    "\n",
    "まずは簡単な例を作り、手計算と関数の結果を比較してください。\n",
    "\n",
    "例\n",
    "\n",
    "左ノードクラス1:サンプル数10, 左ノードクラス2:サンプル数30, 右ノードクラス1:サンプル数20, 右ノードクラス2:サンプル数5 → 情報利得0.143\n",
    "\n",
    "この他にもいくつか試してください。\n",
    "\n",
    "#### ※アドバンス課題は最下部に記載"
   ]
  },
  {
   "cell_type": "code",
   "execution_count": 1,
   "metadata": {},
   "outputs": [],
   "source": [
    "#ライブラリのインポート\n",
    "\n",
    "import numpy as np\n",
    "from sklearn.model_selection import train_test_split\n",
    "%matplotlib inline\n",
    "import matplotlib.pyplot as plt\n",
    "from matplotlib.colors import ListedColormap\n",
    "import matplotlib.patches as mpatches\n",
    "from sklearn import metrics"
   ]
  },
  {
   "cell_type": "markdown",
   "metadata": {},
   "source": [
    "### 手計算で確認"
   ]
  },
  {
   "cell_type": "code",
   "execution_count": 2,
   "metadata": {},
   "outputs": [
    {
     "name": "stdout",
     "output_type": "stream",
     "text": [
      "gini : 0.500\n"
     ]
    }
   ],
   "source": [
    "#クラス1:サンプル数15, クラス2:サンプル数15 → ジニ不純度0.500\n",
    "gini_score = 1 - ((15 / 30) ** 2 + (15 / 30) ** 2)\n",
    "print('gini : {:.3f}'.format(gini_score))"
   ]
  },
  {
   "cell_type": "code",
   "execution_count": 3,
   "metadata": {},
   "outputs": [
    {
     "name": "stdout",
     "output_type": "stream",
     "text": [
      "gini : 0.667\n"
     ]
    }
   ],
   "source": [
    "#クラス1:サンプル数15, クラス2:サンプル数15, クラス3:サンプル数15 → ジニ不純度0.667\n",
    "gini_score = 1 - ((15 / 45) ** 2 + (15 / 45) ** 2 + (15 / 45) ** 2)\n",
    "print('gini : {:.3f}'.format(gini_score))"
   ]
  },
  {
   "cell_type": "code",
   "execution_count": 4,
   "metadata": {},
   "outputs": [
    {
     "name": "stdout",
     "output_type": "stream",
     "text": [
      "gini : 0.480\n"
     ]
    }
   ],
   "source": [
    "#クラス1:サンプル数18, クラス2:サンプル数12 → ジニ不純度0.480\n",
    "gini_score = 1 - ((18 / 30) ** 2 + (12 / 30) ** 2)\n",
    "print('gini : {:.3f}'.format(gini_score))"
   ]
  },
  {
   "cell_type": "code",
   "execution_count": 5,
   "metadata": {},
   "outputs": [
    {
     "name": "stdout",
     "output_type": "stream",
     "text": [
      "gini : 0.000\n"
     ]
    }
   ],
   "source": [
    "#クラス1:サンプル数30, クラス2:サンプル数0 → ジニ不純度0.000\n",
    "gini_score = 1 - ((30 / 30) ** 2 + (0 / 30) ** 2)\n",
    "print('gini : {:.3f}'.format(gini_score))"
   ]
  },
  {
   "cell_type": "markdown",
   "metadata": {},
   "source": [
    "[決定木入門編 「ウォーリーを探せ」から考える不純度の考え方](http://www.randpy.tokyo/entry/decision_tree_theory)"
   ]
  },
  {
   "cell_type": "code",
   "execution_count": 6,
   "metadata": {},
   "outputs": [
    {
     "name": "stdout",
     "output_type": "stream",
     "text": [
      "gini_yes : 0.444\n",
      "gini_no : 0.463\n",
      "Information Gain : 0.045\n"
     ]
    }
   ],
   "source": [
    "#分割ルール1:数学60点以上\n",
    "gini_yes = 1 - ((60 / 90) ** 2 + (30 / 90) ** 2)\n",
    "print('gini_yes : {:.3f}'.format(gini_yes))\n",
    "\n",
    "gini_no = 1 - ((40 / 110) ** 2 + (70 / 110) ** 2)\n",
    "print('gini_no : {:.3f}'.format(gini_no))\n",
    "\n",
    "#情報利得\n",
    "gini_p= 1 - ((100 / 200) ** 2 + (100 / 200) ** 2)\n",
    "\n",
    "ig = gini_p - (gini_yes * 90 / 200) - (gini_no * 110 / 200)\n",
    "print('Information Gain : {:.3f}'.format(ig))"
   ]
  },
  {
   "cell_type": "code",
   "execution_count": 7,
   "metadata": {},
   "outputs": [
    {
     "name": "stdout",
     "output_type": "stream",
     "text": [
      "gini_yes : 0.320\n",
      "gini_no : 0.320\n",
      "Information Gain : 0.180\n"
     ]
    }
   ],
   "source": [
    "#分割ルール2:国語80点以上\n",
    "gini_yes = 1 - ((80 / 100) ** 2 + (20 / 100) ** 2)\n",
    "print('gini_yes : {:.3f}'.format(gini_yes))\n",
    "\n",
    "gini_no = 1 - ((20 / 100) ** 2 + (80 / 100) ** 2)\n",
    "print('gini_no : {:.3f}'.format(gini_no))\n",
    "\n",
    "#情報利得\n",
    "gini_p= 1 - ((100 / 200) ** 2 + (100 / 200) ** 2)\n",
    "\n",
    "ig = gini_p - (gini_yes * 100 / 200) - (gini_no * 100 / 200)\n",
    "print('Information Gain : {:.3f}'.format(ig))"
   ]
  },
  {
   "cell_type": "code",
   "execution_count": 8,
   "metadata": {},
   "outputs": [],
   "source": [
    "'''\n",
    "上記でテストデータを作る\n",
    "'''\n",
    "#学校Aの数学のデータを作る\n",
    "math_over60_A = np.random.randint(60,101, 60)\n",
    "math_unser60_A = np.random.randint(0,60, 40)\n",
    "math_A = np.concatenate([math_over60_A, math_unser60_A], 0)\n",
    "math_A = math_A.reshape(100,1)\n",
    "\n",
    "#学校Aの国語のデータを作る\n",
    "japanese_over80_A = np.random.randint(80,101, 80)\n",
    "japanese_unser80_A = np.random.randint(0,80, 20)\n",
    "japanese_A = np.concatenate([japanese_over80_A, japanese_unser80_A], 0)\n",
    "japanese_A = japanese_A.reshape(100,1)\n",
    "\n",
    "#学校Aのテストデータまとめる（学校Aのラベル：0）\n",
    "school_A = np.concatenate([math_A, japanese_A], 1)\n",
    "school_A = np.insert(school_A, 2,0, axis=1)\n",
    "\n",
    "#学校Bの数学のデータを作る\n",
    "math_over60_B = np.random.randint(60,101, 30)\n",
    "math_unser60_B = np.random.randint(0,60, 70)\n",
    "math_B = np.concatenate([math_over60_B, math_unser60_B], 0)\n",
    "math_B = math_B.reshape(100,1)\n",
    "\n",
    "#学校Bの国語のデータを作る\n",
    "japanese_over80_B = np.random.randint(80,101, 20)\n",
    "japanese_unser80_B = np.random.randint(0,80, 80)\n",
    "japanese_B = np.concatenate([japanese_over80_B, japanese_unser80_B], 0)\n",
    "japanese_B = japanese_B.reshape(100,1)\n",
    "\n",
    "#学校Bのテストデータまとめる（学校Bのラベル：1）\n",
    "school_B = np.concatenate([math_B, japanese_B], 1)\n",
    "school_B = np.insert(school_B, 2,1, axis=1)\n",
    "\n",
    "\n",
    "#学校のテストデータまとめる\n",
    "school_score = np.concatenate([school_A, school_B], 0)"
   ]
  },
  {
   "cell_type": "code",
   "execution_count": 9,
   "metadata": {},
   "outputs": [],
   "source": [
    "#特徴量を格納\n",
    "X = school_score[:,0:2]\n",
    "\n",
    "#目的変数を格納\n",
    "y = school_score[:,2:3]"
   ]
  },
  {
   "cell_type": "code",
   "execution_count": 10,
   "metadata": {},
   "outputs": [
    {
     "data": {
      "text/plain": [
       "<function matplotlib.pyplot.show(*args, **kw)>"
      ]
     },
     "execution_count": 10,
     "metadata": {},
     "output_type": "execute_result"
    },
    {
     "data": {
      "image/png": "[encoded data removed]",
      "text/plain": [
       "<Figure size 432x288 with 1 Axes>"
      ]
     },
     "metadata": {
      "needs_background": "light"
     },
     "output_type": "display_data"
    }
   ],
   "source": [
    "import matplotlib.pyplot as plt\n",
    "\n",
    "plt.scatter(school_score[school_score[:,2]==0][:,0], school_score[school_score[:,2]==0][:,1], label='School A')\n",
    "plt.scatter(school_score[school_score[:,2]==1][:,0], school_score[school_score[:,2]==1][:,1], label='School B')\n",
    "\n",
    "plt.xlabel('math')\n",
    "plt.ylabel('japanese')\n",
    "plt.legend()\n",
    "\n",
    "plt.show"
   ]
  },
  {
   "cell_type": "code",
   "execution_count": 11,
   "metadata": {},
   "outputs": [],
   "source": [
    "'''\n",
    "手計算と同様の結果が出るか確認\n",
    "'''\n",
    "\n",
    "#数学が60点以上(yes)のインデックス\n",
    "left_index=np.where(X[:,0]>=60)[0]\n",
    "\n",
    "#合計人数\n",
    "left = len(np.where(X[:,0]>=60)[0])\n",
    "\n",
    "#学校Aの人数\n",
    "left_0 = len(np.where(y[left_index]==0)[0])\n",
    "\n",
    "#学校Bの人数\n",
    "left_1 = len(np.where(y[left_index]==1)[0])\n",
    "\n",
    "#数学が60より小さい(no)のインデックス\n",
    "right_index=np.where(X[:,0]<60)[0]\n",
    "\n",
    "#合計人数\n",
    "right = len(np.where(X[:,0]<60)[0])\n",
    "\n",
    "#学校Aの人数\n",
    "right_0 = len(np.where(y[right_index]==0)[0])\n",
    "\n",
    "#学校Bの人数\n",
    "right_1 = len(np.where(y[right_index]==1)[0])\n",
    "\n",
    "#親ノードの計算\n",
    "samples_0 = len(np.where(y==0)[0])\n",
    "samples_1 = len(np.where(y==1)[0])\n",
    "samples = len(y)"
   ]
  },
  {
   "cell_type": "code",
   "execution_count": 12,
   "metadata": {
    "scrolled": true
   },
   "outputs": [
    {
     "name": "stdout",
     "output_type": "stream",
     "text": [
      "gini_yes : 0.444\n",
      "gini_no : 0.463\n",
      "Information Gain : 0.046\n"
     ]
    }
   ],
   "source": [
    "#yesグループのジニ係数\n",
    "gini_left = 1 - ((left_0 / left) ** 2 + (left_1 / left) ** 2)\n",
    "print('gini_yes : {:.3f}'.format(gini_left))\n",
    "\n",
    "#noグループのジニ係数\n",
    "gini_right = 1 - ((right_0 / right) ** 2 + (right_1 / right) ** 2)\n",
    "print('gini_no : {:.3f}'.format(gini_right))\n",
    "\n",
    "#情報利得\n",
    "gini_p= 1 - ((samples_0 / samples) ** 2 + (samples_1 / samples) ** 2)\n",
    "\n",
    "ig = gini_p - (gini_left * samples_0 / samples) - (gini_right * samples_1 / samples)\n",
    "print('Information Gain : {:.3f}'.format(ig))\n"
   ]
  },
  {
   "cell_type": "markdown",
   "metadata": {},
   "source": [
    "## 【問題3】深さ1の決定木分類器クラスの作成\n",
    "深さが1の決定機分類器のクラスを作成し、Sprint2で作成した分類のパイプラインに組み込んでください。\n",
    "\n",
    "クラスの基本構造はSprint3の線形回帰を参考にし、名前は**ScratchDecesionTreeClassifier**としてください。\n",
    "\n",
    "メソッドやパラメータなどはscikit-learnを参考にしてください。\n",
    "\n",
    "[sklearn.tree.DecisionTreeClassifier — scikit-learn 0.20.2 documentation](https://scikit-learn.org/stable/modules/generated/sklearn.tree.DecisionTreeClassifier.html)\n",
    "\n",
    "検証段階ではJupyter Notebook上で書いていき、最終的にはpyファイルにモジュールとしてまとめてください。\n",
    "\n",
    "深さ1とは空間の分割を1回だけ行うことを指します。\n",
    "\n",
    "#### 決定木のアルゴリズム\n",
    "\n",
    "ある特徴量の軸に対して、全てのパターンのしきい値を考え、それぞれの情報利得を計算していきます。各点の値をしきい値にする方法が一般的です。（ただし、実際にはしきい値の数は点の数よりひとつ少なくて良いことになります）分割の全候補の中で最も情報利得が大きくなるものをそのノードの分割方法として採用します。\n",
    "\n",
    "ジニ不純度が0になるノード、または指定された深さのノードは葉と呼ばれます。葉にはそれぞれ推定時にどのクラスに分類するかを記録しておきます。ジニ不純度が0でない場合は、多数決により分類するクラスを決定します。\n",
    "\n",
    "#### ヒント\n",
    "\n",
    "これまでのスクラッチ課題に比べてアルゴリズムが複雑です。コードを書く前に、フローチャートなどで整理するようにしましょう。"
   ]
  },
  {
   "cell_type": "code",
   "execution_count": 13,
   "metadata": {},
   "outputs": [
    {
     "name": "stdout",
     "output_type": "stream",
     "text": [
      "0.045454545454545414\n"
     ]
    }
   ],
   "source": [
    "'''\n",
    "ざっくりまとめる\n",
    "'''\n",
    "\n",
    "threshold=60\n",
    "index_left = np.where(X[:,0]>=threshold)[0]\n",
    "\n",
    "if len(index_left) > 0:\n",
    "    #各クラスに属するサンプル数を格納する空箱\n",
    "    num_list_left = np.array([])\n",
    "    #クラスごとにサンプル数を格納していく\n",
    "    for i in np.unique(y):\n",
    "        num_list_left = np.append(num_list_left, len(np.where(y[index_left]==i)[0]))\n",
    "\n",
    "    #ジニ係数を計算する\n",
    "    gini_left = 1 - np.sum((num_list_left / np.sum(num_list_left)) ** 2)\n",
    "else:\n",
    "    gini_left = 0.5\n",
    "\n",
    "#判定基準はどう作る？\n",
    "index_right = np.where(X[:,0]<threshold)[0]\n",
    "\n",
    "if len(index_right) > 0:\n",
    "\n",
    "    #各クラスに属するサンプル数を格納する空箱\n",
    "    num_list_right = np.array([])\n",
    "    #クラスごとにサンプル数を格納していく\n",
    "    for i in np.unique(y):\n",
    "        num_list_right = np.append(num_list_right, len(np.where(y[index_right]==i)[0]))\n",
    "\n",
    "    #ジニ係数を計算する\n",
    "    gini_right = 1 - np.sum((num_list_right / np.sum(num_list_right)) ** 2)\n",
    "else:\n",
    "    gini_right = 0.5\n",
    "\n",
    "    \n",
    "#親ノードインデックス?\n",
    "num_list = np.array([])\n",
    "#クラスごとにサンプル数を格納していく\n",
    "for i in np.unique(y):\n",
    "    num_list = np.append(num_list, len(np.where(y==i)[0]))\n",
    "    \n",
    "\n",
    "#情報利得\n",
    "gini_p= 1 - np.sum((num_list / np.sum(num_list)) ** 2)\n",
    "\n",
    "ig = gini_p - (gini_left * np.sum(num_list_left) / np.sum(num_list)) - (gini_right * np.sum(num_list_right) / np.sum(num_list))\n",
    "\n",
    "print(ig)"
   ]
  },
  {
   "cell_type": "code",
   "execution_count": 14,
   "metadata": {},
   "outputs": [],
   "source": [
    "'''\n",
    "ジニ係数の関数\n",
    "'''\n",
    "def gini_score2(n):\n",
    "    '''\n",
    "    n : ndarray\n",
    "    クラスに属するサンプル数\n",
    "    '''\n",
    "    #ジニ係数を計算する\n",
    "    gini = 1 - np.sum((n / np.sum(n)) ** 2)\n",
    "    \n",
    "    return gini\n"
   ]
  },
  {
   "cell_type": "code",
   "execution_count": 15,
   "metadata": {},
   "outputs": [],
   "source": [
    "'''\n",
    "情報利得の関数\n",
    "'''\n",
    "\n",
    "def information_gain2(p, left, right):\n",
    "    n_left = np.sum(left)\n",
    "    n_right = np.sum(right)\n",
    "    n_all = n_left + n_right\n",
    "    \n",
    "    if n_left == 0 or n_right == 0:\n",
    "        ig = 0\n",
    "    else:\n",
    "        ig = (\n",
    "            gini_score2(p) - \n",
    "            ((n_left / n_all) * gini_score2(left)) - \n",
    "            ((n_right / n_all) * gini_score2(right))\n",
    "        )\n",
    "    return ig"
   ]
  },
  {
   "cell_type": "code",
   "execution_count": 16,
   "metadata": {},
   "outputs": [
    {
     "data": {
      "text/plain": [
       "0.04545454545454547"
      ]
     },
     "execution_count": 16,
     "metadata": {},
     "output_type": "execute_result"
    }
   ],
   "source": [
    "#確認\n",
    "information_gain2(num_list, num_list_left, num_list_right)"
   ]
  },
  {
   "cell_type": "markdown",
   "metadata": {},
   "source": [
    "### クラスにまとめる"
   ]
  },
  {
   "cell_type": "code",
   "execution_count": 17,
   "metadata": {},
   "outputs": [],
   "source": [
    "#ライブラリのインポート\n",
    "import pandas as pd\n",
    "from pandas import DataFrame\n",
    "import numpy as np\n",
    "import matplotlib.pyplot as plt\n",
    "%matplotlib inline\n",
    "from matplotlib.colors import ListedColormap\n",
    "import matplotlib.patches as mpatches\n",
    "\n",
    "\n",
    "class ScratchDecesionTreeClassifier():\n",
    "    \"\"\"\n",
    "    決定木分類のスクラッチ実装\n",
    "\n",
    "    Parameters\n",
    "    ----------\n",
    "\n",
    "    Attributes\n",
    "    ----------\n",
    "    self.coef_ : 次の形のndarray, shape (n_features,)\n",
    "      パラメータ\n",
    "    self.intercept_ 次の形のndarray, shape (1,)\n",
    "     切片\n",
    "    self.X_sv : 次の形のndarry, shape(n_samples(サポートベクトルの数), n_classes)\n",
    "        サポートベクトル\n",
    "    \"\"\"\n",
    "\n",
    "    def __init__(self):\n",
    "        # ハイパーパラメータを属性として記録\n",
    "        self.tree = None\n",
    "        \n",
    "    def fit(self, X, y):\n",
    "        \"\"\"\n",
    "        決定木分類を学習する。\n",
    "\n",
    "        Parameters\n",
    "        ----------\n",
    "        X : 次の形のndarray, shape (n_samples, n_features)\n",
    "            学習用データの特徴量\n",
    "        y : 次の形のndarray, shape (n_samples, )\n",
    "            学習用データの正解値(二値)\n",
    "\n",
    "        Returns\n",
    "        -------\n",
    "        self : returns an instance of self.            \n",
    "\n",
    "        \"\"\"\n",
    "        #pandasをnp.arrayに変換\n",
    "        X = np.array(X)\n",
    "        y = np.array(y)\n",
    "\n",
    "\n",
    "        \"\"\"親ノードの処理---開始\"\"\"\n",
    "        num_list = np.array([])\n",
    "\n",
    "        #クラスごとにサンプル数を格納していく\n",
    "        for i in np.unique(y):\n",
    "            num_list = np.append(num_list, len(np.where(y==i)[0]))\n",
    "\n",
    "        \"\"\"親ノードの処理---終了\"\"\"\n",
    "\n",
    "        #特徴量の種類だけ回す\n",
    "        for features in range(X.shape[1]):\n",
    "\n",
    "            #情報利得を初期化\n",
    "            ig = 0\n",
    "            #特徴量の中にもつユニークな要素ごとを閾値として情報利得を計算していく\n",
    "            for threshold in np.unique(X[:,features]):\n",
    "\n",
    "                \"\"\"左子ノードの処理---開始\"\"\"\n",
    "                #閾値より大きいサンプルのインデックス\n",
    "                index_left = np.where(X[:,features]>=threshold)[0]\n",
    "\n",
    "                #各クラスに属するサンプル数を格納する空箱\n",
    "                num_list_left = np.array([])\n",
    "                #クラスごとにサンプル数を格納していく\n",
    "                for i in np.unique(y):\n",
    "                    num_list_left = np.append(num_list_left, len(np.where(y[index_left]==i)[0]))\n",
    "                \"\"\"左子ノードの処理---終了\"\"\"\n",
    "\n",
    "                \"\"\"右子ノードの処理---開始\"\"\"\n",
    "                #閾値より大きいサンプルのインデックス\n",
    "                index_right = np.where(X[:,features]<threshold)[0]\n",
    "\n",
    "                #各クラスに属するサンプル数を格納する空箱\n",
    "                num_list_right = np.array([])\n",
    "                #クラスごとにサンプル数を格納していく\n",
    "                for i in np.unique(y):\n",
    "                    num_list_right = np.append(num_list_right, len(np.where(y[index_right]==i)[0]))\n",
    "                \"\"\"右子ノードの処理---終了\"\"\"\n",
    "\n",
    "                #　情報利得を計算する\n",
    "                tmp_ig = self.information_gain(num_list, num_list_left, num_list_right)\n",
    "                \n",
    "                #これまでの最も高い情報利得より高ければ、閾値とその特徴量(クラス)を格納\n",
    "                if tmp_ig > ig:\n",
    "                    ig = tmp_ig\n",
    "                    self.threshold = threshold.copy()\n",
    "                    self.features = features\n",
    "                    \n",
    "            # 情報利得が最高だった閾値から、左子ノードと右子ノードのクラス分けをする\n",
    "            n_class0 = np.sum(y[X[:, self.features]>self.threshold]==np.unique(y)[0])\n",
    "            n_class1 = np.sum(y[X[:, self.features]>self.threshold]==np.unique(y)[1])\n",
    "            if n_class0 > n_class1:\n",
    "                self.left_node = np.unique(y)[0]\n",
    "                self.right_node = np.unique(y)[1]\n",
    "            else:\n",
    "                self.left_node = np.unique(y)[1]\n",
    "                self.right_node = np.unique(y)[0]\n",
    "                \n",
    "\n",
    "    def predict(self, X):\n",
    "        \"\"\"\n",
    "        決定木を使い分類予測する。\n",
    "\n",
    "        Parameters\n",
    "        ----------\n",
    "        X : 次の形のndarray, shape (n_samples, n_features)\n",
    "            サンプル\n",
    "\n",
    "        Returns\n",
    "        -------\n",
    "        y_pred : 次の形のndarray, shape (n_samples, 1)\n",
    "            決定木による分類結果\n",
    "        \"\"\"\n",
    "\n",
    "        y_pred = np.where(\n",
    "            X[:, self.features]>=self.threshold, \n",
    "            self.left_node, \n",
    "            self.right_node\n",
    "        ).reshape(len(X), 1)\n",
    "\n",
    "        return y_pred\n",
    "\n",
    "\n",
    "\n",
    "    def gini_score(self, n):\n",
    "        \"\"\"\n",
    "        ジニ係数を計算する\n",
    "\n",
    "        Parameters\n",
    "        ----------\n",
    "        n : 次の形のndarray, shape (1, n_features)\n",
    "          クラス別のサンプル数\n",
    "\n",
    "        Returns\n",
    "        -------\n",
    "         gini_score : float\n",
    "          ジニ係数\n",
    "\n",
    "        \"\"\"\n",
    "        #ジニ係数を計算する\n",
    "        gini = 1 - np.sum((n / np.sum(n)) ** 2)\n",
    "\n",
    "        return gini\n",
    "\n",
    "        \n",
    "    def information_gain(self, p, left, right):\n",
    "        \"\"\"\n",
    "        情報利得を計算する\n",
    "\n",
    "        Parameters\n",
    "        ----------\n",
    "        p : 次の形のndarray, shape (1, n_features)\n",
    "          親ノードのクラス別のサンプル数\n",
    "        left : 次の形のndarray, shape (1, n_features)\n",
    "          左子ノードのクラス別のサンプル数\n",
    "        right : 次の形のndarray, shape (1, n_features)\n",
    "          右子ノードのクラス別のサンプル数\n",
    "\n",
    "        Returns\n",
    "        -------\n",
    "         ig : float\n",
    "          情報利得\n",
    "\n",
    "        \"\"\"\n",
    "        n_left = np.sum(left)\n",
    "        n_right = np.sum(right)\n",
    "        n_all = n_left + n_right\n",
    "\n",
    "        if n_left == 0 or n_right == 0:\n",
    "            ig = 0\n",
    "            \n",
    "        else:\n",
    "            ig = (\n",
    "                self.gini_score(p) - \n",
    "                ((n_left / n_all) * self.gini_score(left)) - \n",
    "                ((n_right / n_all) * self.gini_score(right))\n",
    "            )\n",
    "        return ig\n",
    "    \n",
    "        \n",
    "    \n",
    "    def decision_region(self, X_train, y_train, step=0.01, title='decision region', xlabel='xlabel', ylabel='ylabel', target_names=['target1', 'target2']):\n",
    "        \"\"\"\n",
    "        2値分類を2次元の特徴量で学習したモデルの決定領域を描く。\n",
    "        背景の色が学習したモデルによる推定値から描画される。\n",
    "        散布図の点は学習用データである。\n",
    "\n",
    "        Parameters\n",
    "        ----------------\n",
    "        X_train : ndarray, shape(n_samples, 2)\n",
    "            学習用データの特徴量\n",
    "        y_train : ndarray, shape(n_samples,)\n",
    "            学習用データの正解値\n",
    "        step : float, (default : 0.1)\n",
    "            推定値を計算する間隔を設定する\n",
    "        title : str\n",
    "            グラフのタイトルの文章を与える\n",
    "        xlabel, ylabel : str\n",
    "            軸ラベルの文章を与える\n",
    "        target_names= : list of str\n",
    "            凡例の一覧を与える\n",
    "        \"\"\"\n",
    "        # setting\n",
    "        scatter_color = ['red', 'blue']\n",
    "        contourf_color = ['pink', 'skyblue']\n",
    "        n_class = 2\n",
    "\n",
    "        # pred\n",
    "        mesh_f0, mesh_f1  = np.meshgrid(np.arange(np.min(X_train[:,0])-0.5, np.max(X_train[:,0])+0.5, step), np.arange(np.min(X_train[:,1])-0.5, np.max(X_train[:,1])+0.5, step))\n",
    "        mesh = np.c_[np.ravel(mesh_f0),np.ravel(mesh_f1)]\n",
    "        pred = self.predict(mesh).reshape(mesh_f0.shape)\n",
    "        \n",
    "        # plot\n",
    "        plt.title(title)\n",
    "        plt.xlabel(xlabel)\n",
    "        plt.ylabel(ylabel)\n",
    "        plt.contourf(mesh_f0, mesh_f1, pred, n_class-1, cmap=ListedColormap(contourf_color))\n",
    "        plt.contour(mesh_f0, mesh_f1, pred, n_class-1, colors='y', linewidths=3, alpha=0.5)\n",
    "        for i, target in enumerate(set(y_train)):\n",
    "            plt.scatter(X_train[y_train==target][:, 0], X_train[y_train==target][:, 1], s=80, color=scatter_color[i], label=target_names[i], marker='o')\n",
    "        patches = [mpatches.Patch(color=scatter_color[i], label=target_names[i]) for i in range(n_class)]\n",
    "        \n",
    "        \n",
    "        plt.legend(handles=patches)\n",
    "        plt.legend()\n",
    "        \n",
    "        plt.show()\n"
   ]
  },
  {
   "cell_type": "code",
   "execution_count": 18,
   "metadata": {},
   "outputs": [],
   "source": [
    "sdtc = ScratchDecesionTreeClassifier()\n",
    "sdtc.fit(X, y)"
   ]
  },
  {
   "cell_type": "code",
   "execution_count": 20,
   "metadata": {},
   "outputs": [
    {
     "data": {
      "image/png": "[encoded data removed]",
      "text/plain": [
       "<Figure size 432x288 with 1 Axes>"
      ]
     },
     "metadata": {
      "needs_background": "light"
     },
     "output_type": "display_data"
    }
   ],
   "source": [
    "'''\n",
    "決定領域をプロットする\n",
    "'''\n",
    "sdtc.decision_region(\n",
    "    X_train=X, \n",
    "    y_train=y.reshape(-1),   #set型に対応するために一次元配列にする\n",
    "    title='decision region of ScratchDecesionTreeClassifier', \n",
    "    xlabel='math', \n",
    "    ylabel='japanese', \n",
    "    target_names=['School A', 'School B']\n",
    ")\n"
   ]
  },
  {
   "cell_type": "markdown",
   "metadata": {},
   "source": [
    "## 【問題6】指標値の算出\n",
    "分類に関する指標値で精度を確認してください。"
   ]
  },
  {
   "cell_type": "markdown",
   "metadata": {},
   "source": [
    "### シンプルデータセット2で確認"
   ]
  },
  {
   "cell_type": "code",
   "execution_count": 21,
   "metadata": {},
   "outputs": [],
   "source": [
    "X2 = np.array([[-0.44699 , -2.8073  ],[-1.4621  , -2.4586  ],\n",
    "       [ 0.10645 ,  1.9242  ],[-3.5944  , -4.0112  ],\n",
    "       [-0.9888  ,  4.5718  ],[-3.1625  , -3.9606  ],\n",
    "       [ 0.56421 ,  0.72888 ],[-0.60216 ,  8.4636  ],\n",
    "       [-0.61251 , -0.75345 ],[-0.73535 , -2.2718  ],\n",
    "       [-0.80647 , -2.2135  ],[ 0.86291 ,  2.3946  ],\n",
    "       [-3.1108  ,  0.15394 ],[-2.9362  ,  2.5462  ],\n",
    "       [-0.57242 , -2.9915  ],[ 1.4771  ,  3.4896  ],\n",
    "       [ 0.58619 ,  0.37158 ],[ 0.6017  ,  4.3439  ],\n",
    "       [-2.1086  ,  8.3428  ],[-4.1013  , -4.353   ],\n",
    "       [-1.9948  , -1.3927  ],[ 0.35084 , -0.031994],\n",
    "       [ 0.96765 ,  7.8929  ],[-1.281   , 15.6824  ],\n",
    "       [ 0.96765 , 10.083   ],[ 1.3763  ,  1.3347  ],\n",
    "       [-2.234   , -2.5323  ],[-2.9452  , -1.8219  ],\n",
    "       [ 0.14654 , -0.28733 ],[ 0.5461  ,  5.8245  ],\n",
    "       [-0.65259 ,  9.3444  ],[ 0.59912 ,  5.3524  ],\n",
    "       [ 0.50214 , -0.31818 ],[-3.0603  , -3.6461  ],\n",
    "       [-6.6797  ,  0.67661 ],[-2.353   , -0.72261 ],\n",
    "       [ 1.1319  ,  2.4023  ],[-0.12243 ,  9.0162  ],\n",
    "       [-2.5677  , 13.1779  ],[ 0.057313,  5.4681  ]])\n",
    "y2 = np.array([0, 0, 0, 0, 0, 0, 0, 0, 0, 0, 0, 0, 0, 0, 0, 0, 0, 0, 0, 0, 1, 1,\n",
    "       1, 1, 1, 1, 1, 1, 1, 1, 1, 1, 1, 1, 1, 1, 1, 1, 1, 1])"
   ]
  },
  {
   "cell_type": "code",
   "execution_count": 22,
   "metadata": {},
   "outputs": [],
   "source": [
    "#インスタンス生成\n",
    "sdtc2 = ScratchDecesionTreeClassifier()\n",
    "\n",
    "#シンプルデータセット2にてモデル作成\n",
    "sdtc2.fit(X2, y2)\n",
    "\n",
    "#予測\n",
    "y2_pred = sdtc2.predict(X2)"
   ]
  },
  {
   "cell_type": "code",
   "execution_count": 23,
   "metadata": {},
   "outputs": [
    {
     "name": "stdout",
     "output_type": "stream",
     "text": [
      "accuracy : 0.675\n",
      "precision : 0.8181818181818182\n",
      "recall : 0.45\n",
      "f1 : 0.5806451612903226\n"
     ]
    }
   ],
   "source": [
    "#予測\n",
    "y2_pred = sdtc2.predict(X2)\n",
    "\n",
    "#accuracyを計算\n",
    "print('accuracy : {}'.format(metrics.accuracy_score(y2, y2_pred)))\n",
    "\n",
    "#precisionを計算\n",
    "print('precision : {}'.format(metrics.precision_score(y2, y2_pred)))\n",
    "\n",
    "#recallを計算\n",
    "print('recall : {}'.format(metrics.recall_score(y2, y2_pred)))\n",
    "\n",
    "#f1を計算\n",
    "print('f1 : {}'.format(metrics.f1_score(y2, y2_pred)))"
   ]
  },
  {
   "cell_type": "markdown",
   "metadata": {},
   "source": [
    "## 【問題7】決定領域の可視化\n",
    "2値分類のデータセットに対して決定領域を可視化してください。"
   ]
  },
  {
   "cell_type": "code",
   "execution_count": 24,
   "metadata": {},
   "outputs": [
    {
     "data": {
      "image/png": "[encoded data removed]",
      "text/plain": [
       "<Figure size 432x288 with 1 Axes>"
      ]
     },
     "metadata": {
      "needs_background": "light"
     },
     "output_type": "display_data"
    }
   ],
   "source": [
    "'''\n",
    "決定領域をプロットする\n",
    "'''\n",
    "sdtc2.decision_region(\n",
    "    X_train=X2, \n",
    "    y_train=y2.reshape(-1),   #set型に対応するために一次元配列にする\n",
    "    title='decision region of ScratchDecesionTreeClassifier', \n",
    "    xlabel='f0', \n",
    "    ylabel='f1', \n",
    "    target_names=['0', '1']\n",
    ")\n"
   ]
  },
  {
   "cell_type": "markdown",
   "metadata": {},
   "source": [
    "## 【問題4】（アドバンス課題）深さ2の決定木分類器クラスの作成\n",
    "問題3で作成したクラスを発展させ、深さが2の決定木分類器のクラスを作成してください。\n",
    "\n",
    "深さ2とは空間の分割を2回行うことを指します。\n",
    "\n",
    "#### ヒント\n",
    "\n",
    "各ノードをインスタンスとして扱うと、任意の深さへの拡張が行いやすくなります。"
   ]
  },
  {
   "cell_type": "code",
   "execution_count": 25,
   "metadata": {},
   "outputs": [],
   "source": [
    "#ライブラリのインポート\n",
    "import pandas as pd\n",
    "from pandas import DataFrame\n",
    "import numpy as np\n",
    "import matplotlib.pyplot as plt\n",
    "%matplotlib inline\n",
    "from matplotlib.colors import ListedColormap\n",
    "import matplotlib.patches as mpatches\n",
    "\n",
    "'''\n",
    "関数の構成\n",
    "    def gini_score : ジニ係数の計算\n",
    "\n",
    "    def information_gain : 情報利得の計算\n",
    "        \n",
    "    class DecisionTreeNode : ノード別のインスタンスを作成するためのクラス\n",
    "        def __init__ : コンストラクタ\n",
    "        def split : ノード別の閾値、対象特徴量を計算\n",
    "        def predict : 渡されたデータより予測\n",
    "        \n",
    "    class ScratchDecesionTreeClassifier\n",
    "    決定木のスクラッチ実装用クラス\n",
    "        def __init__ : コンストラクタ\n",
    "        def fit : 学習データよりモデルを作成\n",
    "        def predict : 予測するためのデータを渡す（DecisionTreeNode.predictにて予測）\n",
    "        def decision_region : 決定領域を表示\n",
    "\n",
    "'''\n",
    "\n",
    "\n",
    "def gini_score(n):\n",
    "    \"\"\"\n",
    "    ジニ係数を計算する\n",
    "\n",
    "    Parameters\n",
    "    ----------\n",
    "    n : 次の形のndarray, shape (1, n_features)\n",
    "      クラス別のサンプル数\n",
    "\n",
    "    Returns\n",
    "    -------\n",
    "     gini_score : float\n",
    "      ジニ係数\n",
    "\n",
    "    \"\"\"\n",
    "    #ジニ係数を計算する\n",
    "    gini = 1 - np.sum((n / np.sum(n)) ** 2)\n",
    "\n",
    "    return gini\n",
    "\n",
    "\n",
    "def information_gain(p, left, right):\n",
    "    \"\"\"\n",
    "    情報利得を計算する\n",
    "\n",
    "    Parameters\n",
    "    ----------\n",
    "    p : 次の形のndarray, shape (1, n_features)\n",
    "      親ノードのクラス別のサンプル数\n",
    "    left : 次の形のndarray, shape (1, n_features)\n",
    "      左子ノードのクラス別のサンプル数\n",
    "    right : 次の形のndarray, shape (1, n_features)\n",
    "      右子ノードのクラス別のサンプル数\n",
    "\n",
    "    Returns\n",
    "    -------\n",
    "     ig : float\n",
    "      情報利得\n",
    "\n",
    "    \"\"\"\n",
    "    #ノート別のサンプル数合計を計算\n",
    "    n_left = np.sum(left)\n",
    "    n_right = np.sum(right)\n",
    "    n_all = n_left + n_right\n",
    "\n",
    "    #サンプル数の合計が0の場合、情報利得を0にする\n",
    "    if n_left == 0 or n_right == 0:\n",
    "        ig = 0\n",
    "\n",
    "    #公式より情報利得を算出\n",
    "    else:\n",
    "        ig = (\n",
    "            gini_score(p) - \n",
    "            ((n_left / n_all) * gini_score(left)) - \n",
    "            ((n_right / n_all) * gini_score(right))\n",
    "        )\n",
    "    return ig\n",
    "\n",
    "\n",
    "\n",
    "class DecisionTreeNode():\n",
    "    \"\"\"\n",
    "    ノードごとに閾値の検出を行う\n",
    "\n",
    "    Parameters\n",
    "    ----------------\n",
    "    X : ndarray, shape(n_samples, n_features)\n",
    "        学習用データの特徴量\n",
    "    y : ndarray, shape(n_samples,)\n",
    "        学習用データの正解値\n",
    "    max_depth : int(default : 3)\n",
    "        探索する最大深度\n",
    "\n",
    "    Attributes\n",
    "    ----------\n",
    "    self.left : instance\n",
    "        左子ノードのインスタンス格納用\n",
    "    self.right : instance\n",
    "        右子ノードのインスタンス格納用\n",
    "    self.max_depth : int\n",
    "        決定木の最大探索深度\n",
    "    self.data : ndarray, shape(n_samples, n_features)\n",
    "        学習用データXの格納用\n",
    "    self.target : ndarray, shape(n_samples,)\n",
    "        学習用データyの格納用\n",
    "    self.threshold : float\n",
    "        決定木を分割する閾値\n",
    "    self.features : int\n",
    "        閾値に用いる特徴量番号\n",
    "    self.gini_p : float\n",
    "        親ノードのジニ係数\n",
    "    self.gini_left : float\n",
    "        左子ノードのジニ係数\n",
    "    self.gini_right : float\n",
    "        右子ノードのジニ係数\n",
    "    self.left_node : int\n",
    "        左子ノードの判定値\n",
    "    self.right_node : int\n",
    "        右子ノードの判定値\n",
    "\n",
    "    \"\"\"\n",
    " \n",
    "    \n",
    "    def __init__(self, X, y , max_depth):\n",
    "        self.left = None\n",
    "        self.right = None\n",
    "        self.max_depth = max_depth\n",
    "        self.data = X.copy()\n",
    "        self.target = y.copy()\n",
    "        self.threshold = None\n",
    "        self.features = None\n",
    "        self.gini_p = None\n",
    "        self.gini_left = None\n",
    "        self.gini_right = None\n",
    "        self.left_node = None\n",
    "        self.right_node = None\n",
    "        \n",
    "\n",
    "    def split(self, depth):\n",
    "        \"\"\"\n",
    "        対象ノードの閾値検出を行う\n",
    "        \n",
    "        Parameters\n",
    "        ----------\n",
    "        depth : int\n",
    "            現在時点の決定木における深さ\n",
    "            \n",
    "        Returns\n",
    "        -------\n",
    "        self : returns an instance of self.            \n",
    "            \n",
    "        \"\"\"\n",
    "        #現在地点の深さを読み込む\n",
    "        self.depth = depth\n",
    "        \n",
    "        \"\"\"親ノードの処理---開始\"\"\"\n",
    "        num_list = np.array([])\n",
    "\n",
    "        #クラスごとにサンプル数を格納していく\n",
    "        for i in np.unique(self.target):\n",
    "            num_list = np.append(num_list, len(np.where(self.target==i)[0]))\n",
    "            \n",
    "\n",
    "        \"\"\"親ノードの処理---終了\"\"\"\n",
    "        \n",
    "        #親ノードのジニ係数が0の場合、処理を終了\n",
    "        if gini_score(num_list) == 0:\n",
    "            return\n",
    "\n",
    "        #情報利得を初期化\n",
    "        ig = 0\n",
    "        \n",
    "        #特徴量の種類だけ回す\n",
    "        for feat in range(self.data.shape[1]):\n",
    "\n",
    "            #特徴量の中にもつユニークな要素ごとを閾値として情報利得を計算していく\n",
    "            for thr in np.unique(self.data[:,feat]):\n",
    "\n",
    "                \"\"\"左子ノードの処理---開始\"\"\"\n",
    "                \n",
    "                #閾値より大きいサンプルのインデックス\n",
    "                index_left = np.where(self.data[:,feat]>=thr)[0]\n",
    "\n",
    "                #各クラスに属するサンプル数を格納する空箱\n",
    "                num_list_left = np.array([])\n",
    "                \n",
    "                #クラスごとにサンプル数を格納していく\n",
    "                for i in np.unique(self.target):\n",
    "                    num_list_left = np.append(num_list_left, len(np.where(self.target[index_left]==i)[0]))\n",
    "                    \n",
    "                \"\"\"左子ノードの処理---終了\"\"\"\n",
    "\n",
    "                \"\"\"右子ノードの処理---開始\"\"\"\n",
    "                \n",
    "                #閾値より大きいサンプルのインデックス\n",
    "                index_right = np.where(self.data[:,feat]<thr)[0]\n",
    "\n",
    "                #各クラスに属するサンプル数を格納する空箱\n",
    "                num_list_right = np.array([])\n",
    "                \n",
    "                #クラスごとにサンプル数を格納していく\n",
    "                for i in np.unique(self.target):\n",
    "                    num_list_right = np.append(num_list_right, len(np.where(self.target[index_right]==i)[0]))\n",
    "                    \n",
    "                \"\"\"右子ノードの処理---終了\"\"\"\n",
    "\n",
    "                #　情報利得を計算する\n",
    "                tmp_ig = information_gain(num_list, num_list_left, num_list_right)\n",
    "                \n",
    "                #これまでの最も高い情報利得より高ければ、閾値とその特徴量(クラス)を格納\n",
    "                if tmp_ig > ig:\n",
    "                    ig = tmp_ig                                                               #情報利得の最高値を更新\n",
    "                    self.threshold = thr.copy()                                     #閾値を更新\n",
    "                    self.features = feat                                                 #閾値に用いる特徴量番号を格納\n",
    "                    self.gini_p = gini_score(num_list)                        #親ノードのジニ係数を算出\n",
    "                    self.gini_left = gini_score(num_list_left)            #左子ノードのジニ係数を算出\n",
    "                    self.gini_right = gini_score(num_list_right)       #右子ノードのジニ係数を算出\n",
    "        \n",
    "        \n",
    "        # 情報利得が最高だった閾値から、左子ノードと右子ノードのクラス分けをする\n",
    "        # 目的変数の一つ目のユニーク値におけるサンプル数を計算\n",
    "        n_class0 = np.sum(self.target[self.data[:, self.features]>self.threshold]==np.unique(self.target)[0])\n",
    "        # 目的変数の二つ目のユニーク値におけるサンプル数を計算\n",
    "        n_class1 = np.sum(self.target[self.data[:, self.features]>self.threshold]==np.unique(self.target)[1])\n",
    "\n",
    "        #一つ目のユニーク値が二つ目のユニーク値より数が多ければ、左子ノードの格納する\n",
    "        if n_class0 > n_class1:\n",
    "            self.left_node = np.unique(self.target)[0]\n",
    "            self.right_node = np.unique(self.target)[1]\n",
    "        #一つ目のユニーク値が二つ目のユニーク値より数が少なけレバ、右子ノードの格納する\n",
    "        else:\n",
    "            self.left_node = np.unique(self.target)[1]\n",
    "            self.right_node = np.unique(self.target)[0]\n",
    "         \n",
    "        #深さが最大深度に到達していれば、処理を終了する\n",
    "        if self.depth == self.max_depth:\n",
    "            return\n",
    "        \n",
    "        #左子ノードのジニ係数が0以外であれば、再度決定木処理を行う（再帰処理）\n",
    "        if self.gini_left != 0:\n",
    "            #左子ノードに分類された学習データ、正解値データを作成\n",
    "            X_left = self.data[self.data[:,self.features]>=self.threshold]\n",
    "            y_left = self.target[self.data[:,self.features]>=self.threshold]\n",
    "\n",
    "            #インスタンス生成、深度を一つ加えて閾値探索\n",
    "            self.left = DecisionTreeNode(X_left, y_left, self.max_depth)\n",
    "            self.left.split(self.depth+1)\n",
    "\n",
    "        #右子ノードのジニ係数が0以外であれば、再度決定木処理を行う（再帰処理）\n",
    "        if self.gini_right != 0:\n",
    "            #右子ノードに分類された学習データ、正解値データを作成\n",
    "            X_right = self.data[self.data[:,self.features]<self.threshold]\n",
    "            y_right = self.target[self.data[:,self.features]<self.threshold]\n",
    "\n",
    "            #インスタンス生成、深度を一つ加えて閾値探索\n",
    "            self.right = DecisionTreeNode(X_right, y_right, self.max_depth)\n",
    "            self.right.split(self.depth+1)\n",
    "            \n",
    "            \n",
    "    def predict(self, X):\n",
    "        \"\"\"\n",
    "        決定木を使い分類予測する。\n",
    "\n",
    "        Parameters\n",
    "        ----------\n",
    "        X : 次の形のndarray, shape (n_samples, n_features)\n",
    "            サンプル\n",
    "\n",
    "        Returns\n",
    "        -------\n",
    "        y_pred : 次の形のndarray, shape (n_samples, 1)\n",
    "            決定木による分類結果\n",
    "        \"\"\"\n",
    "        #深さが最大深度に到達していれば、閾値に基づいて予測値を返す\n",
    "        if self.depth == self.max_depth:\n",
    "            if X[self.features] >= self.threshold:\n",
    "                y_pred = self.left_node\n",
    "            else:\n",
    "                y_pred = self.right_node\n",
    "            return y_pred\n",
    "        \n",
    "        #最大深度に到達していない場合\n",
    "        else:\n",
    "            if X[self.features] >= self.threshold:\n",
    "                #左子ノードのジニ係数が0の場合、\n",
    "                if self.gini_left == 0:\n",
    "                    #予測値を返す\n",
    "                    return self.left_node\n",
    "                #それ以外であれば、左子ノードのインスタンスへ再度予測処理を渡す\n",
    "                else:\n",
    "                    return self.left.predict(X)\n",
    "            else:\n",
    "                #右子ノードのジニ係数が0の場合、\n",
    "                if self.gini_right == 0:\n",
    "                    return self.right_node\n",
    "                #それ以外であれば、右子ノードのインスタンスへ再度予測処理を渡す\n",
    "                else:\n",
    "                    return self.right.predict(X)        \n",
    "\n",
    "    \n",
    "\n",
    "class ScratchDecesionTreeClassifier():\n",
    "    \"\"\"\n",
    "    決定木分類のスクラッチ実装\n",
    "\n",
    "    Parameters\n",
    "    ----------\n",
    "    max_depth : int(default=3)\n",
    "        探索最大深度\n",
    "\n",
    "    Attributes\n",
    "    ----------\n",
    "    self.max_depth　: int\n",
    "        探索最大深度\n",
    "    self.tree : instance\n",
    "        DecisionTreeNodeクラスを用いて生成するインスタンス\n",
    "\n",
    "    \"\"\"\n",
    "\n",
    "    def __init__(self, max_depth=3):\n",
    "        # ハイパーパラメータを属性として記録\n",
    "        self.max_depth = max_depth\n",
    "        self.tree = None\n",
    "        \n",
    "        \n",
    "    def fit(self, X, y):\n",
    "        \"\"\"\n",
    "        決定木分類を学習する。\n",
    "\n",
    "        Parameters\n",
    "        ----------\n",
    "        X : 次の形のndarray, shape (n_samples, n_features)\n",
    "            学習用データの特徴量\n",
    "        y : 次の形のndarray, shape (n_samples, )\n",
    "            学習用データの正解値(二値)\n",
    "\n",
    "        Returns\n",
    "        -------\n",
    "        self : returns an instance of self.            \n",
    "\n",
    "        \"\"\"\n",
    "        #pandasをnp.arrayに変換\n",
    "        X = np.array(X)\n",
    "        y = np.array(y)\n",
    "        \n",
    "        #深さの初期値設定\n",
    "        initial_depth = 0\n",
    "        \n",
    "        #DecisionTreeNodeクラスのインスタンスを生成\n",
    "        self.tree = DecisionTreeNode(X, y, self.max_depth)\n",
    "        \n",
    "        #DecisionTreeNodeクラスのsplit関数にて学習を行う\n",
    "        self.tree.split(initial_depth)\n",
    "        \n",
    "\n",
    "\n",
    "    def predict(self, X):\n",
    "        \"\"\"\n",
    "        決定木を使い分類予測する。\n",
    "\n",
    "        Parameters\n",
    "        ----------\n",
    "        X : 次の形のndarray, shape (n_samples, n_features)\n",
    "            サンプル\n",
    "\n",
    "        Returns\n",
    "        -------\n",
    "        y_pred : 次の形のndarray, shape (n_samples, 1)\n",
    "            決定木による分類結果\n",
    "        \"\"\"\n",
    "        #予測結果格納用のリスト\n",
    "        pred = []\n",
    "        \n",
    "        #特徴量のサンプルごとにDecisionTreeNodeクラスのpredict関数にて予測する\n",
    "        for s in X:\n",
    "            pred.append(self.tree.predict(s))\n",
    "            \n",
    "        #予測値を返す\n",
    "        return np.array(pred)\n",
    "\n",
    "    \n",
    "    def decision_region(self, X_train, y_train, step=0.01, title='decision region', xlabel='xlabel', ylabel='ylabel', target_names=['target1', 'target2']):\n",
    "        \"\"\"\n",
    "        2値分類を2次元の特徴量で学習したモデルの決定領域を描く。\n",
    "        背景の色が学習したモデルによる推定値から描画される。\n",
    "        散布図の点は学習用データである。\n",
    "\n",
    "        Parameters\n",
    "        ----------------\n",
    "        X_train : ndarray, shape(n_samples, 2)\n",
    "            学習用データの特徴量\n",
    "        y_train : ndarray, shape(n_samples,)\n",
    "            学習用データの正解値\n",
    "        step : float, (default : 0.1)\n",
    "            推定値を計算する間隔を設定する\n",
    "        title : str\n",
    "            グラフのタイトルの文章を与える\n",
    "        xlabel, ylabel : str\n",
    "            軸ラベルの文章を与える\n",
    "        target_names= : list of str\n",
    "            凡例の一覧を与える\n",
    "        \"\"\"\n",
    "        # setting\n",
    "        scatter_color = ['red', 'blue']\n",
    "        contourf_color = ['pink', 'skyblue']\n",
    "        n_class = 2\n",
    "\n",
    "        # pred\n",
    "        mesh_f0, mesh_f1  = np.meshgrid(np.arange(np.min(X_train[:,0])-0.5, np.max(X_train[:,0])+0.5, step), np.arange(np.min(X_train[:,1])-0.5, np.max(X_train[:,1])+0.5, step))\n",
    "        mesh = np.c_[np.ravel(mesh_f0),np.ravel(mesh_f1)]\n",
    "        pred = self.predict(mesh).reshape(mesh_f0.shape)\n",
    "        \n",
    "        # plot\n",
    "        plt.title(title)\n",
    "        plt.xlabel(xlabel)\n",
    "        plt.ylabel(ylabel)\n",
    "        plt.contourf(mesh_f0, mesh_f1, pred, n_class-1, cmap=ListedColormap(contourf_color))\n",
    "        plt.contour(mesh_f0, mesh_f1, pred, n_class-1, colors='y', linewidths=3, alpha=0.5)\n",
    "        for i, target in enumerate(set(y_train)):\n",
    "            plt.scatter(X_train[y_train==target][:, 0], X_train[y_train==target][:, 1], s=80, color=scatter_color[i], label=target_names[i], marker='o')\n",
    "        patches = [mpatches.Patch(color=scatter_color[i], label=target_names[i]) for i in range(n_class)]\n",
    "        \n",
    "        \n",
    "        plt.legend(handles=patches)\n",
    "        plt.legend()\n",
    "        \n",
    "        plt.show()\n"
   ]
  },
  {
   "cell_type": "markdown",
   "metadata": {},
   "source": [
    "### 手作り学校データで確認"
   ]
  },
  {
   "cell_type": "code",
   "execution_count": 30,
   "metadata": {},
   "outputs": [],
   "source": [
    "#インスタンス生成、深さを2とする\n",
    "sdtc3 = ScratchDecesionTreeClassifier(max_depth=2)\n",
    "\n",
    "#学校データにてモデル作成\n",
    "sdtc3.fit(X, y)"
   ]
  },
  {
   "cell_type": "code",
   "execution_count": 31,
   "metadata": {},
   "outputs": [
    {
     "data": {
      "image/png": "[encoded data removed]",
      "text/plain": [
       "<Figure size 432x288 with 1 Axes>"
      ]
     },
     "metadata": {
      "needs_background": "light"
     },
     "output_type": "display_data"
    }
   ],
   "source": [
    "'''\n",
    "決定領域をプロットする\n",
    "'''\n",
    "sdtc3.decision_region(\n",
    "    X_train=X, \n",
    "    y_train=y.reshape(-1),   #set型に対応するために一次元配列にする\n",
    "    title='decision region of ScratchDecesionTreeClassifier', \n",
    "    xlabel='math', \n",
    "    ylabel='japanese', \n",
    "    target_names=['School A', 'School B']\n",
    ")\n"
   ]
  },
  {
   "cell_type": "markdown",
   "metadata": {},
   "source": [
    "### インプルデータセット2で確認"
   ]
  },
  {
   "cell_type": "code",
   "execution_count": 40,
   "metadata": {},
   "outputs": [],
   "source": [
    "#インスタンス生成、深さを2とする\n",
    "sdtc4 = ScratchDecesionTreeClassifier(max_depth=2)\n",
    "\n",
    "#シンプルデータセット2にてモデル作成\n",
    "sdtc4.fit(X2, y2)"
   ]
  },
  {
   "cell_type": "code",
   "execution_count": 41,
   "metadata": {},
   "outputs": [
    {
     "data": {
      "image/png": "[encoded data removed]",
      "text/plain": [
       "<Figure size 432x288 with 1 Axes>"
      ]
     },
     "metadata": {
      "needs_background": "light"
     },
     "output_type": "display_data"
    }
   ],
   "source": [
    "'''\n",
    "決定領域をプロットする\n",
    "'''\n",
    "sdtc4.decision_region(\n",
    "    X_train=X2, \n",
    "    y_train=y2.reshape(-1),   #set型に対応するために一次元配列にする\n",
    "    title='decision region of ScratchDecesionTreeClassifier', \n",
    "    xlabel='f0', \n",
    "    ylabel='f1', \n",
    "    target_names=['0', '1']\n",
    ")\n"
   ]
  },
  {
   "cell_type": "markdown",
   "metadata": {},
   "source": [
    "## 【問題5】（アドバンス課題）任意の深さに対応できる決定木分類器クラスの作成\n",
    "問題3,4で作成したクラスを発展させ、任意の深さに対応できる決定木分類器のクラスを作成してください。深さを特定の値で指定せず、全ての葉がジニ不純度0となるまで続けられるようにしてください。"
   ]
  },
  {
   "cell_type": "code",
   "execution_count": 50,
   "metadata": {},
   "outputs": [],
   "source": [
    "#インスタンス生成、深さは指定なし\n",
    "sdtc5 = ScratchDecesionTreeClassifier(max_depth=None)\n",
    "\n",
    "#シンプルデータセット2にてモデル作成\n",
    "sdtc5.fit(X2, y2)"
   ]
  },
  {
   "cell_type": "code",
   "execution_count": 52,
   "metadata": {},
   "outputs": [
    {
     "data": {
      "image/png": "[encoded data removed]",
      "text/plain": [
       "<Figure size 432x288 with 1 Axes>"
      ]
     },
     "metadata": {
      "needs_background": "light"
     },
     "output_type": "display_data"
    }
   ],
   "source": [
    "'''\n",
    "決定領域をプロットする\n",
    "'''\n",
    "sdtc5.decision_region(\n",
    "    X_train=X2, \n",
    "    y_train=y2.reshape(-1),   #set型に対応するために一次元配列にする\n",
    "    title='decision region of ScratchDecesionTreeClassifier', \n",
    "    xlabel='f0', \n",
    "    ylabel='f1', \n",
    "    target_names=['0', '1']\n",
    ")\n"
   ]
  },
  {
   "cell_type": "markdown",
   "metadata": {},
   "source": [
    "### pyファイルで確認(classify_pipeline.py)"
   ]
  },
  {
   "cell_type": "code",
   "execution_count": 54,
   "metadata": {},
   "outputs": [],
   "source": [
    "#pyファイル格納ディレクトリのパス設定\n",
    "import sys\n",
    "sys.path.append(\"/Users/yusuke-saruya/diveintocode-ml/full-time/diveintocode-term1/ml-scratch/utils/\")\n",
    "import classify_pipeline"
   ]
  },
  {
   "cell_type": "code",
   "execution_count": 60,
   "metadata": {},
   "outputs": [],
   "source": [
    "#インスタンス生成\n",
    "sdtc6 = classify_pipeline.ScratchDecesionTreeClassifier(max_depth=3)\n",
    "\n",
    "#シンプルデータセット2にてモデル作成\n",
    "sdtc6.fit(X2, y2)"
   ]
  },
  {
   "cell_type": "code",
   "execution_count": 61,
   "metadata": {},
   "outputs": [
    {
     "data": {
      "image/png": "[encoded data removed]",
      "text/plain": [
       "<Figure size 432x288 with 1 Axes>"
      ]
     },
     "metadata": {
      "needs_background": "light"
     },
     "output_type": "display_data"
    }
   ],
   "source": [
    "'''\n",
    "決定領域をプロットする\n",
    "'''\n",
    "sdtc6.decision_region(\n",
    "    X_train=X2, \n",
    "    y_train=y2.reshape(-1),   #set型に対応するために一次元配列にする\n",
    "    title='decision region of ScratchDecesionTreeClassifier', \n",
    "    xlabel='f0', \n",
    "    ylabel='f1', \n",
    "    target_names=['0', '1']\n",
    ")\n"
   ]
  },
  {
   "cell_type": "code",
   "execution_count": null,
   "metadata": {},
   "outputs": [],
   "source": []
  }
 ],
 "metadata": {
  "kernelspec": {
   "display_name": "Python 3",
   "language": "python",
   "name": "python3"
  },
  "language_info": {
   "codemirror_mode": {
    "name": "ipython",
    "version": 3
   },
   "file_extension": ".py",
   "mimetype": "text/x-python",
   "name": "python",
   "nbconvert_exporter": "python",
   "pygments_lexer": "ipython3",
   "version": "3.7.1"
  }
 },
 "nbformat": 4,
 "nbformat_minor": 2
}
