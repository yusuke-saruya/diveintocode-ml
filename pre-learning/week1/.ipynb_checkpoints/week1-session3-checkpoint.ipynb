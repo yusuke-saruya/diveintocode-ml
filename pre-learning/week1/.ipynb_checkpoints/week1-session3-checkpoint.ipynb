{
 "cells": [
  {
   "cell_type": "markdown",
   "metadata": {},
   "source": [
    "# 2.栗まんじゅう問題"
   ]
  },
  {
   "cell_type": "markdown",
   "metadata": {},
   "source": [
    "## 【課題】栗まんじゅうが太陽系を覆う日\n",
    "1個の栗まんじゅうにバイバインを振りかけた場合、太陽系が栗まんじゅうで覆われるのは何分後でしょうか。これを計算するプログラムを作成してください。\n",
    "\n",
    "栗まんじゅうや太陽系の体積を調査した上で仮定して計算してください。栗まんじゅうの隙間や重力などは考えず、問題を単純化して構いません。\n",
    "\n",
    "ボールにバイバインを振りかけた時、東京ドームが一杯になる時間など他の状況にも適用できるような汎用的なプログラムを作成してください。また、グラフを表示するなど分かりやすいノートブックを作成してください。"
   ]
  },
  {
   "cell_type": "markdown",
   "metadata": {},
   "source": [
    "### 以下の条件でプログラムを作成。\n",
    "- 条件①栗まんじゅう1個の体積を$100cm^3 = 0.0001m^3$とする。\n",
    "\n",
    "- 条件②宇宙の体積を$3\\times10^{80}m^3$とする。※宇宙全体を直径930億光年の球体と定義。\n",
    "\n",
    "### 上記の条件を設定した理由\n",
    "- 栗まんじゅうの体積については、計算の簡略化の為、おおよその近似値を使用。\n",
    "- 宇宙の体積については、諸説ある中から宇宙が誕生してから約137億年経過している時点の体積と想定し、また宇宙全体の形を直径930億光年の球体として体積を計算している。\n",
    "\n",
    "\n",
    "\n",
    "[引用元:ドラえもんから学ぶ！指数関数の恐ろしさ](https://www.sekkachi.com/entry/bibin_consideration)"
   ]
  },
  {
   "cell_type": "code",
   "execution_count": 36,
   "metadata": {},
   "outputs": [
    {
     "name": "stdout",
     "output_type": "stream",
     "text": [
      "宇宙が栗まんじゅうに覆われるのは1405分後\n"
     ]
    }
   ],
   "source": [
    "#変数の体積を定義し、名称を辞書に登録\n",
    "name_object = {}\n",
    "\n",
    "KURIMANJU = 10 ** -4\n",
    "name_object[KURIMANJU] = \"栗まんじゅう\"\n",
    "\n",
    "VOLUME_OF_SOLAR_SYSTEM = 3 * 10 ** 80\n",
    "name_object[VOLUME_OF_SOLAR_SYSTEM] = \"宇宙\"\n",
    "\n",
    "BALL = 0.5\n",
    "name_object[BALL] = \"ボール\"\n",
    "\n",
    "TOKYO_DOME =  124 * 10 **5\n",
    "name_object[TOKYO_DOME] = \"東京ドーム\"\n",
    "\n",
    "#5分ずつ経過させる\n",
    "def compute_time(v0, v1):\n",
    "    time = 0\n",
    "    while v0 <= v1:\n",
    "        v0 = v0 * 2\n",
    "        time += 5\n",
    "    return time\n",
    "\n",
    "#対象物を設定する\n",
    "volume0 = KURIMANJU\n",
    "volume1 = VOLUME_OF_SOLAR_SYSTEM\n",
    "time_to_cover = compute_time(volume0, volume1)\n",
    "print(\"{}が{}に覆われるのは{}分後\".format(name_object[volume1] ,name_object[volume0] ,time_to_cover))\n"
   ]
  },
  {
   "cell_type": "markdown",
   "metadata": {},
   "source": []
  }
 ],
 "metadata": {
  "kernelspec": {
   "display_name": "Python 3",
   "language": "python",
   "name": "python3"
  },
  "language_info": {
   "codemirror_mode": {
    "name": "ipython",
    "version": 3
   },
   "file_extension": ".py",
   "mimetype": "text/x-python",
   "name": "python",
   "nbconvert_exporter": "python",
   "pygments_lexer": "ipython3",
   "version": "3.7.1"
  }
 },
 "nbformat": 4,
 "nbformat_minor": 2
}
