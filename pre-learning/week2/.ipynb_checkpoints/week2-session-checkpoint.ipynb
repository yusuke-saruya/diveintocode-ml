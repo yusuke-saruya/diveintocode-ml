{
 "cells": [
  {
   "cell_type": "markdown",
   "metadata": {},
   "source": [
    "# Week2授業課題 富士下山 "
   ]
  },
  {
   "cell_type": "markdown",
   "metadata": {},
   "source": [
    "## 【問題1】断面図の作成\n",
    "前述の断面図をMatplotlibを使い作成してください。x=136の地点の赤い点や矢印も表示させてください。\n",
    "\n",
    "これ以降の問題では下りる過程の可視化を行いますが、その際にはこの断面図を活用してください。"
   ]
  },
  {
   "cell_type": "code",
   "execution_count": 1,
   "metadata": {},
   "outputs": [
    {
     "name": "stdout",
     "output_type": "stream",
     "text": [
      "[[  130.          35.352505   138.756638  2563.4      41888.      ]\n",
      " [  131.          35.35418    138.753742  2703.1      42210.      ]\n",
      " [  132.          35.355855   138.750846  2825.55     42532.      ]\n",
      " [  133.          35.35753    138.74795   2967.9      42854.      ]\n",
      " [  134.          35.359205   138.745054  3087.81     43177.      ]\n",
      " [  135.          35.36088    138.742157  3266.24     43499.      ]\n",
      " [  136.          35.362555   138.739261  3434.59     43821.      ]\n",
      " [  137.          35.36423    138.736364  3600.08     44143.      ]\n",
      " [  138.          35.365904   138.733468  3679.96     44466.      ]\n",
      " [  139.          35.367579   138.730571  3664.9      44788.      ]]\n"
     ]
    }
   ],
   "source": [
    " #指定ファイルのインポート\n",
    "import numpy as np\n",
    "np.set_printoptions(suppress=True) # 指数表示の禁止を設定する\n",
    "fuji = np.loadtxt(\"week2_session_mtfuji_data.csv\",delimiter=\",\", skiprows=1)\n",
    "\n",
    "#インポートファイルの確認\n",
    "print(fuji[130:140])"
   ]
  },
  {
   "cell_type": "code",
   "execution_count": 2,
   "metadata": {},
   "outputs": [
    {
     "data": {
      "text/plain": [
       "<matplotlib.collections.PathCollection at 0x11dcd9438>"
      ]
     },
     "execution_count": 2,
     "metadata": {},
     "output_type": "execute_result"
    }
   ],
   "source": [
    "import matplotlib.pyplot as plt\n",
    "\n",
    "#タイトル、ラベル名をつける\n",
    "plt.title(\"Mt.Fuji\")\n",
    "plt.xlabel(\"x\")\n",
    "plt.ylabel(\"evelation[m]\" )\n",
    "\n",
    "#断面図を作成する\n",
    "plt.plot(fuji[:,0], fuji[:,3])\n",
    "\n",
    "#x=136の地点を赤くする\n",
    "plt.scatter(136, fuji[136,3], c='r')"
   ]
  },
  {
   "cell_type": "markdown",
   "metadata": {},
   "source": [
    "## 【問題2】勾配の計算の関数\n",
    "授業前課題では各地点での勾配を最初に求めました。しかし、暗闇の富士山の比喩を考えると、知ることができるのはあなたがいる地点の勾配だけです。\n",
    "\n",
    "ここでは「あなたが今いる地点x」と「その隣の地点x-1」の関係による勾配を求める関数を作成しましょう。この関数が返す値を「今いる地点の勾配」として次の問題で作成する関数内で使ってください。\n",
    "\n",
    "勾配は授業前課題で行ったように、以下の計算で求まります。\n",
    "\n",
    "$$\n",
    "    \\frac{\\mbox{yの変化量}}{\\mbox{xの変化量}}\n",
    "$$\n",
    "\n",
    "このデータでは「標高（elevation)」がyに相当します。xはそのまま「その地点の番号(x)」です。"
   ]
  },
  {
   "cell_type": "code",
   "execution_count": 3,
   "metadata": {},
   "outputs": [
    {
     "data": {
      "text/plain": [
       "array([  0.  ,   0.  ,   0.  ,   0.  ,   0.  ,   6.62,   0.59,   4.99,\n",
       "        42.21, 117.15])"
      ]
     },
     "execution_count": 3,
     "metadata": {},
     "output_type": "execute_result"
    }
   ],
   "source": [
    "#　勾配（slope）の関数定義\n",
    "def slope(x, y):\n",
    "    #xの変化量（diff : n+1とnの差分をとる）\n",
    "    x_diff = np.diff(x, axis=0)\n",
    "    #yの変化量（diff : n+1とnの差分をとる）\n",
    "    y_diff = np.diff(y, axis=0)\n",
    "    \n",
    "    #slope計算\n",
    "    s = y_diff/x_diff\n",
    "    \n",
    "    return s\n",
    "\n",
    "# fujiデータより、勾配を算出する\n",
    "s = slope(fuji[:, 0], fuji[:, 3])\n",
    "s[0:10]"
   ]
  },
  {
   "cell_type": "code",
   "execution_count": 4,
   "metadata": {},
   "outputs": [
    {
     "data": {
      "text/plain": [
       "array([ 0.  ,  0.  ,  0.  ,  0.  ,  0.  ,  0.  ,  6.62,  0.59,  4.99,\n",
       "       42.21])"
      ]
     },
     "execution_count": 4,
     "metadata": {},
     "output_type": "execute_result"
    }
   ],
   "source": [
    "#slopeの１行目に0を挿入（インデックスをx-1 -> xにするため）\n",
    "s = np.insert(s, 0, 0)\n",
    "\n",
    "#データの確認\n",
    "s[0:10]"
   ]
  },
  {
   "cell_type": "code",
   "execution_count": 5,
   "metadata": {},
   "outputs": [
    {
     "data": {
      "text/plain": [
       "array([[ 0.  ],\n",
       "       [ 0.  ],\n",
       "       [ 0.  ],\n",
       "       [ 0.  ],\n",
       "       [ 0.  ],\n",
       "       [ 0.  ],\n",
       "       [ 6.62],\n",
       "       [ 0.59],\n",
       "       [ 4.99],\n",
       "       [42.21]])"
      ]
     },
     "execution_count": 5,
     "metadata": {},
     "output_type": "execute_result"
    }
   ],
   "source": [
    "# reshape : numpy配列の形状を変換する\n",
    "s = s.reshape(s.size,1)\n",
    "\n",
    "#変換したデータの確認\n",
    "s[0:10]"
   ]
  },
  {
   "cell_type": "code",
   "execution_count": 6,
   "metadata": {},
   "outputs": [
    {
     "data": {
      "text/plain": [
       "array([[   0.      ,   35.134141,  139.132082,    0.      ,    0.      ,\n",
       "           0.      ],\n",
       "       [   1.      ,   35.135826,  139.129202,    0.      ,  322.      ,\n",
       "           0.      ],\n",
       "       [   2.      ,   35.13751 ,  139.126322,    0.      ,  644.      ,\n",
       "           0.      ],\n",
       "       [   3.      ,   35.139194,  139.123441,    0.      ,  966.      ,\n",
       "           0.      ],\n",
       "       [   4.      ,   35.140878,  139.12056 ,    0.      , 1288.      ,\n",
       "           0.      ],\n",
       "       [   5.      ,   35.142562,  139.117679,    0.      , 1611.      ,\n",
       "           0.      ],\n",
       "       [   6.      ,   35.144246,  139.114799,    6.62    , 1933.      ,\n",
       "           6.62    ],\n",
       "       [   7.      ,   35.145929,  139.111917,    7.21    , 2255.      ,\n",
       "           0.59    ],\n",
       "       [   8.      ,   35.147613,  139.109036,   12.2     , 2577.      ,\n",
       "           4.99    ],\n",
       "       [   9.      ,   35.149297,  139.106155,   54.41    , 2899.      ,\n",
       "          42.21    ]])"
      ]
     },
     "execution_count": 6,
     "metadata": {},
     "output_type": "execute_result"
    }
   ],
   "source": [
    "# fujiの６列目にslopeを代入\n",
    "fuji = np.concatenate((fuji, s), axis=1)\n",
    "\n",
    "#データの確認\n",
    "fuji[0:10]"
   ]
  },
  {
   "cell_type": "markdown",
   "metadata": {},
   "source": [
    "## 【問題3】勾配降下法の関数を作成\n",
    "授業前課題では説明までとした勾配降下法ですが、これを行う関数を作成してください。\n",
    "\n",
    "数式で表すと 「**移動すべき地点 = 今いる地点 - α×今いる地点の勾配**」 となります。\n",
    "\n",
    "この関数を使い、あなたが今いるxが136の地点（標高3434.59[m]）から、山を下っていきましょう。移動毎の標高はリストに記録し、その過程を可視化してください。断面図を目視したり、読み込んだ数値を確認して分かることと比べてどうなっているでしょうか。\n",
    "\n",
    "**実装上の注意**\n",
    "\n",
    "移動すべき地点は基本的には少数となりますが、勾配の情報は整数値の場所でしか得られません。そのため、四捨五入により整数値に変換する必要があります。\n",
    "\n",
    "**可視化のヒント**\n",
    "\n",
    "断面図の中に点を表示したり、繰り返し毎の標高や勾配を折れ線グラフで見てみることができます。\n",
    "\n",
    "**α の補足**\n",
    "\n",
    "α は0より大きい任意の値をとるハイパーパラメータです。機械学習の分野では学習率という名前で呼ばれます。この値によって下り方が変わりますから、関数の引数にしてください。複数試し、うまく下りられる α の値を見つけましょう。\n",
    "\n",
    "**初期値の補足**\n",
    "\n",
    "最初に居たx=136の地点のことを初期値と呼びます。この初期値によってどこに下っていくかが変わりますから、これも関数の引数にしてください。"
   ]
  },
  {
   "cell_type": "code",
   "execution_count": 7,
   "metadata": {},
   "outputs": [
    {
     "name": "stdout",
     "output_type": "stream",
     "text": [
      "136\n",
      "119\n",
      "113\n",
      "107\n",
      "102\n",
      "99\n",
      "97\n",
      "94\n",
      "91\n",
      "89\n",
      "86\n",
      "84\n",
      "82\n"
     ]
    }
   ],
   "source": [
    "'''\n",
    "input\n",
    "    今いる地点：x（int)\n",
    "    学習率：a(float)\n",
    "    \n",
    "output\n",
    "    移動すべき地点(x(int))\n",
    "'''\n",
    "\n",
    "# 移動すべき地点の関数\n",
    "def place_to_move(x=136, a = 0.1):\n",
    "    \n",
    "    place_to = int(x - a * fuji[x, 5])\n",
    "\n",
    "    return place_to\n",
    "\n",
    "#今いる地点をリストにし、初期値をセットする。\n",
    "now_place = [136]\n",
    "i = 0\n",
    "\n",
    "#傾きの絶対値が指定の値より大きい間は移動の処理を行う\n",
    "while abs(fuji[now_place[i], 5]) > 4 :\n",
    "    #現在地点の表示\n",
    "    print(now_place[-1])\n",
    "    #現在地点より、次に移動する地点をリストに加える\n",
    "    now_place.append(place_to_move(now_place[i]))\n",
    "    #カウント更新\n",
    "    i += 1\n"
   ]
  },
  {
   "cell_type": "markdown",
   "metadata": {},
   "source": [
    "## 【問題4】初期値の変更\n",
    "ここまでの問題では最初のxを136としましたが、xの初期値を変更すると結果が変化します。特にxを139より大きい値にすると、富士山の反対側の斜面を下りていくことになります。\n",
    "\n",
    "そういった初期値を設定した上で、移動毎の標高はリストに記録し、その過程を可視化してください。"
   ]
  },
  {
   "cell_type": "code",
   "execution_count": 8,
   "metadata": {},
   "outputs": [
    {
     "name": "stdout",
     "output_type": "stream",
     "text": [
      "140\n",
      "149\n",
      "158\n",
      "161\n",
      "166\n",
      "167\n",
      "170\n",
      "172\n",
      "174\n",
      "175\n"
     ]
    },
    {
     "data": {
      "text/plain": [
       "<matplotlib.collections.PathCollection at 0x11debd470>"
      ]
     },
     "execution_count": 8,
     "metadata": {},
     "output_type": "execute_result"
    },
    {
     "data": {
      "image/png": "[encoded data removed]",
      "text/plain": [
       "<Figure size 432x288 with 1 Axes>"
      ]
     },
     "metadata": {
      "needs_background": "light"
     },
     "output_type": "display_data"
    }
   ],
   "source": [
    "'''\n",
    "初期値を変更する\n",
    "'''\n",
    "\n",
    "#今いる地点をリストにし、初期値をセットする。\n",
    "now_place = [140]\n",
    "i = 0\n",
    "\n",
    "#傾きの絶対値が指定の値より大きい間は移動の処理を行う\n",
    "while abs(fuji[now_place[i], 5]) > 4 :\n",
    "    #現在地点の表示\n",
    "    print(now_place[-1])\n",
    "    #現在地点より、次に移動する地点をリストに加える\n",
    "    now_place.append(place_to_move(now_place[i]))\n",
    "    #カウント更新\n",
    "    i += 1\n",
    "\n",
    "#タイトル、ラベル名をつける\n",
    "plt.title(\"Mt.Fuji\")\n",
    "plt.xlabel(\"x\")\n",
    "plt.ylabel(\"evelation[m]\" )\n",
    "\n",
    "#断面図を作成する\n",
    "plt.plot(fuji[:,0], fuji[:,3])\n",
    "\n",
    "#移動していった地点を赤くする\n",
    "plt.scatter(now_place, fuji[now_place,3], c='r')"
   ]
  },
  {
   "cell_type": "markdown",
   "metadata": {},
   "source": [
    "## 【問題5】（アドバンス課題）並列計算\n",
    "初期値によって結果が変化するわけですから、0から299まで全ての初期値の計算を行ってみるということを考えられます。\n",
    "\n",
    "for文を使い繰り返すこともできますが、NumPyの配列を工夫して使うことで複数の計算を同時に行うことができます。ここまで作成した関数を複数の初期値が同時に計算できるように改良してください。\n",
    "\n",
    "この改良は次のハイパーパラメータの検証にも応用することができます。\n",
    "\n",
    "ヒント\n",
    "\n",
    "NumPyは配列間で四則演算などの操作が可能です。以下のサンプルコードの3行目と4行目の挙動を参考にしてください。特に4行目の計算はブロードキャストと呼ばれるNumPy独特の機能であるため、各自でも調査してください。\n",
    "1. array1 = np.ones(300)\n",
    "1. array2 = np.arange(300)\n",
    "1. array3 = array1*array2\n",
    "1. array4 = array3 + 1 # ブロードキャスト"
   ]
  },
  {
   "cell_type": "code",
   "execution_count": 9,
   "metadata": {},
   "outputs": [
    {
     "name": "stdout",
     "output_type": "stream",
     "text": [
      "[ 98 119 164]\n",
      "[ 96 113 166]\n",
      "[ 93 107 167]\n",
      "[ 91 102 170]\n",
      "[ 89  99 172]\n",
      "[ 86  97 174]\n",
      "[ 84  94 175]\n",
      "[ 82  91 176]\n",
      "[ 80  89 176]\n",
      "[ 79  86 176]\n",
      "[ 76  84 176]\n",
      "[ 75  82 176]\n",
      "[ 74  80 176]\n",
      "[ 73  79 176]\n",
      "[ 71  76 176]\n"
     ]
    }
   ],
   "source": [
    "#initial_values(list型)に任意の初期値を複数セットする\n",
    "initial_values = np.array([100,136,160])\n",
    "\n",
    "#任意の繰り返しカウントをセットする\n",
    "repeat_count = 15\n",
    "\n",
    "#任意の学習率をセットする\n",
    "a = 0.1\n",
    "\n",
    "#指定のカウント数に応じて、複数の初期値より計算を行う\n",
    "for i in range(repeat_count):\n",
    "    initial_values = np.array((initial_values -   a * fuji[initial_values,5]), np.int32)\n",
    "    print(initial_values)"
   ]
  },
  {
   "cell_type": "markdown",
   "metadata": {},
   "source": [
    "## 【問題6】（アドバンス課題）ハイパーパラメータの検証\n",
    "勾配降下法の中で α はハイパーパラメータであり、前の問題でも複数試して良い結果が得られるものを探しました。これを発展させ、αを一定間隔で変化させていき、それぞれの山の下り方の比較を行ってください。うまい下り方となる αを見つけるだけではなく、大きかったり小さかった時にどうなるのかを検証して説明してください。\n",
    "\n",
    "**ヒント**\n",
    "\n",
    "検証のための一例として、横軸を α 、縦軸を一定回の繰り返し後のxや標高にした散布図を描いてみるという方法が考えられます。"
   ]
  },
  {
   "cell_type": "code",
   "execution_count": 83,
   "metadata": {},
   "outputs": [
    {
     "name": "stdout",
     "output_type": "stream",
     "text": [
      "[0.01 0.04 0.07 0.1  0.13 0.16 0.19 0.22 0.25 0.28 0.31 0.34 0.37 0.4\n",
      " 0.43 0.46 0.49]\n",
      "[80. 80. 80. 80. 75. 74. 80. 80. 79. 71. 78. 78. 76. 39. 67. 84. 75.]\n",
      "[420.6  420.6  420.6  420.6  371.19 371.04 420.6  420.6  418.41 362.29\n",
      " 390.14 390.14 377.62 724.5  469.66 488.4  371.19]\n"
     ]
    },
    {
     "data": {
      "text/plain": [
       "<matplotlib.collections.PathCollection at 0x120fb52b0>"
      ]
     },
     "execution_count": 83,
     "metadata": {},
     "output_type": "execute_result"
    },
    {
     "data": {
      "image/png": "[encoded data removed]",
      "text/plain": [
       "<Figure size 432x288 with 1 Axes>"
      ]
     },
     "metadata": {
      "needs_background": "light"
     },
     "output_type": "display_data"
    }
   ],
   "source": [
    "#今いる地点をリストにし、初期値をセットする。\n",
    "\n",
    "\n",
    "#αを一定間隔で変化させたリストを生成\n",
    "alpha =  np.arange(0.01, 0.5, 0.03)\n",
    "print(alpha)\n",
    "\n",
    "#一定回繰り返し後のx,標高の値格納リスト\n",
    "finish_x = np.array([])\n",
    "finish_y = np.array([])\n",
    "for j in range(len(alpha)):\n",
    "    now_place = [136]\n",
    "    i = 0\n",
    "    #傾きの絶対値が指定の値より大きい間は移動の処理を行う\n",
    "    while abs(fuji[now_place[i], 5]) > 4 :        \n",
    "        #現在地点より、次に移動する地点をリストに加える\n",
    "        now_place.append(place_to_move(x=now_place[i], a=alpha[j]))\n",
    "        #カウント更新\n",
    "        i += 1\n",
    "        # カウントが1000回になったらwhileループ処理を中止する\n",
    "        if i == 1000:\n",
    "            break\n",
    "    #それぞれのalphaでの繰り返しごのx,標高の高さを格納する\n",
    "    finish_x = np.append(finish_x, now_place[i])\n",
    "    finish_y = np.append(finish_y, fuji[now_place[i],3])\n",
    "    \n",
    "print(finish_x)\n",
    "print(finish_y)\n",
    "        \n",
    "    #タイトル、ラベル名をつける\n",
    "plt.title(\"Mt.Fuji\")\n",
    "plt.xlabel(\"x\")\n",
    "plt.ylabel(\"evelation[m]\" )\n",
    "\n",
    "#断面図を作成する\n",
    "plt.plot(fuji[:,0], fuji[:,3])\n",
    "\n",
    "#移動していった地点を赤くする\n",
    "plt.scatter(now_place, fuji[now_place,3], c='r')"
   ]
  },
  {
   "cell_type": "code",
   "execution_count": 84,
   "metadata": {},
   "outputs": [
    {
     "data": {
      "text/plain": [
       "<matplotlib.collections.PathCollection at 0x1215b81d0>"
      ]
     },
     "execution_count": 84,
     "metadata": {},
     "output_type": "execute_result"
    },
    {
     "data": {
      "image/png": "[encoded data removed]",
      "text/plain": [
       "<Figure size 432x288 with 1 Axes>"
      ]
     },
     "metadata": {
      "needs_background": "light"
     },
     "output_type": "display_data"
    }
   ],
   "source": [
    "#横軸が学習率α、縦軸が地点xの散布図\n",
    "plt.title(\"Mt.Fuji\")\n",
    "plt.xlabel(\"α\")\n",
    "plt.ylabel(\"x\" )\n",
    "plt.scatter(alpha, finish_x, c=\"r\")"
   ]
  },
  {
   "cell_type": "code",
   "execution_count": 85,
   "metadata": {},
   "outputs": [
    {
     "data": {
      "text/plain": [
       "<matplotlib.collections.PathCollection at 0x12133aa90>"
      ]
     },
     "execution_count": 85,
     "metadata": {},
     "output_type": "execute_result"
    },
    {
     "data": {
      "image/png": "[encoded data removed]",
      "text/plain": [
       "<Figure size 432x288 with 1 Axes>"
      ]
     },
     "metadata": {
      "needs_background": "light"
     },
     "output_type": "display_data"
    }
   ],
   "source": [
    "#横軸が学習率α、縦軸が標高の散布図\n",
    "plt.title(\"Mt.Fuji\")\n",
    "plt.xlabel(\"α\")\n",
    "plt.ylabel(\"evaluation[m]\" )\n",
    "plt.scatter(alpha, finish_y, c=\"b\")"
   ]
  },
  {
   "cell_type": "markdown",
   "metadata": {},
   "source": [
    "### 結果について\n",
    "今回、0.01から0.5までの公差0.03の等差数列にて学習率αを変化させた。  \n",
    "上記の中で不定期にループ処理が収束しない学習率があったが、全体としてxが70から80ほどに収束し、麓ではない頂上から初めての谷あたりで収束していることが確認できる。"
   ]
  },
  {
   "cell_type": "markdown",
   "metadata": {},
   "source": [
    "## 【問題7】（アドバンス課題）局所最適解\n",
    "山を下りることで最終的には海（標高が0）に向かいたいですが、勾配降下法は「局所的最適解」となる地点にしか到達しない可能性があります。局所的最適解とはどういったもので、それへの対策はどういったことができるかを調査して説明してください。\n",
    "\n",
    "言葉だけではなく、作成した関数も活用できると良いでしょう。"
   ]
  },
  {
   "cell_type": "markdown",
   "metadata": {},
   "source": [
    "### 回答\n",
    "勾配降下法では、グラフ上の山の上から下方向に向かって、「移動すべき地点」を探索していくが、出発地点から海に向かっていく途中に”谷”が存在する場合、その地点がパラーメータ上最も低い地点として収束し、局所解に捕まってしまうことがある。  \n",
    "下図では、x=0の地点が標高=0になるが、勾配降下法では、x＝80あたりの”谷”にて局所解に捕まってしまうことが確認できる。\n",
    "\n",
    "対策としては、ランダムにデータを１つ選んで、それをパラメータの更新に用いる「確率的勾配降下法」を利用することが効果的と考える。  \n",
    "勾配効果法では、１度パラメータを更新する間に、確率的勾配降下法ではn回パラメータを更新でき、さらにデータをランダムに選んでその時点での勾配を使ってパラメータを更新するため、局所解に捕まりにくい性質がある。"
   ]
  },
  {
   "cell_type": "code",
   "execution_count": 88,
   "metadata": {},
   "outputs": [
    {
     "data": {
      "text/plain": [
       "<matplotlib.collections.PathCollection at 0x121116400>"
      ]
     },
     "execution_count": 88,
     "metadata": {},
     "output_type": "execute_result"
    },
    {
     "data": {
      "image/png": "[encoded data removed]",
      "text/plain": [
       "<Figure size 432x288 with 1 Axes>"
      ]
     },
     "metadata": {
      "needs_background": "light"
     },
     "output_type": "display_data"
    }
   ],
   "source": [
    "'''\n",
    "初期値を変更する\n",
    "'''\n",
    "\n",
    "#今いる地点をリストにし、初期値をセットする。\n",
    "now_place = [136]\n",
    "i = 0\n",
    "\n",
    "#傾きの絶対値が指定の値より大きい間は移動の処理を行う\n",
    "while abs(fuji[now_place[i], 5]) > 4 :\n",
    "    #現在地点の表示\n",
    "    #print(now_place[-1])\n",
    "    #現在地点より、次に移動する地点をリストに加える\n",
    "    now_place.append(place_to_move(now_place[i]))\n",
    "    #カウント更新\n",
    "    i += 1\n",
    "\n",
    "#タイトル、ラベル名をつける\n",
    "plt.title(\"Mt.Fuji\")\n",
    "plt.xlabel(\"x\")\n",
    "plt.ylabel(\"evelation[m]\" )\n",
    "\n",
    "#断面図を作成する\n",
    "plt.plot(fuji[:,0], fuji[:,3])\n",
    "\n",
    "#移動していった地点を赤くする\n",
    "plt.scatter(now_place, fuji[now_place,3], c='r')"
   ]
  },
  {
   "cell_type": "markdown",
   "metadata": {},
   "source": [
    "ペアプロ：大木さん"
   ]
  },
  {
   "cell_type": "code",
   "execution_count": null,
   "metadata": {},
   "outputs": [],
   "source": []
  }
 ],
 "metadata": {
  "kernelspec": {
   "display_name": "Python 3",
   "language": "python",
   "name": "python3"
  },
  "language_info": {
   "codemirror_mode": {
    "name": "ipython",
    "version": 3
   },
   "file_extension": ".py",
   "mimetype": "text/x-python",
   "name": "python",
   "nbconvert_exporter": "python",
   "pygments_lexer": "ipython3",
   "version": "3.7.1"
  }
 },
 "nbformat": 4,
 "nbformat_minor": 2
}
