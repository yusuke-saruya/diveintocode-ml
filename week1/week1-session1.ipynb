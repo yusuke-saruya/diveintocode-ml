{
 "cells": [
  {
   "cell_type": "markdown",
   "metadata": {},
   "source": [
    "# 2.曽呂利新左衛門問題\n",
    "授業前課題で扱った紙を折ると月に届く話に似たものとして、曽呂利新左衛門の逸話があります。これを題材にプログラミングを進めます。\n",
    "\n",
    "秀吉から褒美を下される際、何を希望するか尋ねられた新左衛門は、今日は米1粒、翌日には倍の2粒、その翌日には更に倍の4粒と、日ごとに倍の量の米を100日間もらう事を希望した。米粒なら大した事はないと思った秀吉は簡単に承諾したが、日ごとに倍ずつ増やして行くと100日後には膨大な量になる事に途中で気づき、他の褒美に変えてもらった。"
   ]
  },
  {
   "cell_type": "markdown",
   "metadata": {},
   "source": [
    "## 【課題】100日後の米粒の数\n",
    "100日後には合計で米粒をいくつもらっているのかを計算するコードを作成し、答えを出力してください。また、1日目から100日目までの「その日にもらう米の数」と「その日までに累計で貰う米の数」の推移を折れ線グラフで表現してください。（縦軸が米の数、横軸が日数）\n"
   ]
  },
  {
   "cell_type": "code",
   "execution_count": 3,
   "metadata": {},
   "outputs": [
    {
     "data": {
      "text/plain": [
       "<matplotlib.legend.Legend at 0x1133dab70>"
      ]
     },
     "execution_count": 3,
     "metadata": {},
     "output_type": "execute_result"
    },
    {
     "data": {
      "image/png": "[encoded data removed]",
      "text/plain": [
       "<Figure size 432x288 with 1 Axes>"
      ]
     },
     "metadata": {
      "needs_background": "light"
     },
     "output_type": "display_data"
    }
   ],
   "source": [
    "import matplotlib.pyplot as plt\n",
    "%matplotlib inline\n",
    "\n",
    "list_n_grains = [1]\n",
    "list_total_grains = [1]\n",
    "\n",
    "for day in range(1, 100):\n",
    "    list_n_grains.append(2**day)\n",
    "    list_total_grains.append(list_total_grains[day-1] + 2**day)\n",
    " \n",
    "\n",
    "plt.title(\"total_grains\")\n",
    "plt.xlabel(\"day\")\n",
    "plt.ylabel(\"grains\")\n",
    "plt.plot(list_n_grains, label = \"list_n_grains\")\n",
    "plt.plot(list_total_grains, label = \"list_total_grains\")\n",
    "plt.legend()\n"
   ]
  },
  {
   "cell_type": "code",
   "execution_count": 10,
   "metadata": {},
   "outputs": [
    {
     "name": "stdout",
     "output_type": "stream",
     "text": [
      "100日後の合計の米粒：1267650600228229401496703205375粒\n"
     ]
    }
   ],
   "source": [
    "print(\"100日後の合計の米粒：\" + str(list_total_grains[99]) + \"粒\")"
   ]
  },
  {
   "cell_type": "markdown",
   "metadata": {},
   "source": [
    "## 【課題】100日後以外の米粒の数\n",
    "この逸話は30日だったり81日だったりと日数が曖昧です。どの話にも対応できるように日数を引数とした関数を作成しましょう。関数を作成した上で、機械学習コースを受講する期間ではいくつ米粒をもらえるかを答えてください。前の問題同様に折れ線グラフも出力してください。\n",
    "\n",
    "以下の雛形には関数としての枠組みだけではなく、引数や返り値についてのコメントも記載してあります。参考にして、自分なりにも分かりやすくコメントを書き換えてください。"
   ]
  },
  {
   "cell_type": "code",
   "execution_count": 17,
   "metadata": {},
   "outputs": [
    {
     "data": {
      "text/plain": [
       "<matplotlib.legend.Legend at 0x1135271d0>"
      ]
     },
     "execution_count": 17,
     "metadata": {},
     "output_type": "execute_result"
    },
    {
     "data": {
      "image/png": "[encoded data removed]",
      "text/plain": [
       "<Figure size 432x288 with 1 Axes>"
      ]
     },
     "metadata": {
      "needs_background": "light"
     },
     "output_type": "display_data"
    }
   ],
   "source": [
    "def compute_sorori_shinzaemon(day = 100):\n",
    "    \"\"\"\n",
    "    曽呂利新左衛門の米の逸話を検証する関数。日にちごとの米の粒の数を計算する。\n",
    "\n",
    "    Parameteres\n",
    "    --------------\n",
    "    day: int\n",
    "        米を貰う日数 (default : 100)\n",
    "\n",
    "    Returns\n",
    "    --------------\n",
    "    list_n_grains : list\n",
    "        ある日に貰う米の数のリスト（リストの長さはdayに等しくなる）\n",
    "    list_total_grains : list\n",
    "        ある日までに累計で貰う米の数のリスト（リストの長さはdayに等しくなる）\n",
    "    \"\"\"\n",
    "\n",
    "    # ここにコードを書く。passは何もしないことを意味する命令である。\n",
    "    list_n_grains = [1]\n",
    "    list_total_grains = [1]\n",
    "\n",
    "    for i in range(1, day):\n",
    "        list_n_grains.append(2 ** i)\n",
    "        list_total_grains.append(list_total_grains[i - 1] + 2 ** i)\n",
    "    \n",
    "    return list_n_grains, list_total_grains\n",
    "\n",
    "days = 122\n",
    "list_n_grains, list_total_grains = compute_sorori_shinzaemon(day = days)\n",
    "\n",
    "plt.title(\"total_grains\")\n",
    "plt.xlabel(\"day\")\n",
    "plt.ylabel(\"grains\")\n",
    "plt.plot(list_n_grains, label = \"list_n_grains\")\n",
    "plt.plot(list_total_grains, label = \"list_total_grains\")\n",
    "plt.legend()\n"
   ]
  },
  {
   "cell_type": "code",
   "execution_count": 24,
   "metadata": {},
   "outputs": [
    {
     "name": "stdout",
     "output_type": "stream",
     "text": [
      "122日後の合計の米粒：5316911983139663491615228241121378303粒\n"
     ]
    }
   ],
   "source": [
    "print(str(days) + \"日後の合計の米粒：\" + str(list_total_grains[-1]) + \"粒\")"
   ]
  },
  {
   "cell_type": "markdown",
   "metadata": {},
   "source": [
    "## 【課題】何人が何日生活できる米か\n",
    "この米があれば何人が何日生活できるか計算する関数を作成してください。機械学習コースを受講する期間に貰える米粒で、受講している人数であれば、何日間生活できるかを出力してみましょう。\n",
    "\n",
    "関数の最低限の入力は米粒の数(int)と人数(int)、出力は生活できる日数(int)です。関数名やコメントなどは分かりやすく考えて作成してください。\n",
    "\n",
    "ここでは1日に必要な米粒の数は提示しません。自分なりに調べて、計算式に落とし込んでください。どう調べ、何を根拠にしたかもコメントを残しておいてください。"
   ]
  },
  {
   "cell_type": "code",
   "execution_count": 33,
   "metadata": {},
   "outputs": [
    {
     "name": "stdout",
     "output_type": "stream",
     "text": [
      "生活できる日数は、41,948,023,535,618,646,876,648,743,519,695日です。\n"
     ]
    }
   ],
   "source": [
    "#１日に必要な米粒：3250粒 * 3食 * 13人 =126,750粒\n",
    "# 参照URL ：　http://gogolesson.jugem.jp/?eid=128\n",
    "\n",
    "def compute_sorori_shinzaemon3(grains, members): \n",
    "    grains_a_day = 3250 * 3 * members\n",
    "    return grains // grains_a_day\n",
    "\n",
    "print(\"生活できる日数は、\" + str(\"{:,}\".format(compute_sorori_shinzaemon3(list_total_grains[-1], 13))) + \"日です。\" )\n"
   ]
  },
  {
   "cell_type": "markdown",
   "metadata": {},
   "source": [
    "### めも\n",
    "        \n",
    "- accumulate\n"
   ]
  }
 ],
 "metadata": {
  "kernelspec": {
   "display_name": "Python 3",
   "language": "python",
   "name": "python3"
  },
  "language_info": {
   "codemirror_mode": {
    "name": "ipython",
    "version": 3
   },
   "file_extension": ".py",
   "mimetype": "text/x-python",
   "name": "python",
   "nbconvert_exporter": "python",
   "pygments_lexer": "ipython3",
   "version": "3.7.1"
  }
 },
 "nbformat": 4,
 "nbformat_minor": 2
}
