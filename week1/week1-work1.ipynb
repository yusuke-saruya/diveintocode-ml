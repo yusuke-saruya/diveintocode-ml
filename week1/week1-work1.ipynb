{
 "cells": [
  {
   "cell_type": "code",
   "execution_count": 69,
   "metadata": {},
   "outputs": [
    {
     "name": "stdout",
     "output_type": "stream",
     "text": [
      "厚さ： 703687441.77664メートル\n"
     ]
    }
   ],
   "source": [
    "\"\"\"\n",
    "紙を43回折った時の厚さを計算するコード\n",
    "\"\"\"\n",
    "\n",
    "thickness = 0.00008\n",
    "\n",
    "folded_thickness = thickness * 2**43\n",
    "\n",
    "print(\"厚さ： {}メートル\".format(folded_thickness))"
   ]
  },
  {
   "cell_type": "code",
   "execution_count": 22,
   "metadata": {
    "scrolled": true
   },
   "outputs": [
    {
     "name": "stdout",
     "output_type": "stream",
     "text": [
      "厚さ： 703687.44キロメートル\n"
     ]
    }
   ],
   "source": [
    "# メートルをキロメートルに変換して小数点以下2桁で表示する\n",
    "print(\"厚さ： {:.2f}キロメートル\".format(folded_thickness/1000))"
   ]
  },
  {
   "cell_type": "markdown",
   "metadata": {},
   "source": [
    "### 「月までの距離」を検索して、折った紙が月に届くかどうか確認してみましょう。\n",
    "月までの距離：384,400キロメートルのため、４３回折った紙は月に到達する。"
   ]
  },
  {
   "cell_type": "code",
   "execution_count": 21,
   "metadata": {},
   "outputs": [
    {
     "name": "stdout",
     "output_type": "stream",
     "text": [
      "厚さ： 703687.44キロメートル\n"
     ]
    }
   ],
   "source": [
    "\"\"\"\n",
    "紙を43回折った時の厚さを計算するコード\n",
    "for文を使用する\n",
    "\"\"\"\n",
    "\n",
    "folded_thickness =  0.00008\n",
    "\n",
    "for i in range(43):\n",
    "    folded_thickness *= 2\n",
    "    \n",
    "print(\"厚さ： {:.2f}キロメートル\".format(folded_thickness/1000))\n"
   ]
  },
  {
   "cell_type": "code",
   "execution_count": 109,
   "metadata": {},
   "outputs": [
    {
     "name": "stdout",
     "output_type": "stream",
     "text": [
      "厚さ： 703687.44キロメートル\n",
      "time : 0.0002872943878173828[s]\n"
     ]
    }
   ],
   "source": [
    "\"\"\"\n",
    "計算速度の測定：べき乗\n",
    "\"\"\"\n",
    "import time\n",
    "start = time.time()\n",
    "\n",
    "#####\n",
    "thickness = 0.00008\n",
    "\n",
    "folded_thickness = thickness * 2**43\n",
    "\n",
    "print(\"厚さ： {:.2f}キロメートル\".format(folded_thickness/1000))\n",
    "#####\n",
    "\n",
    "elapsed_time = time.time() - start\n",
    "print(\"time : {}[s]\".format(elapsed_time))"
   ]
  },
  {
   "cell_type": "code",
   "execution_count": 108,
   "metadata": {},
   "outputs": [
    {
     "name": "stdout",
     "output_type": "stream",
     "text": [
      "厚さ： 703687.44キロメートル\n",
      "time : 0.0004436969757080078[s]\n"
     ]
    }
   ],
   "source": [
    "\"\"\"\n",
    "計算速度の測定：for文\n",
    "\"\"\"\n",
    "import time\n",
    "start = time.time()\n",
    "\n",
    "#####\n",
    "folded_thickness =  0.00008\n",
    "\n",
    "for i in range(43):\n",
    "    folded_thickness *= 2\n",
    "    \n",
    "print(\"厚さ： {:.2f}キロメートル\".format(folded_thickness/1000))\n",
    "#####\n",
    "\n",
    "elapsed_time = time.time() - start\n",
    "print(\"time : {}[s]\".format(elapsed_time))"
   ]
  },
  {
   "cell_type": "markdown",
   "metadata": {},
   "source": [
    "### それぞれの計算時間の関係を簡単に説明してください。どちらの書き方が良さそうでしょうか。\n",
    "\n",
    "timeは「(べき乗を使用する)　<　(for文を使用する)」となる結果が多いため、べき乗を使用した方が計算速度が速い\n"
   ]
  },
  {
   "cell_type": "code",
   "execution_count": 52,
   "metadata": {},
   "outputs": [
    {
     "name": "stdout",
     "output_type": "stream",
     "text": [
      "配列の要素数 : 44\n"
     ]
    }
   ],
   "source": [
    "#配列への保存\n",
    "\n",
    "folded_thickness =  0.00008\n",
    "numbers = [folded_thickness]\n",
    "for i in range(43):\n",
    "    folded_thickness *= 2\n",
    "    numbers.append(folded_thickness)\n",
    "    \n",
    "n_numbers = len(numbers)    \n",
    "print(\"配列の要素数 : {}\".format(n_numbers))\n",
    "\n"
   ]
  },
  {
   "cell_type": "code",
   "execution_count": 53,
   "metadata": {},
   "outputs": [
    {
     "data": {
      "text/plain": [
       "[<matplotlib.lines.Line2D at 0x113004208>]"
      ]
     },
     "execution_count": 53,
     "metadata": {},
     "output_type": "execute_result"
    },
    {
     "data": {
      "image/png": "[encoded data removed]",
      "text/plain": [
       "<Figure size 432x288 with 1 Axes>"
      ]
     },
     "metadata": {
      "needs_background": "light"
     },
     "output_type": "display_data"
    }
   ],
   "source": [
    "\"\"\"\n",
    "グラフを表示する。タイトルと軸ラベル名付き。\n",
    "\"\"\"\n",
    "import matplotlib.pyplot as plt\n",
    "%matplotlib inline\n",
    "\n",
    "plt.title(\"thickness of folded paper\")\n",
    "plt.xlabel(\"number of folds\")\n",
    "plt.ylabel(\"thickness[m]\")\n",
    "plt.plot(numbers) # 「配列名」のところにlist型変数を入れる"
   ]
  },
  {
   "cell_type": "markdown",
   "metadata": {},
   "source": [
    "### グラフを表示させた場合はそれに対する考察が重要です。厚さがどのように変化しているかを簡単に説明してください。\n",
    "４３回紙を折ったうち、３９回目までであれば最終的な紙の厚さの一割にも満たないが、４０回目以降に急激に紙の厚さが増大している。\n",
    "紙を折る回数が後半になる程、紙の厚さは指数的に増加している。"
   ]
  },
  {
   "cell_type": "code",
   "execution_count": 63,
   "metadata": {},
   "outputs": [
    {
     "data": {
      "text/plain": [
       "[<matplotlib.lines.Line2D at 0x113b52fd0>]"
      ]
     },
     "execution_count": 63,
     "metadata": {},
     "output_type": "execute_result"
    },
    {
     "data": {
      "image/png": "[encoded data removed]",
      "text/plain": [
       "<Figure size 432x288 with 1 Axes>"
      ]
     },
     "metadata": {
      "needs_background": "light"
     },
     "output_type": "display_data"
    }
   ],
   "source": [
    "\"\"\"\n",
    "破線の折れ線グラフを表示する。\n",
    "\"\"\"\n",
    "plt.title(\"thickness of folded paper\")\n",
    "plt.xlabel(\"number of folds\")\n",
    "plt.ylabel(\"thickness[m]\" )\n",
    "plt.plot(numbers, ls=\"--\")\n"
   ]
  },
  {
   "cell_type": "code",
   "execution_count": 65,
   "metadata": {},
   "outputs": [
    {
     "data": {
      "text/plain": [
       "[<matplotlib.lines.Line2D at 0x1135bbe10>]"
      ]
     },
     "execution_count": 65,
     "metadata": {},
     "output_type": "execute_result"
    },
    {
     "data": {
      "image/png": "[encoded data removed]",
      "text/plain": [
       "<Figure size 432x288 with 1 Axes>"
      ]
     },
     "metadata": {
      "needs_background": "light"
     },
     "output_type": "display_data"
    }
   ],
   "source": [
    "\"\"\"\n",
    "折れ線グラフを表示する。\n",
    "各値にマーカー（ひし形）を入れる\n",
    "\"\"\"\n",
    "plt.title(\"thickness of folded paper\")\n",
    "plt.xlabel(\"number of folds\")\n",
    "plt.ylabel(\"thickness[m]\" )\n",
    "plt.plot(numbers, marker=\"D\")\n"
   ]
  },
  {
   "cell_type": "code",
   "execution_count": 68,
   "metadata": {},
   "outputs": [
    {
     "data": {
      "text/plain": [
       "[<matplotlib.lines.Line2D at 0x11407e828>]"
      ]
     },
     "execution_count": 68,
     "metadata": {},
     "output_type": "execute_result"
    },
    {
     "data": {
      "image/png": "[encoded data removed]",
      "text/plain": [
       "<Figure size 432x288 with 1 Axes>"
      ]
     },
     "metadata": {
      "needs_background": "light"
     },
     "output_type": "display_data"
    }
   ],
   "source": [
    "\"\"\"\n",
    "折れ線グラフを表示する。\n",
    "グリッド線を入れる\n",
    "\"\"\"\n",
    "plt.title(\"thickness of folded paper\")\n",
    "plt.xlabel(\"number of folds\")\n",
    "plt.ylabel(\"thickness[m]\" )\n",
    "plt.grid()\n",
    "plt.plot(numbers)\n"
   ]
  },
  {
   "cell_type": "markdown",
   "metadata": {},
   "source": [
    "### 機械学習の分野ではPythonが使われる理由を調査して説明してください。\n",
    "機械学習で一般的に使われる言語としては、Python以外にもRやOctaveなどがあるが、Pythonの大きな特徴として、非常に多くの機械学習向けのライブラリやフレームワークが存在する。\n",
    "言語としては、Rの方が機械学習の分野に特化したパッケージがあり、有利な点もあるが、現在ではPythonでも基本的なパッケージも充実してきており、また、Pythonが教育向きの言語として、様々な場面で教えられてきているため、Pythonが現在の機械学習の分野で使われるようになった。"
   ]
  }
 ],
 "metadata": {
  "kernelspec": {
   "display_name": "Python 3",
   "language": "python",
   "name": "python3"
  },
  "language_info": {
   "codemirror_mode": {
    "name": "ipython",
    "version": 3
   },
   "file_extension": ".py",
   "mimetype": "text/x-python",
   "name": "python",
   "nbconvert_exporter": "python",
   "pygments_lexer": "ipython3",
   "version": "3.7.1"
  }
 },
 "nbformat": 4,
 "nbformat_minor": 2
}
