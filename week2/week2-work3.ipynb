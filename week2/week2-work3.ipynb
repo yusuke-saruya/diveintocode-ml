{
 "cells": [
  {
   "cell_type": "markdown",
   "metadata": {},
   "source": [
    "# Week2授業前課題3"
   ]
  },
  {
   "cell_type": "markdown",
   "metadata": {},
   "source": [
    "## 【課題1】内積を手計算しよう\n",
    "以下のような行列A,Bを考えます。  \n",
    "$$\n",
    "    A =\n",
    "    \\begin{bmatrix}\n",
    "    -1 & 2 & 3 \\\\\n",
    "    4 & -5 &  6 \\\\\n",
    "    7 & 8 &  -9 \\\\\n",
    "    \\end{bmatrix},\\quad \n",
    "     B =\n",
    "    \\begin{bmatrix}\n",
    "    0 & 2 & 1 \\\\\n",
    "    0 & 2 &  -8 \\\\\n",
    "    2 & 9 &  -1 \\\\\n",
    "    \\end{bmatrix}\n",
    "$$\n",
    "\n",
    "行列の内積A*Bを手計算で解きなさい。"
   ]
  },
  {
   "cell_type": "markdown",
   "metadata": {},
   "source": [
    "$\n",
    "\\begin{align}\n",
    "A\\cdot B &= \n",
    "    \\begin{bmatrix}\n",
    "        -1\\cdot 0 + 2\\cdot 0 + 3\\cdot 2 & -1\\cdot 2 + 2\\cdot 2 + 3\\cdot 9 & -1\\cdot 1 + 2\\cdot (-8) + 3\\cdot (-1) \\\\\n",
    "        4\\cdot 0 + (-5)\\cdot 0 + 6\\cdot 2 & 4\\cdot 2 + (-5)\\cdot 2 + 6\\cdot 9 &  4\\cdot 1 + (-5)\\cdot (-8) + 6\\cdot (-1) \\\\\n",
    "        7\\cdot 0 + 8\\cdot 0 + (-9)\\cdot 2 & 7\\cdot 2 + 8\\cdot 2 + (-9)\\cdot 9 &  7\\cdot 1 + 8\\cdot (-8) + (-9)\\cdot (-1) \\\\\n",
    "    \\end{bmatrix} \\\\\n",
    "    &=\n",
    "    \\begin{bmatrix}\n",
    "        6 & 29 & -20 \\\\\n",
    "        12 & 52 & -38 \\\\\n",
    "        -18 & -51 & -48 \\\\\n",
    "    \\end{bmatrix}\n",
    "\\end{align}\n",
    "$"
   ]
  },
  {
   "cell_type": "markdown",
   "metadata": {},
   "source": [
    "## 【課題2】1次元配列の内積をfor文で計算しよう\n",
    "これ以降の課題はNumPyを使って解いてください。\n",
    "\n",
    "【課題1】では手計算してもらいました。一つ一つの演算はさほど難しくありませんが、演算数は多くかなり面倒くさかったと思います。\n",
    "\n",
    "この演算をpythonを使って実装するとどうなるのでしょうか？\n",
    "\n",
    "手計算する際には、まず行列Aの1行目と行列Bの1列目に注目したと思います。そして、\n",
    "\n",
    "- 行列Aの(0,0)の要素と行列Bの(0,0)の要素を掛け合わせる\n",
    "- 行列Aの(0,1)の要素と行列Bの(1,0)の要素を掛け合わせる\n",
    "- 行列Aの(0,2)の要素と行列Bの(2,0)の要素を掛け合わせる\n",
    "- それらの値を全て足し合わせる\n",
    "というフローを得て、ようやく一つ目の要素が求まるわけです。\n",
    "\n",
    "次の要素を計算するには、行列のindexを増やし、上の過程を再度繰り返して行けば良いわけです。下図のようなイメージですね。\n",
    "\n",
    "\n",
    "まずは、ご自身で配列のindexを指定し、\n",
    "\n",
    "- 行列Aの(0,0)の要素と行列Bの(0,1)の要素を掛け合わせる\n",
    "- 行列Aの(0,1)の要素と行列Bの(1,1)の要素を掛け合わせる\n",
    "- 行列Aの(0,2)の要素と行列Bの(2,1)の要素を掛け合わせる\n",
    "- それらの値を全て足し合わせる  \n",
    "のフローをfor文を使って計算してください。\n",
    "\n"
   ]
  },
  {
   "cell_type": "code",
   "execution_count": 1,
   "metadata": {},
   "outputs": [
    {
     "name": "stdout",
     "output_type": "stream",
     "text": [
      "6\n"
     ]
    }
   ],
   "source": [
    "import numpy as np\n",
    "\n",
    "#行列の定義\n",
    "A = np.array([\n",
    "    [-1, 2, 3],\n",
    "    [4, -5, 6],\n",
    "    [7, 8, -9]\n",
    "])\n",
    "\n",
    "B = np.array([\n",
    "    [0, 2, 1],\n",
    "    [0, 2, -8],\n",
    "    [2, 9, -1]\n",
    "])\n",
    "\n",
    "# A*Bの(0,0)の定義\n",
    "ab11 = 0\n",
    "# Aの１行目とBの１列目の乗算\n",
    "for i in range(3):\n",
    "    ab11 += A[0][i] * B[i][0]\n",
    "\n",
    "# A*Bの(0,0)出力\n",
    "print(ab11)"
   ]
  },
  {
   "cell_type": "markdown",
   "metadata": {},
   "source": [
    "## 【課題3】多次元配列の内積をfor文で計算しよう\n",
    "【課題2】ではA*Bの(0,0)だけ計算するコードを実装してもらいましたが、全要素を求めるにはどうしたら良いでしょうか？\n",
    "\n",
    "行列A*Bの(0,1)を求めるには\n",
    "\n",
    "行列Aのインデックスは固定（0行目を選択したまま）で、行列Bのインデックスを0列目から1列目に指定しなおせば良いわけです。理解できない方は、手計算でのフローを思い出してください！\n",
    "\n",
    "- 行列Aの(0,0)の要素と行列Bの(0,1)の要素を掛け合わせる\n",
    "- 行列Aの(0,1)の要素と行列Bの(1,1)の要素を掛け合わせる\n",
    "- 行列Aの(0,2)の要素と行列Bの(2,1)の要素を掛け合わせる\n",
    "- 1、2、3で求めた値を足し合わせる\n",
    "とすればA*Bの(0,1)の要素が求まります。\n",
    "\n",
    "このように同じ計算を順次インデックスを増やして行けば、全要素の計算ができます。\n",
    "\n",
    "計算の処理自体は全て同じなので、指定する要素の場所をなんとか効率よくできないかというところで登場するのが、for文です。\n",
    "\n",
    "説明はここまでになります。\n",
    "\n",
    "for文を使って行列A、Bの積を計算しましょう！【課題2】では(0,0)のみ計算していただきましたが、全て計算してください。\n",
    "\n",
    "\n",
    "> indexの移行は行方向と列方向があるので、【課題2】で実装していただいたコードに加えて、さらに2回for文が必要になります。\n"
   ]
  },
  {
   "cell_type": "code",
   "execution_count": 95,
   "metadata": {},
   "outputs": [
    {
     "name": "stdout",
     "output_type": "stream",
     "text": [
      "[[  6.  29. -20.]\n",
      " [ 12.  52.  38.]\n",
      " [-18. -51. -48.]]\n"
     ]
    }
   ],
   "source": [
    "import numpy as np\n",
    "\n",
    "#行列の定義\n",
    "A = np.array([\n",
    "    [-1, 2, 3],\n",
    "    [4, -5, 6],\n",
    "    [7, 8, -9]\n",
    "])\n",
    "\n",
    "B = np.array([\n",
    "    [0, 2, 1],\n",
    "    [0, 2, -8],\n",
    "    [2, 9, -1]\n",
    "])\n",
    "\n",
    "# ABを格納する多次元リストを初期化\n",
    "AB = np.empty((0,3), int)\n",
    "\n",
    "#Aの行数分の計算\n",
    "for k in range(3):\n",
    "    #ABのi行目を格納するリスト\n",
    "    ab_i = np.array([])\n",
    "    #Bの列数分の計算\n",
    "    for j in range(3):\n",
    "        #ABの(i, j)を初期化\n",
    "        ab_ij = 0\n",
    "        #a_ij 、b_ijの乗算\n",
    "        for i in range(3):\n",
    "            ab_ij += A[k][i] * B[i][j]\n",
    "        #ABの(i, j)をABのi行目に格納する\n",
    "        ab_i = np.append(ab_i, ab_ij)\n",
    "    #ABのi行目をABリストに格納する\n",
    "    AB = np.append(AB, np.array([ab_i]), axis=0)\n",
    "\n",
    "#　計算結果の出力\n",
    "print(AB)"
   ]
  },
  {
   "cell_type": "markdown",
   "metadata": {},
   "source": [
    "## 【課題4】内積をnp.dotで計算しよう\n",
    "【課題3】ではfor文を使うことで、内積を計算していただきましたが、行列の内積演算の度にこのようにfor文の処理を何回も実装しなくてもはならないのでしょうか？\n",
    "\n",
    "当然そんなことはなく、実はみなさんがやっていただいた処理はnumpyのメソッドですでに用意されています。\n",
    "\n",
    "np.dot(A,B)と計算すると、【課題3】で計算していただいたことが一瞬でできます。\n",
    "\n",
    "np.dot(A,B)を計算して、【課題3】と同じになることを試してください。\n",
    "\n",
    "\n",
    "\n"
   ]
  },
  {
   "cell_type": "code",
   "execution_count": 99,
   "metadata": {},
   "outputs": [
    {
     "name": "stdout",
     "output_type": "stream",
     "text": [
      "[[  6  29 -20]\n",
      " [ 12  52  38]\n",
      " [-18 -51 -48]]\n"
     ]
    }
   ],
   "source": [
    "import numpy as np\n",
    "\n",
    "A = np.array([\n",
    "    [-1, 2, 3],\n",
    "    [4, -5, 6],\n",
    "    [7, 8, -9]\n",
    "])\n",
    "\n",
    "B = np.array([\n",
    "    [0, 2, 1],\n",
    "    [0, 2, -8],\n",
    "    [2, 9, -1]\n",
    "])\n",
    "\n",
    "#　np.dotで計算\n",
    "print(np.dot(A, B))"
   ]
  },
  {
   "cell_type": "markdown",
   "metadata": {},
   "source": [
    "## 【課題5】内積ができないときはどうするか\n",
    "以下のような例を考えます。\n",
    "\n",
    "$$\n",
    "    A =\n",
    "    \\begin{bmatrix}\n",
    "    -1 & 2 & 3 \\\\\n",
    "    4 & -5 &  6 \\\\\n",
    "    \\end{bmatrix},\\quad \n",
    "     B =\n",
    "    \\begin{bmatrix}\n",
    "    -9 & 8 & 7 \\\\\n",
    "    6 & -5 &  4 \\\\\n",
    "    \\end{bmatrix}\n",
    "$$\n",
    "\n",
    "行列A*Bを計算しようとすると、エラーが出て計算できません。なぜエラーが出るのか理由を記載してください。\n",
    "\n",
    "そして、行列A、Bのどちらかにある操作をするとエラーが出ずに計算できます。\n",
    "\n",
    "自分である操作を施し、内積を計算してください。"
   ]
  },
  {
   "cell_type": "markdown",
   "metadata": {},
   "source": [
    "### エラーが出る理由\n",
    "行列の積の定義として、$A$の列数と$B$の行数が一致しているときのみ積$AB$は定義される。  \n",
    "今回、$A$の列数は3、$B$の行数は2であるため、エラーが出て計算ができない。  \n",
    "積の計算を行うためには、AまたはBの行列に対して転置を行うことが必要。"
   ]
  },
  {
   "cell_type": "code",
   "execution_count": 103,
   "metadata": {},
   "outputs": [
    {
     "name": "stdout",
     "output_type": "stream",
     "text": [
      "[[ 33 -28   9]\n",
      " [-48  41  -6]\n",
      " [  9  -6  45]]\n"
     ]
    }
   ],
   "source": [
    "import numpy as np\n",
    "\n",
    "# 【課題5】のA,Bの行列定義\n",
    "A = np.array([\n",
    "    [-1, 2, 3],\n",
    "    [4, -5, 6]\n",
    "])\n",
    "\n",
    "B = np.array([\n",
    "    [-9, 8, 7],\n",
    "    [6, -5, 4]\n",
    "])\n",
    "\n",
    "# Aの転置を行い、転置AとBの積を計算する\n",
    "print(np.dot(A.T, B))\n"
   ]
  },
  {
   "cell_type": "code",
   "execution_count": null,
   "metadata": {},
   "outputs": [],
   "source": []
  }
 ],
 "metadata": {
  "kernelspec": {
   "display_name": "Python 3",
   "language": "python",
   "name": "python3"
  },
  "language_info": {
   "codemirror_mode": {
    "name": "ipython",
    "version": 3
   },
   "file_extension": ".py",
   "mimetype": "text/x-python",
   "name": "python",
   "nbconvert_exporter": "python",
   "pygments_lexer": "ipython3",
   "version": "3.7.1"
  }
 },
 "nbformat": 4,
 "nbformat_minor": 2
}
